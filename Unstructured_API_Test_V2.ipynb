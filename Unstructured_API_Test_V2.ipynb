{
  "nbformat": 4,
  "nbformat_minor": 0,
  "metadata": {
    "colab": {
      "provenance": [],
      "authorship_tag": "ABX9TyPwzcsgD9aQ8Hg6xeXcsWzD",
      "include_colab_link": true
    },
    "kernelspec": {
      "name": "python3",
      "display_name": "Python 3"
    },
    "language_info": {
      "name": "python"
    }
  },
  "cells": [
    {
      "cell_type": "markdown",
      "metadata": {
        "id": "view-in-github",
        "colab_type": "text"
      },
      "source": [
        "<a href=\"https://colab.research.google.com/github/StatsAI/NLP/blob/main/Unstructured_API_Test_V2.ipynb\" target=\"_parent\"><img src=\"https://colab.research.google.com/assets/colab-badge.svg\" alt=\"Open In Colab\"/></a>"
      ]
    },
    {
      "cell_type": "code",
      "source": [
        "# Author: Hussain Abbas, MSc\n",
        "# © 2024 Stats AI LLC\n",
        "# All Rights Reserved"
      ],
      "metadata": {
        "id": "vQ4jIA0RPOzO"
      },
      "execution_count": 1,
      "outputs": []
    },
    {
      "cell_type": "code",
      "execution_count": 2,
      "metadata": {
        "colab": {
          "base_uri": "https://localhost:8080/",
          "height": 1000
        },
        "id": "fg-z6olse1cO",
        "outputId": "7ac17df5-c78d-41ea-92ab-a6ce713d17dd"
      },
      "outputs": [
        {
          "output_type": "stream",
          "name": "stdout",
          "text": [
            "Collecting unstructured[all-docs]\n",
            "  Downloading unstructured-0.12.4-py3-none-any.whl (1.8 MB)\n",
            "\u001b[2K     \u001b[90m━━━━━━━━━━━━━━━━━━━━━━━━━━━━━━━━━━━━━━━━\u001b[0m \u001b[32m1.8/1.8 MB\u001b[0m \u001b[31m23.8 MB/s\u001b[0m eta \u001b[36m0:00:00\u001b[0m\n",
            "\u001b[?25hRequirement already satisfied: chardet in /usr/local/lib/python3.10/dist-packages (from unstructured[all-docs]) (5.2.0)\n",
            "Collecting filetype (from unstructured[all-docs])\n",
            "  Downloading filetype-1.2.0-py2.py3-none-any.whl (19 kB)\n",
            "Collecting python-magic (from unstructured[all-docs])\n",
            "  Downloading python_magic-0.4.27-py2.py3-none-any.whl (13 kB)\n",
            "Requirement already satisfied: lxml in /usr/local/lib/python3.10/dist-packages (from unstructured[all-docs]) (4.9.4)\n",
            "Requirement already satisfied: nltk in /usr/local/lib/python3.10/dist-packages (from unstructured[all-docs]) (3.8.1)\n",
            "Requirement already satisfied: tabulate in /usr/local/lib/python3.10/dist-packages (from unstructured[all-docs]) (0.9.0)\n",
            "Requirement already satisfied: requests in /usr/local/lib/python3.10/dist-packages (from unstructured[all-docs]) (2.31.0)\n",
            "Requirement already satisfied: beautifulsoup4 in /usr/local/lib/python3.10/dist-packages (from unstructured[all-docs]) (4.12.3)\n",
            "Collecting emoji (from unstructured[all-docs])\n",
            "  Downloading emoji-2.10.1-py2.py3-none-any.whl (421 kB)\n",
            "\u001b[2K     \u001b[90m━━━━━━━━━━━━━━━━━━━━━━━━━━━━━━━━━━━━━━━━\u001b[0m \u001b[32m421.5/421.5 kB\u001b[0m \u001b[31m30.8 MB/s\u001b[0m eta \u001b[36m0:00:00\u001b[0m\n",
            "\u001b[?25hCollecting dataclasses-json (from unstructured[all-docs])\n",
            "  Downloading dataclasses_json-0.6.4-py3-none-any.whl (28 kB)\n",
            "Collecting python-iso639 (from unstructured[all-docs])\n",
            "  Downloading python_iso639-2024.2.7-py3-none-any.whl (274 kB)\n",
            "\u001b[2K     \u001b[90m━━━━━━━━━━━━━━━━━━━━━━━━━━━━━━━━━━━━━━━━\u001b[0m \u001b[32m274.7/274.7 kB\u001b[0m \u001b[31m17.6 MB/s\u001b[0m eta \u001b[36m0:00:00\u001b[0m\n",
            "\u001b[?25hCollecting langdetect (from unstructured[all-docs])\n",
            "  Downloading langdetect-1.0.9.tar.gz (981 kB)\n",
            "\u001b[2K     \u001b[90m━━━━━━━━━━━━━━━━━━━━━━━━━━━━━━━━━━━━━━━━\u001b[0m \u001b[32m981.5/981.5 kB\u001b[0m \u001b[31m34.6 MB/s\u001b[0m eta \u001b[36m0:00:00\u001b[0m\n",
            "\u001b[?25h  Preparing metadata (setup.py) ... \u001b[?25l\u001b[?25hdone\n",
            "Requirement already satisfied: numpy in /usr/local/lib/python3.10/dist-packages (from unstructured[all-docs]) (1.25.2)\n",
            "Collecting rapidfuzz (from unstructured[all-docs])\n",
            "  Downloading rapidfuzz-3.6.1-cp310-cp310-manylinux_2_17_x86_64.manylinux2014_x86_64.whl (3.4 MB)\n",
            "\u001b[2K     \u001b[90m━━━━━━━━━━━━━━━━━━━━━━━━━━━━━━━━━━━━━━━━\u001b[0m \u001b[32m3.4/3.4 MB\u001b[0m \u001b[31m68.8 MB/s\u001b[0m eta \u001b[36m0:00:00\u001b[0m\n",
            "\u001b[?25hCollecting backoff (from unstructured[all-docs])\n",
            "  Downloading backoff-2.2.1-py3-none-any.whl (15 kB)\n",
            "Requirement already satisfied: typing-extensions in /usr/local/lib/python3.10/dist-packages (from unstructured[all-docs]) (4.9.0)\n",
            "Collecting unstructured-client>=0.15.1 (from unstructured[all-docs])\n",
            "  Downloading unstructured_client-0.18.0-py3-none-any.whl (21 kB)\n",
            "Requirement already satisfied: wrapt in /usr/local/lib/python3.10/dist-packages (from unstructured[all-docs]) (1.14.1)\n",
            "Collecting unstructured-inference==0.7.23 (from unstructured[all-docs])\n",
            "  Downloading unstructured_inference-0.7.23-py3-none-any.whl (60 kB)\n",
            "\u001b[2K     \u001b[90m━━━━━━━━━━━━━━━━━━━━━━━━━━━━━━━━━━━━━━━━\u001b[0m \u001b[32m60.1/60.1 kB\u001b[0m \u001b[31m9.6 MB/s\u001b[0m eta \u001b[36m0:00:00\u001b[0m\n",
            "\u001b[?25hRequirement already satisfied: markdown in /usr/local/lib/python3.10/dist-packages (from unstructured[all-docs]) (3.5.2)\n",
            "Collecting pdfminer.six (from unstructured[all-docs])\n",
            "  Downloading pdfminer.six-20231228-py3-none-any.whl (5.6 MB)\n",
            "\u001b[2K     \u001b[90m━━━━━━━━━━━━━━━━━━━━━━━━━━━━━━━━━━━━━━━━\u001b[0m \u001b[32m5.6/5.6 MB\u001b[0m \u001b[31m76.0 MB/s\u001b[0m eta \u001b[36m0:00:00\u001b[0m\n",
            "\u001b[?25hCollecting pypdf (from unstructured[all-docs])\n",
            "  Downloading pypdf-4.0.2-py3-none-any.whl (283 kB)\n",
            "\u001b[2K     \u001b[90m━━━━━━━━━━━━━━━━━━━━━━━━━━━━━━━━━━━━━━━━\u001b[0m \u001b[32m284.0/284.0 kB\u001b[0m \u001b[31m32.6 MB/s\u001b[0m eta \u001b[36m0:00:00\u001b[0m\n",
            "\u001b[?25hCollecting unstructured.pytesseract>=0.3.12 (from unstructured[all-docs])\n",
            "  Downloading unstructured.pytesseract-0.3.12-py3-none-any.whl (14 kB)\n",
            "Collecting python-pptx<=0.6.23 (from unstructured[all-docs])\n",
            "  Downloading python_pptx-0.6.23-py3-none-any.whl (471 kB)\n",
            "\u001b[2K     \u001b[90m━━━━━━━━━━━━━━━━━━━━━━━━━━━━━━━━━━━━━━━━\u001b[0m \u001b[32m471.6/471.6 kB\u001b[0m \u001b[31m41.8 MB/s\u001b[0m eta \u001b[36m0:00:00\u001b[0m\n",
            "\u001b[?25hCollecting pypandoc (from unstructured[all-docs])\n",
            "  Downloading pypandoc-1.13-py3-none-any.whl (21 kB)\n",
            "Collecting python-docx (from unstructured[all-docs])\n",
            "  Downloading python_docx-1.1.0-py3-none-any.whl (239 kB)\n",
            "\u001b[2K     \u001b[90m━━━━━━━━━━━━━━━━━━━━━━━━━━━━━━━━━━━━━━━━\u001b[0m \u001b[32m239.6/239.6 kB\u001b[0m \u001b[31m32.2 MB/s\u001b[0m eta \u001b[36m0:00:00\u001b[0m\n",
            "\u001b[?25hCollecting pdf2image (from unstructured[all-docs])\n",
            "  Downloading pdf2image-1.17.0-py3-none-any.whl (11 kB)\n",
            "Requirement already satisfied: xlrd in /usr/local/lib/python3.10/dist-packages (from unstructured[all-docs]) (2.0.1)\n",
            "Collecting pikepdf (from unstructured[all-docs])\n",
            "  Downloading pikepdf-8.13.0-cp310-cp310-manylinux_2_17_x86_64.manylinux2014_x86_64.whl (2.4 MB)\n",
            "\u001b[2K     \u001b[90m━━━━━━━━━━━━━━━━━━━━━━━━━━━━━━━━━━━━━━━━\u001b[0m \u001b[32m2.4/2.4 MB\u001b[0m \u001b[31m79.1 MB/s\u001b[0m eta \u001b[36m0:00:00\u001b[0m\n",
            "\u001b[?25hCollecting pillow-heif (from unstructured[all-docs])\n",
            "  Downloading pillow_heif-0.15.0-cp310-cp310-manylinux_2_17_x86_64.manylinux2014_x86_64.whl (7.5 MB)\n",
            "\u001b[2K     \u001b[90m━━━━━━━━━━━━━━━━━━━━━━━━━━━━━━━━━━━━━━━━\u001b[0m \u001b[32m7.5/7.5 MB\u001b[0m \u001b[31m77.5 MB/s\u001b[0m eta \u001b[36m0:00:00\u001b[0m\n",
            "\u001b[?25hRequirement already satisfied: networkx in /usr/local/lib/python3.10/dist-packages (from unstructured[all-docs]) (3.2.1)\n",
            "Collecting msg-parser (from unstructured[all-docs])\n",
            "  Downloading msg_parser-1.2.0-py2.py3-none-any.whl (101 kB)\n",
            "\u001b[2K     \u001b[90m━━━━━━━━━━━━━━━━━━━━━━━━━━━━━━━━━━━━━━━━\u001b[0m \u001b[32m101.8/101.8 kB\u001b[0m \u001b[31m15.2 MB/s\u001b[0m eta \u001b[36m0:00:00\u001b[0m\n",
            "\u001b[?25hCollecting onnx (from unstructured[all-docs])\n",
            "  Downloading onnx-1.15.0-cp310-cp310-manylinux_2_17_x86_64.manylinux2014_x86_64.whl (15.7 MB)\n",
            "\u001b[2K     \u001b[90m━━━━━━━━━━━━━━━━━━━━━━━━━━━━━━━━━━━━━━━━\u001b[0m \u001b[32m15.7/15.7 MB\u001b[0m \u001b[31m69.0 MB/s\u001b[0m eta \u001b[36m0:00:00\u001b[0m\n",
            "\u001b[?25hRequirement already satisfied: pandas in /usr/local/lib/python3.10/dist-packages (from unstructured[all-docs]) (1.5.3)\n",
            "Requirement already satisfied: openpyxl in /usr/local/lib/python3.10/dist-packages (from unstructured[all-docs]) (3.1.2)\n",
            "Collecting layoutparser[layoutmodels,tesseract] (from unstructured-inference==0.7.23->unstructured[all-docs])\n",
            "  Downloading layoutparser-0.3.4-py3-none-any.whl (19.2 MB)\n",
            "\u001b[2K     \u001b[90m━━━━━━━━━━━━━━━━━━━━━━━━━━━━━━━━━━━━━━━━\u001b[0m \u001b[32m19.2/19.2 MB\u001b[0m \u001b[31m54.0 MB/s\u001b[0m eta \u001b[36m0:00:00\u001b[0m\n",
            "\u001b[?25hCollecting python-multipart (from unstructured-inference==0.7.23->unstructured[all-docs])\n",
            "  Downloading python_multipart-0.0.9-py3-none-any.whl (22 kB)\n",
            "Requirement already satisfied: huggingface-hub in /usr/local/lib/python3.10/dist-packages (from unstructured-inference==0.7.23->unstructured[all-docs]) (0.20.3)\n",
            "Requirement already satisfied: opencv-python!=4.7.0.68 in /usr/local/lib/python3.10/dist-packages (from unstructured-inference==0.7.23->unstructured[all-docs]) (4.8.0.76)\n",
            "Collecting onnxruntime<1.16 (from unstructured-inference==0.7.23->unstructured[all-docs])\n",
            "  Downloading onnxruntime-1.15.1-cp310-cp310-manylinux_2_17_x86_64.manylinux2014_x86_64.whl (5.9 MB)\n",
            "\u001b[2K     \u001b[90m━━━━━━━━━━━━━━━━━━━━━━━━━━━━━━━━━━━━━━━━\u001b[0m \u001b[32m5.9/5.9 MB\u001b[0m \u001b[31m80.7 MB/s\u001b[0m eta \u001b[36m0:00:00\u001b[0m\n",
            "\u001b[?25hRequirement already satisfied: transformers>=4.25.1 in /usr/local/lib/python3.10/dist-packages (from unstructured-inference==0.7.23->unstructured[all-docs]) (4.37.2)\n",
            "Requirement already satisfied: Pillow>=3.3.2 in /usr/local/lib/python3.10/dist-packages (from python-pptx<=0.6.23->unstructured[all-docs]) (9.4.0)\n",
            "Collecting XlsxWriter>=0.5.7 (from python-pptx<=0.6.23->unstructured[all-docs])\n",
            "  Downloading XlsxWriter-3.2.0-py3-none-any.whl (159 kB)\n",
            "\u001b[2K     \u001b[90m━━━━━━━━━━━━━━━━━━━━━━━━━━━━━━━━━━━━━━━━\u001b[0m \u001b[32m159.9/159.9 kB\u001b[0m \u001b[31m20.8 MB/s\u001b[0m eta \u001b[36m0:00:00\u001b[0m\n",
            "\u001b[?25hRequirement already satisfied: certifi>=2023.7.22 in /usr/local/lib/python3.10/dist-packages (from unstructured-client>=0.15.1->unstructured[all-docs]) (2024.2.2)\n",
            "Requirement already satisfied: charset-normalizer>=3.2.0 in /usr/local/lib/python3.10/dist-packages (from unstructured-client>=0.15.1->unstructured[all-docs]) (3.3.2)\n",
            "Collecting dataclasses-json-speakeasy>=0.5.11 (from unstructured-client>=0.15.1->unstructured[all-docs])\n",
            "  Downloading dataclasses_json_speakeasy-0.5.11-py3-none-any.whl (28 kB)\n",
            "Requirement already satisfied: idna>=3.4 in /usr/local/lib/python3.10/dist-packages (from unstructured-client>=0.15.1->unstructured[all-docs]) (3.6)\n",
            "Collecting jsonpath-python>=1.0.6 (from unstructured-client>=0.15.1->unstructured[all-docs])\n",
            "  Downloading jsonpath_python-1.0.6-py3-none-any.whl (7.6 kB)\n",
            "Collecting marshmallow>=3.19.0 (from unstructured-client>=0.15.1->unstructured[all-docs])\n",
            "  Downloading marshmallow-3.20.2-py3-none-any.whl (49 kB)\n",
            "\u001b[2K     \u001b[90m━━━━━━━━━━━━━━━━━━━━━━━━━━━━━━━━━━━━━━━━\u001b[0m \u001b[32m49.4/49.4 kB\u001b[0m \u001b[31m6.9 MB/s\u001b[0m eta \u001b[36m0:00:00\u001b[0m\n",
            "\u001b[?25hCollecting mypy-extensions>=1.0.0 (from unstructured-client>=0.15.1->unstructured[all-docs])\n",
            "  Downloading mypy_extensions-1.0.0-py3-none-any.whl (4.7 kB)\n",
            "Requirement already satisfied: packaging>=23.1 in /usr/local/lib/python3.10/dist-packages (from unstructured-client>=0.15.1->unstructured[all-docs]) (23.2)\n",
            "Requirement already satisfied: python-dateutil>=2.8.2 in /usr/local/lib/python3.10/dist-packages (from unstructured-client>=0.15.1->unstructured[all-docs]) (2.8.2)\n",
            "Requirement already satisfied: six>=1.16.0 in /usr/local/lib/python3.10/dist-packages (from unstructured-client>=0.15.1->unstructured[all-docs]) (1.16.0)\n",
            "Collecting typing-inspect>=0.9.0 (from unstructured-client>=0.15.1->unstructured[all-docs])\n",
            "  Downloading typing_inspect-0.9.0-py3-none-any.whl (8.8 kB)\n",
            "Requirement already satisfied: urllib3>=1.26.18 in /usr/local/lib/python3.10/dist-packages (from unstructured-client>=0.15.1->unstructured[all-docs]) (2.0.7)\n",
            "Requirement already satisfied: soupsieve>1.2 in /usr/local/lib/python3.10/dist-packages (from beautifulsoup4->unstructured[all-docs]) (2.5)\n",
            "Collecting olefile>=0.46 (from msg-parser->unstructured[all-docs])\n",
            "  Downloading olefile-0.47-py2.py3-none-any.whl (114 kB)\n",
            "\u001b[2K     \u001b[90m━━━━━━━━━━━━━━━━━━━━━━━━━━━━━━━━━━━━━━━━\u001b[0m \u001b[32m114.6/114.6 kB\u001b[0m \u001b[31m17.2 MB/s\u001b[0m eta \u001b[36m0:00:00\u001b[0m\n",
            "\u001b[?25hRequirement already satisfied: click in /usr/local/lib/python3.10/dist-packages (from nltk->unstructured[all-docs]) (8.1.7)\n",
            "Requirement already satisfied: joblib in /usr/local/lib/python3.10/dist-packages (from nltk->unstructured[all-docs]) (1.3.2)\n",
            "Requirement already satisfied: regex>=2021.8.3 in /usr/local/lib/python3.10/dist-packages (from nltk->unstructured[all-docs]) (2023.12.25)\n",
            "Requirement already satisfied: tqdm in /usr/local/lib/python3.10/dist-packages (from nltk->unstructured[all-docs]) (4.66.2)\n",
            "Requirement already satisfied: protobuf>=3.20.2 in /usr/local/lib/python3.10/dist-packages (from onnx->unstructured[all-docs]) (3.20.3)\n",
            "Requirement already satisfied: et-xmlfile in /usr/local/lib/python3.10/dist-packages (from openpyxl->unstructured[all-docs]) (1.1.0)\n",
            "Requirement already satisfied: pytz>=2020.1 in /usr/local/lib/python3.10/dist-packages (from pandas->unstructured[all-docs]) (2023.4)\n",
            "Requirement already satisfied: cryptography>=36.0.0 in /usr/local/lib/python3.10/dist-packages (from pdfminer.six->unstructured[all-docs]) (42.0.3)\n",
            "Collecting Pillow>=3.3.2 (from python-pptx<=0.6.23->unstructured[all-docs])\n",
            "  Downloading pillow-10.2.0-cp310-cp310-manylinux_2_28_x86_64.whl (4.5 MB)\n",
            "\u001b[2K     \u001b[90m━━━━━━━━━━━━━━━━━━━━━━━━━━━━━━━━━━━━━━━━\u001b[0m \u001b[32m4.5/4.5 MB\u001b[0m \u001b[31m77.6 MB/s\u001b[0m eta \u001b[36m0:00:00\u001b[0m\n",
            "\u001b[?25hCollecting Deprecated (from pikepdf->unstructured[all-docs])\n",
            "  Downloading Deprecated-1.2.14-py2.py3-none-any.whl (9.6 kB)\n",
            "Requirement already satisfied: cffi>=1.12 in /usr/local/lib/python3.10/dist-packages (from cryptography>=36.0.0->pdfminer.six->unstructured[all-docs]) (1.16.0)\n",
            "Collecting coloredlogs (from onnxruntime<1.16->unstructured-inference==0.7.23->unstructured[all-docs])\n",
            "  Downloading coloredlogs-15.0.1-py2.py3-none-any.whl (46 kB)\n",
            "\u001b[2K     \u001b[90m━━━━━━━━━━━━━━━━━━━━━━━━━━━━━━━━━━━━━━━━\u001b[0m \u001b[32m46.0/46.0 kB\u001b[0m \u001b[31m6.9 MB/s\u001b[0m eta \u001b[36m0:00:00\u001b[0m\n",
            "\u001b[?25hRequirement already satisfied: flatbuffers in /usr/local/lib/python3.10/dist-packages (from onnxruntime<1.16->unstructured-inference==0.7.23->unstructured[all-docs]) (23.5.26)\n",
            "Requirement already satisfied: sympy in /usr/local/lib/python3.10/dist-packages (from onnxruntime<1.16->unstructured-inference==0.7.23->unstructured[all-docs]) (1.12)\n",
            "Requirement already satisfied: filelock in /usr/local/lib/python3.10/dist-packages (from transformers>=4.25.1->unstructured-inference==0.7.23->unstructured[all-docs]) (3.13.1)\n",
            "Requirement already satisfied: pyyaml>=5.1 in /usr/local/lib/python3.10/dist-packages (from transformers>=4.25.1->unstructured-inference==0.7.23->unstructured[all-docs]) (6.0.1)\n",
            "Requirement already satisfied: tokenizers<0.19,>=0.14 in /usr/local/lib/python3.10/dist-packages (from transformers>=4.25.1->unstructured-inference==0.7.23->unstructured[all-docs]) (0.15.2)\n",
            "Requirement already satisfied: safetensors>=0.4.1 in /usr/local/lib/python3.10/dist-packages (from transformers>=4.25.1->unstructured-inference==0.7.23->unstructured[all-docs]) (0.4.2)\n",
            "Requirement already satisfied: fsspec>=2023.5.0 in /usr/local/lib/python3.10/dist-packages (from huggingface-hub->unstructured-inference==0.7.23->unstructured[all-docs]) (2023.6.0)\n",
            "Requirement already satisfied: scipy in /usr/local/lib/python3.10/dist-packages (from layoutparser[layoutmodels,tesseract]->unstructured-inference==0.7.23->unstructured[all-docs]) (1.11.4)\n",
            "Collecting iopath (from layoutparser[layoutmodels,tesseract]->unstructured-inference==0.7.23->unstructured[all-docs])\n",
            "  Downloading iopath-0.1.10.tar.gz (42 kB)\n",
            "\u001b[2K     \u001b[90m━━━━━━━━━━━━━━━━━━━━━━━━━━━━━━━━━━━━━━━━\u001b[0m \u001b[32m42.2/42.2 kB\u001b[0m \u001b[31m5.6 MB/s\u001b[0m eta \u001b[36m0:00:00\u001b[0m\n",
            "\u001b[?25h  Preparing metadata (setup.py) ... \u001b[?25l\u001b[?25hdone\n",
            "Collecting pdfplumber (from layoutparser[layoutmodels,tesseract]->unstructured-inference==0.7.23->unstructured[all-docs])\n",
            "  Downloading pdfplumber-0.10.4-py3-none-any.whl (54 kB)\n",
            "\u001b[2K     \u001b[90m━━━━━━━━━━━━━━━━━━━━━━━━━━━━━━━━━━━━━━━━\u001b[0m \u001b[32m54.7/54.7 kB\u001b[0m \u001b[31m8.0 MB/s\u001b[0m eta \u001b[36m0:00:00\u001b[0m\n",
            "\u001b[?25hRequirement already satisfied: torch in /usr/local/lib/python3.10/dist-packages (from layoutparser[layoutmodels,tesseract]->unstructured-inference==0.7.23->unstructured[all-docs]) (2.1.0+cu121)\n",
            "Requirement already satisfied: torchvision in /usr/local/lib/python3.10/dist-packages (from layoutparser[layoutmodels,tesseract]->unstructured-inference==0.7.23->unstructured[all-docs]) (0.16.0+cu121)\n",
            "Collecting effdet (from layoutparser[layoutmodels,tesseract]->unstructured-inference==0.7.23->unstructured[all-docs])\n",
            "  Downloading effdet-0.4.1-py3-none-any.whl (112 kB)\n",
            "\u001b[2K     \u001b[90m━━━━━━━━━━━━━━━━━━━━━━━━━━━━━━━━━━━━━━━━\u001b[0m \u001b[32m112.5/112.5 kB\u001b[0m \u001b[31m16.9 MB/s\u001b[0m eta \u001b[36m0:00:00\u001b[0m\n",
            "\u001b[?25hCollecting pytesseract (from layoutparser[layoutmodels,tesseract]->unstructured-inference==0.7.23->unstructured[all-docs])\n",
            "  Downloading pytesseract-0.3.10-py3-none-any.whl (14 kB)\n",
            "Requirement already satisfied: pycparser in /usr/local/lib/python3.10/dist-packages (from cffi>=1.12->cryptography>=36.0.0->pdfminer.six->unstructured[all-docs]) (2.21)\n",
            "Collecting humanfriendly>=9.1 (from coloredlogs->onnxruntime<1.16->unstructured-inference==0.7.23->unstructured[all-docs])\n",
            "  Downloading humanfriendly-10.0-py2.py3-none-any.whl (86 kB)\n",
            "\u001b[2K     \u001b[90m━━━━━━━━━━━━━━━━━━━━━━━━━━━━━━━━━━━━━━━━\u001b[0m \u001b[32m86.8/86.8 kB\u001b[0m \u001b[31m13.4 MB/s\u001b[0m eta \u001b[36m0:00:00\u001b[0m\n",
            "\u001b[?25hCollecting timm>=0.9.2 (from effdet->layoutparser[layoutmodels,tesseract]->unstructured-inference==0.7.23->unstructured[all-docs])\n",
            "  Downloading timm-0.9.16-py3-none-any.whl (2.2 MB)\n",
            "\u001b[2K     \u001b[90m━━━━━━━━━━━━━━━━━━━━━━━━━━━━━━━━━━━━━━━━\u001b[0m \u001b[32m2.2/2.2 MB\u001b[0m \u001b[31m7.7 MB/s\u001b[0m eta \u001b[36m0:00:00\u001b[0m\n",
            "\u001b[?25hRequirement already satisfied: pycocotools>=2.0.2 in /usr/local/lib/python3.10/dist-packages (from effdet->layoutparser[layoutmodels,tesseract]->unstructured-inference==0.7.23->unstructured[all-docs]) (2.0.7)\n",
            "Collecting omegaconf>=2.0 (from effdet->layoutparser[layoutmodels,tesseract]->unstructured-inference==0.7.23->unstructured[all-docs])\n",
            "  Downloading omegaconf-2.3.0-py3-none-any.whl (79 kB)\n",
            "\u001b[2K     \u001b[90m━━━━━━━━━━━━━━━━━━━━━━━━━━━━━━━━━━━━━━━━\u001b[0m \u001b[32m79.5/79.5 kB\u001b[0m \u001b[31m11.3 MB/s\u001b[0m eta \u001b[36m0:00:00\u001b[0m\n",
            "\u001b[?25hRequirement already satisfied: jinja2 in /usr/local/lib/python3.10/dist-packages (from torch->layoutparser[layoutmodels,tesseract]->unstructured-inference==0.7.23->unstructured[all-docs]) (3.1.3)\n",
            "Requirement already satisfied: triton==2.1.0 in /usr/local/lib/python3.10/dist-packages (from torch->layoutparser[layoutmodels,tesseract]->unstructured-inference==0.7.23->unstructured[all-docs]) (2.1.0)\n",
            "Collecting portalocker (from iopath->layoutparser[layoutmodels,tesseract]->unstructured-inference==0.7.23->unstructured[all-docs])\n",
            "  Downloading portalocker-2.8.2-py3-none-any.whl (17 kB)\n",
            "Collecting pdfminer.six (from unstructured[all-docs])\n",
            "  Downloading pdfminer.six-20221105-py3-none-any.whl (5.6 MB)\n",
            "\u001b[2K     \u001b[90m━━━━━━━━━━━━━━━━━━━━━━━━━━━━━━━━━━━━━━━━\u001b[0m \u001b[32m5.6/5.6 MB\u001b[0m \u001b[31m74.6 MB/s\u001b[0m eta \u001b[36m0:00:00\u001b[0m\n",
            "\u001b[?25hCollecting pypdfium2>=4.18.0 (from pdfplumber->layoutparser[layoutmodels,tesseract]->unstructured-inference==0.7.23->unstructured[all-docs])\n",
            "  Downloading pypdfium2-4.27.0-py3-none-manylinux_2_17_x86_64.manylinux2014_x86_64.whl (2.8 MB)\n",
            "\u001b[2K     \u001b[90m━━━━━━━━━━━━━━━━━━━━━━━━━━━━━━━━━━━━━━━━\u001b[0m \u001b[32m2.8/2.8 MB\u001b[0m \u001b[31m76.2 MB/s\u001b[0m eta \u001b[36m0:00:00\u001b[0m\n",
            "\u001b[?25hRequirement already satisfied: mpmath>=0.19 in /usr/local/lib/python3.10/dist-packages (from sympy->onnxruntime<1.16->unstructured-inference==0.7.23->unstructured[all-docs]) (1.3.0)\n",
            "Collecting antlr4-python3-runtime==4.9.* (from omegaconf>=2.0->effdet->layoutparser[layoutmodels,tesseract]->unstructured-inference==0.7.23->unstructured[all-docs])\n",
            "  Downloading antlr4-python3-runtime-4.9.3.tar.gz (117 kB)\n",
            "\u001b[2K     \u001b[90m━━━━━━━━━━━━━━━━━━━━━━━━━━━━━━━━━━━━━━━━\u001b[0m \u001b[32m117.0/117.0 kB\u001b[0m \u001b[31m17.6 MB/s\u001b[0m eta \u001b[36m0:00:00\u001b[0m\n",
            "\u001b[?25h  Preparing metadata (setup.py) ... \u001b[?25l\u001b[?25hdone\n",
            "Requirement already satisfied: matplotlib>=2.1.0 in /usr/local/lib/python3.10/dist-packages (from pycocotools>=2.0.2->effdet->layoutparser[layoutmodels,tesseract]->unstructured-inference==0.7.23->unstructured[all-docs]) (3.7.1)\n",
            "Requirement already satisfied: MarkupSafe>=2.0 in /usr/local/lib/python3.10/dist-packages (from jinja2->torch->layoutparser[layoutmodels,tesseract]->unstructured-inference==0.7.23->unstructured[all-docs]) (2.1.5)\n",
            "Requirement already satisfied: contourpy>=1.0.1 in /usr/local/lib/python3.10/dist-packages (from matplotlib>=2.1.0->pycocotools>=2.0.2->effdet->layoutparser[layoutmodels,tesseract]->unstructured-inference==0.7.23->unstructured[all-docs]) (1.2.0)\n",
            "Requirement already satisfied: cycler>=0.10 in /usr/local/lib/python3.10/dist-packages (from matplotlib>=2.1.0->pycocotools>=2.0.2->effdet->layoutparser[layoutmodels,tesseract]->unstructured-inference==0.7.23->unstructured[all-docs]) (0.12.1)\n",
            "Requirement already satisfied: fonttools>=4.22.0 in /usr/local/lib/python3.10/dist-packages (from matplotlib>=2.1.0->pycocotools>=2.0.2->effdet->layoutparser[layoutmodels,tesseract]->unstructured-inference==0.7.23->unstructured[all-docs]) (4.49.0)\n",
            "Requirement already satisfied: kiwisolver>=1.0.1 in /usr/local/lib/python3.10/dist-packages (from matplotlib>=2.1.0->pycocotools>=2.0.2->effdet->layoutparser[layoutmodels,tesseract]->unstructured-inference==0.7.23->unstructured[all-docs]) (1.4.5)\n",
            "Requirement already satisfied: pyparsing>=2.3.1 in /usr/local/lib/python3.10/dist-packages (from matplotlib>=2.1.0->pycocotools>=2.0.2->effdet->layoutparser[layoutmodels,tesseract]->unstructured-inference==0.7.23->unstructured[all-docs]) (3.1.1)\n",
            "Building wheels for collected packages: langdetect, iopath, antlr4-python3-runtime\n",
            "  Building wheel for langdetect (setup.py) ... \u001b[?25l\u001b[?25hdone\n",
            "  Created wheel for langdetect: filename=langdetect-1.0.9-py3-none-any.whl size=993225 sha256=3cffc4f2a642f6af70e9517a7f343e637acc720ee7e28518981acd094c810e77\n",
            "  Stored in directory: /root/.cache/pip/wheels/95/03/7d/59ea870c70ce4e5a370638b5462a7711ab78fba2f655d05106\n",
            "  Building wheel for iopath (setup.py) ... \u001b[?25l\u001b[?25hdone\n",
            "  Created wheel for iopath: filename=iopath-0.1.10-py3-none-any.whl size=31532 sha256=c6638345be6e3c0ab80c1880bb75383724ac8bbe401bf638938dce517cc8cd92\n",
            "  Stored in directory: /root/.cache/pip/wheels/9a/a3/b6/ac0fcd1b4ed5cfeb3db92e6a0e476cfd48ed0df92b91080c1d\n",
            "  Building wheel for antlr4-python3-runtime (setup.py) ... \u001b[?25l\u001b[?25hdone\n",
            "  Created wheel for antlr4-python3-runtime: filename=antlr4_python3_runtime-4.9.3-py3-none-any.whl size=144554 sha256=7bc200e481cc4f2db818f3cf14b798c01caa9e72157abf422b350b47a5699ae0\n",
            "  Stored in directory: /root/.cache/pip/wheels/12/93/dd/1f6a127edc45659556564c5730f6d4e300888f4bca2d4c5a88\n",
            "Successfully built langdetect iopath antlr4-python3-runtime\n",
            "Installing collected packages: filetype, antlr4-python3-runtime, XlsxWriter, rapidfuzz, python-multipart, python-magic, python-iso639, python-docx, pypdfium2, pypdf, pypandoc, portalocker, Pillow, onnx, omegaconf, olefile, mypy-extensions, marshmallow, langdetect, jsonpath-python, humanfriendly, emoji, Deprecated, backoff, unstructured.pytesseract, typing-inspect, python-pptx, pytesseract, pillow-heif, pikepdf, pdf2image, msg-parser, iopath, coloredlogs, pdfminer.six, onnxruntime, dataclasses-json-speakeasy, dataclasses-json, unstructured-client, timm, pdfplumber, unstructured, layoutparser, effdet, unstructured-inference\n",
            "  Attempting uninstall: Pillow\n",
            "    Found existing installation: Pillow 9.4.0\n",
            "    Uninstalling Pillow-9.4.0:\n",
            "      Successfully uninstalled Pillow-9.4.0\n",
            "\u001b[31mERROR: pip's dependency resolver does not currently take into account all the packages that are installed. This behaviour is the source of the following dependency conflicts.\n",
            "imageio 2.31.6 requires pillow<10.1.0,>=8.3.2, but you have pillow 10.2.0 which is incompatible.\u001b[0m\u001b[31m\n",
            "\u001b[0mSuccessfully installed Deprecated-1.2.14 Pillow-10.2.0 XlsxWriter-3.2.0 antlr4-python3-runtime-4.9.3 backoff-2.2.1 coloredlogs-15.0.1 dataclasses-json-0.6.4 dataclasses-json-speakeasy-0.5.11 effdet-0.4.1 emoji-2.10.1 filetype-1.2.0 humanfriendly-10.0 iopath-0.1.10 jsonpath-python-1.0.6 langdetect-1.0.9 layoutparser-0.3.4 marshmallow-3.20.2 msg-parser-1.2.0 mypy-extensions-1.0.0 olefile-0.47 omegaconf-2.3.0 onnx-1.15.0 onnxruntime-1.15.1 pdf2image-1.17.0 pdfminer.six-20221105 pdfplumber-0.10.4 pikepdf-8.13.0 pillow-heif-0.15.0 portalocker-2.8.2 pypandoc-1.13 pypdf-4.0.2 pypdfium2-4.27.0 pytesseract-0.3.10 python-docx-1.1.0 python-iso639-2024.2.7 python-magic-0.4.27 python-multipart-0.0.9 python-pptx-0.6.23 rapidfuzz-3.6.1 timm-0.9.16 typing-inspect-0.9.0 unstructured-0.12.4 unstructured-client-0.18.0 unstructured-inference-0.7.23 unstructured.pytesseract-0.3.12\n"
          ]
        },
        {
          "output_type": "display_data",
          "data": {
            "application/vnd.colab-display-data+json": {
              "pip_warning": {
                "packages": [
                  "PIL",
                  "pydevd_plugins"
                ]
              }
            }
          },
          "metadata": {}
        },
        {
          "output_type": "stream",
          "name": "stdout",
          "text": [
            "Requirement already satisfied: unstructured[openai] in /usr/local/lib/python3.10/dist-packages (0.12.4)\n",
            "Requirement already satisfied: chardet in /usr/local/lib/python3.10/dist-packages (from unstructured[openai]) (5.2.0)\n",
            "Requirement already satisfied: filetype in /usr/local/lib/python3.10/dist-packages (from unstructured[openai]) (1.2.0)\n",
            "Requirement already satisfied: python-magic in /usr/local/lib/python3.10/dist-packages (from unstructured[openai]) (0.4.27)\n",
            "Requirement already satisfied: lxml in /usr/local/lib/python3.10/dist-packages (from unstructured[openai]) (4.9.4)\n",
            "Requirement already satisfied: nltk in /usr/local/lib/python3.10/dist-packages (from unstructured[openai]) (3.8.1)\n",
            "Requirement already satisfied: tabulate in /usr/local/lib/python3.10/dist-packages (from unstructured[openai]) (0.9.0)\n",
            "Requirement already satisfied: requests in /usr/local/lib/python3.10/dist-packages (from unstructured[openai]) (2.31.0)\n",
            "Requirement already satisfied: beautifulsoup4 in /usr/local/lib/python3.10/dist-packages (from unstructured[openai]) (4.12.3)\n",
            "Requirement already satisfied: emoji in /usr/local/lib/python3.10/dist-packages (from unstructured[openai]) (2.10.1)\n",
            "Requirement already satisfied: dataclasses-json in /usr/local/lib/python3.10/dist-packages (from unstructured[openai]) (0.6.4)\n",
            "Requirement already satisfied: python-iso639 in /usr/local/lib/python3.10/dist-packages (from unstructured[openai]) (2024.2.7)\n",
            "Requirement already satisfied: langdetect in /usr/local/lib/python3.10/dist-packages (from unstructured[openai]) (1.0.9)\n",
            "Requirement already satisfied: numpy in /usr/local/lib/python3.10/dist-packages (from unstructured[openai]) (1.25.2)\n",
            "Requirement already satisfied: rapidfuzz in /usr/local/lib/python3.10/dist-packages (from unstructured[openai]) (3.6.1)\n",
            "Requirement already satisfied: backoff in /usr/local/lib/python3.10/dist-packages (from unstructured[openai]) (2.2.1)\n",
            "Requirement already satisfied: typing-extensions in /usr/local/lib/python3.10/dist-packages (from unstructured[openai]) (4.9.0)\n",
            "Requirement already satisfied: unstructured-client>=0.15.1 in /usr/local/lib/python3.10/dist-packages (from unstructured[openai]) (0.18.0)\n",
            "Requirement already satisfied: wrapt in /usr/local/lib/python3.10/dist-packages (from unstructured[openai]) (1.14.1)\n",
            "Collecting langchain-community (from unstructured[openai])\n",
            "  Downloading langchain_community-0.0.22-py3-none-any.whl (1.7 MB)\n",
            "\u001b[2K     \u001b[90m━━━━━━━━━━━━━━━━━━━━━━━━━━━━━━━━━━━━━━━━\u001b[0m \u001b[32m1.7/1.7 MB\u001b[0m \u001b[31m26.0 MB/s\u001b[0m eta \u001b[36m0:00:00\u001b[0m\n",
            "\u001b[?25hCollecting tiktoken (from unstructured[openai])\n",
            "  Downloading tiktoken-0.6.0-cp310-cp310-manylinux_2_17_x86_64.manylinux2014_x86_64.whl (1.8 MB)\n",
            "\u001b[2K     \u001b[90m━━━━━━━━━━━━━━━━━━━━━━━━━━━━━━━━━━━━━━━━\u001b[0m \u001b[32m1.8/1.8 MB\u001b[0m \u001b[31m60.8 MB/s\u001b[0m eta \u001b[36m0:00:00\u001b[0m\n",
            "\u001b[?25hCollecting openai (from unstructured[openai])\n",
            "  Downloading openai-1.12.0-py3-none-any.whl (226 kB)\n",
            "\u001b[2K     \u001b[90m━━━━━━━━━━━━━━━━━━━━━━━━━━━━━━━━━━━━━━━━\u001b[0m \u001b[32m226.7/226.7 kB\u001b[0m \u001b[31m27.9 MB/s\u001b[0m eta \u001b[36m0:00:00\u001b[0m\n",
            "\u001b[?25hRequirement already satisfied: certifi>=2023.7.22 in /usr/local/lib/python3.10/dist-packages (from unstructured-client>=0.15.1->unstructured[openai]) (2024.2.2)\n",
            "Requirement already satisfied: charset-normalizer>=3.2.0 in /usr/local/lib/python3.10/dist-packages (from unstructured-client>=0.15.1->unstructured[openai]) (3.3.2)\n",
            "Requirement already satisfied: dataclasses-json-speakeasy>=0.5.11 in /usr/local/lib/python3.10/dist-packages (from unstructured-client>=0.15.1->unstructured[openai]) (0.5.11)\n",
            "Requirement already satisfied: idna>=3.4 in /usr/local/lib/python3.10/dist-packages (from unstructured-client>=0.15.1->unstructured[openai]) (3.6)\n",
            "Requirement already satisfied: jsonpath-python>=1.0.6 in /usr/local/lib/python3.10/dist-packages (from unstructured-client>=0.15.1->unstructured[openai]) (1.0.6)\n",
            "Requirement already satisfied: marshmallow>=3.19.0 in /usr/local/lib/python3.10/dist-packages (from unstructured-client>=0.15.1->unstructured[openai]) (3.20.2)\n",
            "Requirement already satisfied: mypy-extensions>=1.0.0 in /usr/local/lib/python3.10/dist-packages (from unstructured-client>=0.15.1->unstructured[openai]) (1.0.0)\n",
            "Requirement already satisfied: packaging>=23.1 in /usr/local/lib/python3.10/dist-packages (from unstructured-client>=0.15.1->unstructured[openai]) (23.2)\n",
            "Requirement already satisfied: python-dateutil>=2.8.2 in /usr/local/lib/python3.10/dist-packages (from unstructured-client>=0.15.1->unstructured[openai]) (2.8.2)\n",
            "Requirement already satisfied: six>=1.16.0 in /usr/local/lib/python3.10/dist-packages (from unstructured-client>=0.15.1->unstructured[openai]) (1.16.0)\n",
            "Requirement already satisfied: typing-inspect>=0.9.0 in /usr/local/lib/python3.10/dist-packages (from unstructured-client>=0.15.1->unstructured[openai]) (0.9.0)\n",
            "Requirement already satisfied: urllib3>=1.26.18 in /usr/local/lib/python3.10/dist-packages (from unstructured-client>=0.15.1->unstructured[openai]) (2.0.7)\n",
            "Requirement already satisfied: soupsieve>1.2 in /usr/local/lib/python3.10/dist-packages (from beautifulsoup4->unstructured[openai]) (2.5)\n",
            "Requirement already satisfied: PyYAML>=5.3 in /usr/local/lib/python3.10/dist-packages (from langchain-community->unstructured[openai]) (6.0.1)\n",
            "Requirement already satisfied: SQLAlchemy<3,>=1.4 in /usr/local/lib/python3.10/dist-packages (from langchain-community->unstructured[openai]) (2.0.27)\n",
            "Requirement already satisfied: aiohttp<4.0.0,>=3.8.3 in /usr/local/lib/python3.10/dist-packages (from langchain-community->unstructured[openai]) (3.9.3)\n",
            "Collecting langchain-core<0.2,>=0.1.26 (from langchain-community->unstructured[openai])\n",
            "  Downloading langchain_core-0.1.26-py3-none-any.whl (246 kB)\n",
            "\u001b[2K     \u001b[90m━━━━━━━━━━━━━━━━━━━━━━━━━━━━━━━━━━━━━━━━\u001b[0m \u001b[32m246.4/246.4 kB\u001b[0m \u001b[31m30.0 MB/s\u001b[0m eta \u001b[36m0:00:00\u001b[0m\n",
            "\u001b[?25hCollecting langsmith<0.2.0,>=0.1.0 (from langchain-community->unstructured[openai])\n",
            "  Downloading langsmith-0.1.5-py3-none-any.whl (61 kB)\n",
            "\u001b[2K     \u001b[90m━━━━━━━━━━━━━━━━━━━━━━━━━━━━━━━━━━━━━━━━\u001b[0m \u001b[32m61.0/61.0 kB\u001b[0m \u001b[31m564.8 kB/s\u001b[0m eta \u001b[36m0:00:00\u001b[0m\n",
            "\u001b[?25hRequirement already satisfied: tenacity<9.0.0,>=8.1.0 in /usr/local/lib/python3.10/dist-packages (from langchain-community->unstructured[openai]) (8.2.3)\n",
            "Requirement already satisfied: click in /usr/local/lib/python3.10/dist-packages (from nltk->unstructured[openai]) (8.1.7)\n",
            "Requirement already satisfied: joblib in /usr/local/lib/python3.10/dist-packages (from nltk->unstructured[openai]) (1.3.2)\n",
            "Requirement already satisfied: regex>=2021.8.3 in /usr/local/lib/python3.10/dist-packages (from nltk->unstructured[openai]) (2023.12.25)\n",
            "Requirement already satisfied: tqdm in /usr/local/lib/python3.10/dist-packages (from nltk->unstructured[openai]) (4.66.2)\n",
            "Requirement already satisfied: anyio<5,>=3.5.0 in /usr/local/lib/python3.10/dist-packages (from openai->unstructured[openai]) (3.7.1)\n",
            "Requirement already satisfied: distro<2,>=1.7.0 in /usr/lib/python3/dist-packages (from openai->unstructured[openai]) (1.7.0)\n",
            "Collecting httpx<1,>=0.23.0 (from openai->unstructured[openai])\n",
            "  Downloading httpx-0.27.0-py3-none-any.whl (75 kB)\n",
            "\u001b[2K     \u001b[90m━━━━━━━━━━━━━━━━━━━━━━━━━━━━━━━━━━━━━━━━\u001b[0m \u001b[32m75.6/75.6 kB\u001b[0m \u001b[31m10.1 MB/s\u001b[0m eta \u001b[36m0:00:00\u001b[0m\n",
            "\u001b[?25hRequirement already satisfied: pydantic<3,>=1.9.0 in /usr/local/lib/python3.10/dist-packages (from openai->unstructured[openai]) (2.6.1)\n",
            "Requirement already satisfied: sniffio in /usr/local/lib/python3.10/dist-packages (from openai->unstructured[openai]) (1.3.0)\n",
            "Requirement already satisfied: aiosignal>=1.1.2 in /usr/local/lib/python3.10/dist-packages (from aiohttp<4.0.0,>=3.8.3->langchain-community->unstructured[openai]) (1.3.1)\n",
            "Requirement already satisfied: attrs>=17.3.0 in /usr/local/lib/python3.10/dist-packages (from aiohttp<4.0.0,>=3.8.3->langchain-community->unstructured[openai]) (23.2.0)\n",
            "Requirement already satisfied: frozenlist>=1.1.1 in /usr/local/lib/python3.10/dist-packages (from aiohttp<4.0.0,>=3.8.3->langchain-community->unstructured[openai]) (1.4.1)\n",
            "Requirement already satisfied: multidict<7.0,>=4.5 in /usr/local/lib/python3.10/dist-packages (from aiohttp<4.0.0,>=3.8.3->langchain-community->unstructured[openai]) (6.0.5)\n",
            "Requirement already satisfied: yarl<2.0,>=1.0 in /usr/local/lib/python3.10/dist-packages (from aiohttp<4.0.0,>=3.8.3->langchain-community->unstructured[openai]) (1.9.4)\n",
            "Requirement already satisfied: async-timeout<5.0,>=4.0 in /usr/local/lib/python3.10/dist-packages (from aiohttp<4.0.0,>=3.8.3->langchain-community->unstructured[openai]) (4.0.3)\n",
            "Requirement already satisfied: exceptiongroup in /usr/local/lib/python3.10/dist-packages (from anyio<5,>=3.5.0->openai->unstructured[openai]) (1.2.0)\n",
            "Collecting httpcore==1.* (from httpx<1,>=0.23.0->openai->unstructured[openai])\n",
            "  Downloading httpcore-1.0.4-py3-none-any.whl (77 kB)\n",
            "\u001b[2K     \u001b[90m━━━━━━━━━━━━━━━━━━━━━━━━━━━━━━━━━━━━━━━━\u001b[0m \u001b[32m77.8/77.8 kB\u001b[0m \u001b[31m11.6 MB/s\u001b[0m eta \u001b[36m0:00:00\u001b[0m\n",
            "\u001b[?25hCollecting h11<0.15,>=0.13 (from httpcore==1.*->httpx<1,>=0.23.0->openai->unstructured[openai])\n",
            "  Downloading h11-0.14.0-py3-none-any.whl (58 kB)\n",
            "\u001b[2K     \u001b[90m━━━━━━━━━━━━━━━━━━━━━━━━━━━━━━━━━━━━━━━━\u001b[0m \u001b[32m58.3/58.3 kB\u001b[0m \u001b[31m9.0 MB/s\u001b[0m eta \u001b[36m0:00:00\u001b[0m\n",
            "\u001b[?25hCollecting jsonpatch<2.0,>=1.33 (from langchain-core<0.2,>=0.1.26->langchain-community->unstructured[openai])\n",
            "  Downloading jsonpatch-1.33-py2.py3-none-any.whl (12 kB)\n",
            "Requirement already satisfied: annotated-types>=0.4.0 in /usr/local/lib/python3.10/dist-packages (from pydantic<3,>=1.9.0->openai->unstructured[openai]) (0.6.0)\n",
            "Requirement already satisfied: pydantic-core==2.16.2 in /usr/local/lib/python3.10/dist-packages (from pydantic<3,>=1.9.0->openai->unstructured[openai]) (2.16.2)\n",
            "Requirement already satisfied: greenlet!=0.4.17 in /usr/local/lib/python3.10/dist-packages (from SQLAlchemy<3,>=1.4->langchain-community->unstructured[openai]) (3.0.3)\n",
            "Collecting jsonpointer>=1.9 (from jsonpatch<2.0,>=1.33->langchain-core<0.2,>=0.1.26->langchain-community->unstructured[openai])\n",
            "  Downloading jsonpointer-2.4-py2.py3-none-any.whl (7.8 kB)\n",
            "Installing collected packages: jsonpointer, h11, tiktoken, jsonpatch, httpcore, langsmith, httpx, openai, langchain-core, langchain-community\n",
            "Successfully installed h11-0.14.0 httpcore-1.0.4 httpx-0.27.0 jsonpatch-1.33 jsonpointer-2.4 langchain-community-0.0.22 langchain-core-0.1.26 langsmith-0.1.5 openai-1.12.0 tiktoken-0.6.0\n",
            "Collecting langchain\n",
            "  Downloading langchain-0.1.9-py3-none-any.whl (816 kB)\n",
            "\u001b[2K     \u001b[90m━━━━━━━━━━━━━━━━━━━━━━━━━━━━━━━━━━━━━━━━\u001b[0m \u001b[32m817.0/817.0 kB\u001b[0m \u001b[31m16.7 MB/s\u001b[0m eta \u001b[36m0:00:00\u001b[0m\n",
            "\u001b[?25hRequirement already satisfied: PyYAML>=5.3 in /usr/local/lib/python3.10/dist-packages (from langchain) (6.0.1)\n",
            "Requirement already satisfied: SQLAlchemy<3,>=1.4 in /usr/local/lib/python3.10/dist-packages (from langchain) (2.0.27)\n",
            "Requirement already satisfied: aiohttp<4.0.0,>=3.8.3 in /usr/local/lib/python3.10/dist-packages (from langchain) (3.9.3)\n",
            "Requirement already satisfied: async-timeout<5.0.0,>=4.0.0 in /usr/local/lib/python3.10/dist-packages (from langchain) (4.0.3)\n",
            "Requirement already satisfied: dataclasses-json<0.7,>=0.5.7 in /usr/local/lib/python3.10/dist-packages (from langchain) (0.6.4)\n",
            "Requirement already satisfied: jsonpatch<2.0,>=1.33 in /usr/local/lib/python3.10/dist-packages (from langchain) (1.33)\n",
            "Requirement already satisfied: langchain-community<0.1,>=0.0.21 in /usr/local/lib/python3.10/dist-packages (from langchain) (0.0.22)\n",
            "Requirement already satisfied: langchain-core<0.2,>=0.1.26 in /usr/local/lib/python3.10/dist-packages (from langchain) (0.1.26)\n",
            "Requirement already satisfied: langsmith<0.2.0,>=0.1.0 in /usr/local/lib/python3.10/dist-packages (from langchain) (0.1.5)\n",
            "Requirement already satisfied: numpy<2,>=1 in /usr/local/lib/python3.10/dist-packages (from langchain) (1.25.2)\n",
            "Requirement already satisfied: pydantic<3,>=1 in /usr/local/lib/python3.10/dist-packages (from langchain) (2.6.1)\n",
            "Requirement already satisfied: requests<3,>=2 in /usr/local/lib/python3.10/dist-packages (from langchain) (2.31.0)\n",
            "Requirement already satisfied: tenacity<9.0.0,>=8.1.0 in /usr/local/lib/python3.10/dist-packages (from langchain) (8.2.3)\n",
            "Requirement already satisfied: aiosignal>=1.1.2 in /usr/local/lib/python3.10/dist-packages (from aiohttp<4.0.0,>=3.8.3->langchain) (1.3.1)\n",
            "Requirement already satisfied: attrs>=17.3.0 in /usr/local/lib/python3.10/dist-packages (from aiohttp<4.0.0,>=3.8.3->langchain) (23.2.0)\n",
            "Requirement already satisfied: frozenlist>=1.1.1 in /usr/local/lib/python3.10/dist-packages (from aiohttp<4.0.0,>=3.8.3->langchain) (1.4.1)\n",
            "Requirement already satisfied: multidict<7.0,>=4.5 in /usr/local/lib/python3.10/dist-packages (from aiohttp<4.0.0,>=3.8.3->langchain) (6.0.5)\n",
            "Requirement already satisfied: yarl<2.0,>=1.0 in /usr/local/lib/python3.10/dist-packages (from aiohttp<4.0.0,>=3.8.3->langchain) (1.9.4)\n",
            "Requirement already satisfied: marshmallow<4.0.0,>=3.18.0 in /usr/local/lib/python3.10/dist-packages (from dataclasses-json<0.7,>=0.5.7->langchain) (3.20.2)\n",
            "Requirement already satisfied: typing-inspect<1,>=0.4.0 in /usr/local/lib/python3.10/dist-packages (from dataclasses-json<0.7,>=0.5.7->langchain) (0.9.0)\n",
            "Requirement already satisfied: jsonpointer>=1.9 in /usr/local/lib/python3.10/dist-packages (from jsonpatch<2.0,>=1.33->langchain) (2.4)\n",
            "Requirement already satisfied: anyio<5,>=3 in /usr/local/lib/python3.10/dist-packages (from langchain-core<0.2,>=0.1.26->langchain) (3.7.1)\n",
            "Requirement already satisfied: packaging<24.0,>=23.2 in /usr/local/lib/python3.10/dist-packages (from langchain-core<0.2,>=0.1.26->langchain) (23.2)\n",
            "Requirement already satisfied: annotated-types>=0.4.0 in /usr/local/lib/python3.10/dist-packages (from pydantic<3,>=1->langchain) (0.6.0)\n",
            "Requirement already satisfied: pydantic-core==2.16.2 in /usr/local/lib/python3.10/dist-packages (from pydantic<3,>=1->langchain) (2.16.2)\n",
            "Requirement already satisfied: typing-extensions>=4.6.1 in /usr/local/lib/python3.10/dist-packages (from pydantic<3,>=1->langchain) (4.9.0)\n",
            "Requirement already satisfied: charset-normalizer<4,>=2 in /usr/local/lib/python3.10/dist-packages (from requests<3,>=2->langchain) (3.3.2)\n",
            "Requirement already satisfied: idna<4,>=2.5 in /usr/local/lib/python3.10/dist-packages (from requests<3,>=2->langchain) (3.6)\n",
            "Requirement already satisfied: urllib3<3,>=1.21.1 in /usr/local/lib/python3.10/dist-packages (from requests<3,>=2->langchain) (2.0.7)\n",
            "Requirement already satisfied: certifi>=2017.4.17 in /usr/local/lib/python3.10/dist-packages (from requests<3,>=2->langchain) (2024.2.2)\n",
            "Requirement already satisfied: greenlet!=0.4.17 in /usr/local/lib/python3.10/dist-packages (from SQLAlchemy<3,>=1.4->langchain) (3.0.3)\n",
            "Requirement already satisfied: sniffio>=1.1 in /usr/local/lib/python3.10/dist-packages (from anyio<5,>=3->langchain-core<0.2,>=0.1.26->langchain) (1.3.0)\n",
            "Requirement already satisfied: exceptiongroup in /usr/local/lib/python3.10/dist-packages (from anyio<5,>=3->langchain-core<0.2,>=0.1.26->langchain) (1.2.0)\n",
            "Requirement already satisfied: mypy-extensions>=0.3.0 in /usr/local/lib/python3.10/dist-packages (from typing-inspect<1,>=0.4.0->dataclasses-json<0.7,>=0.5.7->langchain) (1.0.0)\n",
            "Installing collected packages: langchain\n",
            "Successfully installed langchain-0.1.9\n",
            "Collecting chromadb\n",
            "  Downloading chromadb-0.4.23-py3-none-any.whl (521 kB)\n",
            "\u001b[2K     \u001b[90m━━━━━━━━━━━━━━━━━━━━━━━━━━━━━━━━━━━━━━━━\u001b[0m \u001b[32m521.7/521.7 kB\u001b[0m \u001b[31m10.5 MB/s\u001b[0m eta \u001b[36m0:00:00\u001b[0m\n",
            "\u001b[?25hRequirement already satisfied: build>=1.0.3 in /usr/local/lib/python3.10/dist-packages (from chromadb) (1.0.3)\n",
            "Requirement already satisfied: requests>=2.28 in /usr/local/lib/python3.10/dist-packages (from chromadb) (2.31.0)\n",
            "Requirement already satisfied: pydantic>=1.9 in /usr/local/lib/python3.10/dist-packages (from chromadb) (2.6.1)\n",
            "Collecting chroma-hnswlib==0.7.3 (from chromadb)\n",
            "  Downloading chroma_hnswlib-0.7.3-cp310-cp310-manylinux_2_17_x86_64.manylinux2014_x86_64.whl (2.4 MB)\n",
            "\u001b[2K     \u001b[90m━━━━━━━━━━━━━━━━━━━━━━━━━━━━━━━━━━━━━━━━\u001b[0m \u001b[32m2.4/2.4 MB\u001b[0m \u001b[31m50.7 MB/s\u001b[0m eta \u001b[36m0:00:00\u001b[0m\n",
            "\u001b[?25hCollecting fastapi>=0.95.2 (from chromadb)\n",
            "  Downloading fastapi-0.109.2-py3-none-any.whl (92 kB)\n",
            "\u001b[2K     \u001b[90m━━━━━━━━━━━━━━━━━━━━━━━━━━━━━━━━━━━━━━━━\u001b[0m \u001b[32m92.1/92.1 kB\u001b[0m \u001b[31m12.7 MB/s\u001b[0m eta \u001b[36m0:00:00\u001b[0m\n",
            "\u001b[?25hCollecting uvicorn[standard]>=0.18.3 (from chromadb)\n",
            "  Downloading uvicorn-0.27.1-py3-none-any.whl (60 kB)\n",
            "\u001b[2K     \u001b[90m━━━━━━━━━━━━━━━━━━━━━━━━━━━━━━━━━━━━━━━━\u001b[0m \u001b[32m60.8/60.8 kB\u001b[0m \u001b[31m8.3 MB/s\u001b[0m eta \u001b[36m0:00:00\u001b[0m\n",
            "\u001b[?25hRequirement already satisfied: numpy>=1.22.5 in /usr/local/lib/python3.10/dist-packages (from chromadb) (1.25.2)\n",
            "Collecting posthog>=2.4.0 (from chromadb)\n",
            "  Downloading posthog-3.4.2-py2.py3-none-any.whl (41 kB)\n",
            "\u001b[2K     \u001b[90m━━━━━━━━━━━━━━━━━━━━━━━━━━━━━━━━━━━━━━━━\u001b[0m \u001b[32m41.2/41.2 kB\u001b[0m \u001b[31m5.4 MB/s\u001b[0m eta \u001b[36m0:00:00\u001b[0m\n",
            "\u001b[?25hRequirement already satisfied: typing-extensions>=4.5.0 in /usr/local/lib/python3.10/dist-packages (from chromadb) (4.9.0)\n",
            "Collecting pulsar-client>=3.1.0 (from chromadb)\n",
            "  Downloading pulsar_client-3.4.0-cp310-cp310-manylinux_2_17_x86_64.manylinux2014_x86_64.whl (5.4 MB)\n",
            "\u001b[2K     \u001b[90m━━━━━━━━━━━━━━━━━━━━━━━━━━━━━━━━━━━━━━━━\u001b[0m \u001b[32m5.4/5.4 MB\u001b[0m \u001b[31m74.1 MB/s\u001b[0m eta \u001b[36m0:00:00\u001b[0m\n",
            "\u001b[?25hRequirement already satisfied: onnxruntime>=1.14.1 in /usr/local/lib/python3.10/dist-packages (from chromadb) (1.15.1)\n",
            "Collecting opentelemetry-api>=1.2.0 (from chromadb)\n",
            "  Downloading opentelemetry_api-1.22.0-py3-none-any.whl (57 kB)\n",
            "\u001b[2K     \u001b[90m━━━━━━━━━━━━━━━━━━━━━━━━━━━━━━━━━━━━━━━━\u001b[0m \u001b[32m57.9/57.9 kB\u001b[0m \u001b[31m3.3 MB/s\u001b[0m eta \u001b[36m0:00:00\u001b[0m\n",
            "\u001b[?25hCollecting opentelemetry-exporter-otlp-proto-grpc>=1.2.0 (from chromadb)\n",
            "  Downloading opentelemetry_exporter_otlp_proto_grpc-1.22.0-py3-none-any.whl (18 kB)\n",
            "Collecting opentelemetry-instrumentation-fastapi>=0.41b0 (from chromadb)\n",
            "  Downloading opentelemetry_instrumentation_fastapi-0.43b0-py3-none-any.whl (11 kB)\n",
            "Collecting opentelemetry-sdk>=1.2.0 (from chromadb)\n",
            "  Downloading opentelemetry_sdk-1.22.0-py3-none-any.whl (105 kB)\n",
            "\u001b[2K     \u001b[90m━━━━━━━━━━━━━━━━━━━━━━━━━━━━━━━━━━━━━━━━\u001b[0m \u001b[32m105.6/105.6 kB\u001b[0m \u001b[31m16.4 MB/s\u001b[0m eta \u001b[36m0:00:00\u001b[0m\n",
            "\u001b[?25hRequirement already satisfied: tokenizers>=0.13.2 in /usr/local/lib/python3.10/dist-packages (from chromadb) (0.15.2)\n",
            "Collecting pypika>=0.48.9 (from chromadb)\n",
            "  Downloading PyPika-0.48.9.tar.gz (67 kB)\n",
            "\u001b[2K     \u001b[90m━━━━━━━━━━━━━━━━━━━━━━━━━━━━━━━━━━━━━━━━\u001b[0m \u001b[32m67.3/67.3 kB\u001b[0m \u001b[31m10.2 MB/s\u001b[0m eta \u001b[36m0:00:00\u001b[0m\n",
            "\u001b[?25h  Installing build dependencies ... \u001b[?25l\u001b[?25hdone\n",
            "  Getting requirements to build wheel ... \u001b[?25l\u001b[?25hdone\n",
            "  Preparing metadata (pyproject.toml) ... \u001b[?25l\u001b[?25hdone\n",
            "Requirement already satisfied: tqdm>=4.65.0 in /usr/local/lib/python3.10/dist-packages (from chromadb) (4.66.2)\n",
            "Collecting overrides>=7.3.1 (from chromadb)\n",
            "  Downloading overrides-7.7.0-py3-none-any.whl (17 kB)\n",
            "Requirement already satisfied: importlib-resources in /usr/local/lib/python3.10/dist-packages (from chromadb) (6.1.1)\n",
            "Requirement already satisfied: grpcio>=1.58.0 in /usr/local/lib/python3.10/dist-packages (from chromadb) (1.60.1)\n",
            "Collecting bcrypt>=4.0.1 (from chromadb)\n",
            "  Downloading bcrypt-4.1.2-cp39-abi3-manylinux_2_28_x86_64.whl (698 kB)\n",
            "\u001b[2K     \u001b[90m━━━━━━━━━━━━━━━━━━━━━━━━━━━━━━━━━━━━━━━━\u001b[0m \u001b[32m698.9/698.9 kB\u001b[0m \u001b[31m54.3 MB/s\u001b[0m eta \u001b[36m0:00:00\u001b[0m\n",
            "\u001b[?25hRequirement already satisfied: typer>=0.9.0 in /usr/local/lib/python3.10/dist-packages (from chromadb) (0.9.0)\n",
            "Collecting kubernetes>=28.1.0 (from chromadb)\n",
            "  Downloading kubernetes-29.0.0-py2.py3-none-any.whl (1.6 MB)\n",
            "\u001b[2K     \u001b[90m━━━━━━━━━━━━━━━━━━━━━━━━━━━━━━━━━━━━━━━━\u001b[0m \u001b[32m1.6/1.6 MB\u001b[0m \u001b[31m57.2 MB/s\u001b[0m eta \u001b[36m0:00:00\u001b[0m\n",
            "\u001b[?25hRequirement already satisfied: tenacity>=8.2.3 in /usr/local/lib/python3.10/dist-packages (from chromadb) (8.2.3)\n",
            "Requirement already satisfied: PyYAML>=6.0.0 in /usr/local/lib/python3.10/dist-packages (from chromadb) (6.0.1)\n",
            "Collecting mmh3>=4.0.1 (from chromadb)\n",
            "  Downloading mmh3-4.1.0-cp310-cp310-manylinux_2_5_x86_64.manylinux1_x86_64.manylinux_2_17_x86_64.manylinux2014_x86_64.whl (67 kB)\n",
            "\u001b[2K     \u001b[90m━━━━━━━━━━━━━━━━━━━━━━━━━━━━━━━━━━━━━━━━\u001b[0m \u001b[32m67.6/67.6 kB\u001b[0m \u001b[31m9.2 MB/s\u001b[0m eta \u001b[36m0:00:00\u001b[0m\n",
            "\u001b[?25hCollecting orjson>=3.9.12 (from chromadb)\n",
            "  Downloading orjson-3.9.14-cp310-cp310-manylinux_2_17_x86_64.manylinux2014_x86_64.whl (138 kB)\n",
            "\u001b[2K     \u001b[90m━━━━━━━━━━━━━━━━━━━━━━━━━━━━━━━━━━━━━━━━\u001b[0m \u001b[32m139.0/139.0 kB\u001b[0m \u001b[31m19.2 MB/s\u001b[0m eta \u001b[36m0:00:00\u001b[0m\n",
            "\u001b[?25hRequirement already satisfied: packaging>=19.0 in /usr/local/lib/python3.10/dist-packages (from build>=1.0.3->chromadb) (23.2)\n",
            "Requirement already satisfied: pyproject_hooks in /usr/local/lib/python3.10/dist-packages (from build>=1.0.3->chromadb) (1.0.0)\n",
            "Requirement already satisfied: tomli>=1.1.0 in /usr/local/lib/python3.10/dist-packages (from build>=1.0.3->chromadb) (2.0.1)\n",
            "Collecting starlette<0.37.0,>=0.36.3 (from fastapi>=0.95.2->chromadb)\n",
            "  Downloading starlette-0.36.3-py3-none-any.whl (71 kB)\n",
            "\u001b[2K     \u001b[90m━━━━━━━━━━━━━━━━━━━━━━━━━━━━━━━━━━━━━━━━\u001b[0m \u001b[32m71.5/71.5 kB\u001b[0m \u001b[31m10.2 MB/s\u001b[0m eta \u001b[36m0:00:00\u001b[0m\n",
            "\u001b[?25hRequirement already satisfied: certifi>=14.05.14 in /usr/local/lib/python3.10/dist-packages (from kubernetes>=28.1.0->chromadb) (2024.2.2)\n",
            "Requirement already satisfied: six>=1.9.0 in /usr/local/lib/python3.10/dist-packages (from kubernetes>=28.1.0->chromadb) (1.16.0)\n",
            "Requirement already satisfied: python-dateutil>=2.5.3 in /usr/local/lib/python3.10/dist-packages (from kubernetes>=28.1.0->chromadb) (2.8.2)\n",
            "Requirement already satisfied: google-auth>=1.0.1 in /usr/local/lib/python3.10/dist-packages (from kubernetes>=28.1.0->chromadb) (2.27.0)\n",
            "Requirement already satisfied: websocket-client!=0.40.0,!=0.41.*,!=0.42.*,>=0.32.0 in /usr/local/lib/python3.10/dist-packages (from kubernetes>=28.1.0->chromadb) (1.7.0)\n",
            "Requirement already satisfied: requests-oauthlib in /usr/local/lib/python3.10/dist-packages (from kubernetes>=28.1.0->chromadb) (1.3.1)\n",
            "Requirement already satisfied: oauthlib>=3.2.2 in /usr/local/lib/python3.10/dist-packages (from kubernetes>=28.1.0->chromadb) (3.2.2)\n",
            "Requirement already satisfied: urllib3>=1.24.2 in /usr/local/lib/python3.10/dist-packages (from kubernetes>=28.1.0->chromadb) (2.0.7)\n",
            "Requirement already satisfied: coloredlogs in /usr/local/lib/python3.10/dist-packages (from onnxruntime>=1.14.1->chromadb) (15.0.1)\n",
            "Requirement already satisfied: flatbuffers in /usr/local/lib/python3.10/dist-packages (from onnxruntime>=1.14.1->chromadb) (23.5.26)\n",
            "Requirement already satisfied: protobuf in /usr/local/lib/python3.10/dist-packages (from onnxruntime>=1.14.1->chromadb) (3.20.3)\n",
            "Requirement already satisfied: sympy in /usr/local/lib/python3.10/dist-packages (from onnxruntime>=1.14.1->chromadb) (1.12)\n",
            "Requirement already satisfied: deprecated>=1.2.6 in /usr/local/lib/python3.10/dist-packages (from opentelemetry-api>=1.2.0->chromadb) (1.2.14)\n",
            "Collecting importlib-metadata<7.0,>=6.0 (from opentelemetry-api>=1.2.0->chromadb)\n",
            "  Downloading importlib_metadata-6.11.0-py3-none-any.whl (23 kB)\n",
            "Requirement already satisfied: backoff<3.0.0,>=1.10.0 in /usr/local/lib/python3.10/dist-packages (from opentelemetry-exporter-otlp-proto-grpc>=1.2.0->chromadb) (2.2.1)\n",
            "Requirement already satisfied: googleapis-common-protos~=1.52 in /usr/local/lib/python3.10/dist-packages (from opentelemetry-exporter-otlp-proto-grpc>=1.2.0->chromadb) (1.62.0)\n",
            "Collecting opentelemetry-exporter-otlp-proto-common==1.22.0 (from opentelemetry-exporter-otlp-proto-grpc>=1.2.0->chromadb)\n",
            "  Downloading opentelemetry_exporter_otlp_proto_common-1.22.0-py3-none-any.whl (17 kB)\n",
            "Collecting opentelemetry-proto==1.22.0 (from opentelemetry-exporter-otlp-proto-grpc>=1.2.0->chromadb)\n",
            "  Downloading opentelemetry_proto-1.22.0-py3-none-any.whl (50 kB)\n",
            "\u001b[2K     \u001b[90m━━━━━━━━━━━━━━━━━━━━━━━━━━━━━━━━━━━━━━━━\u001b[0m \u001b[32m50.8/50.8 kB\u001b[0m \u001b[31m8.0 MB/s\u001b[0m eta \u001b[36m0:00:00\u001b[0m\n",
            "\u001b[?25hCollecting opentelemetry-instrumentation-asgi==0.43b0 (from opentelemetry-instrumentation-fastapi>=0.41b0->chromadb)\n",
            "  Downloading opentelemetry_instrumentation_asgi-0.43b0-py3-none-any.whl (14 kB)\n",
            "Collecting opentelemetry-instrumentation==0.43b0 (from opentelemetry-instrumentation-fastapi>=0.41b0->chromadb)\n",
            "  Downloading opentelemetry_instrumentation-0.43b0-py3-none-any.whl (28 kB)\n",
            "Collecting opentelemetry-semantic-conventions==0.43b0 (from opentelemetry-instrumentation-fastapi>=0.41b0->chromadb)\n",
            "  Downloading opentelemetry_semantic_conventions-0.43b0-py3-none-any.whl (36 kB)\n",
            "Collecting opentelemetry-util-http==0.43b0 (from opentelemetry-instrumentation-fastapi>=0.41b0->chromadb)\n",
            "  Downloading opentelemetry_util_http-0.43b0-py3-none-any.whl (6.9 kB)\n",
            "Requirement already satisfied: setuptools>=16.0 in /usr/local/lib/python3.10/dist-packages (from opentelemetry-instrumentation==0.43b0->opentelemetry-instrumentation-fastapi>=0.41b0->chromadb) (67.7.2)\n",
            "Requirement already satisfied: wrapt<2.0.0,>=1.0.0 in /usr/local/lib/python3.10/dist-packages (from opentelemetry-instrumentation==0.43b0->opentelemetry-instrumentation-fastapi>=0.41b0->chromadb) (1.14.1)\n",
            "Collecting asgiref~=3.0 (from opentelemetry-instrumentation-asgi==0.43b0->opentelemetry-instrumentation-fastapi>=0.41b0->chromadb)\n",
            "  Downloading asgiref-3.7.2-py3-none-any.whl (24 kB)\n",
            "Collecting monotonic>=1.5 (from posthog>=2.4.0->chromadb)\n",
            "  Downloading monotonic-1.6-py2.py3-none-any.whl (8.2 kB)\n",
            "Requirement already satisfied: annotated-types>=0.4.0 in /usr/local/lib/python3.10/dist-packages (from pydantic>=1.9->chromadb) (0.6.0)\n",
            "Requirement already satisfied: pydantic-core==2.16.2 in /usr/local/lib/python3.10/dist-packages (from pydantic>=1.9->chromadb) (2.16.2)\n",
            "Requirement already satisfied: charset-normalizer<4,>=2 in /usr/local/lib/python3.10/dist-packages (from requests>=2.28->chromadb) (3.3.2)\n",
            "Requirement already satisfied: idna<4,>=2.5 in /usr/local/lib/python3.10/dist-packages (from requests>=2.28->chromadb) (3.6)\n",
            "Requirement already satisfied: huggingface_hub<1.0,>=0.16.4 in /usr/local/lib/python3.10/dist-packages (from tokenizers>=0.13.2->chromadb) (0.20.3)\n",
            "Requirement already satisfied: click<9.0.0,>=7.1.1 in /usr/local/lib/python3.10/dist-packages (from typer>=0.9.0->chromadb) (8.1.7)\n",
            "Requirement already satisfied: h11>=0.8 in /usr/local/lib/python3.10/dist-packages (from uvicorn[standard]>=0.18.3->chromadb) (0.14.0)\n",
            "Collecting httptools>=0.5.0 (from uvicorn[standard]>=0.18.3->chromadb)\n",
            "  Downloading httptools-0.6.1-cp310-cp310-manylinux_2_5_x86_64.manylinux1_x86_64.manylinux_2_17_x86_64.manylinux2014_x86_64.whl (341 kB)\n",
            "\u001b[2K     \u001b[90m━━━━━━━━━━━━━━━━━━━━━━━━━━━━━━━━━━━━━━━━\u001b[0m \u001b[32m341.4/341.4 kB\u001b[0m \u001b[31m37.3 MB/s\u001b[0m eta \u001b[36m0:00:00\u001b[0m\n",
            "\u001b[?25hCollecting python-dotenv>=0.13 (from uvicorn[standard]>=0.18.3->chromadb)\n",
            "  Downloading python_dotenv-1.0.1-py3-none-any.whl (19 kB)\n",
            "Collecting uvloop!=0.15.0,!=0.15.1,>=0.14.0 (from uvicorn[standard]>=0.18.3->chromadb)\n",
            "  Downloading uvloop-0.19.0-cp310-cp310-manylinux_2_17_x86_64.manylinux2014_x86_64.whl (3.4 MB)\n",
            "\u001b[2K     \u001b[90m━━━━━━━━━━━━━━━━━━━━━━━━━━━━━━━━━━━━━━━━\u001b[0m \u001b[32m3.4/3.4 MB\u001b[0m \u001b[31m66.0 MB/s\u001b[0m eta \u001b[36m0:00:00\u001b[0m\n",
            "\u001b[?25hCollecting watchfiles>=0.13 (from uvicorn[standard]>=0.18.3->chromadb)\n",
            "  Downloading watchfiles-0.21.0-cp310-cp310-manylinux_2_17_x86_64.manylinux2014_x86_64.whl (1.3 MB)\n",
            "\u001b[2K     \u001b[90m━━━━━━━━━━━━━━━━━━━━━━━━━━━━━━━━━━━━━━━━\u001b[0m \u001b[32m1.3/1.3 MB\u001b[0m \u001b[31m71.2 MB/s\u001b[0m eta \u001b[36m0:00:00\u001b[0m\n",
            "\u001b[?25hCollecting websockets>=10.4 (from uvicorn[standard]>=0.18.3->chromadb)\n",
            "  Downloading websockets-12.0-cp310-cp310-manylinux_2_5_x86_64.manylinux1_x86_64.manylinux_2_17_x86_64.manylinux2014_x86_64.whl (130 kB)\n",
            "\u001b[2K     \u001b[90m━━━━━━━━━━━━━━━━━━━━━━━━━━━━━━━━━━━━━━━━\u001b[0m \u001b[32m130.2/130.2 kB\u001b[0m \u001b[31m14.9 MB/s\u001b[0m eta \u001b[36m0:00:00\u001b[0m\n",
            "\u001b[?25hRequirement already satisfied: cachetools<6.0,>=2.0.0 in /usr/local/lib/python3.10/dist-packages (from google-auth>=1.0.1->kubernetes>=28.1.0->chromadb) (5.3.2)\n",
            "Requirement already satisfied: pyasn1-modules>=0.2.1 in /usr/local/lib/python3.10/dist-packages (from google-auth>=1.0.1->kubernetes>=28.1.0->chromadb) (0.3.0)\n",
            "Requirement already satisfied: rsa<5,>=3.1.4 in /usr/local/lib/python3.10/dist-packages (from google-auth>=1.0.1->kubernetes>=28.1.0->chromadb) (4.9)\n",
            "Requirement already satisfied: filelock in /usr/local/lib/python3.10/dist-packages (from huggingface_hub<1.0,>=0.16.4->tokenizers>=0.13.2->chromadb) (3.13.1)\n",
            "Requirement already satisfied: fsspec>=2023.5.0 in /usr/local/lib/python3.10/dist-packages (from huggingface_hub<1.0,>=0.16.4->tokenizers>=0.13.2->chromadb) (2023.6.0)\n",
            "Requirement already satisfied: zipp>=0.5 in /usr/local/lib/python3.10/dist-packages (from importlib-metadata<7.0,>=6.0->opentelemetry-api>=1.2.0->chromadb) (3.17.0)\n",
            "Requirement already satisfied: anyio<5,>=3.4.0 in /usr/local/lib/python3.10/dist-packages (from starlette<0.37.0,>=0.36.3->fastapi>=0.95.2->chromadb) (3.7.1)\n",
            "Requirement already satisfied: humanfriendly>=9.1 in /usr/local/lib/python3.10/dist-packages (from coloredlogs->onnxruntime>=1.14.1->chromadb) (10.0)\n",
            "Requirement already satisfied: mpmath>=0.19 in /usr/local/lib/python3.10/dist-packages (from sympy->onnxruntime>=1.14.1->chromadb) (1.3.0)\n",
            "Requirement already satisfied: sniffio>=1.1 in /usr/local/lib/python3.10/dist-packages (from anyio<5,>=3.4.0->starlette<0.37.0,>=0.36.3->fastapi>=0.95.2->chromadb) (1.3.0)\n",
            "Requirement already satisfied: exceptiongroup in /usr/local/lib/python3.10/dist-packages (from anyio<5,>=3.4.0->starlette<0.37.0,>=0.36.3->fastapi>=0.95.2->chromadb) (1.2.0)\n",
            "Requirement already satisfied: pyasn1<0.6.0,>=0.4.6 in /usr/local/lib/python3.10/dist-packages (from pyasn1-modules>=0.2.1->google-auth>=1.0.1->kubernetes>=28.1.0->chromadb) (0.5.1)\n",
            "Building wheels for collected packages: pypika\n",
            "  Building wheel for pypika (pyproject.toml) ... \u001b[?25l\u001b[?25hdone\n",
            "  Created wheel for pypika: filename=PyPika-0.48.9-py2.py3-none-any.whl size=53723 sha256=68493d26839484e365193dc4616a77b83065117686f06eb828dadf96229a95c1\n",
            "  Stored in directory: /root/.cache/pip/wheels/e1/26/51/d0bffb3d2fd82256676d7ad3003faea3bd6dddc9577af665f4\n",
            "Successfully built pypika\n",
            "Installing collected packages: pypika, monotonic, mmh3, websockets, uvloop, uvicorn, python-dotenv, pulsar-client, overrides, orjson, opentelemetry-util-http, opentelemetry-semantic-conventions, opentelemetry-proto, importlib-metadata, httptools, chroma-hnswlib, bcrypt, asgiref, watchfiles, starlette, posthog, opentelemetry-exporter-otlp-proto-common, opentelemetry-api, opentelemetry-sdk, opentelemetry-instrumentation, kubernetes, fastapi, opentelemetry-instrumentation-asgi, opentelemetry-exporter-otlp-proto-grpc, opentelemetry-instrumentation-fastapi, chromadb\n",
            "  Attempting uninstall: importlib-metadata\n",
            "    Found existing installation: importlib-metadata 7.0.1\n",
            "    Uninstalling importlib-metadata-7.0.1:\n",
            "      Successfully uninstalled importlib-metadata-7.0.1\n",
            "Successfully installed asgiref-3.7.2 bcrypt-4.1.2 chroma-hnswlib-0.7.3 chromadb-0.4.23 fastapi-0.109.2 httptools-0.6.1 importlib-metadata-6.11.0 kubernetes-29.0.0 mmh3-4.1.0 monotonic-1.6 opentelemetry-api-1.22.0 opentelemetry-exporter-otlp-proto-common-1.22.0 opentelemetry-exporter-otlp-proto-grpc-1.22.0 opentelemetry-instrumentation-0.43b0 opentelemetry-instrumentation-asgi-0.43b0 opentelemetry-instrumentation-fastapi-0.43b0 opentelemetry-proto-1.22.0 opentelemetry-sdk-1.22.0 opentelemetry-semantic-conventions-0.43b0 opentelemetry-util-http-0.43b0 orjson-3.9.14 overrides-7.7.0 posthog-3.4.2 pulsar-client-3.4.0 pypika-0.48.9 python-dotenv-1.0.1 starlette-0.36.3 uvicorn-0.27.1 uvloop-0.19.0 watchfiles-0.21.0 websockets-12.0\n"
          ]
        }
      ],
      "source": [
        "!pip install \"unstructured[all-docs]\"\n",
        "!pip install \"unstructured[openai]\"\n",
        "!pip install langchain\n",
        "!pip install chromadb"
      ]
    },
    {
      "cell_type": "markdown",
      "source": [
        "# Unstructured API - Key Features:\n",
        "\n",
        "1. Precise Document Extraction: Unstructured offers advanced capabilities in extracting elements and metadata from documents. This includes a variety of document element types and metadata.\n",
        "\n",
        "2. Extensive File Support: The platform supports a wide array of file types, ensuring versatility in handling different document formats from PDF, Images, HTML, and many more.\n",
        "\n",
        "https://unstructured-io.github.io/unstructured/introduction.html\n"
      ],
      "metadata": {
        "id": "Va6p61_0uonO"
      }
    },
    {
      "cell_type": "markdown",
      "source": [
        "# The Unstructured Core API consists of the following components:\n",
        "\n",
        "1. Partitioning: The partitioning functions in Unstructured enable the extraction of structured content from raw, unstructured documents. Partitioning functions in unstructured allow users to extract structured content from a raw unstructured document. These functions break a document down into elements such as Title, NarrativeText, and ListItem, enabling users to decide what content they’d like to keep for their particular application. If you’re training a summarization model, for example, you may only be interested in NarrativeText.\n",
        "\n",
        "2. Cleaning: Data preparation for NLP models often requires cleaning to ensure quality. The Unstructured library includes cleaning functions that assist in sanitizing output, removing unwanted content, and improving the performance of NLP models. This step is essential for maintaining the integrity of data before it is passed to downstream applications.\n",
        "\n",
        "3. Extracting: This functionality allows for the extraction of specific entities within documents. It is designed to identify and isolate relevant pieces of information, making it easier for users to focus on the most pertinent data in their documents.\n",
        "\n",
        "4. Staging: Staging functions help prepare your data for ingestion into downstream systems. Please note that this functionality is being deprecated in favor of Destination Connectors.\n",
        "\n",
        "5. Chunking: The chunking process in Unstructured is distinct from conventional methods. Instead of relying solely on text-based features to form chunks, Unstructured uses a deep understanding of document formats to partition documents into semantic units (document elements).\n",
        "\n",
        "6. Embedding: The embedding encoder classes in Unstructured leverage document elements detected through partitioning or grouped via chunking to obtain embeddings for each element. This is particularly useful for applications like Retrieval Augmented Generation (RAG), where precise and contextually relevant embeddings are crucial."
      ],
      "metadata": {
        "id": "L77CdkqattGG"
      }
    },
    {
      "cell_type": "markdown",
      "source": [
        "##PDF - Extraction\n",
        "https://unstructured-io.github.io/unstructured/core/partition.html\n"
      ],
      "metadata": {
        "id": "C6PGw-2BtXTl"
      }
    },
    {
      "cell_type": "code",
      "source": [
        "from unstructured.partition.auto import partition\n",
        "\n",
        "link = 'https://github.com/Unstructured-IO/unstructured/blob/main/example-docs/layout-parser-paper-fast.pdf'\n",
        "\n",
        "url = 'https://raw.githubusercontent.com/Unstructured-IO/unstructured/main/example-docs/layout-parser-paper-fast.pdf'\n",
        "\n",
        "# Use if loading from  a url\n",
        "elements = partition(url=url)\n",
        "\n",
        "# Use if loading from a local file\n",
        "#elements = partition(\"/content/example-docs/layout-parser-paper-fast.pdf\")\n",
        "\n",
        "elements"
      ],
      "metadata": {
        "colab": {
          "base_uri": "https://localhost:8080/"
        },
        "id": "i9dQ4GomgyiE",
        "outputId": "f619ae10-42de-48e8-daa6-ad9c33a09c86"
      },
      "execution_count": 3,
      "outputs": [
        {
          "output_type": "stream",
          "name": "stderr",
          "text": [
            "[nltk_data] Downloading package punkt to /root/nltk_data...\n",
            "[nltk_data]   Unzipping tokenizers/punkt.zip.\n",
            "[nltk_data] Downloading package averaged_perceptron_tagger to\n",
            "[nltk_data]     /root/nltk_data...\n",
            "[nltk_data]   Unzipping taggers/averaged_perceptron_tagger.zip.\n"
          ]
        },
        {
          "output_type": "execute_result",
          "data": {
            "text/plain": [
              "[<unstructured.documents.elements.Text at 0x7ae6067ba560>,\n",
              " <unstructured.documents.elements.Title at 0x7ae6070ca5f0>,\n",
              " <unstructured.documents.elements.Text at 0x7ae6067bb610>,\n",
              " <unstructured.documents.elements.Text at 0x7ae6067bb790>,\n",
              " <unstructured.documents.elements.Title at 0x7ae6067bb970>,\n",
              " <unstructured.documents.elements.Text at 0x7ae6067bb5e0>,\n",
              " <unstructured.documents.elements.Title at 0x7ae6067bb700>,\n",
              " <unstructured.documents.elements.Text at 0x7ae6067bbc10>,\n",
              " <unstructured.documents.elements.Text at 0x7ae6067bbc40>,\n",
              " <unstructured.documents.elements.NarrativeText at 0x7ae6067bbe50>,\n",
              " <unstructured.documents.elements.Text at 0x7ae6067bbaf0>,\n",
              " <unstructured.documents.elements.Text at 0x7ae6067bbf70>,\n",
              " <unstructured.documents.elements.Title at 0x7ae6067bbe20>,\n",
              " <unstructured.documents.elements.NarrativeText at 0x7ae606638640>,\n",
              " <unstructured.documents.elements.Text at 0x7ae60679c670>,\n",
              " <unstructured.documents.elements.NarrativeText at 0x7ae60679c790>,\n",
              " <unstructured.documents.elements.NarrativeText at 0x7ae60679c9d0>,\n",
              " <unstructured.documents.elements.NarrativeText at 0x7ae60679cac0>,\n",
              " <unstructured.documents.elements.NarrativeText at 0x7ae60679cc40>,\n",
              " <unstructured.documents.elements.ListItem at 0x7ae60679c760>,\n",
              " <unstructured.documents.elements.ListItem at 0x7ae60679ceb0>,\n",
              " <unstructured.documents.elements.ListItem at 0x7ae60679d120>,\n",
              " <unstructured.documents.elements.ListItem at 0x7ae60679d2d0>,\n",
              " <unstructured.documents.elements.NarrativeText at 0x7ae60679d540>,\n",
              " <unstructured.documents.elements.NarrativeText at 0x7ae60679d660>]"
            ]
          },
          "metadata": {},
          "execution_count": 3
        }
      ]
    },
    {
      "cell_type": "code",
      "source": [
        "from collections import Counter\n",
        "\n",
        "display(Counter(type(element) for element in elements))\n",
        "print(\"\")"
      ],
      "metadata": {
        "colab": {
          "base_uri": "https://localhost:8080/",
          "height": 104
        },
        "id": "ScLyWILRov-g",
        "outputId": "c2ae8e8c-adcc-4c70-8ecf-26ea32cf3ba8"
      },
      "execution_count": 4,
      "outputs": [
        {
          "output_type": "display_data",
          "data": {
            "text/plain": [
              "Counter({unstructured.documents.elements.Text: 9,\n",
              "         unstructured.documents.elements.Title: 4,\n",
              "         unstructured.documents.elements.NarrativeText: 8,\n",
              "         unstructured.documents.elements.ListItem: 4})"
            ]
          },
          "metadata": {}
        },
        {
          "output_type": "stream",
          "name": "stdout",
          "text": [
            "\n"
          ]
        }
      ]
    },
    {
      "cell_type": "code",
      "source": [
        "display(*[(type(element), element.text) for element in elements])"
      ],
      "metadata": {
        "colab": {
          "base_uri": "https://localhost:8080/",
          "height": 1000
        },
        "id": "Fv2Kge-RpNfP",
        "outputId": "ed62a5ff-6539-42df-d491-c6e622329045"
      },
      "execution_count": 5,
      "outputs": [
        {
          "output_type": "display_data",
          "data": {
            "text/plain": [
              "(unstructured.documents.elements.Text, '1 2 0 2')"
            ]
          },
          "metadata": {}
        },
        {
          "output_type": "display_data",
          "data": {
            "text/plain": [
              "(unstructured.documents.elements.Title, 'n u J')"
            ]
          },
          "metadata": {}
        },
        {
          "output_type": "display_data",
          "data": {
            "text/plain": [
              "(unstructured.documents.elements.Text, '1 2')"
            ]
          },
          "metadata": {}
        },
        {
          "output_type": "display_data",
          "data": {
            "text/plain": [
              "(unstructured.documents.elements.Text, ']')"
            ]
          },
          "metadata": {}
        },
        {
          "output_type": "display_data",
          "data": {
            "text/plain": [
              "(unstructured.documents.elements.Title, 'V C . s c [')"
            ]
          },
          "metadata": {}
        },
        {
          "output_type": "display_data",
          "data": {
            "text/plain": [
              "(unstructured.documents.elements.Text, '2 v 8 4 3 5 1 . 3 0 1 2 : v i X r a')"
            ]
          },
          "metadata": {}
        },
        {
          "output_type": "display_data",
          "data": {
            "text/plain": [
              "(unstructured.documents.elements.Title,\n",
              " 'LayoutParser: A Uniﬁed Toolkit for Deep Learning Based Document Image Analysis')"
            ]
          },
          "metadata": {}
        },
        {
          "output_type": "display_data",
          "data": {
            "text/plain": [
              "(unstructured.documents.elements.Text,\n",
              " 'Zejiang Shen1 ((cid:0)), Ruochen Zhang2, Melissa Dell3, Benjamin Charles Germain Lee4, Jacob Carlson3, and Weining Li5')"
            ]
          },
          "metadata": {}
        },
        {
          "output_type": "display_data",
          "data": {
            "text/plain": [
              "(unstructured.documents.elements.Text,\n",
              " '1 Allen Institute for AI shannons@allenai.org 2 Brown University ruochen zhang@brown.edu 3 Harvard University {melissadell,jacob carlson}@fas.harvard.edu 4 University of Washington bcgl@cs.washington.edu 5 University of Waterloo w422li@uwaterloo.ca')"
            ]
          },
          "metadata": {}
        },
        {
          "output_type": "display_data",
          "data": {
            "text/plain": [
              "(unstructured.documents.elements.NarrativeText,\n",
              " 'Abstract. Recent advances in document image analysis (DIA) have been primarily driven by the application of neural networks. Ideally, research outcomes could be easily deployed in production and extended for further investigation. However, various factors like loosely organized codebases and sophisticated model conﬁgurations complicate the easy reuse of im- portant innovations by a wide audience. Though there have been on-going eﬀorts to improve reusability and simplify deep learning (DL) model development in disciplines like natural language processing and computer vision, none of them are optimized for challenges in the domain of DIA. This represents a major gap in the existing toolkit, as DIA is central to academic research across a wide range of disciplines in the social sciences and humanities. This paper introduces LayoutParser, an open-source library for streamlining the usage of DL in DIA research and applica- tions. The core LayoutParser library comes with a set of simple and intuitive interfaces for applying and customizing DL models for layout de- tection, character recognition, and many other document processing tasks. To promote extensibility, LayoutParser also incorporates a community platform for sharing both pre-trained models and full document digiti- zation pipelines. We demonstrate that LayoutParser is helpful for both lightweight and large-scale digitization pipelines in real-word use cases. The library is publicly available at https://layout-parser.github.io.')"
            ]
          },
          "metadata": {}
        },
        {
          "output_type": "display_data",
          "data": {
            "text/plain": [
              "(unstructured.documents.elements.Text,\n",
              " 'Keywords: Document Image Analysis · Deep Learning · Layout Analysis · Character Recognition · Open Source library · Toolkit.')"
            ]
          },
          "metadata": {}
        },
        {
          "output_type": "display_data",
          "data": {
            "text/plain": [
              "(unstructured.documents.elements.Text, '1')"
            ]
          },
          "metadata": {}
        },
        {
          "output_type": "display_data",
          "data": {
            "text/plain": [
              "(unstructured.documents.elements.Title, 'Introduction')"
            ]
          },
          "metadata": {}
        },
        {
          "output_type": "display_data",
          "data": {
            "text/plain": [
              "(unstructured.documents.elements.NarrativeText,\n",
              " 'Deep Learning(DL)-based approaches are the state-of-the-art for a wide range of document image analysis (DIA) tasks including document image classiﬁcation [11,')"
            ]
          },
          "metadata": {}
        },
        {
          "output_type": "display_data",
          "data": {
            "text/plain": [
              "(unstructured.documents.elements.Text, '2')"
            ]
          },
          "metadata": {}
        },
        {
          "output_type": "display_data",
          "data": {
            "text/plain": [
              "(unstructured.documents.elements.NarrativeText, 'Z. Shen et al.')"
            ]
          },
          "metadata": {}
        },
        {
          "output_type": "display_data",
          "data": {
            "text/plain": [
              "(unstructured.documents.elements.NarrativeText,\n",
              " '37], layout detection [38, 22], table detection [26], and scene text detection [4]. A generalized learning-based framework dramatically reduces the need for the manual speciﬁcation of complicated rules, which is the status quo with traditional methods. DL has the potential to transform DIA pipelines and beneﬁt a broad spectrum of large-scale document digitization projects.')"
            ]
          },
          "metadata": {}
        },
        {
          "output_type": "display_data",
          "data": {
            "text/plain": [
              "(unstructured.documents.elements.NarrativeText,\n",
              " 'However, there are several practical diﬃculties for taking advantages of re- cent advances in DL-based methods: 1) DL models are notoriously convoluted for reuse and extension. Existing models are developed using distinct frame- works like TensorFlow [1] or PyTorch [24], and the high-level parameters can be obfuscated by implementation details [8]. It can be a time-consuming and frustrating experience to debug, reproduce, and adapt existing models for DIA, and many researchers who would beneﬁt the most from using these methods lack the technical background to implement them from scratch. 2) Document images contain diverse and disparate patterns across domains, and customized training is often required to achieve a desirable detection accuracy. Currently there is no full-ﬂedged infrastructure for easily curating the target document image datasets and ﬁne-tuning or re-training the models. 3) DIA usually requires a sequence of models and other processing to obtain the ﬁnal outputs. Often research teams use DL models and then perform further document analyses in separate processes, and these pipelines are not documented in any central location (and often not documented at all). This makes it diﬃcult for research teams to learn about how full pipelines are implemented and leads them to invest signiﬁcant resources in reinventing the DIA wheel.')"
            ]
          },
          "metadata": {}
        },
        {
          "output_type": "display_data",
          "data": {
            "text/plain": [
              "(unstructured.documents.elements.NarrativeText,\n",
              " 'LayoutParser provides a uniﬁed toolkit to support DL-based document image analysis and processing. To address the aforementioned challenges, LayoutParser is built with the following components:')"
            ]
          },
          "metadata": {}
        },
        {
          "output_type": "display_data",
          "data": {
            "text/plain": [
              "(unstructured.documents.elements.ListItem,\n",
              " '1. An oﬀ-the-shelf toolkit for applying DL models for layout detection, character recognition, and other DIA tasks (Section 3)')"
            ]
          },
          "metadata": {}
        },
        {
          "output_type": "display_data",
          "data": {
            "text/plain": [
              "(unstructured.documents.elements.ListItem,\n",
              " '2. A rich repository of pre-trained neural network models (Model Zoo) that underlies the oﬀ-the-shelf usage')"
            ]
          },
          "metadata": {}
        },
        {
          "output_type": "display_data",
          "data": {
            "text/plain": [
              "(unstructured.documents.elements.ListItem,\n",
              " '3. Comprehensive tools for eﬃcient document image data annotation and model tuning to support diﬀerent levels of customization')"
            ]
          },
          "metadata": {}
        },
        {
          "output_type": "display_data",
          "data": {
            "text/plain": [
              "(unstructured.documents.elements.ListItem,\n",
              " '4. A DL model hub and community platform for the easy sharing, distribu- tion, and discussion of DIA models and pipelines, to promote reusability, reproducibility, and extensibility (Section 4)')"
            ]
          },
          "metadata": {}
        },
        {
          "output_type": "display_data",
          "data": {
            "text/plain": [
              "(unstructured.documents.elements.NarrativeText,\n",
              " 'The library implements simple and intuitive Python APIs without sacriﬁcing generalizability and versatility, and can be easily installed via pip. Its convenient functions for handling document image data can be seamlessly integrated with existing DIA pipelines. With detailed documentations and carefully curated tutorials, we hope this tool will beneﬁt a variety of end-users, and will lead to advances in applications in both industry and academic research.')"
            ]
          },
          "metadata": {}
        },
        {
          "output_type": "display_data",
          "data": {
            "text/plain": [
              "(unstructured.documents.elements.NarrativeText,\n",
              " 'LayoutParser is well aligned with recent eﬀorts for improving DL model reusability in other disciplines like natural language processing [8, 34] and com- puter vision [35], but with a focus on unique challenges in DIA. We show LayoutParser can be applied in sophisticated and large-scale digitization projects')"
            ]
          },
          "metadata": {}
        }
      ]
    },
    {
      "cell_type": "markdown",
      "source": [
        "##HTML - Extraction"
      ],
      "metadata": {
        "id": "p-yqUZxvs5vw"
      }
    },
    {
      "cell_type": "code",
      "source": [
        "url = 'https://www.businessinsider.com/navalny-death-letters-trump-second-term-agenda-really-scary-2024-2'\n",
        "\n",
        "from unstructured.partition.auto import partition\n",
        "elements = partition(url=url, strategy='hi_res', html_assemble_articles=True,\n",
        "                     chunking_strategy=\"by-title\", multipage_sections=True)\n",
        "elements"
      ],
      "metadata": {
        "colab": {
          "base_uri": "https://localhost:8080/"
        },
        "id": "rhC2I8asp9D_",
        "outputId": "e04bb690-97e3-4752-ac97-011eb22f09b8"
      },
      "execution_count": 6,
      "outputs": [
        {
          "output_type": "execute_result",
          "data": {
            "text/plain": [
              "[<unstructured.documents.html.HTMLTitle at 0x7ae604165a50>,\n",
              " <unstructured.documents.html.HTMLTitle at 0x7ae6041660e0>,\n",
              " <unstructured.documents.html.HTMLTitle at 0x7ae604165b10>,\n",
              " <unstructured.documents.html.HTMLText at 0x7ae604165de0>,\n",
              " <unstructured.documents.html.HTMLTitle at 0x7ae604164910>,\n",
              " <unstructured.documents.html.HTMLText at 0x7ae604165d50>,\n",
              " <unstructured.documents.html.HTMLNarrativeText at 0x7ae604165810>,\n",
              " <unstructured.documents.html.HTMLNarrativeText at 0x7ae604165d80>,\n",
              " <unstructured.documents.html.HTMLText at 0x7ae604164c70>,\n",
              " <unstructured.documents.html.HTMLNarrativeText at 0x7ae604165a20>,\n",
              " <unstructured.documents.html.HTMLTitle at 0x7ae604165ea0>,\n",
              " <unstructured.documents.html.HTMLNarrativeText at 0x7ae604164250>,\n",
              " <unstructured.documents.html.HTMLNarrativeText at 0x7ae604165840>,\n",
              " <unstructured.documents.html.HTMLListItem at 0x7ae604165960>,\n",
              " <unstructured.documents.html.HTMLListItem at 0x7ae604165870>,\n",
              " <unstructured.documents.html.HTMLListItem at 0x7ae6041660b0>,\n",
              " <unstructured.documents.html.HTMLTitle at 0x7ae604166230>,\n",
              " <unstructured.documents.html.HTMLNarrativeText at 0x7ae604166410>,\n",
              " <unstructured.documents.html.HTMLTitle at 0x7ae604165ab0>,\n",
              " <unstructured.documents.html.HTMLNarrativeText at 0x7ae604165f00>,\n",
              " <unstructured.documents.html.HTMLNarrativeText at 0x7ae6041665c0>,\n",
              " <unstructured.documents.html.HTMLNarrativeText at 0x7ae604166590>,\n",
              " <unstructured.documents.html.HTMLTitle at 0x7ae6041666b0>,\n",
              " <unstructured.documents.html.HTMLNarrativeText at 0x7ae604166740>,\n",
              " <unstructured.documents.html.HTMLTitle at 0x7ae604166830>,\n",
              " <unstructured.documents.html.HTMLNarrativeText at 0x7ae604166800>,\n",
              " <unstructured.documents.html.HTMLNarrativeText at 0x7ae604166890>,\n",
              " <unstructured.documents.html.HTMLNarrativeText at 0x7ae6041668f0>,\n",
              " <unstructured.documents.html.HTMLNarrativeText at 0x7ae604166980>,\n",
              " <unstructured.documents.html.HTMLTitle at 0x7ae6041667a0>,\n",
              " <unstructured.documents.html.HTMLNarrativeText at 0x7ae604166020>,\n",
              " <unstructured.documents.html.HTMLNarrativeText at 0x7ae604164cd0>,\n",
              " <unstructured.documents.html.HTMLNarrativeText at 0x7ae604166c20>,\n",
              " <unstructured.documents.html.HTMLNarrativeText at 0x7ae604166a10>,\n",
              " <unstructured.documents.html.HTMLTitle at 0x7ae6041668c0>,\n",
              " <unstructured.documents.html.HTMLNarrativeText at 0x7ae604166d70>,\n",
              " <unstructured.documents.html.HTMLNarrativeText at 0x7ae604166d40>,\n",
              " <unstructured.documents.html.HTMLNarrativeText at 0x7ae604166d10>,\n",
              " <unstructured.documents.html.HTMLNarrativeText at 0x7ae604166ec0>,\n",
              " <unstructured.documents.html.HTMLTitle at 0x7ae604166e90>,\n",
              " <unstructured.documents.html.HTMLNarrativeText at 0x7ae604166ef0>,\n",
              " <unstructured.documents.html.HTMLNarrativeText at 0x7ae604166fe0>,\n",
              " <unstructured.documents.html.HTMLNarrativeText at 0x7ae604166f80>,\n",
              " <unstructured.documents.html.HTMLTitle at 0x7ae604167010>,\n",
              " <unstructured.documents.html.HTMLTitle at 0x7ae6041670a0>,\n",
              " <unstructured.documents.html.HTMLTitle at 0x7ae604167190>,\n",
              " <unstructured.documents.html.HTMLTitle at 0x7ae604167220>,\n",
              " <unstructured.documents.html.HTMLTitle at 0x7ae604166f50>]"
            ]
          },
          "metadata": {},
          "execution_count": 6
        }
      ]
    },
    {
      "cell_type": "code",
      "source": [
        "from collections import Counter\n",
        "\n",
        "display(Counter(type(element) for element in elements))\n",
        "print(\"\")"
      ],
      "metadata": {
        "colab": {
          "base_uri": "https://localhost:8080/",
          "height": 104
        },
        "id": "vZO3mLI_qted",
        "outputId": "2051dbbd-bbb3-4e36-9434-4191f901d6ed"
      },
      "execution_count": 7,
      "outputs": [
        {
          "output_type": "display_data",
          "data": {
            "text/plain": [
              "Counter({unstructured.documents.html.HTMLTitle: 17,\n",
              "         unstructured.documents.html.HTMLText: 3,\n",
              "         unstructured.documents.html.HTMLNarrativeText: 25,\n",
              "         unstructured.documents.html.HTMLListItem: 3})"
            ]
          },
          "metadata": {}
        },
        {
          "output_type": "stream",
          "name": "stdout",
          "text": [
            "\n"
          ]
        }
      ]
    },
    {
      "cell_type": "code",
      "source": [
        "display(*[(type(element), element.text) for element in elements])"
      ],
      "metadata": {
        "colab": {
          "base_uri": "https://localhost:8080/",
          "height": 1000
        },
        "id": "cxqE342JBYjn",
        "outputId": "27a67563-1d06-406d-8473-2fd1f967f004"
      },
      "execution_count": 8,
      "outputs": [
        {
          "output_type": "display_data",
          "data": {
            "text/plain": [
              "(unstructured.documents.html.HTMLTitle, 'Military & Defense')"
            ]
          },
          "metadata": {}
        },
        {
          "output_type": "display_data",
          "data": {
            "text/plain": [
              "(unstructured.documents.html.HTMLTitle,\n",
              " \"In Navalny's last letters, the Russian dissident called Trump's agenda for a second term 'really scary'\")"
            ]
          },
          "metadata": {}
        },
        {
          "output_type": "display_data",
          "data": {
            "text/plain": [
              "(unstructured.documents.html.HTMLTitle, 'Kelsey Vlamis')"
            ]
          },
          "metadata": {}
        },
        {
          "output_type": "display_data",
          "data": {
            "text/plain": [
              "(unstructured.documents.html.HTMLText, '2024-02-20T01:55:04Z')"
            ]
          },
          "metadata": {}
        },
        {
          "output_type": "display_data",
          "data": {
            "text/plain": [
              "(unstructured.documents.html.HTMLTitle, 'Share')"
            ]
          },
          "metadata": {}
        },
        {
          "output_type": "display_data",
          "data": {
            "text/plain": [
              "(unstructured.documents.html.HTMLText,\n",
              " 'Facebook Icon\\n                                            The letter F.\\n                                          \\n                                            \\n                                          \\n                                            Facebook')"
            ]
          },
          "metadata": {}
        },
        {
          "output_type": "display_data",
          "data": {
            "text/plain": [
              "(unstructured.documents.html.HTMLNarrativeText,\n",
              " 'Email icon\\n                                            An envelope. It indicates the ability to send an email.\\n                                          \\n                                            \\n                                          \\n                                            Email')"
            ]
          },
          "metadata": {}
        },
        {
          "output_type": "display_data",
          "data": {
            "text/plain": [
              "(unstructured.documents.html.HTMLNarrativeText,\n",
              " 'Twitter icon\\n                                            A stylized bird with an open mouth, tweeting.\\n                                          \\n                                            \\n                                          \\n                                            Twitter')"
            ]
          },
          "metadata": {}
        },
        {
          "output_type": "display_data",
          "data": {
            "text/plain": [
              "(unstructured.documents.html.HTMLText,\n",
              " 'LinkedIn icon\\n                                          \\n                                            \\n                                          \\n                                            LinkedIn')"
            ]
          },
          "metadata": {}
        },
        {
          "output_type": "display_data",
          "data": {
            "text/plain": [
              "(unstructured.documents.html.HTMLNarrativeText,\n",
              " 'Link icon\\n                                            An image of a chain link. It symobilizes a website link url.\\n                                          \\n                                            \\n                                          \\n                                            Copy Link')"
            ]
          },
          "metadata": {}
        },
        {
          "output_type": "display_data",
          "data": {
            "text/plain": [
              "(unstructured.documents.html.HTMLTitle, 'Save')"
            ]
          },
          "metadata": {}
        },
        {
          "output_type": "display_data",
          "data": {
            "text/plain": [
              "(unstructured.documents.html.HTMLNarrativeText, 'Read in app')"
            ]
          },
          "metadata": {}
        },
        {
          "output_type": "display_data",
          "data": {
            "text/plain": [
              "(unstructured.documents.html.HTMLNarrativeText,\n",
              " 'Angle down icon\\n                                      An icon in the shape of an angle pointing down.\\n                                      \\n                                              \\n                              \\n                              \\n                                The Russian opposition leader Alexey Navalny attending an opposition march in memory of the murdered Kremlin critic Boris Nemtsov in central Moscow.\\n                              \\n                        \\n                                \\n                                  VASILY MAXIMOV/AFP/Getty Images')"
            ]
          },
          "metadata": {}
        },
        {
          "output_type": "display_data",
          "data": {
            "text/plain": [
              "(unstructured.documents.html.HTMLListItem,\n",
              " \"Alexey Navalny, Vladimir Putin's most prominent critic, commented on US politics months before his death.\")"
            ]
          },
          "metadata": {}
        },
        {
          "output_type": "display_data",
          "data": {
            "text/plain": [
              "(unstructured.documents.html.HTMLListItem,\n",
              " 'Navalny expressed concern\\xa0in letters to a friend over a potential second term for Donald Trump.')"
            ]
          },
          "metadata": {}
        },
        {
          "output_type": "display_data",
          "data": {
            "text/plain": [
              "(unstructured.documents.html.HTMLListItem,\n",
              " \"Trump briefly mentioned Navalny's death in a Truth Social post on Monday.\")"
            ]
          },
          "metadata": {}
        },
        {
          "output_type": "display_data",
          "data": {
            "text/plain": [
              "(unstructured.documents.html.HTMLTitle, 'NEW LOOK')"
            ]
          },
          "metadata": {}
        },
        {
          "output_type": "display_data",
          "data": {
            "text/plain": [
              "(unstructured.documents.html.HTMLNarrativeText,\n",
              " '\\n                                    Sign up to get the inside scoop on today’s biggest stories in markets, tech, and business — delivered daily. ')"
            ]
          },
          "metadata": {}
        },
        {
          "output_type": "display_data",
          "data": {
            "text/plain": [
              "(unstructured.documents.html.HTMLTitle, 'Read preview')"
            ]
          },
          "metadata": {}
        },
        {
          "output_type": "display_data",
          "data": {
            "text/plain": [
              "(unstructured.documents.html.HTMLNarrativeText, 'Thanks for signing up!')"
            ]
          },
          "metadata": {}
        },
        {
          "output_type": "display_data",
          "data": {
            "text/plain": [
              "(unstructured.documents.html.HTMLNarrativeText,\n",
              " \"\\n                              Access your favorite topics in a personalized feed while you're on the go.\\n                              \")"
            ]
          },
          "metadata": {}
        },
        {
          "output_type": "display_data",
          "data": {
            "text/plain": [
              "(unstructured.documents.html.HTMLNarrativeText,\n",
              " '\\n                                  By clicking “Sign Up”, you accept our ')"
            ]
          },
          "metadata": {}
        },
        {
          "output_type": "display_data",
          "data": {
            "text/plain": [
              "(unstructured.documents.html.HTMLTitle, 'Terms of Service and')"
            ]
          },
          "metadata": {}
        },
        {
          "output_type": "display_data",
          "data": {
            "text/plain": [
              "(unstructured.documents.html.HTMLNarrativeText,\n",
              " 'Privacy Policy. You can opt-out at any time.')"
            ]
          },
          "metadata": {}
        },
        {
          "output_type": "display_data",
          "data": {
            "text/plain": [
              "(unstructured.documents.html.HTMLTitle, 'Advertisement')"
            ]
          },
          "metadata": {}
        },
        {
          "output_type": "display_data",
          "data": {
            "text/plain": [
              "(unstructured.documents.html.HTMLNarrativeText,\n",
              " 'Alexey Navalny, a dissident and the political nemesis of Russian President Vladimir Putin, spent the past few years of his life behind bars but still managed to stay connected to the outside world.')"
            ]
          },
          "metadata": {}
        },
        {
          "output_type": "display_data",
          "data": {
            "text/plain": [
              "(unstructured.documents.html.HTMLNarrativeText,\n",
              " \"Letters from the final months of his life, obtained by The New York Times, show that Navalny, who'd been imprisoned since January 2021, managed to stay on top of current events — including in the US.\")"
            ]
          },
          "metadata": {}
        },
        {
          "output_type": "display_data",
          "data": {
            "text/plain": [
              "(unstructured.documents.html.HTMLNarrativeText,\n",
              " 'In a letter sent to a friend, a photographer named Evgeny Feldman, Navalny said former President Donald Trump\\'s agenda for a second term was \"really scary,\" according to the Times.')"
            ]
          },
          "metadata": {}
        },
        {
          "output_type": "display_data",
          "data": {
            "text/plain": [
              "(unstructured.documents.html.HTMLNarrativeText,\n",
              " 'He said if President Joe Biden were to have a health issue, \"Trump will become president,\" adding: \"Doesn\\'t this obvious thing concern the Democrats?\"')"
            ]
          },
          "metadata": {}
        },
        {
          "output_type": "display_data",
          "data": {
            "text/plain": [
              "(unstructured.documents.html.HTMLTitle, 'Advertisement')"
            ]
          },
          "metadata": {}
        },
        {
          "output_type": "display_data",
          "data": {
            "text/plain": [
              "(unstructured.documents.html.HTMLNarrativeText,\n",
              " 'In another letter to Feldman dated December 3, Navalny again expressed concern over Trump and asked his friend, \"Please name one current politician you admire.\"')"
            ]
          },
          "metadata": {}
        },
        {
          "output_type": "display_data",
          "data": {
            "text/plain": [
              "(unstructured.documents.html.HTMLNarrativeText,\n",
              " \"Trump's office didn't immediately respond to a request for comment from Business Insider.\")"
            ]
          },
          "metadata": {}
        },
        {
          "output_type": "display_data",
          "data": {
            "text/plain": [
              "(unstructured.documents.html.HTMLNarrativeText,\n",
              " 'On December 6, Navalny disappeared from the IK-6 penal colony about 120 miles east of Moscow. He turned up again on Christmas Day when his lawyers announced they had located him at the IK-3 penal colony, about 1,000 miles northeast of Moscow, above the Arctic Circle.')"
            ]
          },
          "metadata": {}
        },
        {
          "output_type": "display_data",
          "data": {
            "text/plain": [
              "(unstructured.documents.html.HTMLNarrativeText,\n",
              " \"The Times reported that Navalny's communication ability from his new prison was greatly diminished.\")"
            ]
          },
          "metadata": {}
        },
        {
          "output_type": "display_data",
          "data": {
            "text/plain": [
              "(unstructured.documents.html.HTMLTitle, 'Advertisement')"
            ]
          },
          "metadata": {}
        },
        {
          "output_type": "display_data",
          "data": {
            "text/plain": [
              "(unstructured.documents.html.HTMLNarrativeText,\n",
              " \"The journalist Sergei Parkhomenko said he received a letter from Navalny on February 13, a few days before Navalny's death was announced. In the letter, which Parkhomenko shared on Facebook, Navalny spoke of books and said he only had access to classics at his new prison.\")"
            ]
          },
          "metadata": {}
        },
        {
          "output_type": "display_data",
          "data": {
            "text/plain": [
              "(unstructured.documents.html.HTMLNarrativeText,\n",
              " '\"Who could\\'ve told me that Chekhov is the most depressing Russian writer?\" he wrote.')"
            ]
          },
          "metadata": {}
        },
        {
          "output_type": "display_data",
          "data": {
            "text/plain": [
              "(unstructured.documents.html.HTMLNarrativeText,\n",
              " \"Trump, for his part, didn't mention Navalny in the days after his death, despite condemnations from other leaders who directly blamed Putin.\")"
            ]
          },
          "metadata": {}
        },
        {
          "output_type": "display_data",
          "data": {
            "text/plain": [
              "(unstructured.documents.html.HTMLNarrativeText,\n",
              " 'In a Truth Social post on Monday, Trump briefly mentioned Navalny before directing his ire at his own perceived political opponents: \"The sudden death of Alexei Navalny has made me more and more aware of what is happening in our Country. It is a slow, steady progression, with CROOKED, Radical Left Politicians, Prosecutors, and Judges leading us down a path to destruction.\"')"
            ]
          },
          "metadata": {}
        },
        {
          "output_type": "display_data",
          "data": {
            "text/plain": [
              "(unstructured.documents.html.HTMLTitle, 'Advertisement')"
            ]
          },
          "metadata": {}
        },
        {
          "output_type": "display_data",
          "data": {
            "text/plain": [
              "(unstructured.documents.html.HTMLNarrativeText,\n",
              " 'He mentioned neither Russia nor Putin.')"
            ]
          },
          "metadata": {}
        },
        {
          "output_type": "display_data",
          "data": {
            "text/plain": [
              "(unstructured.documents.html.HTMLNarrativeText,\n",
              " 'Sign up for notifications from Insider! Stay up to date with what you want to know.')"
            ]
          },
          "metadata": {}
        },
        {
          "output_type": "display_data",
          "data": {
            "text/plain": [
              "(unstructured.documents.html.HTMLNarrativeText,\n",
              " 'Subscribe to push notifications')"
            ]
          },
          "metadata": {}
        },
        {
          "output_type": "display_data",
          "data": {
            "text/plain": [
              "(unstructured.documents.html.HTMLTitle, 'Read next')"
            ]
          },
          "metadata": {}
        },
        {
          "output_type": "display_data",
          "data": {
            "text/plain": [
              "(unstructured.documents.html.HTMLTitle,\n",
              " \"Watch: Here's what to know about Russian opposition leader Alexei Navalny —Putin’s biggest critic\")"
            ]
          },
          "metadata": {}
        },
        {
          "output_type": "display_data",
          "data": {
            "text/plain": [
              "(unstructured.documents.html.HTMLTitle, 'Donald Trump')"
            ]
          },
          "metadata": {}
        },
        {
          "output_type": "display_data",
          "data": {
            "text/plain": [
              "(unstructured.documents.html.HTMLTitle, 'Russia')"
            ]
          },
          "metadata": {}
        },
        {
          "output_type": "display_data",
          "data": {
            "text/plain": [
              "(unstructured.documents.html.HTMLTitle, 'Advertisement')"
            ]
          },
          "metadata": {}
        }
      ]
    },
    {
      "cell_type": "code",
      "source": [
        "display(*[(type(element), element.text) for element in elements if str(type(element)) == \"<class 'unstructured.documents.html.HTMLListItem'>\"])"
      ],
      "metadata": {
        "id": "bYU8tuuG__XY",
        "colab": {
          "base_uri": "https://localhost:8080/",
          "height": 121
        },
        "outputId": "0cb55661-3863-4b56-d90c-96cf0827f192"
      },
      "execution_count": 9,
      "outputs": [
        {
          "output_type": "display_data",
          "data": {
            "text/plain": [
              "(unstructured.documents.html.HTMLListItem,\n",
              " \"Alexey Navalny, Vladimir Putin's most prominent critic, commented on US politics months before his death.\")"
            ]
          },
          "metadata": {}
        },
        {
          "output_type": "display_data",
          "data": {
            "text/plain": [
              "(unstructured.documents.html.HTMLListItem,\n",
              " 'Navalny expressed concern\\xa0in letters to a friend over a potential second term for Donald Trump.')"
            ]
          },
          "metadata": {}
        },
        {
          "output_type": "display_data",
          "data": {
            "text/plain": [
              "(unstructured.documents.html.HTMLListItem,\n",
              " \"Trump briefly mentioned Navalny's death in a Truth Social post on Monday.\")"
            ]
          },
          "metadata": {}
        }
      ]
    },
    {
      "cell_type": "code",
      "source": [
        "display(*[(type(element), element.text) for element in elements if str(type(element)) == \"<class 'unstructured.documents.html.HTMLText'>\"])"
      ],
      "metadata": {
        "colab": {
          "base_uri": "https://localhost:8080/",
          "height": 138
        },
        "id": "BMrl8qws-iXh",
        "outputId": "f36affcd-b0ad-4fdc-fc75-e29617074c85"
      },
      "execution_count": 10,
      "outputs": [
        {
          "output_type": "display_data",
          "data": {
            "text/plain": [
              "(unstructured.documents.html.HTMLText, '2024-02-20T01:55:04Z')"
            ]
          },
          "metadata": {}
        },
        {
          "output_type": "display_data",
          "data": {
            "text/plain": [
              "(unstructured.documents.html.HTMLText,\n",
              " 'Facebook Icon\\n                                            The letter F.\\n                                          \\n                                            \\n                                          \\n                                            Facebook')"
            ]
          },
          "metadata": {}
        },
        {
          "output_type": "display_data",
          "data": {
            "text/plain": [
              "(unstructured.documents.html.HTMLText,\n",
              " 'LinkedIn icon\\n                                          \\n                                            \\n                                          \\n                                            LinkedIn')"
            ]
          },
          "metadata": {}
        }
      ]
    },
    {
      "cell_type": "code",
      "source": [
        "display(*[(type(element), element.text) for element in elements if str(type(element)) == \"<class 'unstructured.documents.html.HTMLTitle'>\"])"
      ],
      "metadata": {
        "colab": {
          "base_uri": "https://localhost:8080/",
          "height": 347
        },
        "id": "dakhq15w_p31",
        "outputId": "38d51bfd-0315-45bf-a469-8208ee53319b"
      },
      "execution_count": 11,
      "outputs": [
        {
          "output_type": "display_data",
          "data": {
            "text/plain": [
              "(unstructured.documents.html.HTMLTitle, 'Military & Defense')"
            ]
          },
          "metadata": {}
        },
        {
          "output_type": "display_data",
          "data": {
            "text/plain": [
              "(unstructured.documents.html.HTMLTitle,\n",
              " \"In Navalny's last letters, the Russian dissident called Trump's agenda for a second term 'really scary'\")"
            ]
          },
          "metadata": {}
        },
        {
          "output_type": "display_data",
          "data": {
            "text/plain": [
              "(unstructured.documents.html.HTMLTitle, 'Kelsey Vlamis')"
            ]
          },
          "metadata": {}
        },
        {
          "output_type": "display_data",
          "data": {
            "text/plain": [
              "(unstructured.documents.html.HTMLTitle, 'Share')"
            ]
          },
          "metadata": {}
        },
        {
          "output_type": "display_data",
          "data": {
            "text/plain": [
              "(unstructured.documents.html.HTMLTitle, 'Save')"
            ]
          },
          "metadata": {}
        },
        {
          "output_type": "display_data",
          "data": {
            "text/plain": [
              "(unstructured.documents.html.HTMLTitle, 'NEW LOOK')"
            ]
          },
          "metadata": {}
        },
        {
          "output_type": "display_data",
          "data": {
            "text/plain": [
              "(unstructured.documents.html.HTMLTitle, 'Read preview')"
            ]
          },
          "metadata": {}
        },
        {
          "output_type": "display_data",
          "data": {
            "text/plain": [
              "(unstructured.documents.html.HTMLTitle, 'Terms of Service and')"
            ]
          },
          "metadata": {}
        },
        {
          "output_type": "display_data",
          "data": {
            "text/plain": [
              "(unstructured.documents.html.HTMLTitle, 'Advertisement')"
            ]
          },
          "metadata": {}
        },
        {
          "output_type": "display_data",
          "data": {
            "text/plain": [
              "(unstructured.documents.html.HTMLTitle, 'Advertisement')"
            ]
          },
          "metadata": {}
        },
        {
          "output_type": "display_data",
          "data": {
            "text/plain": [
              "(unstructured.documents.html.HTMLTitle, 'Advertisement')"
            ]
          },
          "metadata": {}
        },
        {
          "output_type": "display_data",
          "data": {
            "text/plain": [
              "(unstructured.documents.html.HTMLTitle, 'Advertisement')"
            ]
          },
          "metadata": {}
        },
        {
          "output_type": "display_data",
          "data": {
            "text/plain": [
              "(unstructured.documents.html.HTMLTitle, 'Read next')"
            ]
          },
          "metadata": {}
        },
        {
          "output_type": "display_data",
          "data": {
            "text/plain": [
              "(unstructured.documents.html.HTMLTitle,\n",
              " \"Watch: Here's what to know about Russian opposition leader Alexei Navalny —Putin’s biggest critic\")"
            ]
          },
          "metadata": {}
        },
        {
          "output_type": "display_data",
          "data": {
            "text/plain": [
              "(unstructured.documents.html.HTMLTitle, 'Donald Trump')"
            ]
          },
          "metadata": {}
        },
        {
          "output_type": "display_data",
          "data": {
            "text/plain": [
              "(unstructured.documents.html.HTMLTitle, 'Russia')"
            ]
          },
          "metadata": {}
        },
        {
          "output_type": "display_data",
          "data": {
            "text/plain": [
              "(unstructured.documents.html.HTMLTitle, 'Advertisement')"
            ]
          },
          "metadata": {}
        }
      ]
    },
    {
      "cell_type": "code",
      "source": [
        "display(*[(type(element), element.text) for element in elements if str(type(element)) == \"<class 'unstructured.documents.html.HTMLNarrativeText'>\"])"
      ],
      "metadata": {
        "colab": {
          "base_uri": "https://localhost:8080/",
          "height": 1000
        },
        "id": "SF4-23B_qxvJ",
        "outputId": "a992a5a3-996a-4cfb-c65c-2fd3d26cbe03"
      },
      "execution_count": 12,
      "outputs": [
        {
          "output_type": "display_data",
          "data": {
            "text/plain": [
              "(unstructured.documents.html.HTMLNarrativeText,\n",
              " 'Email icon\\n                                            An envelope. It indicates the ability to send an email.\\n                                          \\n                                            \\n                                          \\n                                            Email')"
            ]
          },
          "metadata": {}
        },
        {
          "output_type": "display_data",
          "data": {
            "text/plain": [
              "(unstructured.documents.html.HTMLNarrativeText,\n",
              " 'Twitter icon\\n                                            A stylized bird with an open mouth, tweeting.\\n                                          \\n                                            \\n                                          \\n                                            Twitter')"
            ]
          },
          "metadata": {}
        },
        {
          "output_type": "display_data",
          "data": {
            "text/plain": [
              "(unstructured.documents.html.HTMLNarrativeText,\n",
              " 'Link icon\\n                                            An image of a chain link. It symobilizes a website link url.\\n                                          \\n                                            \\n                                          \\n                                            Copy Link')"
            ]
          },
          "metadata": {}
        },
        {
          "output_type": "display_data",
          "data": {
            "text/plain": [
              "(unstructured.documents.html.HTMLNarrativeText, 'Read in app')"
            ]
          },
          "metadata": {}
        },
        {
          "output_type": "display_data",
          "data": {
            "text/plain": [
              "(unstructured.documents.html.HTMLNarrativeText,\n",
              " 'Angle down icon\\n                                      An icon in the shape of an angle pointing down.\\n                                      \\n                                              \\n                              \\n                              \\n                                The Russian opposition leader Alexey Navalny attending an opposition march in memory of the murdered Kremlin critic Boris Nemtsov in central Moscow.\\n                              \\n                        \\n                                \\n                                  VASILY MAXIMOV/AFP/Getty Images')"
            ]
          },
          "metadata": {}
        },
        {
          "output_type": "display_data",
          "data": {
            "text/plain": [
              "(unstructured.documents.html.HTMLNarrativeText,\n",
              " '\\n                                    Sign up to get the inside scoop on today’s biggest stories in markets, tech, and business — delivered daily. ')"
            ]
          },
          "metadata": {}
        },
        {
          "output_type": "display_data",
          "data": {
            "text/plain": [
              "(unstructured.documents.html.HTMLNarrativeText, 'Thanks for signing up!')"
            ]
          },
          "metadata": {}
        },
        {
          "output_type": "display_data",
          "data": {
            "text/plain": [
              "(unstructured.documents.html.HTMLNarrativeText,\n",
              " \"\\n                              Access your favorite topics in a personalized feed while you're on the go.\\n                              \")"
            ]
          },
          "metadata": {}
        },
        {
          "output_type": "display_data",
          "data": {
            "text/plain": [
              "(unstructured.documents.html.HTMLNarrativeText,\n",
              " '\\n                                  By clicking “Sign Up”, you accept our ')"
            ]
          },
          "metadata": {}
        },
        {
          "output_type": "display_data",
          "data": {
            "text/plain": [
              "(unstructured.documents.html.HTMLNarrativeText,\n",
              " 'Privacy Policy. You can opt-out at any time.')"
            ]
          },
          "metadata": {}
        },
        {
          "output_type": "display_data",
          "data": {
            "text/plain": [
              "(unstructured.documents.html.HTMLNarrativeText,\n",
              " 'Alexey Navalny, a dissident and the political nemesis of Russian President Vladimir Putin, spent the past few years of his life behind bars but still managed to stay connected to the outside world.')"
            ]
          },
          "metadata": {}
        },
        {
          "output_type": "display_data",
          "data": {
            "text/plain": [
              "(unstructured.documents.html.HTMLNarrativeText,\n",
              " \"Letters from the final months of his life, obtained by The New York Times, show that Navalny, who'd been imprisoned since January 2021, managed to stay on top of current events — including in the US.\")"
            ]
          },
          "metadata": {}
        },
        {
          "output_type": "display_data",
          "data": {
            "text/plain": [
              "(unstructured.documents.html.HTMLNarrativeText,\n",
              " 'In a letter sent to a friend, a photographer named Evgeny Feldman, Navalny said former President Donald Trump\\'s agenda for a second term was \"really scary,\" according to the Times.')"
            ]
          },
          "metadata": {}
        },
        {
          "output_type": "display_data",
          "data": {
            "text/plain": [
              "(unstructured.documents.html.HTMLNarrativeText,\n",
              " 'He said if President Joe Biden were to have a health issue, \"Trump will become president,\" adding: \"Doesn\\'t this obvious thing concern the Democrats?\"')"
            ]
          },
          "metadata": {}
        },
        {
          "output_type": "display_data",
          "data": {
            "text/plain": [
              "(unstructured.documents.html.HTMLNarrativeText,\n",
              " 'In another letter to Feldman dated December 3, Navalny again expressed concern over Trump and asked his friend, \"Please name one current politician you admire.\"')"
            ]
          },
          "metadata": {}
        },
        {
          "output_type": "display_data",
          "data": {
            "text/plain": [
              "(unstructured.documents.html.HTMLNarrativeText,\n",
              " \"Trump's office didn't immediately respond to a request for comment from Business Insider.\")"
            ]
          },
          "metadata": {}
        },
        {
          "output_type": "display_data",
          "data": {
            "text/plain": [
              "(unstructured.documents.html.HTMLNarrativeText,\n",
              " 'On December 6, Navalny disappeared from the IK-6 penal colony about 120 miles east of Moscow. He turned up again on Christmas Day when his lawyers announced they had located him at the IK-3 penal colony, about 1,000 miles northeast of Moscow, above the Arctic Circle.')"
            ]
          },
          "metadata": {}
        },
        {
          "output_type": "display_data",
          "data": {
            "text/plain": [
              "(unstructured.documents.html.HTMLNarrativeText,\n",
              " \"The Times reported that Navalny's communication ability from his new prison was greatly diminished.\")"
            ]
          },
          "metadata": {}
        },
        {
          "output_type": "display_data",
          "data": {
            "text/plain": [
              "(unstructured.documents.html.HTMLNarrativeText,\n",
              " \"The journalist Sergei Parkhomenko said he received a letter from Navalny on February 13, a few days before Navalny's death was announced. In the letter, which Parkhomenko shared on Facebook, Navalny spoke of books and said he only had access to classics at his new prison.\")"
            ]
          },
          "metadata": {}
        },
        {
          "output_type": "display_data",
          "data": {
            "text/plain": [
              "(unstructured.documents.html.HTMLNarrativeText,\n",
              " '\"Who could\\'ve told me that Chekhov is the most depressing Russian writer?\" he wrote.')"
            ]
          },
          "metadata": {}
        },
        {
          "output_type": "display_data",
          "data": {
            "text/plain": [
              "(unstructured.documents.html.HTMLNarrativeText,\n",
              " \"Trump, for his part, didn't mention Navalny in the days after his death, despite condemnations from other leaders who directly blamed Putin.\")"
            ]
          },
          "metadata": {}
        },
        {
          "output_type": "display_data",
          "data": {
            "text/plain": [
              "(unstructured.documents.html.HTMLNarrativeText,\n",
              " 'In a Truth Social post on Monday, Trump briefly mentioned Navalny before directing his ire at his own perceived political opponents: \"The sudden death of Alexei Navalny has made me more and more aware of what is happening in our Country. It is a slow, steady progression, with CROOKED, Radical Left Politicians, Prosecutors, and Judges leading us down a path to destruction.\"')"
            ]
          },
          "metadata": {}
        },
        {
          "output_type": "display_data",
          "data": {
            "text/plain": [
              "(unstructured.documents.html.HTMLNarrativeText,\n",
              " 'He mentioned neither Russia nor Putin.')"
            ]
          },
          "metadata": {}
        },
        {
          "output_type": "display_data",
          "data": {
            "text/plain": [
              "(unstructured.documents.html.HTMLNarrativeText,\n",
              " 'Sign up for notifications from Insider! Stay up to date with what you want to know.')"
            ]
          },
          "metadata": {}
        },
        {
          "output_type": "display_data",
          "data": {
            "text/plain": [
              "(unstructured.documents.html.HTMLNarrativeText,\n",
              " 'Subscribe to push notifications')"
            ]
          },
          "metadata": {}
        }
      ]
    },
    {
      "cell_type": "code",
      "source": [
        "url = 'https://www.nytimes.com/2024/02/19/world/europe/navalny-letters-russia.html'\n",
        "\n",
        "from unstructured.partition.auto import partition\n",
        "elements = partition(url=url, strategy='hi_res', html_assemble_articles=True)\n",
        "elements"
      ],
      "metadata": {
        "colab": {
          "base_uri": "https://localhost:8080/"
        },
        "id": "YJ0rr3rA7xuw",
        "outputId": "9c223619-6fcb-4052-e823-5133df5dca57"
      },
      "execution_count": 13,
      "outputs": [
        {
          "output_type": "execute_result",
          "data": {
            "text/plain": [
              "[<unstructured.documents.html.HTMLTitle at 0x7ae6041672e0>]"
            ]
          },
          "metadata": {},
          "execution_count": 13
        }
      ]
    },
    {
      "cell_type": "code",
      "source": [
        "display(*[(type(element), element.text) for element in elements])"
      ],
      "metadata": {
        "colab": {
          "base_uri": "https://localhost:8080/",
          "height": 52
        },
        "id": "RwF3dc_RN9LD",
        "outputId": "2a2cd85a-fc39-41e5-bd63-ebebab94f094"
      },
      "execution_count": 14,
      "outputs": [
        {
          "output_type": "display_data",
          "data": {
            "text/plain": [
              "(unstructured.documents.html.HTMLTitle,\n",
              " 'Please enable JS and disable any ad blocker')"
            ]
          },
          "metadata": {}
        }
      ]
    },
    {
      "cell_type": "markdown",
      "source": [
        "## Embeddings\n",
        "\n",
        "https://unstructured-io.github.io/unstructured/core/embedding.html"
      ],
      "metadata": {
        "id": "Yxl_RbCp9RBb"
      }
    },
    {
      "cell_type": "code",
      "source": [
        "from google.colab import userdata\n",
        "open_ai_api_key = userdata.get('open_ai_api_key')\n",
        "\n",
        "from unstructured.documents.elements import Text\n",
        "from unstructured.embed.openai import OpenAIEmbeddingEncoder\n",
        "\n",
        "# Initialize the encoder with OpenAI credentials\n",
        "#embedding_encoder = OpenAIEmbeddingEncoder(api_key=open_ai_api_key)\n",
        "\n",
        "#embedding_encoder = OpenAIEmbeddingEncoder(api_key=open_ai_api_key)\n",
        "\n",
        "\n",
        "embedding_encoder =OpenAIEmbeddingEncoder(config=OpenAIEmbeddingConfig(api_key=open_ai_api_key))\n",
        "\n",
        "#embedding_encoder = OpenAIEmbeddingEncoder(config=[open_ai_api_key,\"text-embedding-ada-002\"] )\n",
        "\n",
        "# Embed a list of Elements\n",
        "elements = embedding_encoder.embed_documents(\n",
        "    elements=[Text(\"This is sentence 1\"), Text(\"This is sentence 2\")],\n",
        ")\n",
        "\n",
        "# Embed a single query string\n",
        "query = \"This is the query\"\n",
        "query_embedding = embedding_encoder.embed_query(query=query)\n",
        "\n",
        "# Print embeddings\n",
        "[print(e.embeddings, e) for e in elements]\n",
        "print(query_embedding, query)\n",
        "print(embedding_encoder.is_unit_vector(), embedding_encoder.num_of_dimensions())"
      ],
      "metadata": {
        "id": "-fr4ntVfO6ZC",
        "colab": {
          "base_uri": "https://localhost:8080/",
          "height": 211
        },
        "outputId": "1592e4a5-4015-4151-85dc-4ad63db5e936"
      },
      "execution_count": 27,
      "outputs": [
        {
          "output_type": "error",
          "ename": "NameError",
          "evalue": "name 'OpenAIEmbeddingConfig' is not defined",
          "traceback": [
            "\u001b[0;31m---------------------------------------------------------------------------\u001b[0m",
            "\u001b[0;31mNameError\u001b[0m                                 Traceback (most recent call last)",
            "\u001b[0;32m<ipython-input-27-bcd67ad64b77>\u001b[0m in \u001b[0;36m<cell line: 13>\u001b[0;34m()\u001b[0m\n\u001b[1;32m     11\u001b[0m \u001b[0;34m\u001b[0m\u001b[0m\n\u001b[1;32m     12\u001b[0m \u001b[0;34m\u001b[0m\u001b[0m\n\u001b[0;32m---> 13\u001b[0;31m \u001b[0membedding_encoder\u001b[0m \u001b[0;34m=\u001b[0m\u001b[0mOpenAIEmbeddingEncoder\u001b[0m\u001b[0;34m(\u001b[0m\u001b[0mconfig\u001b[0m\u001b[0;34m=\u001b[0m\u001b[0mOpenAIEmbeddingConfig\u001b[0m\u001b[0;34m(\u001b[0m\u001b[0mapi_key\u001b[0m\u001b[0;34m=\u001b[0m\u001b[0mopen_ai_api_key\u001b[0m\u001b[0;34m)\u001b[0m\u001b[0;34m)\u001b[0m\u001b[0;34m\u001b[0m\u001b[0;34m\u001b[0m\u001b[0m\n\u001b[0m\u001b[1;32m     14\u001b[0m \u001b[0;34m\u001b[0m\u001b[0m\n\u001b[1;32m     15\u001b[0m \u001b[0;31m#embedding_encoder = OpenAIEmbeddingEncoder(config=[open_ai_api_key,\"text-embedding-ada-002\"] )\u001b[0m\u001b[0;34m\u001b[0m\u001b[0;34m\u001b[0m\u001b[0m\n",
            "\u001b[0;31mNameError\u001b[0m: name 'OpenAIEmbeddingConfig' is not defined"
          ]
        }
      ]
    },
    {
      "cell_type": "markdown",
      "source": [
        "## CNN HTML Links, Vector Databases, Automatic Summarization via LangChain + OpenAI\n",
        "\n",
        "In the following section we:\n",
        "\n",
        "1. Get the links for the latest articles from an HTML file (Option 1) or directly from the CNN website (Option 2).  \n",
        "2. Use the Unstructured document loader in Langchain to load the files.\n",
        "3. Create embeddings for each file using OpenAIEmbeddings.\n",
        "4. Store the embeddings in Chroma DB.\n",
        "5. Query Chroma DB to return relevant articles.   \n",
        "6. Summarize the relevant articles using LangChain OpenAI integration.\n",
        "\n",
        "https://unstructured-io.github.io/unstructured/examples/chroma.html"
      ],
      "metadata": {
        "id": "ThTIA8k3tL2X"
      }
    },
    {
      "cell_type": "markdown",
      "source": [
        "## Option 1: Import from HTML file stored on Github"
      ],
      "metadata": {
        "id": "Ve3HHzTqhhqP"
      }
    },
    {
      "cell_type": "code",
      "source": [
        "from unstructured.partition.html import partition_html\n",
        "import requests\n",
        "from google.colab import userdata\n",
        "open_ai_api_key = userdata.get('open_ai_api_key')\n",
        "\n",
        "url = \"https://github.com/StatsAI/NLP/blob/main/Breaking%20News%2C%20Latest%20News%20and%20Videos%20_%20CNN.html\"\n",
        "\n",
        "try:\n",
        "    response = requests.get(url, allow_redirects=True)\n",
        "    response.raise_for_status()  # Raise error if download fails\n",
        "except requests.exceptions.RequestException as e:\n",
        "    print(f\"Error downloading HTML: {e}\")\n",
        "    exit(1)\n",
        "\n",
        "# Save the content to a file\n",
        "with open(\"downloaded_html.html\", \"wb\") as f:\n",
        "    f.write(response.content)\n",
        "\n",
        "print(f\"HTML downloaded successfully to downloaded_html.html\")\n",
        "\n",
        "elements = partition_html(filename='downloaded_html.html')\n",
        "elements = elements[3].links\n",
        "\n",
        "links = []\n",
        "cnn_lite_url = \"https://lite.cnn.com/\"\n",
        "\n",
        "for element in elements:\n",
        "  try:\n",
        "    if element[\"url\"][3:-2]:\n",
        "      relative_link = element[\"url\"][3:-2]\n",
        "      links.append(f\"{cnn_lite_url}{relative_link}\")\n",
        "  except IndexError:\n",
        "    # Handle the case where the \"url\" key doesn't exist or the index is out of range\n",
        "    continue\n",
        "\n",
        "links"
      ],
      "metadata": {
        "colab": {
          "base_uri": "https://localhost:8080/"
        },
        "id": "xOcpgzxHauNo",
        "outputId": "e84c8451-127e-47cb-a5e3-9c79139d0243"
      },
      "execution_count": 24,
      "outputs": [
        {
          "output_type": "stream",
          "name": "stdout",
          "text": [
            "HTML downloaded successfully to downloaded_html.html\n"
          ]
        },
        {
          "output_type": "execute_result",
          "data": {
            "text/plain": [
              "['https://lite.cnn.com/2024/02/22/middleeast/israel-ceasefire-negotiating-team-to-paris-intl/index.html',\n",
              " 'https://lite.cnn.com/2024/02/22/europe/spain-valencia-apartment-fire-intl/index.html',\n",
              " 'https://lite.cnn.com/2024/02/22/politics/leaked-documents-tech-firm-chinese-hacking/index.html',\n",
              " 'https://lite.cnn.com/2024/02/22/us/university-georgia-woman-dead/index.html',\n",
              " 'https://lite.cnn.com/2024/02/22/politics/nikki-haley-alabama-ivf-ruling/index.html',\n",
              " 'https://lite.cnn.com/2024/02/22/politics/mar-a-lago-carlos-de-oliveira-classified-documents/index.html',\n",
              " 'https://lite.cnn.com/2024/02/22/us/military-family-embryos-alabama-ruling/index.html',\n",
              " 'https://lite.cnn.com/2024/02/22/politics/putin-trump-us-election-analysis/index.html',\n",
              " 'https://lite.cnn.com/2024/02/22/politics/us-brothers-detained-gaza/index.html',\n",
              " 'https://lite.cnn.com/2024/02/22/politics/trump-moves-dismiss-classified-documents-case/index.html',\n",
              " 'https://lite.cnn.com/2024/02/22/us/rise-above-movement-ruling-on-hold/index.html',\n",
              " 'https://lite.cnn.com/2024/02/22/tech/att-cell-service-outage/index.html',\n",
              " 'https://lite.cnn.com/2024/02/22/tech/outage-att-cell-phone-service-cause/index.html',\n",
              " 'https://lite.cnn.com/travel/most-visited-national-park-service-sites-2023/index.html',\n",
              " 'https://lite.cnn.com/2024/02/22/opinions/nasa-mars-simulator-volunteers-chiao/index.html',\n",
              " 'https://lite.cnn.com/2024/02/22/media/vice-lay-offs-stops-publishing-content-on-its-website/index.html',\n",
              " 'https://lite.cnn.com/2024/02/22/style/jeff-koons-moon-phases-odysseus-landing/index.html',\n",
              " 'https://lite.cnn.com/2024/02/22/us/nassau-county-ny-transgender-sports-ban/index.html',\n",
              " 'https://lite.cnn.com/2024/02/22/politics/smugglers-charged-iranian-missile-houthis/index.html',\n",
              " 'https://lite.cnn.com/2024/02/22/opinions/jewish-harvard-antisemitism-racism-dei-licht/index.html',\n",
              " 'https://lite.cnn.com/2024/02/22/politics/biden-meets-with-navalny-family-in-california/index.html',\n",
              " 'https://lite.cnn.com/2024/02/22/us/uvalde-school-shooting-texas-police/index.html',\n",
              " 'https://lite.cnn.com/2024/02/22/us/alabama-embryos-ruling-ivf-treatment-leaving-state/index.html',\n",
              " 'https://lite.cnn.com/2024/02/22/politics/sanctions-russia-navalny-death/index.html',\n",
              " 'https://lite.cnn.com/2024/02/22/tech/us-pharmacies-face-delays-filling-prescriptions-because-of-cyberattack/index.html',\n",
              " 'https://lite.cnn.com/2024/02/22/politics/alexander-smirnov-re-arrested/index.html',\n",
              " 'https://lite.cnn.com/2024/02/21/us/alabama-ruling-frozen-embryos-facility-pauses-ivf/index.html',\n",
              " 'https://lite.cnn.com/2024/02/22/europe/russia-navalny-mother-body-intl/index.html',\n",
              " 'https://lite.cnn.com/2024/02/22/media/fox-news-bogus-fbi-informant-biden/index.html',\n",
              " 'https://lite.cnn.com/2024/02/22/business/toyota-recalls-280-000-vehicles-hnk-intl/index.html',\n",
              " 'https://lite.cnn.com/2024/02/21/politics/haley-alabama-supreme-court-ruling/index.html',\n",
              " 'https://lite.cnn.com/2024/02/22/entertainment/zendaya-tom-holland-rizz/index.html',\n",
              " 'https://lite.cnn.com/2024/02/22/us/how-to-help-civilians-in-ukraine-after-two-years-of-war/index.html',\n",
              " 'https://lite.cnn.com/2024/02/22/tech/ftc-avast-cybersecurity-company-fine/index.html',\n",
              " 'https://lite.cnn.com/2024/02/21/politics/wic-snap-choice-funding-congress/index.html',\n",
              " 'https://lite.cnn.com/2024/02/22/us/adam-montgomery-guilty-second-degree-murder-child-death/index.html',\n",
              " 'https://lite.cnn.com/2024/02/22/opinions/what-trumps-vp-shortlist-reveals-zelizer/index.html',\n",
              " 'https://lite.cnn.com/2024/02/22/politics/trump-engoron-civil-fraud-order/index.html',\n",
              " 'https://lite.cnn.com/2024/02/22/politics/usda-discrimination-report-recommendations-reaj/index.html',\n",
              " 'https://lite.cnn.com/2024/02/22/entertainment/wendy-williams-aphasia-and-dementia/index.html',\n",
              " 'https://lite.cnn.com/health/frontotemporal-dementia-definition-symptoms-wellness/index.html',\n",
              " 'https://lite.cnn.com/2024/02/22/cnn10/ten-content-fri/index.html',\n",
              " 'https://lite.cnn.com/2024/02/22/media/timothy-burke-indicted-fox-news-tucker-carlson-footage/index.html',\n",
              " 'https://lite.cnn.com/2024/02/22/entertainment/rust-trial-alec-baldwin-shooting/index.html',\n",
              " 'https://lite.cnn.com/2024/02/22/investing/tech-stocks-surge-higher-as-nvidia-rallies/index.html',\n",
              " 'https://lite.cnn.com/2024/02/22/opinions/mike-johnson-gop-house-majority-brown/index.html',\n",
              " 'https://lite.cnn.com/2024/02/22/politics/protesters-san-francisco-biden-genocide/index.html',\n",
              " 'https://lite.cnn.com/2024/02/22/business/child-labor-slaughterhouses-labor-department/index.html',\n",
              " 'https://lite.cnn.com/2024/02/22/us/darryl-george-crown-act-trial-texas-reaj/index.html',\n",
              " 'https://lite.cnn.com/2024/02/22/politics/scott-perry-biden-impeachment/index.html',\n",
              " 'https://lite.cnn.com/2024/02/22/us/microsoft-default-font-aptos-calibri-cec/index.html',\n",
              " 'https://lite.cnn.com/2024/02/22/tech/nvidia-ceo-jensen-huang-20-richest-billionaire/index.html',\n",
              " 'https://lite.cnn.com/2024/02/22/us/hydeia-broadbent-aids-activist-dies-reaj/index.html',\n",
              " 'https://lite.cnn.com/2024/02/22/tech/google-gemini-ai-image-generator/index.html',\n",
              " 'https://lite.cnn.com/2024/02/22/politics/justice-department-criminal-civil-sanctions-russia-kremlin/index.html',\n",
              " 'https://lite.cnn.com/2024/02/22/politics/biden-bully-pulpit-trump-russia/index.html',\n",
              " 'https://lite.cnn.com/2024/02/22/politics/blinken-haiti-support-mission/index.html',\n",
              " 'https://lite.cnn.com/2024/02/22/europe/ukraine-russia-eu-anniversary-intl/index.html',\n",
              " 'https://lite.cnn.com/2024/02/22/politics/teamsters-republicans-donation-convention-trump/index.html',\n",
              " 'https://lite.cnn.com/2024/02/22/business/mortgage-rates-rise-for-third-week/index.html',\n",
              " 'https://lite.cnn.com/2024/02/22/politics/ron-desantis-vice-president-trump/index.html',\n",
              " 'https://lite.cnn.com/2024/02/22/us/man-arrested-in-the-killing-of-a-los-angeles-model-and-real-estate-agent/index.html',\n",
              " 'https://lite.cnn.com/2024/02/22/opinions/taylor-tomlinson-after-midnight-netflix-comedy-seymour/index.html',\n",
              " 'https://lite.cnn.com/2024/02/22/politics/boy-scouts-bankruptcy-settlement-supreme-court/index.html',\n",
              " 'https://lite.cnn.com/2024/02/15/style/dune-part-two-zendaya-red-carpet-fashion/index.html',\n",
              " 'https://lite.cnn.com/2024/02/22/us/atlanta-symphony-fosters-diversity-in-orchestras-reaj/index.html',\n",
              " 'https://lite.cnn.com/2024/02/22/europe/bobi-oldest-dog-loses-title-scli-intl/index.html',\n",
              " 'https://lite.cnn.com/2024/02/21/us/oklahoma-teen-death-school-fight/index.html',\n",
              " 'https://lite.cnn.com/2024/02/22/entertainment/devil-wears-prada-reunion/index.html',\n",
              " 'https://lite.cnn.com/2024/02/22/sport/dani-alves-guilty-sexual-assault-spt-intl/index.html',\n",
              " 'https://lite.cnn.com/2024/02/21/us/audrii-cunningham-memorial-death-thursday/index.html',\n",
              " 'https://lite.cnn.com/2024/02/22/us/pittsburgh-bridge-2022-collapse-ntsb/index.html',\n",
              " 'https://lite.cnn.com/2024/02/22/sport/lionel-messi-inter-miami-mls-season-opener-spt-intl/index.html',\n",
              " 'https://lite.cnn.com/2024/02/22/business/home-sales-prices-rise-january/index.html',\n",
              " 'https://lite.cnn.com/2024/02/22/style/toilet-design-future-waste-design-for-impact/index.html',\n",
              " 'https://lite.cnn.com/2024/02/22/entertainment/natalie-portman-vanity-fair/index.html',\n",
              " 'https://lite.cnn.com/2024/02/16/media/sean-hannity-right-wing-media-biden-bribes/index.html',\n",
              " 'https://lite.cnn.com/2024/02/21/politics/trump-engoron-fraud-ruling-delay/index.html',\n",
              " 'https://lite.cnn.com/2024/02/22/us/pew-survey-curriculum-debate-reaj/index.html',\n",
              " 'https://lite.cnn.com/2024/02/22/sport/always-ready-sporting-cristal-copa-libertadores-altitude-spt-intl/index.html',\n",
              " 'https://lite.cnn.com/2024/02/22/entertainment/avatar-the-last-airbender-review/index.html',\n",
              " 'https://lite.cnn.com/2024/02/22/politics/biden-congress-republicans-strom-thurmond/index.html',\n",
              " 'https://lite.cnn.com/2024/02/22/business/four-day-work-week-uk/index.html',\n",
              " 'https://lite.cnn.com/2024/02/22/business/nestle-customers-aging-diet/index.html',\n",
              " 'https://lite.cnn.com/2024/02/22/business/price-of-rent-dropping/index.html',\n",
              " 'https://lite.cnn.com/travel/the-a340/index.html',\n",
              " 'https://lite.cnn.com/2024/02/22/us/texas-crown-act-law-trial-explainer-reaj/index.html',\n",
              " 'https://lite.cnn.com/2024/02/22/middleeast/church-gaza-city-palestinians-israeli-strikes-intl/index.html',\n",
              " 'https://lite.cnn.com/2024/02/22/sport/christian-horner-toto-wolff-red-bull-investigation-intl-spt/index.html',\n",
              " 'https://lite.cnn.com/2024/02/22/style/karl-marx-charles-darwin-gift-scli-intl/index.html',\n",
              " 'https://lite.cnn.com/2024/02/22/style/saul-leiter-photography/index.html',\n",
              " 'https://lite.cnn.com/2024/02/21/politics/biden-putin-crazy-sob/index.html',\n",
              " 'https://lite.cnn.com/2024/02/22/politics/cpac-trump-republican-president-election/index.html',\n",
              " 'https://lite.cnn.com/2024/02/22/sport/mlb-2024-spring-training-how-to-watch-spt-intl/index.html',\n",
              " 'https://lite.cnn.com/2024/02/22/middleeast/jerusalem-shooting-attack-intl-hnk/index.html',\n",
              " 'https://lite.cnn.com/2024/02/21/opinions/trump-europe-security-nato-us-andelman/index.html',\n",
              " 'https://lite.cnn.com/2024/02/22/sport/caitlin-clark-ncaa-all-time-scoring-spt-intl/index.html',\n",
              " 'https://lite.cnn.com/2024/02/22/health/oklahoma-narcan-vending-machines/index.html',\n",
              " 'https://lite.cnn.com/2024/02/22/asia/china-cost-of-raising-children-intl-hnk/index.html',\n",
              " 'https://lite.cnn.com/2024/02/22/politics/haley-trump-criminal-trials/index.html']"
            ]
          },
          "metadata": {},
          "execution_count": 24
        }
      ]
    },
    {
      "cell_type": "markdown",
      "source": [
        "## Option 2: Import from URL"
      ],
      "metadata": {
        "id": "LlmSs1neo9Yu"
      }
    },
    {
      "cell_type": "code",
      "source": [
        "from unstructured.partition.html import partition_html\n",
        "from google.colab import userdata\n",
        "open_ai_api_key = userdata.get('open_ai_api_key')\n",
        "\n",
        "cnn_lite_url = \"https://lite.cnn.com/\"\n",
        "\n",
        "elements = partition_html(url=cnn_lite_url)\n",
        "links = []\n",
        "\n",
        "for element in elements:\n",
        "  try:\n",
        "    if element.links[0][\"url\"][1:]:\n",
        "      relative_link = element.links[0][\"url\"][1:]\n",
        "      links.append(f\"{cnn_lite_url}{relative_link}\")\n",
        "  except IndexError:\n",
        "    # Handle the case where the \"url\" key doesn't exist or the index is out of range\n",
        "    continue\n",
        "\n",
        "links"
      ],
      "metadata": {
        "id": "e815gGkDPxpq",
        "colab": {
          "base_uri": "https://localhost:8080/"
        },
        "outputId": "bc3efb73-668e-42ba-ba21-b9f1bcd210de"
      },
      "execution_count": 123,
      "outputs": [
        {
          "output_type": "execute_result",
          "data": {
            "text/plain": [
              "['https://lite.cnn.com/2024/02/22/us/man-arrested-in-the-killing-of-a-los-angeles-model-and-real-estate-agent/index.html',\n",
              " 'https://lite.cnn.com/2024/02/22/travel/alaska-airlines-passenger-pens-assault-charge/index.html',\n",
              " 'https://lite.cnn.com/2024/02/22/politics/trump-moves-dismiss-classified-documents-case/index.html',\n",
              " 'https://lite.cnn.com/2024/02/22/europe/kherson-russia-advance-ukraine-intl/index.html',\n",
              " 'https://lite.cnn.com/2024/02/22/style/jeff-koons-moon-phases-odysseus-landing/index.html',\n",
              " 'https://lite.cnn.com/2024/02/21/politics/haley-alabama-supreme-court-ruling/index.html',\n",
              " 'https://lite.cnn.com/2024/02/22/middleeast/israel-ceasefire-negotiating-team-to-paris-intl/index.html',\n",
              " 'https://lite.cnn.com/2024/02/22/europe/spain-valencia-apartment-fire-intl/index.html',\n",
              " 'https://lite.cnn.com/2024/02/22/politics/leaked-documents-tech-firm-chinese-hacking/index.html',\n",
              " 'https://lite.cnn.com/2024/02/22/us/university-georgia-woman-dead/index.html',\n",
              " 'https://lite.cnn.com/2024/02/22/politics/nikki-haley-alabama-ivf-ruling/index.html',\n",
              " 'https://lite.cnn.com/2024/02/22/politics/mar-a-lago-carlos-de-oliveira-classified-documents/index.html',\n",
              " 'https://lite.cnn.com/2024/02/22/us/military-family-embryos-alabama-ruling/index.html',\n",
              " 'https://lite.cnn.com/2024/02/22/politics/putin-trump-us-election-analysis/index.html',\n",
              " 'https://lite.cnn.com/2024/02/22/politics/us-brothers-detained-gaza/index.html',\n",
              " 'https://lite.cnn.com/2024/02/22/us/rise-above-movement-ruling-on-hold/index.html',\n",
              " 'https://lite.cnn.com/2024/02/22/tech/att-cell-service-outage/index.html',\n",
              " 'https://lite.cnn.com/2024/02/22/tech/outage-att-cell-phone-service-cause/index.html',\n",
              " 'https://lite.cnn.com/travel/most-visited-national-park-service-sites-2023/index.html',\n",
              " 'https://lite.cnn.com/2024/02/22/opinions/nasa-mars-simulator-volunteers-chiao/index.html',\n",
              " 'https://lite.cnn.com/2024/02/22/media/vice-lay-offs-stops-publishing-content-on-its-website/index.html',\n",
              " 'https://lite.cnn.com/2024/02/22/us/nassau-county-ny-transgender-sports-ban/index.html',\n",
              " 'https://lite.cnn.com/2024/02/22/politics/smugglers-charged-iranian-missile-houthis/index.html',\n",
              " 'https://lite.cnn.com/2024/02/22/opinions/jewish-harvard-antisemitism-racism-dei-licht/index.html',\n",
              " 'https://lite.cnn.com/2024/02/22/politics/biden-meets-with-navalny-family-in-california/index.html',\n",
              " 'https://lite.cnn.com/2024/02/22/us/uvalde-school-shooting-texas-police/index.html',\n",
              " 'https://lite.cnn.com/2024/02/22/us/alabama-embryos-ruling-ivf-treatment-leaving-state/index.html',\n",
              " 'https://lite.cnn.com/2024/02/22/politics/sanctions-russia-navalny-death/index.html',\n",
              " 'https://lite.cnn.com/2024/02/22/tech/us-pharmacies-face-delays-filling-prescriptions-because-of-cyberattack/index.html',\n",
              " 'https://lite.cnn.com/2024/02/22/politics/alexander-smirnov-re-arrested/index.html',\n",
              " 'https://lite.cnn.com/2024/02/21/us/alabama-ruling-frozen-embryos-facility-pauses-ivf/index.html',\n",
              " 'https://lite.cnn.com/2024/02/22/europe/russia-navalny-mother-body-intl/index.html',\n",
              " 'https://lite.cnn.com/2024/02/22/media/fox-news-bogus-fbi-informant-biden/index.html',\n",
              " 'https://lite.cnn.com/2024/02/22/business/toyota-recalls-280-000-vehicles-hnk-intl/index.html',\n",
              " 'https://lite.cnn.com/2024/02/22/entertainment/zendaya-tom-holland-rizz/index.html',\n",
              " 'https://lite.cnn.com/2024/02/22/us/how-to-help-civilians-in-ukraine-after-two-years-of-war/index.html',\n",
              " 'https://lite.cnn.com/2024/02/22/tech/ftc-avast-cybersecurity-company-fine/index.html',\n",
              " 'https://lite.cnn.com/2024/02/21/politics/wic-snap-choice-funding-congress/index.html',\n",
              " 'https://lite.cnn.com/2024/02/22/us/adam-montgomery-guilty-second-degree-murder-child-death/index.html',\n",
              " 'https://lite.cnn.com/2024/02/22/opinions/what-trumps-vp-shortlist-reveals-zelizer/index.html',\n",
              " 'https://lite.cnn.com/2024/02/22/politics/trump-engoron-civil-fraud-order/index.html',\n",
              " 'https://lite.cnn.com/2024/02/22/politics/usda-discrimination-report-recommendations-reaj/index.html',\n",
              " 'https://lite.cnn.com/2024/02/22/entertainment/wendy-williams-aphasia-and-dementia/index.html',\n",
              " 'https://lite.cnn.com/health/frontotemporal-dementia-definition-symptoms-wellness/index.html',\n",
              " 'https://lite.cnn.com/2024/02/22/cnn10/ten-content-fri/index.html',\n",
              " 'https://lite.cnn.com/2024/02/22/media/timothy-burke-indicted-fox-news-tucker-carlson-footage/index.html',\n",
              " 'https://lite.cnn.com/2024/02/22/entertainment/rust-trial-alec-baldwin-shooting/index.html',\n",
              " 'https://lite.cnn.com/2024/02/22/investing/tech-stocks-surge-higher-as-nvidia-rallies/index.html',\n",
              " 'https://lite.cnn.com/2024/02/22/opinions/mike-johnson-gop-house-majority-brown/index.html',\n",
              " 'https://lite.cnn.com/2024/02/22/politics/protesters-san-francisco-biden-genocide/index.html',\n",
              " 'https://lite.cnn.com/2024/02/22/business/child-labor-slaughterhouses-labor-department/index.html',\n",
              " 'https://lite.cnn.com/2024/02/22/us/darryl-george-crown-act-trial-texas-reaj/index.html',\n",
              " 'https://lite.cnn.com/2024/02/22/politics/scott-perry-biden-impeachment/index.html',\n",
              " 'https://lite.cnn.com/2024/02/22/us/microsoft-default-font-aptos-calibri-cec/index.html',\n",
              " 'https://lite.cnn.com/2024/02/22/tech/nvidia-ceo-jensen-huang-20-richest-billionaire/index.html',\n",
              " 'https://lite.cnn.com/2024/02/22/us/hydeia-broadbent-aids-activist-dies-reaj/index.html',\n",
              " 'https://lite.cnn.com/2024/02/22/tech/google-gemini-ai-image-generator/index.html',\n",
              " 'https://lite.cnn.com/2024/02/22/politics/justice-department-criminal-civil-sanctions-russia-kremlin/index.html',\n",
              " 'https://lite.cnn.com/2024/02/22/politics/biden-bully-pulpit-trump-russia/index.html',\n",
              " 'https://lite.cnn.com/2024/02/22/politics/blinken-haiti-support-mission/index.html',\n",
              " 'https://lite.cnn.com/2024/02/22/europe/ukraine-russia-eu-anniversary-intl/index.html',\n",
              " 'https://lite.cnn.com/2024/02/22/politics/teamsters-republicans-donation-convention-trump/index.html',\n",
              " 'https://lite.cnn.com/2024/02/22/business/mortgage-rates-rise-for-third-week/index.html',\n",
              " 'https://lite.cnn.com/2024/02/22/politics/ron-desantis-vice-president-trump/index.html',\n",
              " 'https://lite.cnn.com/2024/02/22/opinions/taylor-tomlinson-after-midnight-netflix-comedy-seymour/index.html',\n",
              " 'https://lite.cnn.com/2024/02/22/politics/boy-scouts-bankruptcy-settlement-supreme-court/index.html',\n",
              " 'https://lite.cnn.com/2024/02/15/style/dune-part-two-zendaya-red-carpet-fashion/index.html',\n",
              " 'https://lite.cnn.com/2024/02/22/us/atlanta-symphony-fosters-diversity-in-orchestras-reaj/index.html',\n",
              " 'https://lite.cnn.com/2024/02/22/europe/bobi-oldest-dog-loses-title-scli-intl/index.html',\n",
              " 'https://lite.cnn.com/2024/02/21/us/oklahoma-teen-death-school-fight/index.html',\n",
              " 'https://lite.cnn.com/2024/02/22/entertainment/devil-wears-prada-reunion/index.html',\n",
              " 'https://lite.cnn.com/2024/02/22/sport/dani-alves-guilty-sexual-assault-spt-intl/index.html',\n",
              " 'https://lite.cnn.com/2024/02/21/us/audrii-cunningham-memorial-death-thursday/index.html',\n",
              " 'https://lite.cnn.com/2024/02/22/us/pittsburgh-bridge-2022-collapse-ntsb/index.html',\n",
              " 'https://lite.cnn.com/2024/02/22/sport/lionel-messi-inter-miami-mls-season-opener-spt-intl/index.html',\n",
              " 'https://lite.cnn.com/2024/02/22/business/home-sales-prices-rise-january/index.html',\n",
              " 'https://lite.cnn.com/2024/02/22/style/toilet-design-future-waste-design-for-impact/index.html',\n",
              " 'https://lite.cnn.com/2024/02/22/entertainment/natalie-portman-vanity-fair/index.html',\n",
              " 'https://lite.cnn.com/2024/02/16/media/sean-hannity-right-wing-media-biden-bribes/index.html',\n",
              " 'https://lite.cnn.com/2024/02/21/politics/trump-engoron-fraud-ruling-delay/index.html',\n",
              " 'https://lite.cnn.com/2024/02/22/us/pew-survey-curriculum-debate-reaj/index.html',\n",
              " 'https://lite.cnn.com/2024/02/22/sport/always-ready-sporting-cristal-copa-libertadores-altitude-spt-intl/index.html',\n",
              " 'https://lite.cnn.com/2024/02/22/entertainment/avatar-the-last-airbender-review/index.html',\n",
              " 'https://lite.cnn.com/2024/02/22/politics/biden-congress-republicans-strom-thurmond/index.html',\n",
              " 'https://lite.cnn.com/2024/02/22/business/four-day-work-week-uk/index.html',\n",
              " 'https://lite.cnn.com/2024/02/22/business/nestle-customers-aging-diet/index.html',\n",
              " 'https://lite.cnn.com/2024/02/22/business/price-of-rent-dropping/index.html',\n",
              " 'https://lite.cnn.com/travel/the-a340/index.html',\n",
              " 'https://lite.cnn.com/2024/02/22/us/texas-crown-act-law-trial-explainer-reaj/index.html',\n",
              " 'https://lite.cnn.com/2024/02/22/middleeast/church-gaza-city-palestinians-israeli-strikes-intl/index.html',\n",
              " 'https://lite.cnn.com/2024/02/22/sport/christian-horner-toto-wolff-red-bull-investigation-intl-spt/index.html',\n",
              " 'https://lite.cnn.com/2024/02/22/style/karl-marx-charles-darwin-gift-scli-intl/index.html',\n",
              " 'https://lite.cnn.com/2024/02/22/style/saul-leiter-photography/index.html',\n",
              " 'https://lite.cnn.com/2024/02/21/politics/biden-putin-crazy-sob/index.html',\n",
              " 'https://lite.cnn.com/2024/02/22/politics/cpac-trump-republican-president-election/index.html',\n",
              " 'https://lite.cnn.com/2024/02/22/sport/mlb-2024-spring-training-how-to-watch-spt-intl/index.html',\n",
              " 'https://lite.cnn.com/2024/02/22/middleeast/jerusalem-shooting-attack-intl-hnk/index.html',\n",
              " 'https://lite.cnn.com/2024/02/21/opinions/trump-europe-security-nato-us-andelman/index.html',\n",
              " 'https://lite.cnn.com/2024/02/22/sport/caitlin-clark-ncaa-all-time-scoring-spt-intl/index.html',\n",
              " 'https://lite.cnn.com/2024/02/22/health/oklahoma-narcan-vending-machines/index.html',\n",
              " 'https://lite.cnn.com/ttps://www.cnn.com/',\n",
              " 'https://lite.cnn.com/ttps://www.cnn.com/terms',\n",
              " 'https://lite.cnn.com/ttps://www.warnermediaprivacy.com/policycenter/b2c/WMNS/',\n",
              " 'https://lite.cnn.com/ttps://www.warnermediaprivacy.com/policycenter/b2c/WMNS/']"
            ]
          },
          "metadata": {},
          "execution_count": 123
        }
      ]
    },
    {
      "cell_type": "code",
      "source": [
        "from langchain.document_loaders import UnstructuredURLLoader\n",
        "\n",
        "# links = ['https://lite.cnn.com/2024/02/22/tech/nvidia-ceo-jensen-huang-20-richest-billionaire/index.html',\n",
        "#          'https://lite.cnn.com/2024/02/22/us/darryl-george-crown-act-trial-texas-reaj/index.html']\n",
        "\n",
        "loaders = UnstructuredURLLoader(urls=links, show_progress_bar=True)\n",
        "\n",
        "docs = loaders.load()"
      ],
      "metadata": {
        "colab": {
          "base_uri": "https://localhost:8080/"
        },
        "id": "nz5uhvRJXRYF",
        "outputId": "f6f7c30b-d560-484b-bf5b-555d5ea458fe"
      },
      "execution_count": 25,
      "outputs": [
        {
          "output_type": "stream",
          "name": "stderr",
          "text": [
            "100%|██████████| 100/100 [00:27<00:00,  3.65it/s]\n"
          ]
        }
      ]
    },
    {
      "cell_type": "code",
      "source": [
        "from langchain.vectorstores.chroma import Chroma\n",
        "from langchain.embeddings import OpenAIEmbeddings\n",
        "from unstructured.embed.openai import OpenAIEmbeddingEncoder\n",
        "\n",
        "embeddings = OpenAIEmbeddings(openai_api_key=open_ai_api_key)\n",
        "vectorstore = Chroma.from_documents(docs, embeddings)"
      ],
      "metadata": {
        "colab": {
          "base_uri": "https://localhost:8080/"
        },
        "id": "m0t1C-aBX6Y8",
        "outputId": "15587a87-2885-405e-9437-3095cdb561ae"
      },
      "execution_count": 26,
      "outputs": [
        {
          "output_type": "stream",
          "name": "stderr",
          "text": [
            "/usr/local/lib/python3.10/dist-packages/langchain_core/_api/deprecation.py:117: LangChainDeprecationWarning: The class `langchain_community.embeddings.openai.OpenAIEmbeddings` was deprecated in langchain-community 0.1.0 and will be removed in 0.2.0. An updated version of the class exists in the langchain-openai package and should be used instead. To use it run `pip install -U langchain-openai` and import as `from langchain_openai import OpenAIEmbeddings`.\n",
            "  warn_deprecated(\n"
          ]
        }
      ]
    },
    {
      "cell_type": "code",
      "source": [
        "query_docs = vectorstore.similarity_search(\"Russia\", k=5)"
      ],
      "metadata": {
        "id": "VSoBhb6VwQHi"
      },
      "execution_count": 27,
      "outputs": []
    },
    {
      "cell_type": "code",
      "source": [
        "from langchain.chat_models import ChatOpenAI\n",
        "from langchain.chains.summarize import load_summarize_chain\n",
        "\n",
        "llm = ChatOpenAI(temperature=0, model_name=\"gpt-3.5-turbo-16k\", openai_api_key=open_ai_api_key)\n",
        "chain = load_summarize_chain(llm, chain_type=\"stuff\")"
      ],
      "metadata": {
        "colab": {
          "base_uri": "https://localhost:8080/"
        },
        "id": "lHtxNGSDdqVd",
        "outputId": "979e1e9b-6faf-49cf-80da-97399fcd27c6"
      },
      "execution_count": 28,
      "outputs": [
        {
          "output_type": "stream",
          "name": "stderr",
          "text": [
            "/usr/local/lib/python3.10/dist-packages/langchain_core/_api/deprecation.py:117: LangChainDeprecationWarning: The class `langchain_community.chat_models.openai.ChatOpenAI` was deprecated in langchain-community 0.0.10 and will be removed in 0.2.0. An updated version of the class exists in the langchain-openai package and should be used instead. To use it run `pip install -U langchain-openai` and import as `from langchain_openai import ChatOpenAI`.\n",
            "  warn_deprecated(\n"
          ]
        }
      ]
    },
    {
      "cell_type": "code",
      "source": [
        "for doc in query_docs:\n",
        "  source = doc.metadata\n",
        "  result = chain.invoke([doc])\n",
        "  print(result['output_text'])\n",
        "  print(source)\n",
        "  print('')"
      ],
      "metadata": {
        "colab": {
          "base_uri": "https://localhost:8080/"
        },
        "id": "YhcSSyJ0H1Gv",
        "outputId": "196c803f-a9e2-40de-bee1-0c272bea3266"
      },
      "execution_count": 29,
      "outputs": [
        {
          "output_type": "stream",
          "name": "stdout",
          "text": [
            "The article discusses how Russian President Vladimir Putin has been able to exert influence and cause division within the United States. Despite facing criticism and sanctions, Putin has remained resilient and has successfully exploited American political divides. His actions have not only threatened US power but also strained relations between the US and its European NATO allies. The article highlights Putin's use of espionage and propaganda to provoke discord in US politics, and how he has capitalized on the tendency of American politicians to turn against each other.\n",
            "{'source': 'https://lite.cnn.com/2024/02/22/politics/putin-trump-us-election-analysis/index.html'}\n",
            "\n",
            "European leaders are increasingly concerned about the United States' commitment to their defense and are taking steps to become more self-sufficient. Former President Donald Trump's failure to condemn Russian President Vladimir Putin and his opposition to aid for Ukraine have raised fears among European leaders that the US may abandon them. European leaders are considering how to defend themselves without relying on the American nuclear and security umbrella. Efforts are being made to increase European defense production and create a pan-European ministry of defense. European countries are also pledging military aid to Ukraine. The US's reduced funding is already being felt across Europe, and without congressional action, funding for US operations in Europe could run out in May. European leaders are also discussing the issue of nuclear weapons, with France suggesting a \"clear European dimension\" to nuclear deterrence. The shift towards self-sufficiency represents a significant change for Europe, which has long relied on the US for defense.\n",
            "{'source': 'https://lite.cnn.com/2024/02/21/opinions/trump-europe-security-nato-us-andelman/index.html'}\n",
            "\n",
            "The US Justice Department has announced criminal and civil actions against sanctioned Russian oligarchs and others accused of supporting the Kremlin and its military. The actions, carried out by the Justice Department's Task Force KleptoCapture, aim to target the wealth networks surrounding Russian oligarchs and Kremlin insiders. The task force has brought about 70 criminal cases and five criminal cases against corporate entities, resulting in arrests and the seizure of approximately $700 million worth of assets. The Justice Department hopes to transfer these assets to Ukraine or use them for aid. The announcement comes ahead of the two-year anniversary of Russia's invasion of Ukraine. The White House is also expected to announce a new sanctions package against Russia, holding President Vladimir Putin accountable for the war in Ukraine and the death of opposition figure Alexey Navalny.\n",
            "{'source': 'https://lite.cnn.com/2024/02/22/politics/justice-department-criminal-civil-sanctions-russia-kremlin/index.html'}\n",
            "\n",
            "As Ukraine marks the second anniversary of Russia's invasion, Europe is facing difficult questions about its financial support for Ukraine. The war has been deadlocked for some time, and fatigue is setting in as the bills grow. The EU and its regional allies have spent over $100 billion funding Ukraine's defense effort, and the UK has pledged over $15 billion. However, as the conflict continues and political attention is diverted to other issues, spending on Ukraine could become politically harder to justify. The prospect of Donald Trump returning to the White House also raises concerns about the future of US support for Ukraine. European officials believe it is crucial to continue supporting Ukraine, even if the US pulls financial support. They suggest using frozen Russian assets to help fund Ukraine and increasing European defense capabilities. The goal is for Europe to become more independent in terms of security and defense.\n",
            "{'source': 'https://lite.cnn.com/2024/02/22/europe/ukraine-russia-eu-anniversary-intl/index.html'}\n",
            "\n",
            "The mother of Russian opposition politician Alexey Navalny claims she has seen her son's body and is being pressured to hold a secret funeral. Navalny's wife also believes that Russian President Vladimir Putin killed her husband and urges the media not to be swayed by Russian government narratives. Navalny's mother alleges that investigators want to bury his body secretly and without saying goodbye. The Russian Investigative Committee has set conditions for the release of Navalny's body, including keeping the funeral private and transporting the body to Moscow on a special plane. The Kremlin spokesperson says he has not seen the comments from Navalny's mother and that the Kremlin is dealing with other important issues. Navalny's death has drawn criticism from Western leaders, with US President Joe Biden blaming Putin for the incident. Russia has accused the US of \"hysteria\" regarding Navalny's death. Navalny, a prominent opposition leader, died in an Arctic penal colony last week.\n",
            "{'source': 'https://lite.cnn.com/2024/02/22/europe/russia-navalny-mother-body-intl/index.html'}\n",
            "\n"
          ]
        }
      ]
    },
    {
      "cell_type": "code",
      "source": [
        "chain.invoke(query_docs)"
      ],
      "metadata": {
        "colab": {
          "base_uri": "https://localhost:8080/"
        },
        "id": "v5-pnrLu825o",
        "outputId": "3d9cd3ae-faa2-41fe-f3cd-9d0f6f184f3c"
      },
      "execution_count": 30,
      "outputs": [
        {
          "output_type": "execute_result",
          "data": {
            "text/plain": [
              "{'input_documents': [Document(page_content='CNN\\n\\n2/23/2024\\n\\nPutin looms over a third successive US election\\n\\nAnalysis by Stephen Collinson, CNN\\n\\nUpdated: \\n        10:53 PM EST, Thu February 22, 2024\\n\\nSource: CNN\\n\\n“Russia, Russia, Russia.”\\n\\nEx-President Donald Trump’s scathing catchphrase for a torrent of investigations during his administration also serves as an apt catch-all for the\\xa0current meltdown over Moscow roiling US politics.\\n\\nThe United States might have beaten the Kremlin in the Cold War\\xa0and ever since regarded Moscow as a mere irritant — albeit one with nuclear arms — and have been desperate to concentrate on the showdown with its new superpower rival, China.\\n\\nBut Russia and its leader, whom President Joe Biden described as a “crazy S.O.B.” at a Wednesday fundraiser, won’t go away.\\n\\nPresident Vladimir Putin has trained the malevolence of his intelligence agencies, his military power, global diplomacy and obstructive statecraft into a multi-front assault on American power in the United States and abroad.\\n\\nHe has carved out baleful influence at the center of US politics in an extraordinary display of an adversary penetrating and exploiting American political divides. The ex-KGB lieutenant colonel, who conceived a grievance after watching the Soviet Union dissolve from his outpost in East Germany, has sparked chaos in a single-minded effort to discredit and weaken the United States. Successive US presidents have underestimated Russia, misread its historic humiliations and struggled to work out how to change Putin’s course and contain his threat.\\n\\nWestern observers often point out that Putin’s leadership has been a disaster for Russia. As oligarchs plundered natural resources, Russians were hammered by international sanctions, democracy was crushed and thousands of soldiers perished in his wars.\\n\\nBut Putin has been remarkably resilient following earlier signs that his invasion of Ukraine – nearly two years ago –\\xa0was a disaster and could even bring him down. There are now signs that Russia’s reconstituting of its armed forces and willingness to absorb horrendous losses are turning the tide of the war and raising the prospect of a victory that would turn Putin into a far greater danger.\\n\\nThe Russian leader’s leveraging of power and successful forays into US politics are, meanwhile, threatening to cause a schism between the US and European NATO allies that could put the post-World War II security architecture at risk.\\n\\nAll the ways Putin is playing in US politics\\n\\nPutin is advancing Russian interests against the US on multiple fronts.\\n\\nBiden once tried to save US-Russia relations\\n\\nBiden is just the latest president to be confronted by a national security migraine because of Putin.\\n\\nYet it wasn’t always this way. Early in his tenure, Putin sought cooperation. He was one of the first world leaders to call President George W. Bush after the September 11 attacks in 2001. Bush famously once looked into Putin’s eyes and said he got “a sense of his soul” — one of the many catastrophic misjudgments of the Russian leader by presidents in the 21st century. President Barack Obama attempted a “reset” of relations with Moscow. But after a period as prime minister, Putin returned to the presidency and became increasingly hostile toward the West. The Russian leader was particularly incensed by the US-led operation to topple Libyan leader Moammar Gadhafi in 2011. Obama’s critics now say he did too little to respond to Putin’s annexation of Crimea from Ukraine in 2014 and paved the way for Russia’s full invasion two years ago.\\n\\nTrump came to office haunted by allegations that his team colluded with Russia’s effort to damage 2016 Democratic nominee Hillary Clinton. A probe by special counsel Robert Mueller did not find evidence of conspiring between the Trump campaign and Russia. But the special counsel did detail multiple contacts between the two and wrote that the Trump campaign believed it would benefit from information stolen and released by the Russians. Whether Russia helped Trump win is impossible to say. But the subsequent fallout forever soured the new president on US intelligence agencies that he regarded as a hostile “Deep State” and led him to torch their credibility among his millions of supporters. This whipping up of domestic antagonism and the damage to US institutions plays into Russia’s goals. And the spectacle of Trump, as president at a Helsinki summit, siding with Putin and trashing US intelligence agencies over their claims of election interference remains one of the most staggering moments in the history of US-Russia relations.\\n\\nWhen Biden took over, he made a high-stakes bid to reduce the poison from relations with Moscow, meeting Putin in Geneva in an echo of old Cold War summitry. Approaching the talks with deep skepticism, Biden sought to halt Russian cybersecurity attacks and to reopen nuclear disarmament negotiations while trying to ease the risks of an accidental war.\\n\\n“We’ll find out within the next six months to a year whether or not we actually have a strategic dialogue that matters,” Biden said after the meeting in June 2021.\\n\\nIt was not much more than six months later that he got his answer, when Putin invaded Ukraine, a sovereign, democratic neighbor, which led to what has effectively become a proxy war between Biden and a Kremlin leader who has said he sees the conflict as part of a wider clash with the United States and the West.\\n\\nPutin’s efforts to weaken US power have only escalated since.\\n\\nRussia’s use of espionage agencies to inject propaganda and discord in US politics through social media and more directly by intelligence agencies was described by Mueller in his final report as an effort “designed to provoke and amplify political and social discord in the United States.”\\n\\nIronically, those efforts use two of America’s great innovations — its open, adversarial, democratic political system and the computer technology that empowered the internet – in an attempt to bring it down.\\n\\nAnd as recent days have shown, the Russian leader can always rely on one priceless resource – the reflex of American politicians to turn on one another in a way that makes his threat even stronger.\\n\\nSee Full Web Article\\n\\nGo to the full CNN experience\\n\\n© 2024 Cable News Network. A Warner Bros. Discovery Company. All Rights Reserved.\\n\\nTerms of Use\\n\\nPrivacy Policy\\n\\nAd Choices\\n\\nCookie Settings', metadata={'source': 'https://lite.cnn.com/2024/02/22/politics/putin-trump-us-election-analysis/index.html'}),\n",
              "  Document(page_content='CNN\\n\\n2/23/2024\\n\\nOpinion: Europe is already painting Trump out of its defense picture\\n\\nOpinion by David A. Andelman\\n\\nUpdated: \\n        7:20 AM EST, Thu February 22, 2024\\n\\nSource: CNN\\n\\nMadeline Albright famously called America the “indispensable nation.”\\u202fIs former President Donald Trump\\u202fmaking America\\u202fthe\\u202firrelevant nation?\\n\\nTrump finally broke\\xa0days of silence\\xa0on\\xa0Russian opposition figure Alexey Navalny’s death but failed to mention Russia or condemn Russian President Vladimir Putin in his first public comments. Meanwhile, congressional Republicans have continued to follow his lead, stalemating assistance for Ukraine, the one nation standing up to Putin’s armies.\\n\\nHouse Speaker Mike Johnson\\u202fhas resisted calls to bring a Senate-passed aid package for Ukraine up for a quick vote, instead allowing the House to adjourn for a nearly two-week recess.\\n\\nThere may be majority support for Ukraine aid\\u202fin the chamber as whole, but\\u202fJohnson faces stiff opposition\\u202ffrom his right flank over additional aid, with Trump urging Republicans to reject it.\\n\\nThese moves followed\\u202fTrump’s recent threat to tell Russia\\u202fto “do whatever the hell they want” to any NATO member nations who lag in their military spending.\\n\\nThe result? Rising fears of a new and frightening turn in the United States have left an increasing number of European leaders determined to strike out on their own.\\n\\nEven comments from\\u202fPresident\\u202fJoe Biden addressed to a recalcitrant Congress\\u202fsuch as\\u202f“the way they’re walking away from the threat of Russia, the way they’re walking away from\\xa0the threat of\\xa0NATO, the way they’re walking away from meeting our obligation, it’s\\xa0shocking,” haven’t helped.\\n\\nIndeed, much was made at the annual Munich Security Conference over congressional failures.\\xa0Most European leaders headed home from Munich, more convinced than ever that the United States is on the cusp of abandoning them.\\n\\nFor many, it is clear democracies must begin considering in concrete terms how to defend themselves without the American nuclear and security umbrella under which they have thrived for more than a half century.\\n\\nBefore leaving,\\u202fDanish Prime Minister Mette Frederiksen\\u202feven announced her country would be handing over all her nation’s artillery to Ukraine as well as F-16 fighters. “We\\xa0 have to\\xa0do more,”\\xa0Frederiksen said, as\\xa0Saturday marks the two-year anniversary\\xa0of Russia’s invasion of Ukraine.\\n\\nThe first steps toward a new direction for such a Europe — without America — are already being taken. In Berlin,\\u202fUrsula von der Leyen, the former German defense minister who has deftly steered the continent for five fraught years as the European Commission’s\\u202fpresident, announced\\u202fMonday that she would be seeking a second term. High on her agenda, she says, would be the creation of Europe’s first\\u202fcommissioner of defense.\\n\\nCreating such a pan-European ministry goes far beyond simply reshuffling bureaucrats in Brussels, however. First, there’s the question of budgets.\\n\\nAlready, America’s\\xa0reduced\\xa0funding is being felt across Europe. As\\u202fCNN reported, American support of Ukraine is still bleeding resources from the US Army’s Europe and Africa Command, now left with $3 billion to fund $5 billion in operational needs including the ferrying of weapons and equipment to Ukraine and even NATO member Poland.\\n\\nWithout congressional action, funding for US operations in Europe could run out in May, with\\u202fArmy Secretary Christine\\u202fWormuth\\u202fexpecting\\xa0the Army would\\u202f“have to sort of rob Peter to pay Paul.”\\n\\nVon der Leyen has also said that upping European defense production would be a top priority for her second term — not to mention sorting through vastly divergent budgets of the various countries.\\n\\nWith respect to Ukraine, despite his\\xa0initial\\xa0 protestations of eternal solidarity, \\u202fFrench President Emmanuel Macron’s government\\xa0has committed just\\xa0640 million euros ($686 million),\\xa0compared with Germany’s\\xa017.7 billion euros ($19.1 billion) in military aid, according to calculations from\\xa0Germany’s Kiel Institute, an economic research institute and think tank. \\xa0Although the French figure has been disputed, the institute does say “France’s contributions “are far below the UK’s,” which is only in the middle rank of European suppliers.\\n\\nStill, as a bloc, Europe at about 85 billion euros ($92 billion) has already passed\\xa0the United States at 66.2 billion euros\\xa0($71.6 billion)\\xa0in total commitments to Ukraine. US military assistance has been higher than the EU’s has been, though this has now been halted in the face of Congressional inaction while EU aid is only accelerating.\\n\\nThen there is the nuclear issue. The US has an estimated\\u202f100 nuclear weapons\\u202fdeployed at air bases in Belgium, Germany, Italy, the Netherlands and Turkey — though all launch codes are in US hands. France is the only European Union country with its own arsenal — the world’s fourth largest. With\\u202f290 operational warheads, it’s the largest in Europe, though barely 5 percent the size of Russia’s.\\n\\nFrance has refused to cede control of such weapons to any other power, though that could change. In a recent visit to Sweden,\\u202fMacron suggested\\u202fthat while nuclear deterrence is in “France’s vital interests,” such plans should have a “clear European dimension, which gives us a special responsibility.”\\n\\nBritain, while no longer in the EU, has an arsenal of\\u202f225 nuclear weapons. At the Munich Security Conference, the shadow (opposition) British Foreign Secretary\\u202fDavid Lammy\\u202fsaid his Labour Party, if elected in elections this year, would propose “a new U.K.-EU security pact.”\\n\\nAll these efforts and pledges represent a dramatic change in direction for a continent that for decades has remained chained unflinchingly to America as its guarantor. To oversee this process, Europe needs a strong and resolute individual for its first defense czar.\\n\\nOne front-runner is Estonian Prime Minister Kaja Kallas, who’s already taken the lead in a EU plan to deliver\\u202f1 million artillery shells\\u202fto Ukraine.\\n\\n“We need a combat-effective Europe, able to provide for its own defense. This is the only way to build deterrence by denial that would be credible enough to avoid war and stop Russia’s cycle of aggression,”\\u202fKallas wrote last year\\xa0for Politico Europe.\\n\\n“Since the invasion began, we have seen Russia fire Europe’s monthly artillery production in a single day in Ukraine. Capacity and sustainability will determine the outcome of this war.”\\n\\nKallas has a clear motivation in taking on such a post — a Russian bull’s-eye on her back. Last week, the Kremlin placed her on\\u202fa wanted list, apparently the first head of government to be targeted. (It accused her and others of destroying or damaging monuments in memory of Soviet soldiers.) And at Munich, she\\u202fproposed seizing all of Russia’s assets\\u202ffrozen abroad and\\u202fturning them over to Ukraine\\u202f— before November’s US presidential election.\\n\\nThe most graphic evidence, though, of just how far Europe is moving away from America and toward self-sufficiency was an opinion column Monday by Estonian President Alar Karis that discussed the region’s defense without a single reference to the United States or Donald Trump.\\n\\n“Any European country would struggle to face Russia alone,”\\u202fKaris observed. “But when we’re united, we’re invincible.”\\n\\nOr in a direct slap at Trump,\\u202fGerman magazine Der Spiegel\\xa0noted: “NATO, of course, is not a (debt) collection agency.”\\n\\nSee Full Web Article\\n\\nGo to the full CNN experience\\n\\n© 2024 Cable News Network. A Warner Bros. Discovery Company. All Rights Reserved.\\n\\nTerms of Use\\n\\nPrivacy Policy\\n\\nAd Choices\\n\\nCookie Settings', metadata={'source': 'https://lite.cnn.com/2024/02/21/opinions/trump-europe-security-nato-us-andelman/index.html'}),\n",
              "  Document(page_content='CNN\\n\\n2/23/2024\\n\\nJustice Department announces criminal and civil actions against sanctioned Russian oligarchs\\n\\nBy Hannah Rabinowitz, CNN\\n\\nUpdated: \\n        2:23 PM EST, Thu February 22, 2024\\n\\nSource: CNN\\n\\nThe Justice Department on Thursday announced a sweeping set of criminal and civil enforcement actions targeting sanctioned Russian oligarchs and others accused of working to support the Kremlin and its military.\\n\\nThe announcement, made by the Justice Department’s\\xa0Task Force KleptoCapture, comes days before the two-year anniversary of Russia’s invasion of Ukraine.\\n\\nThe task force — made up of federal prosecutors, investigators, and analysts — has targeted the web of wealth surrounding Russian oligarchs and Kremlin insiders.\\xa0In the two years since Russia’s invasion, the task force has brought about 70 criminal cases against individuals and five criminal cases against corporate entities. More than a dozen of those charged have been arrested worldwide, department officials said.\\n\\nThe task force has also moved to seize about $700 million worth of assets, which Justice Department officials said they hope to ultimately transfer to Ukraine or use in aid. While the bulk of that money is still in the process of being forfeited, department officials said, about $6 million has been transferred to Ukraine thus far.\\n\\nAs the Justice Department works to enforce existing sanctions, the White House is also set to announce a new sanctions package against Russia on Friday,\\xa0CNN has reported. The sanctions are aimed to hold Russian President Vladimir Putin accountable for Russia’s war in Ukraine — which hits the 2-year mark on Saturday — and\\xa0for the death of opposition figure Alexey Navalny, US National Security Council spokesperson John Kirby said on Tuesday.\\n\\nDavid Lim, one of the co-directors of the task force, said Thursday that he hopes the enforcement actions demonstrate the department’s “commitment and resolve to enforcing our laws in the hopes that we are able to play a role in supporting the Ukrainian people.”\\n\\n“What you have seen through today’s public announcement are our efforts at really targeting the facilitators who possess the requisite skill set, access, connections that allowed the Russian war machine, the Russian elites, to continually see have access to western services and western goods,” Lim said.\\n\\nAttorney General Merrick Garland, meanwhile, said in a statement that the Justice Department “is more committed than ever to cutting off the flow of illegal funds that are fueling Putin’s war and to holding accountable those who continue to enable it.”\\n\\nAs part of Thursday’s announcement, the Justice Department unveiled two cases out of Florida. In the first case, prosecutors announced criminal charges against a pro-Russian Ukrainian oligarch accused doing more than $300 million in business in violation of US sanctions.\\n\\nProsecutors also filed a civil forfeiture complaint against two luxury condos in Miami that they say are owned by sanctioned Russian oligarch Viktor Perevalov. The properties are located at the Ritz-Carlton, prosecutors said, and are valued at approximately $2.5 million.\\n\\nIn New York, prosecutors announced charges against another sanctioned Russian oligarch accused of laundering money to “support two superyachts.” The oligarch, Andrey Kostin, and two US-based individuals are also charged with scheming to evade US sanctions by concealing Kostin’s ownership of an apartment in Aspen, Colorado, and working to update the apartment. The three also tried to sell the home for $12 million.\\n\\nThe department brought additional charges against Vladislav Osipov, a dual Russian and Swiss national accused of hiding his ownership of a 255-foot luxury yacht named “Tango” in violation of US sanctions.\\n\\nAnd in Georgia, prosecutors secured a guilty plea from Atlanta-based dual national Feliks Medvedev for his role in an alleged plot to launder more than $150 million through bank accounts and shell companies on behalf of Russian clients.\\n\\nThis story has been updated with additional information.\\n\\nSee Full Web Article\\n\\nGo to the full CNN experience\\n\\n© 2024 Cable News Network. A Warner Bros. Discovery Company. All Rights Reserved.\\n\\nTerms of Use\\n\\nPrivacy Policy\\n\\nAd Choices\\n\\nCookie Settings', metadata={'source': 'https://lite.cnn.com/2024/02/22/politics/justice-department-criminal-civil-sanctions-russia-kremlin/index.html'}),\n",
              "  Document(page_content='CNN\\n\\n2/23/2024\\n\\nWorld\\n    /\\n\\nEurope\\n\\nAs Ukraine marks two years since Russia’s invasion, Europe is facing difficult questions\\n\\nAnalysis by Luke McGee, CNN\\n\\nUpdated: \\n        1:49 PM EST, Thu February 22, 2024\\n\\nSource: CNN\\n\\nAs the world prepares to mark the second anniversary of Vladimir Putin’s Ukraine invasion this week, Europe must ask itself some searching questions about the war that unexpectedly erupted on its borders – and how it will approach the next 12 months.\\n\\nArguably most important among those questions: How long can it practically sustain such draining financial support for Ukraine?\\n\\nThat thought is not new,\\xa0but is increasingly echoed privately in some corners of officialdom. It also reflects several current grim truths.\\n\\nThe war has\\xa0been deadlocked for\\xa0some time,\\xa0while\\xa0last week,\\xa0Ukraine\\xa0was forced to withdraw from the key town of Avdiivka after months of fierce fighting, marking its worst defeat since the fall of Bakhmut in May.\\n\\nMoney desperately needed from the United\\xa0States\\xa0is stuck, having passed the Senate but awaiting House approval. Unity between the European\\xa0Union\\xa0(EU)\\xa0and NATO\\xa0is starting to fray, with nearly every big decision held up and threatened with veto.\\n\\nNo serious Western voices want to abandon\\xa0Kyiv, but it’s undeniable that fatigue is setting in as the bills grow.\\n\\nSince the start of the crisis, the EU\\xa0and its regional allies have spent\\xa0more than\\xa0$100 billion funding Ukraine’s defense effort, according to the Kiel Institute’s Ukraine Support Tracker.\\n\\nEarlier this month, EU leaders agreed to a $54 billion package for Ukraine between now and 2027. The United\\xa0Kingdom, arguably the major security player in the region, has also pledged\\xa0more than\\xa0$15 billion\\xa0to Ukraine since 2022. For context, according to the Kiel Institute the US has spent\\xa0$66 billion, with another $60 billion in the pipeline.\\n\\nWhile the West’s resounding support for Ukraine since 2022\\xa0has\\xa0surprised many in\\xa0the\\xa0diplomatic world, the longer the war drags on, the more the fatigue grows.\\n\\nBetween there being no end to the conflict in sight,\\xa0and\\xa0competition for political attention in the Middle East – as well as domestic concerns from inflation-led cost-of-living crises\\xa0around the world\\xa0– spending huge sums on Ukraine could become politically harder to stomach for governments.\\n\\nThe political pressure on spending will become more visible as European Parliamentary elections take place in June, as well as national polls in multiple countries including the UK, a key Ukrainian ally.\\n\\nEuropean officials need only look at the difficulty US President Joe Biden is having with his own Ukraine package to see the real-world impact of funding a costly overseas war when it comes into direct contact with domestic politics.\\n\\nAdding\\xa0to these inauspicious distractions\\xa0is\\xa0the prospect of Donald Trump returning to the White House next year.\\n\\nTrump has not clearly stated what his Ukraine policy would be, save his claim that he could end the war within 24 hours. The former president’s anti-NATO rhetoric, general disdain for European institutions and odd admiration for Putin are well-known.\\n\\nWhile no one knows what another Trump presidency might materially mean, it is plausible to envisage a worst-case scenario for Ukraine, where it loses momentum on the ground while the new\\xa0occupant of the White House\\xa0decides that America has spent enough already.\\n\\nThis is an alarming prospect for European officials who already believe Putin is digging in and trying to wait out the West.\\n\\nThis is where the next 12 months become crucial for Ukraine’s European allies. It is manifestly in continental Europe’s interest that Putin does not win this war – there are very few who would disagree with that sentiment.\\n\\nIt is therefore crucial, officials say, that whatever happens in America, Europeans hold their noses and keep spending, however hard it seems.\\n\\nIn the run-up to the\\xa0US\\xa0presidential election, the question of what happens to European security without America will inevitably be asked. And while it is true that Ukrainian security is directly tied to wider European security, the immediate question of how to\\xa0support\\xa0Kyiv\\xa0is subtly different to Europe’s long-term goal of greater security independence from DC.\\n\\nCan Europe continue funding Ukraine if the US pulls\\xa0financial support?\\n\\nMost officials argue that it can. It would be difficult, sure, but possible. “The EU is very good at raising funds and there are tools it hasn’t yet used,” one NATO official\\xa0told CNN.\\n\\nThe official\\xa0said\\xa0that in the next 12 months, Brussels should start to look at using money tied up in frozen Russian assets to help fund Ukraine. “While that money cannot legally be used to buy weapons, it can be used to cover compensation costs, freeing up money for weapons from EU and national budgets,”\\xa0they said.\\n\\nDiplomatic voices who have eyes on the world beyond Europe raise eyebrows at this. Some fear that setting a precedent for using frozen assets to raise money for foreign wars could give countries like China a green light to do the same in its internal regional battles. Beijing introduced a new law\\xa0last year\\xa0that\\xa0makes\\xa0it easier to do\\xa0similar to foreign assets within China.\\n\\nThe thornier issue is whether or not Europe could provide\\xa0Kyiv\\xa0with the weapons it needs to win the war without American support.\\n\\nThe answer to that would be no. Europe simply doesn’t have the manufacturing heft right now to independently serve Ukraine over the next 12 months.\\n\\nHowever, Western diplomats are optimistic that arming Ukraine fits perfectly with a much-needed European drive to reduce its reliance on America.\\n\\nOfficials point to a recent deal, brokered by NATO, where European countries have pledged to purchase 1,000 missiles from American firms that will be built in a new German factory.\\n\\nAlmost everyone agrees that Europe needs to buy more weapons and have a security policy that is not so reliant on the US. Achieving that needn’t come at the expense of America, and dangling the carrot of lucrative contracts for US companies is one way of ensuring everyone wins.\\n\\nPutin’s unprovoked invasion of Ukraine is a travesty that has cost unnecessary lives. If any positives are to come from it, they should include Europe finally becoming fit to defend itself, and cooperating with its old ally.\\n\\nAnd for what it’s worth, the vast majority of Western officials believe that if Europe can spend the next year making itself fighting fit, it will be far easier to keep a future President Trump onside.\\n\\nSee Full Web Article\\n\\nGo to the full CNN experience\\n\\n© 2024 Cable News Network. A Warner Bros. Discovery Company. All Rights Reserved.\\n\\nTerms of Use\\n\\nPrivacy Policy\\n\\nAd Choices\\n\\nCookie Settings', metadata={'source': 'https://lite.cnn.com/2024/02/22/europe/ukraine-russia-eu-anniversary-intl/index.html'}),\n",
              "  Document(page_content='CNN\\n\\n2/23/2024\\n\\nWorld\\n    /\\n\\nEurope\\n\\nMother of Kremlin critic Alexey Navalny says she has seen his body, is being pressured to hold secret funeral\\n\\nBy Anna Chernova, Sebastian Shukla, Christian Edwards and AnneClaire Stapleton, CNN\\n\\nUpdated: \\n        5:42 PM EST, Thu February 22, 2024\\n\\nSource: CNN\\n\\nThe mother of Russian opposition politician Alexey Navalny, who died in an Arctic penal colony last week, said Thursday she had seen her son’s body and was being pressured to hold a secret funeral.\\n\\nLyudmila Navalnaya said she had seen her son’s body on Wednesday in a morgue in Salekhard, the Siberian town near the prison where Navalny had been held since December, after being denied access to it for days after his death.\\n\\nShe also saw a medical report stating his cause of death as being natural, Navalny’s spokesperson, Kira Yarmysh, said on X. The late Kremlin critic’s wife, Yulia Navalnaya, reiterated on Thursday that she believes Russian President Vladimir Putin killed her husband and urged the media not to be diverted by Russian government narratives.\\n\\nIn a video posted on her son’s YouTube channel, Navalny’s mother said: “According to the law, they should have given me Alexey’s body right away, but they haven’t done it yet. Instead, they blackmail me and set conditions for where, when and how Alexey should be buried.”\\n\\n“I’m recording this video because they started threatening me. Looking into my eyes they say that if I don’t agree to a secret funeral they will do something with my son’s body,” she said.\\n\\nNavalnaya claimed that an investigator named Voropayev told her: “Time is working against you. The corpse is decomposing.” She did not give the full name of the official.\\n\\nShe also claimed the Russian Investigative Committee looking into the circumstances of her son’s death would like to bury his body “secretly without saying goodbye.” She said the investigators “claim that they know the cause of death and that they have all the medical legal documents,” and that she had signed his medical death certificate.\\n\\nIvan Zhdanov, the director of\\xa0Navalny’s Anti-Corruption Foundation,\\xa0told Russian\\xa0journalist Alexander Plyushchev the committee had set numerous\\xa0conditions for Navalny’s mother to follow before they would release the body.\\n\\nAmong those conditions, he claimed, were that that any funeral should be kept “among the family” and not announced, to prevent crowds from gathering, and that the body should be transported to Moscow on a special plane. The family would also have to be accompanied by an employee of the\\xa0committee\\xa0at all times before the funeral, he said, and Navalny’s\\xa0body\\xa0would have to be kept in either the Moscow or Vladimir region prior to burial because the committee\\xa0was “afraid that the morgue will be stormed.”\\n\\nOnly when those conditions were met would the family receive Navalny’s death certificate, Zhdanov said.\\n\\nNavalny’s\\xa0mother\\xa0was first denied the cemetery of her choice, and then both parties agreed\\xa0to\\xa0hold the funeral at Khovanskoye cemetery in Moscow, Zhdanov said, adding that the parties hadn’t agreed on the farewell hall.\\xa0Navalny’s\\xa0mother\\xa0was pressured into\\xa0agreeing\\xa0to\\xa0these\\xa0conditions, Zhdanov added.\\n\\nKremlin spokesperson\\xa0Dmitry Peskov told CNN’s Matthew Chance that he had not seen the comments from Navalny’s mother regarding her son’s body and the issues she claims she is experiencing with investigators.\\n\\n“Unfortunately, I have not seen her words so I cannot comment on that,” Peskov said. He added that the Kremlin was “dealing with different issues which are of great importance for our country.”\\n\\nNavalny’s wife, Navalnaya, had earlier accused Russian authorities of “hiding” his body in an attempt to disguise the cause of his death. She said they were “lying pathetically” and waiting for “traces of another of Putin’s Novichoks to disappear.” The Kremlin has said an investigation into the circumstances around Navalny’s death is “underway” and the results are currently “unknown.”\\n\\nNavalny’s mother’s claims to have seen his body come almost a week after his death was announced on February 16. The news drew barbed reaction from Western leaders, including US President Joe Biden, who pinned the blame on his Russian counterpart, saying that “what has happened to Navalny is yet more proof of Putin’s brutality.”\\n\\nRussia meanwhile has accused the US of “hysteria,” regarding his death. “The US acts as the prosecutors, as the judge, and as the punisher all in one, and this hysteria regarding the death of Navalny is a prime example of that,” Russian Foreign Minister Sergey Lavrov said Thursday at a G20 press conference in Rio de Janeiro, Brazil. “These people have no right to interfere in our home affairs, especially given their own problems,” Lavrov said.\\n\\nUS President Joe Biden met with Navalny’s wife and daughter in California on Thursday, where he expressed his condolences and his “admiration” for Navalny’s “extraordinary courage and his legacy of fighting against corruption.”\\n\\nNavalny was Russia’s highest-profile opposition leader and spent years criticizing Putin, who has been in power for nearly a quarter of a century, at great personal risk. His death came weeks before the country’s presidential elections scheduled for March 17, which is widely seen by the international community as little more than a formality that will secure Putin a fifth term in power.\\n\\nHe returned to Russia in 2021 from Germany, where he had been treated after being poisoned with Novichok, a Soviet-era nerve agent. On arrival Navalny was swiftly arrested – on charges he dismissed as politically motivated – and spent the rest of his life in prison.\\n\\nThe Russian prison service said Navalny “felt unwell after a walk” in his Siberian penal colony and “almost immediately” lost consciousness.\\n\\nNavalny was sentenced to 19 years in prison in August after being found guilty of creating an extremist community, financing extremist activists and various other crimes. He was already serving sentences of 11-and-a-half years in a maximum security facility on fraud and other changes he denies.\\n\\nHe was initially imprisoned in a penal colony about 150 miles east of Moscow, but his lawyers in December said they had lost contact with him for nearly three weeks. After filing 680 requests to locate him, his team announced on December 25 that they had “found” Navalny more than 1,000 miles away at the IK-3 penal colony in Kharp, known as “Polar Wolf.”\\n\\nNavalny spent his final weeks in the IK-3 colony, where he described the “freezing” conditions to a Moscow court, telling them he slept under a newspaper for warmth.\\n\\nThis is a developing story and will be updated\\n\\nSee Full Web Article\\n\\nGo to the full CNN experience\\n\\n© 2024 Cable News Network. A Warner Bros. Discovery Company. All Rights Reserved.\\n\\nTerms of Use\\n\\nPrivacy Policy\\n\\nAd Choices\\n\\nCookie Settings', metadata={'source': 'https://lite.cnn.com/2024/02/22/europe/russia-navalny-mother-body-intl/index.html'})],\n",
              " 'output_text': \"The article discusses the ongoing influence of Russian President Vladimir Putin on US politics and the potential consequences for US-European relations. It highlights Putin's efforts to weaken US power and exploit political divides in the country, as well as the threat this poses to the post-World War II security architecture. The article also mentions the Justice Department's announcement of criminal and civil actions against sanctioned Russian oligarchs, as well as the difficulties Europe faces in sustaining financial support for Ukraine. Additionally, it covers the pressure faced by the mother of Kremlin critic Alexey Navalny to hold a secret funeral and the accusations made by Navalny's wife against Russian authorities.\"}"
            ]
          },
          "metadata": {},
          "execution_count": 30
        }
      ]
    }
  ]
}