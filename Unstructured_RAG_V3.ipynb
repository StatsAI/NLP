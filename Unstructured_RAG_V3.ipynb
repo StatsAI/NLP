{
  "nbformat": 4,
  "nbformat_minor": 0,
  "metadata": {
    "colab": {
      "provenance": [],
      "include_colab_link": true
    },
    "kernelspec": {
      "name": "python3",
      "display_name": "Python 3"
    },
    "language_info": {
      "name": "python"
    }
  },
  "cells": [
    {
      "cell_type": "markdown",
      "metadata": {
        "id": "view-in-github",
        "colab_type": "text"
      },
      "source": [
        "<a href=\"https://colab.research.google.com/github/StatsAI/NLP/blob/main/Unstructured_RAG_V3.ipynb\" target=\"_parent\"><img src=\"https://colab.research.google.com/assets/colab-badge.svg\" alt=\"Open In Colab\"/></a>"
      ]
    },
    {
      "cell_type": "code",
      "source": [
        "# Author: Hussain Abbas, MSc\n",
        "# © 2025 Stats AI LLC\n",
        "# All Rights Reserved"
      ],
      "metadata": {
        "id": "vQ4jIA0RPOzO"
      },
      "execution_count": null,
      "outputs": []
    },
    {
      "cell_type": "code",
      "execution_count": 1,
      "metadata": {
        "colab": {
          "base_uri": "https://localhost:8080/",
          "height": 1000
        },
        "id": "fg-z6olse1cO",
        "outputId": "183b7ad4-da62-4540-b925-b8b75324b457"
      },
      "outputs": [
        {
          "output_type": "stream",
          "name": "stdout",
          "text": [
            "Collecting unstructured[all-docs]\n",
            "  Downloading unstructured-0.16.23-py3-none-any.whl.metadata (24 kB)\n",
            "Requirement already satisfied: chardet in /usr/local/lib/python3.11/dist-packages (from unstructured[all-docs]) (5.2.0)\n",
            "Collecting filetype (from unstructured[all-docs])\n",
            "  Downloading filetype-1.2.0-py2.py3-none-any.whl.metadata (6.5 kB)\n",
            "Collecting python-magic (from unstructured[all-docs])\n",
            "  Downloading python_magic-0.4.27-py2.py3-none-any.whl.metadata (5.8 kB)\n",
            "Requirement already satisfied: lxml in /usr/local/lib/python3.11/dist-packages (from unstructured[all-docs]) (5.3.1)\n",
            "Requirement already satisfied: nltk in /usr/local/lib/python3.11/dist-packages (from unstructured[all-docs]) (3.9.1)\n",
            "Requirement already satisfied: requests in /usr/local/lib/python3.11/dist-packages (from unstructured[all-docs]) (2.32.3)\n",
            "Requirement already satisfied: beautifulsoup4 in /usr/local/lib/python3.11/dist-packages (from unstructured[all-docs]) (4.13.3)\n",
            "Collecting emoji (from unstructured[all-docs])\n",
            "  Downloading emoji-2.14.1-py3-none-any.whl.metadata (5.7 kB)\n",
            "Collecting dataclasses-json (from unstructured[all-docs])\n",
            "  Downloading dataclasses_json-0.6.7-py3-none-any.whl.metadata (25 kB)\n",
            "Collecting python-iso639 (from unstructured[all-docs])\n",
            "  Downloading python_iso639-2025.2.18-py3-none-any.whl.metadata (14 kB)\n",
            "Collecting langdetect (from unstructured[all-docs])\n",
            "  Downloading langdetect-1.0.9.tar.gz (981 kB)\n",
            "\u001b[2K     \u001b[90m━━━━━━━━━━━━━━━━━━━━━━━━━━━━━━━━━━━━━━━━\u001b[0m \u001b[32m981.5/981.5 kB\u001b[0m \u001b[31m13.7 MB/s\u001b[0m eta \u001b[36m0:00:00\u001b[0m\n",
            "\u001b[?25h  Preparing metadata (setup.py) ... \u001b[?25l\u001b[?25hdone\n",
            "Requirement already satisfied: numpy<2 in /usr/local/lib/python3.11/dist-packages (from unstructured[all-docs]) (1.26.4)\n",
            "Collecting rapidfuzz (from unstructured[all-docs])\n",
            "  Downloading rapidfuzz-3.12.1-cp311-cp311-manylinux_2_17_x86_64.manylinux2014_x86_64.whl.metadata (11 kB)\n",
            "Collecting backoff (from unstructured[all-docs])\n",
            "  Downloading backoff-2.2.1-py3-none-any.whl.metadata (14 kB)\n",
            "Requirement already satisfied: typing-extensions in /usr/local/lib/python3.11/dist-packages (from unstructured[all-docs]) (4.12.2)\n",
            "Collecting unstructured-client (from unstructured[all-docs])\n",
            "  Downloading unstructured_client-0.30.2-py3-none-any.whl.metadata (23 kB)\n",
            "Requirement already satisfied: wrapt in /usr/local/lib/python3.11/dist-packages (from unstructured[all-docs]) (1.17.2)\n",
            "Requirement already satisfied: tqdm in /usr/local/lib/python3.11/dist-packages (from unstructured[all-docs]) (4.67.1)\n",
            "Requirement already satisfied: psutil in /usr/local/lib/python3.11/dist-packages (from unstructured[all-docs]) (5.9.5)\n",
            "Collecting python-oxmsg (from unstructured[all-docs])\n",
            "  Downloading python_oxmsg-0.0.2-py3-none-any.whl.metadata (5.0 kB)\n",
            "Requirement already satisfied: html5lib in /usr/local/lib/python3.11/dist-packages (from unstructured[all-docs]) (1.1)\n",
            "Requirement already satisfied: pandas in /usr/local/lib/python3.11/dist-packages (from unstructured[all-docs]) (2.2.2)\n",
            "Requirement already satisfied: xlrd in /usr/local/lib/python3.11/dist-packages (from unstructured[all-docs]) (2.0.1)\n",
            "Collecting pdfminer.six (from unstructured[all-docs])\n",
            "  Downloading pdfminer.six-20240706-py3-none-any.whl.metadata (4.1 kB)\n",
            "Requirement already satisfied: markdown in /usr/local/lib/python3.11/dist-packages (from unstructured[all-docs]) (3.7)\n",
            "Collecting effdet (from unstructured[all-docs])\n",
            "  Downloading effdet-0.4.1-py3-none-any.whl.metadata (33 kB)\n",
            "Requirement already satisfied: openpyxl in /usr/local/lib/python3.11/dist-packages (from unstructured[all-docs]) (3.1.5)\n",
            "Collecting pdf2image (from unstructured[all-docs])\n",
            "  Downloading pdf2image-1.17.0-py3-none-any.whl.metadata (6.2 kB)\n",
            "Requirement already satisfied: networkx in /usr/local/lib/python3.11/dist-packages (from unstructured[all-docs]) (3.4.2)\n",
            "Collecting google-cloud-vision (from unstructured[all-docs])\n",
            "  Downloading google_cloud_vision-3.10.0-py2.py3-none-any.whl.metadata (5.3 kB)\n",
            "Collecting pypdf (from unstructured[all-docs])\n",
            "  Downloading pypdf-5.3.0-py3-none-any.whl.metadata (7.2 kB)\n",
            "Collecting unstructured.pytesseract>=0.3.12 (from unstructured[all-docs])\n",
            "  Downloading unstructured.pytesseract-0.3.13-py3-none-any.whl.metadata (11 kB)\n",
            "Collecting unstructured-inference>=0.8.7 (from unstructured[all-docs])\n",
            "  Downloading unstructured_inference-0.8.7-py3-none-any.whl.metadata (5.3 kB)\n",
            "Collecting pikepdf (from unstructured[all-docs])\n",
            "  Downloading pikepdf-9.5.2-cp311-cp311-manylinux_2_17_x86_64.manylinux2014_x86_64.whl.metadata (8.1 kB)\n",
            "Collecting pypandoc (from unstructured[all-docs])\n",
            "  Downloading pypandoc-1.15-py3-none-any.whl.metadata (16 kB)\n",
            "Collecting onnx (from unstructured[all-docs])\n",
            "  Downloading onnx-1.17.0-cp311-cp311-manylinux_2_17_x86_64.manylinux2014_x86_64.whl.metadata (16 kB)\n",
            "Collecting python-docx>=1.1.2 (from unstructured[all-docs])\n",
            "  Downloading python_docx-1.1.2-py3-none-any.whl.metadata (2.0 kB)\n",
            "Collecting pi-heif (from unstructured[all-docs])\n",
            "  Downloading pi_heif-0.21.0-cp311-cp311-manylinux_2_17_x86_64.manylinux2014_x86_64.whl.metadata (6.5 kB)\n",
            "Collecting python-pptx>=1.0.1 (from unstructured[all-docs])\n",
            "  Downloading python_pptx-1.0.2-py3-none-any.whl.metadata (2.5 kB)\n",
            "Requirement already satisfied: Pillow>=3.3.2 in /usr/local/lib/python3.11/dist-packages (from python-pptx>=1.0.1->unstructured[all-docs]) (11.1.0)\n",
            "Collecting XlsxWriter>=0.5.7 (from python-pptx>=1.0.1->unstructured[all-docs])\n",
            "  Downloading XlsxWriter-3.2.2-py3-none-any.whl.metadata (2.8 kB)\n",
            "Collecting python-multipart (from unstructured-inference>=0.8.7->unstructured[all-docs])\n",
            "  Downloading python_multipart-0.0.20-py3-none-any.whl.metadata (1.8 kB)\n",
            "Requirement already satisfied: huggingface-hub in /usr/local/lib/python3.11/dist-packages (from unstructured-inference>=0.8.7->unstructured[all-docs]) (0.28.1)\n",
            "Requirement already satisfied: opencv-python!=4.7.0.68 in /usr/local/lib/python3.11/dist-packages (from unstructured-inference>=0.8.7->unstructured[all-docs]) (4.11.0.86)\n",
            "Collecting onnxruntime>=1.17.0 (from unstructured-inference>=0.8.7->unstructured[all-docs])\n",
            "  Downloading onnxruntime-1.20.1-cp311-cp311-manylinux_2_27_x86_64.manylinux_2_28_x86_64.whl.metadata (4.5 kB)\n",
            "Requirement already satisfied: matplotlib in /usr/local/lib/python3.11/dist-packages (from unstructured-inference>=0.8.7->unstructured[all-docs]) (3.10.0)\n",
            "Requirement already satisfied: torch in /usr/local/lib/python3.11/dist-packages (from unstructured-inference>=0.8.7->unstructured[all-docs]) (2.5.1+cu124)\n",
            "Requirement already satisfied: timm in /usr/local/lib/python3.11/dist-packages (from unstructured-inference>=0.8.7->unstructured[all-docs]) (1.0.14)\n",
            "Requirement already satisfied: transformers>=4.25.1 in /usr/local/lib/python3.11/dist-packages (from unstructured-inference>=0.8.7->unstructured[all-docs]) (4.48.3)\n",
            "Requirement already satisfied: scipy in /usr/local/lib/python3.11/dist-packages (from unstructured-inference>=0.8.7->unstructured[all-docs]) (1.13.1)\n",
            "Collecting pypdfium2 (from unstructured-inference>=0.8.7->unstructured[all-docs])\n",
            "  Downloading pypdfium2-4.30.1-py3-none-manylinux_2_17_x86_64.manylinux2014_x86_64.whl.metadata (48 kB)\n",
            "\u001b[2K     \u001b[90m━━━━━━━━━━━━━━━━━━━━━━━━━━━━━━━━━━━━━━━━\u001b[0m \u001b[32m48.2/48.2 kB\u001b[0m \u001b[31m3.2 MB/s\u001b[0m eta \u001b[36m0:00:00\u001b[0m\n",
            "\u001b[?25hRequirement already satisfied: charset-normalizer>=2.0.0 in /usr/local/lib/python3.11/dist-packages (from pdfminer.six->unstructured[all-docs]) (3.4.1)\n",
            "Requirement already satisfied: cryptography>=36.0.0 in /usr/local/lib/python3.11/dist-packages (from pdfminer.six->unstructured[all-docs]) (43.0.3)\n",
            "Requirement already satisfied: packaging>=21.3 in /usr/local/lib/python3.11/dist-packages (from unstructured.pytesseract>=0.3.12->unstructured[all-docs]) (24.2)\n",
            "Requirement already satisfied: soupsieve>1.2 in /usr/local/lib/python3.11/dist-packages (from beautifulsoup4->unstructured[all-docs]) (2.6)\n",
            "Collecting marshmallow<4.0.0,>=3.18.0 (from dataclasses-json->unstructured[all-docs])\n",
            "  Downloading marshmallow-3.26.1-py3-none-any.whl.metadata (7.3 kB)\n",
            "Collecting typing-inspect<1,>=0.4.0 (from dataclasses-json->unstructured[all-docs])\n",
            "  Downloading typing_inspect-0.9.0-py3-none-any.whl.metadata (1.5 kB)\n",
            "Requirement already satisfied: torchvision in /usr/local/lib/python3.11/dist-packages (from effdet->unstructured[all-docs]) (0.20.1+cu124)\n",
            "Requirement already satisfied: pycocotools>=2.0.2 in /usr/local/lib/python3.11/dist-packages (from effdet->unstructured[all-docs]) (2.0.8)\n",
            "Collecting omegaconf>=2.0 (from effdet->unstructured[all-docs])\n",
            "  Downloading omegaconf-2.3.0-py3-none-any.whl.metadata (3.9 kB)\n",
            "Requirement already satisfied: google-api-core!=2.0.*,!=2.1.*,!=2.10.*,!=2.2.*,!=2.3.*,!=2.4.*,!=2.5.*,!=2.6.*,!=2.7.*,!=2.8.*,!=2.9.*,<3.0.0dev,>=1.34.1 in /usr/local/lib/python3.11/dist-packages (from google-api-core[grpc]!=2.0.*,!=2.1.*,!=2.10.*,!=2.2.*,!=2.3.*,!=2.4.*,!=2.5.*,!=2.6.*,!=2.7.*,!=2.8.*,!=2.9.*,<3.0.0dev,>=1.34.1->google-cloud-vision->unstructured[all-docs]) (2.19.2)\n",
            "Requirement already satisfied: google-auth!=2.24.0,!=2.25.0,<3.0.0dev,>=2.14.1 in /usr/local/lib/python3.11/dist-packages (from google-cloud-vision->unstructured[all-docs]) (2.27.0)\n",
            "Requirement already satisfied: proto-plus<2.0.0dev,>=1.22.3 in /usr/local/lib/python3.11/dist-packages (from google-cloud-vision->unstructured[all-docs]) (1.26.0)\n",
            "Requirement already satisfied: protobuf!=4.21.0,!=4.21.1,!=4.21.2,!=4.21.3,!=4.21.4,!=4.21.5,<6.0.0dev,>=3.20.2 in /usr/local/lib/python3.11/dist-packages (from google-cloud-vision->unstructured[all-docs]) (4.25.6)\n",
            "Requirement already satisfied: six>=1.9 in /usr/local/lib/python3.11/dist-packages (from html5lib->unstructured[all-docs]) (1.17.0)\n",
            "Requirement already satisfied: webencodings in /usr/local/lib/python3.11/dist-packages (from html5lib->unstructured[all-docs]) (0.5.1)\n",
            "Requirement already satisfied: click in /usr/local/lib/python3.11/dist-packages (from nltk->unstructured[all-docs]) (8.1.8)\n",
            "Requirement already satisfied: joblib in /usr/local/lib/python3.11/dist-packages (from nltk->unstructured[all-docs]) (1.4.2)\n",
            "Requirement already satisfied: regex>=2021.8.3 in /usr/local/lib/python3.11/dist-packages (from nltk->unstructured[all-docs]) (2024.11.6)\n",
            "Requirement already satisfied: et-xmlfile in /usr/local/lib/python3.11/dist-packages (from openpyxl->unstructured[all-docs]) (2.0.0)\n",
            "Requirement already satisfied: python-dateutil>=2.8.2 in /usr/local/lib/python3.11/dist-packages (from pandas->unstructured[all-docs]) (2.8.2)\n",
            "Requirement already satisfied: pytz>=2020.1 in /usr/local/lib/python3.11/dist-packages (from pandas->unstructured[all-docs]) (2025.1)\n",
            "Requirement already satisfied: tzdata>=2022.7 in /usr/local/lib/python3.11/dist-packages (from pandas->unstructured[all-docs]) (2025.1)\n",
            "Requirement already satisfied: Deprecated in /usr/local/lib/python3.11/dist-packages (from pikepdf->unstructured[all-docs]) (1.2.18)\n",
            "Collecting olefile (from python-oxmsg->unstructured[all-docs])\n",
            "  Downloading olefile-0.47-py2.py3-none-any.whl.metadata (9.7 kB)\n",
            "Requirement already satisfied: idna<4,>=2.5 in /usr/local/lib/python3.11/dist-packages (from requests->unstructured[all-docs]) (3.10)\n",
            "Requirement already satisfied: urllib3<3,>=1.21.1 in /usr/local/lib/python3.11/dist-packages (from requests->unstructured[all-docs]) (2.3.0)\n",
            "Requirement already satisfied: certifi>=2017.4.17 in /usr/local/lib/python3.11/dist-packages (from requests->unstructured[all-docs]) (2025.1.31)\n",
            "Collecting aiofiles>=24.1.0 (from unstructured-client->unstructured[all-docs])\n",
            "  Downloading aiofiles-24.1.0-py3-none-any.whl.metadata (10 kB)\n",
            "Collecting eval-type-backport>=0.2.0 (from unstructured-client->unstructured[all-docs])\n",
            "  Downloading eval_type_backport-0.2.2-py3-none-any.whl.metadata (2.2 kB)\n",
            "Requirement already satisfied: httpx>=0.27.0 in /usr/local/lib/python3.11/dist-packages (from unstructured-client->unstructured[all-docs]) (0.28.1)\n",
            "Requirement already satisfied: nest-asyncio>=1.6.0 in /usr/local/lib/python3.11/dist-packages (from unstructured-client->unstructured[all-docs]) (1.6.0)\n",
            "Requirement already satisfied: pydantic>=2.10.3 in /usr/local/lib/python3.11/dist-packages (from unstructured-client->unstructured[all-docs]) (2.10.6)\n",
            "Requirement already satisfied: requests-toolbelt>=1.0.0 in /usr/local/lib/python3.11/dist-packages (from unstructured-client->unstructured[all-docs]) (1.0.0)\n",
            "Requirement already satisfied: cffi>=1.12 in /usr/local/lib/python3.11/dist-packages (from cryptography>=36.0.0->pdfminer.six->unstructured[all-docs]) (1.17.1)\n",
            "Requirement already satisfied: googleapis-common-protos<2.0.dev0,>=1.56.2 in /usr/local/lib/python3.11/dist-packages (from google-api-core!=2.0.*,!=2.1.*,!=2.10.*,!=2.2.*,!=2.3.*,!=2.4.*,!=2.5.*,!=2.6.*,!=2.7.*,!=2.8.*,!=2.9.*,<3.0.0dev,>=1.34.1->google-api-core[grpc]!=2.0.*,!=2.1.*,!=2.10.*,!=2.2.*,!=2.3.*,!=2.4.*,!=2.5.*,!=2.6.*,!=2.7.*,!=2.8.*,!=2.9.*,<3.0.0dev,>=1.34.1->google-cloud-vision->unstructured[all-docs]) (1.67.0)\n",
            "Requirement already satisfied: grpcio<2.0dev,>=1.33.2 in /usr/local/lib/python3.11/dist-packages (from google-api-core[grpc]!=2.0.*,!=2.1.*,!=2.10.*,!=2.2.*,!=2.3.*,!=2.4.*,!=2.5.*,!=2.6.*,!=2.7.*,!=2.8.*,!=2.9.*,<3.0.0dev,>=1.34.1->google-cloud-vision->unstructured[all-docs]) (1.70.0)\n",
            "Requirement already satisfied: grpcio-status<2.0.dev0,>=1.33.2 in /usr/local/lib/python3.11/dist-packages (from google-api-core[grpc]!=2.0.*,!=2.1.*,!=2.10.*,!=2.2.*,!=2.3.*,!=2.4.*,!=2.5.*,!=2.6.*,!=2.7.*,!=2.8.*,!=2.9.*,<3.0.0dev,>=1.34.1->google-cloud-vision->unstructured[all-docs]) (1.62.3)\n",
            "Requirement already satisfied: cachetools<6.0,>=2.0.0 in /usr/local/lib/python3.11/dist-packages (from google-auth!=2.24.0,!=2.25.0,<3.0.0dev,>=2.14.1->google-cloud-vision->unstructured[all-docs]) (5.5.1)\n",
            "Requirement already satisfied: pyasn1-modules>=0.2.1 in /usr/local/lib/python3.11/dist-packages (from google-auth!=2.24.0,!=2.25.0,<3.0.0dev,>=2.14.1->google-cloud-vision->unstructured[all-docs]) (0.4.1)\n",
            "Requirement already satisfied: rsa<5,>=3.1.4 in /usr/local/lib/python3.11/dist-packages (from google-auth!=2.24.0,!=2.25.0,<3.0.0dev,>=2.14.1->google-cloud-vision->unstructured[all-docs]) (4.9)\n",
            "Requirement already satisfied: anyio in /usr/local/lib/python3.11/dist-packages (from httpx>=0.27.0->unstructured-client->unstructured[all-docs]) (3.7.1)\n",
            "Requirement already satisfied: httpcore==1.* in /usr/local/lib/python3.11/dist-packages (from httpx>=0.27.0->unstructured-client->unstructured[all-docs]) (1.0.7)\n",
            "Requirement already satisfied: h11<0.15,>=0.13 in /usr/local/lib/python3.11/dist-packages (from httpcore==1.*->httpx>=0.27.0->unstructured-client->unstructured[all-docs]) (0.14.0)\n",
            "Collecting antlr4-python3-runtime==4.9.* (from omegaconf>=2.0->effdet->unstructured[all-docs])\n",
            "  Downloading antlr4-python3-runtime-4.9.3.tar.gz (117 kB)\n",
            "\u001b[2K     \u001b[90m━━━━━━━━━━━━━━━━━━━━━━━━━━━━━━━━━━━━━━━━\u001b[0m \u001b[32m117.0/117.0 kB\u001b[0m \u001b[31m8.7 MB/s\u001b[0m eta \u001b[36m0:00:00\u001b[0m\n",
            "\u001b[?25h  Preparing metadata (setup.py) ... \u001b[?25l\u001b[?25hdone\n",
            "Requirement already satisfied: PyYAML>=5.1.0 in /usr/local/lib/python3.11/dist-packages (from omegaconf>=2.0->effdet->unstructured[all-docs]) (6.0.2)\n",
            "Collecting coloredlogs (from onnxruntime>=1.17.0->unstructured-inference>=0.8.7->unstructured[all-docs])\n",
            "  Downloading coloredlogs-15.0.1-py2.py3-none-any.whl.metadata (12 kB)\n",
            "Requirement already satisfied: flatbuffers in /usr/local/lib/python3.11/dist-packages (from onnxruntime>=1.17.0->unstructured-inference>=0.8.7->unstructured[all-docs]) (25.2.10)\n",
            "Requirement already satisfied: sympy in /usr/local/lib/python3.11/dist-packages (from onnxruntime>=1.17.0->unstructured-inference>=0.8.7->unstructured[all-docs]) (1.13.1)\n",
            "Requirement already satisfied: contourpy>=1.0.1 in /usr/local/lib/python3.11/dist-packages (from matplotlib->unstructured-inference>=0.8.7->unstructured[all-docs]) (1.3.1)\n",
            "Requirement already satisfied: cycler>=0.10 in /usr/local/lib/python3.11/dist-packages (from matplotlib->unstructured-inference>=0.8.7->unstructured[all-docs]) (0.12.1)\n",
            "Requirement already satisfied: fonttools>=4.22.0 in /usr/local/lib/python3.11/dist-packages (from matplotlib->unstructured-inference>=0.8.7->unstructured[all-docs]) (4.56.0)\n",
            "Requirement already satisfied: kiwisolver>=1.3.1 in /usr/local/lib/python3.11/dist-packages (from matplotlib->unstructured-inference>=0.8.7->unstructured[all-docs]) (1.4.8)\n",
            "Requirement already satisfied: pyparsing>=2.3.1 in /usr/local/lib/python3.11/dist-packages (from matplotlib->unstructured-inference>=0.8.7->unstructured[all-docs]) (3.2.1)\n",
            "Requirement already satisfied: annotated-types>=0.6.0 in /usr/local/lib/python3.11/dist-packages (from pydantic>=2.10.3->unstructured-client->unstructured[all-docs]) (0.7.0)\n",
            "Requirement already satisfied: pydantic-core==2.27.2 in /usr/local/lib/python3.11/dist-packages (from pydantic>=2.10.3->unstructured-client->unstructured[all-docs]) (2.27.2)\n",
            "Requirement already satisfied: safetensors in /usr/local/lib/python3.11/dist-packages (from timm->unstructured-inference>=0.8.7->unstructured[all-docs]) (0.5.2)\n",
            "Requirement already satisfied: filelock in /usr/local/lib/python3.11/dist-packages (from torch->unstructured-inference>=0.8.7->unstructured[all-docs]) (3.17.0)\n",
            "Requirement already satisfied: jinja2 in /usr/local/lib/python3.11/dist-packages (from torch->unstructured-inference>=0.8.7->unstructured[all-docs]) (3.1.5)\n",
            "Requirement already satisfied: fsspec in /usr/local/lib/python3.11/dist-packages (from torch->unstructured-inference>=0.8.7->unstructured[all-docs]) (2024.10.0)\n",
            "Collecting nvidia-cuda-nvrtc-cu12==12.4.127 (from torch->unstructured-inference>=0.8.7->unstructured[all-docs])\n",
            "  Downloading nvidia_cuda_nvrtc_cu12-12.4.127-py3-none-manylinux2014_x86_64.whl.metadata (1.5 kB)\n",
            "Collecting nvidia-cuda-runtime-cu12==12.4.127 (from torch->unstructured-inference>=0.8.7->unstructured[all-docs])\n",
            "  Downloading nvidia_cuda_runtime_cu12-12.4.127-py3-none-manylinux2014_x86_64.whl.metadata (1.5 kB)\n",
            "Collecting nvidia-cuda-cupti-cu12==12.4.127 (from torch->unstructured-inference>=0.8.7->unstructured[all-docs])\n",
            "  Downloading nvidia_cuda_cupti_cu12-12.4.127-py3-none-manylinux2014_x86_64.whl.metadata (1.6 kB)\n",
            "Collecting nvidia-cudnn-cu12==9.1.0.70 (from torch->unstructured-inference>=0.8.7->unstructured[all-docs])\n",
            "  Downloading nvidia_cudnn_cu12-9.1.0.70-py3-none-manylinux2014_x86_64.whl.metadata (1.6 kB)\n",
            "Collecting nvidia-cublas-cu12==12.4.5.8 (from torch->unstructured-inference>=0.8.7->unstructured[all-docs])\n",
            "  Downloading nvidia_cublas_cu12-12.4.5.8-py3-none-manylinux2014_x86_64.whl.metadata (1.5 kB)\n",
            "Collecting nvidia-cufft-cu12==11.2.1.3 (from torch->unstructured-inference>=0.8.7->unstructured[all-docs])\n",
            "  Downloading nvidia_cufft_cu12-11.2.1.3-py3-none-manylinux2014_x86_64.whl.metadata (1.5 kB)\n",
            "Collecting nvidia-curand-cu12==10.3.5.147 (from torch->unstructured-inference>=0.8.7->unstructured[all-docs])\n",
            "  Downloading nvidia_curand_cu12-10.3.5.147-py3-none-manylinux2014_x86_64.whl.metadata (1.5 kB)\n",
            "Collecting nvidia-cusolver-cu12==11.6.1.9 (from torch->unstructured-inference>=0.8.7->unstructured[all-docs])\n",
            "  Downloading nvidia_cusolver_cu12-11.6.1.9-py3-none-manylinux2014_x86_64.whl.metadata (1.6 kB)\n",
            "Collecting nvidia-cusparse-cu12==12.3.1.170 (from torch->unstructured-inference>=0.8.7->unstructured[all-docs])\n",
            "  Downloading nvidia_cusparse_cu12-12.3.1.170-py3-none-manylinux2014_x86_64.whl.metadata (1.6 kB)\n",
            "Requirement already satisfied: nvidia-nccl-cu12==2.21.5 in /usr/local/lib/python3.11/dist-packages (from torch->unstructured-inference>=0.8.7->unstructured[all-docs]) (2.21.5)\n",
            "Requirement already satisfied: nvidia-nvtx-cu12==12.4.127 in /usr/local/lib/python3.11/dist-packages (from torch->unstructured-inference>=0.8.7->unstructured[all-docs]) (12.4.127)\n",
            "Collecting nvidia-nvjitlink-cu12==12.4.127 (from torch->unstructured-inference>=0.8.7->unstructured[all-docs])\n",
            "  Downloading nvidia_nvjitlink_cu12-12.4.127-py3-none-manylinux2014_x86_64.whl.metadata (1.5 kB)\n",
            "Requirement already satisfied: triton==3.1.0 in /usr/local/lib/python3.11/dist-packages (from torch->unstructured-inference>=0.8.7->unstructured[all-docs]) (3.1.0)\n",
            "Requirement already satisfied: mpmath<1.4,>=1.1.0 in /usr/local/lib/python3.11/dist-packages (from sympy->onnxruntime>=1.17.0->unstructured-inference>=0.8.7->unstructured[all-docs]) (1.3.0)\n",
            "Requirement already satisfied: tokenizers<0.22,>=0.21 in /usr/local/lib/python3.11/dist-packages (from transformers>=4.25.1->unstructured-inference>=0.8.7->unstructured[all-docs]) (0.21.0)\n",
            "Collecting mypy-extensions>=0.3.0 (from typing-inspect<1,>=0.4.0->dataclasses-json->unstructured[all-docs])\n",
            "  Downloading mypy_extensions-1.0.0-py3-none-any.whl.metadata (1.1 kB)\n",
            "Requirement already satisfied: pycparser in /usr/local/lib/python3.11/dist-packages (from cffi>=1.12->cryptography>=36.0.0->pdfminer.six->unstructured[all-docs]) (2.22)\n",
            "Requirement already satisfied: pyasn1<0.7.0,>=0.4.6 in /usr/local/lib/python3.11/dist-packages (from pyasn1-modules>=0.2.1->google-auth!=2.24.0,!=2.25.0,<3.0.0dev,>=2.14.1->google-cloud-vision->unstructured[all-docs]) (0.6.1)\n",
            "Requirement already satisfied: sniffio>=1.1 in /usr/local/lib/python3.11/dist-packages (from anyio->httpx>=0.27.0->unstructured-client->unstructured[all-docs]) (1.3.1)\n",
            "Collecting humanfriendly>=9.1 (from coloredlogs->onnxruntime>=1.17.0->unstructured-inference>=0.8.7->unstructured[all-docs])\n",
            "  Downloading humanfriendly-10.0-py2.py3-none-any.whl.metadata (9.2 kB)\n",
            "Requirement already satisfied: MarkupSafe>=2.0 in /usr/local/lib/python3.11/dist-packages (from jinja2->torch->unstructured-inference>=0.8.7->unstructured[all-docs]) (3.0.2)\n",
            "Downloading python_docx-1.1.2-py3-none-any.whl (244 kB)\n",
            "\u001b[2K   \u001b[90m━━━━━━━━━━━━━━━━━━━━━━━━━━━━━━━━━━━━━━━━\u001b[0m \u001b[32m244.3/244.3 kB\u001b[0m \u001b[31m16.8 MB/s\u001b[0m eta \u001b[36m0:00:00\u001b[0m\n",
            "\u001b[?25hDownloading python_pptx-1.0.2-py3-none-any.whl (472 kB)\n",
            "\u001b[2K   \u001b[90m━━━━━━━━━━━━━━━━━━━━━━━━━━━━━━━━━━━━━━━━\u001b[0m \u001b[32m472.8/472.8 kB\u001b[0m \u001b[31m28.9 MB/s\u001b[0m eta \u001b[36m0:00:00\u001b[0m\n",
            "\u001b[?25hDownloading unstructured_inference-0.8.7-py3-none-any.whl (48 kB)\n",
            "\u001b[2K   \u001b[90m━━━━━━━━━━━━━━━━━━━━━━━━━━━━━━━━━━━━━━━━\u001b[0m \u001b[32m48.8/48.8 kB\u001b[0m \u001b[31m3.5 MB/s\u001b[0m eta \u001b[36m0:00:00\u001b[0m\n",
            "\u001b[?25hDownloading pdfminer.six-20240706-py3-none-any.whl (5.6 MB)\n",
            "\u001b[2K   \u001b[90m━━━━━━━━━━━━━━━━━━━━━━━━━━━━━━━━━━━━━━━━\u001b[0m \u001b[32m5.6/5.6 MB\u001b[0m \u001b[31m61.7 MB/s\u001b[0m eta \u001b[36m0:00:00\u001b[0m\n",
            "\u001b[?25hDownloading unstructured.pytesseract-0.3.13-py3-none-any.whl (14 kB)\n",
            "Downloading backoff-2.2.1-py3-none-any.whl (15 kB)\n",
            "Downloading dataclasses_json-0.6.7-py3-none-any.whl (28 kB)\n",
            "Downloading effdet-0.4.1-py3-none-any.whl (112 kB)\n",
            "\u001b[2K   \u001b[90m━━━━━━━━━━━━━━━━━━━━━━━━━━━━━━━━━━━━━━━━\u001b[0m \u001b[32m112.5/112.5 kB\u001b[0m \u001b[31m8.5 MB/s\u001b[0m eta \u001b[36m0:00:00\u001b[0m\n",
            "\u001b[?25hDownloading emoji-2.14.1-py3-none-any.whl (590 kB)\n",
            "\u001b[2K   \u001b[90m━━━━━━━━━━━━━━━━━━━━━━━━━━━━━━━━━━━━━━━━\u001b[0m \u001b[32m590.6/590.6 kB\u001b[0m \u001b[31m21.9 MB/s\u001b[0m eta \u001b[36m0:00:00\u001b[0m\n",
            "\u001b[?25hDownloading filetype-1.2.0-py2.py3-none-any.whl (19 kB)\n",
            "Downloading google_cloud_vision-3.10.0-py2.py3-none-any.whl (523 kB)\n",
            "\u001b[2K   \u001b[90m━━━━━━━━━━━━━━━━━━━━━━━━━━━━━━━━━━━━━━━━\u001b[0m \u001b[32m523.4/523.4 kB\u001b[0m \u001b[31m21.0 MB/s\u001b[0m eta \u001b[36m0:00:00\u001b[0m\n",
            "\u001b[?25hDownloading onnx-1.17.0-cp311-cp311-manylinux_2_17_x86_64.manylinux2014_x86_64.whl (16.0 MB)\n",
            "\u001b[2K   \u001b[90m━━━━━━━━━━━━━━━━━━━━━━━━━━━━━━━━━━━━━━━━\u001b[0m \u001b[32m16.0/16.0 MB\u001b[0m \u001b[31m37.1 MB/s\u001b[0m eta \u001b[36m0:00:00\u001b[0m\n",
            "\u001b[?25hDownloading pdf2image-1.17.0-py3-none-any.whl (11 kB)\n",
            "Downloading pi_heif-0.21.0-cp311-cp311-manylinux_2_17_x86_64.manylinux2014_x86_64.whl (1.2 MB)\n",
            "\u001b[2K   \u001b[90m━━━━━━━━━━━━━━━━━━━━━━━━━━━━━━━━━━━━━━━━\u001b[0m \u001b[32m1.2/1.2 MB\u001b[0m \u001b[31m33.6 MB/s\u001b[0m eta \u001b[36m0:00:00\u001b[0m\n",
            "\u001b[?25hDownloading pikepdf-9.5.2-cp311-cp311-manylinux_2_17_x86_64.manylinux2014_x86_64.whl (2.4 MB)\n",
            "\u001b[2K   \u001b[90m━━━━━━━━━━━━━━━━━━━━━━━━━━━━━━━━━━━━━━━━\u001b[0m \u001b[32m2.4/2.4 MB\u001b[0m \u001b[31m43.0 MB/s\u001b[0m eta \u001b[36m0:00:00\u001b[0m\n",
            "\u001b[?25hDownloading pypandoc-1.15-py3-none-any.whl (21 kB)\n",
            "Downloading pypdf-5.3.0-py3-none-any.whl (300 kB)\n",
            "\u001b[2K   \u001b[90m━━━━━━━━━━━━━━━━━━━━━━━━━━━━━━━━━━━━━━━━\u001b[0m \u001b[32m300.7/300.7 kB\u001b[0m \u001b[31m19.5 MB/s\u001b[0m eta \u001b[36m0:00:00\u001b[0m\n",
            "\u001b[?25hDownloading python_iso639-2025.2.18-py3-none-any.whl (167 kB)\n",
            "\u001b[2K   \u001b[90m━━━━━━━━━━━━━━━━━━━━━━━━━━━━━━━━━━━━━━━━\u001b[0m \u001b[32m167.6/167.6 kB\u001b[0m \u001b[31m12.6 MB/s\u001b[0m eta \u001b[36m0:00:00\u001b[0m\n",
            "\u001b[?25hDownloading python_magic-0.4.27-py2.py3-none-any.whl (13 kB)\n",
            "Downloading python_oxmsg-0.0.2-py3-none-any.whl (31 kB)\n",
            "Downloading rapidfuzz-3.12.1-cp311-cp311-manylinux_2_17_x86_64.manylinux2014_x86_64.whl (3.1 MB)\n",
            "\u001b[2K   \u001b[90m━━━━━━━━━━━━━━━━━━━━━━━━━━━━━━━━━━━━━━━━\u001b[0m \u001b[32m3.1/3.1 MB\u001b[0m \u001b[31m43.8 MB/s\u001b[0m eta \u001b[36m0:00:00\u001b[0m\n",
            "\u001b[?25hDownloading unstructured-0.16.23-py3-none-any.whl (1.8 MB)\n",
            "\u001b[2K   \u001b[90m━━━━━━━━━━━━━━━━━━━━━━━━━━━━━━━━━━━━━━━━\u001b[0m \u001b[32m1.8/1.8 MB\u001b[0m \u001b[31m39.5 MB/s\u001b[0m eta \u001b[36m0:00:00\u001b[0m\n",
            "\u001b[?25hDownloading unstructured_client-0.30.2-py3-none-any.whl (113 kB)\n",
            "\u001b[2K   \u001b[90m━━━━━━━━━━━━━━━━━━━━━━━━━━━━━━━━━━━━━━━━\u001b[0m \u001b[32m113.6/113.6 kB\u001b[0m \u001b[31m9.0 MB/s\u001b[0m eta \u001b[36m0:00:00\u001b[0m\n",
            "\u001b[?25hDownloading aiofiles-24.1.0-py3-none-any.whl (15 kB)\n",
            "Downloading eval_type_backport-0.2.2-py3-none-any.whl (5.8 kB)\n",
            "Downloading marshmallow-3.26.1-py3-none-any.whl (50 kB)\n",
            "\u001b[2K   \u001b[90m━━━━━━━━━━━━━━━━━━━━━━━━━━━━━━━━━━━━━━━━\u001b[0m \u001b[32m50.9/50.9 kB\u001b[0m \u001b[31m3.9 MB/s\u001b[0m eta \u001b[36m0:00:00\u001b[0m\n",
            "\u001b[?25hDownloading omegaconf-2.3.0-py3-none-any.whl (79 kB)\n",
            "\u001b[2K   \u001b[90m━━━━━━━━━━━━━━━━━━━━━━━━━━━━━━━━━━━━━━━━\u001b[0m \u001b[32m79.5/79.5 kB\u001b[0m \u001b[31m6.1 MB/s\u001b[0m eta \u001b[36m0:00:00\u001b[0m\n",
            "\u001b[?25hDownloading onnxruntime-1.20.1-cp311-cp311-manylinux_2_27_x86_64.manylinux_2_28_x86_64.whl (13.3 MB)\n",
            "\u001b[2K   \u001b[90m━━━━━━━━━━━━━━━━━━━━━━━━━━━━━━━━━━━━━━━━\u001b[0m \u001b[32m13.3/13.3 MB\u001b[0m \u001b[31m36.2 MB/s\u001b[0m eta \u001b[36m0:00:00\u001b[0m\n",
            "\u001b[?25hDownloading nvidia_cublas_cu12-12.4.5.8-py3-none-manylinux2014_x86_64.whl (363.4 MB)\n",
            "\u001b[2K   \u001b[90m━━━━━━━━━━━━━━━━━━━━━━━━━━━━━━━━━━━━━━━━\u001b[0m \u001b[32m363.4/363.4 MB\u001b[0m \u001b[31m4.7 MB/s\u001b[0m eta \u001b[36m0:00:00\u001b[0m\n",
            "\u001b[?25hDownloading nvidia_cuda_cupti_cu12-12.4.127-py3-none-manylinux2014_x86_64.whl (13.8 MB)\n",
            "\u001b[2K   \u001b[90m━━━━━━━━━━━━━━━━━━━━━━━━━━━━━━━━━━━━━━━━\u001b[0m \u001b[32m13.8/13.8 MB\u001b[0m \u001b[31m77.8 MB/s\u001b[0m eta \u001b[36m0:00:00\u001b[0m\n",
            "\u001b[?25hDownloading nvidia_cuda_nvrtc_cu12-12.4.127-py3-none-manylinux2014_x86_64.whl (24.6 MB)\n",
            "\u001b[2K   \u001b[90m━━━━━━━━━━━━━━━━━━━━━━━━━━━━━━━━━━━━━━━━\u001b[0m \u001b[32m24.6/24.6 MB\u001b[0m \u001b[31m56.1 MB/s\u001b[0m eta \u001b[36m0:00:00\u001b[0m\n",
            "\u001b[?25hDownloading nvidia_cuda_runtime_cu12-12.4.127-py3-none-manylinux2014_x86_64.whl (883 kB)\n",
            "\u001b[2K   \u001b[90m━━━━━━━━━━━━━━━━━━━━━━━━━━━━━━━━━━━━━━━━\u001b[0m \u001b[32m883.7/883.7 kB\u001b[0m \u001b[31m42.8 MB/s\u001b[0m eta \u001b[36m0:00:00\u001b[0m\n",
            "\u001b[?25hDownloading nvidia_cudnn_cu12-9.1.0.70-py3-none-manylinux2014_x86_64.whl (664.8 MB)\n",
            "\u001b[2K   \u001b[90m━━━━━━━━━━━━━━━━━━━━━━━━━━━━━━━━━━━━━━━━\u001b[0m \u001b[32m664.8/664.8 MB\u001b[0m \u001b[31m2.8 MB/s\u001b[0m eta \u001b[36m0:00:00\u001b[0m\n",
            "\u001b[?25hDownloading nvidia_cufft_cu12-11.2.1.3-py3-none-manylinux2014_x86_64.whl (211.5 MB)\n",
            "\u001b[2K   \u001b[90m━━━━━━━━━━━━━━━━━━━━━━━━━━━━━━━━━━━━━━━━\u001b[0m \u001b[32m211.5/211.5 MB\u001b[0m \u001b[31m5.9 MB/s\u001b[0m eta \u001b[36m0:00:00\u001b[0m\n",
            "\u001b[?25hDownloading nvidia_curand_cu12-10.3.5.147-py3-none-manylinux2014_x86_64.whl (56.3 MB)\n",
            "\u001b[2K   \u001b[90m━━━━━━━━━━━━━━━━━━━━━━━━━━━━━━━━━━━━━━━━\u001b[0m \u001b[32m56.3/56.3 MB\u001b[0m \u001b[31m11.0 MB/s\u001b[0m eta \u001b[36m0:00:00\u001b[0m\n",
            "\u001b[?25hDownloading nvidia_cusolver_cu12-11.6.1.9-py3-none-manylinux2014_x86_64.whl (127.9 MB)\n",
            "\u001b[2K   \u001b[90m━━━━━━━━━━━━━━━━━━━━━━━━━━━━━━━━━━━━━━━━\u001b[0m \u001b[32m127.9/127.9 MB\u001b[0m \u001b[31m7.6 MB/s\u001b[0m eta \u001b[36m0:00:00\u001b[0m\n",
            "\u001b[?25hDownloading nvidia_cusparse_cu12-12.3.1.170-py3-none-manylinux2014_x86_64.whl (207.5 MB)\n",
            "\u001b[2K   \u001b[90m━━━━━━━━━━━━━━━━━━━━━━━━━━━━━━━━━━━━━━━━\u001b[0m \u001b[32m207.5/207.5 MB\u001b[0m \u001b[31m6.5 MB/s\u001b[0m eta \u001b[36m0:00:00\u001b[0m\n",
            "\u001b[?25hDownloading nvidia_nvjitlink_cu12-12.4.127-py3-none-manylinux2014_x86_64.whl (21.1 MB)\n",
            "\u001b[2K   \u001b[90m━━━━━━━━━━━━━━━━━━━━━━━━━━━━━━━━━━━━━━━━\u001b[0m \u001b[32m21.1/21.1 MB\u001b[0m \u001b[31m64.7 MB/s\u001b[0m eta \u001b[36m0:00:00\u001b[0m\n",
            "\u001b[?25hDownloading typing_inspect-0.9.0-py3-none-any.whl (8.8 kB)\n",
            "Downloading XlsxWriter-3.2.2-py3-none-any.whl (165 kB)\n",
            "\u001b[2K   \u001b[90m━━━━━━━━━━━━━━━━━━━━━━━━━━━━━━━━━━━━━━━━\u001b[0m \u001b[32m165.1/165.1 kB\u001b[0m \u001b[31m11.6 MB/s\u001b[0m eta \u001b[36m0:00:00\u001b[0m\n",
            "\u001b[?25hDownloading olefile-0.47-py2.py3-none-any.whl (114 kB)\n",
            "\u001b[2K   \u001b[90m━━━━━━━━━━━━━━━━━━━━━━━━━━━━━━━━━━━━━━━━\u001b[0m \u001b[32m114.6/114.6 kB\u001b[0m \u001b[31m8.7 MB/s\u001b[0m eta \u001b[36m0:00:00\u001b[0m\n",
            "\u001b[?25hDownloading pypdfium2-4.30.1-py3-none-manylinux_2_17_x86_64.manylinux2014_x86_64.whl (2.9 MB)\n",
            "\u001b[2K   \u001b[90m━━━━━━━━━━━━━━━━━━━━━━━━━━━━━━━━━━━━━━━━\u001b[0m \u001b[32m2.9/2.9 MB\u001b[0m \u001b[31m68.7 MB/s\u001b[0m eta \u001b[36m0:00:00\u001b[0m\n",
            "\u001b[?25hDownloading python_multipart-0.0.20-py3-none-any.whl (24 kB)\n",
            "Downloading mypy_extensions-1.0.0-py3-none-any.whl (4.7 kB)\n",
            "Downloading coloredlogs-15.0.1-py2.py3-none-any.whl (46 kB)\n",
            "\u001b[2K   \u001b[90m━━━━━━━━━━━━━━━━━━━━━━━━━━━━━━━━━━━━━━━━\u001b[0m \u001b[32m46.0/46.0 kB\u001b[0m \u001b[31m3.4 MB/s\u001b[0m eta \u001b[36m0:00:00\u001b[0m\n",
            "\u001b[?25hDownloading humanfriendly-10.0-py2.py3-none-any.whl (86 kB)\n",
            "\u001b[2K   \u001b[90m━━━━━━━━━━━━━━━━━━━━━━━━━━━━━━━━━━━━━━━━\u001b[0m \u001b[32m86.8/86.8 kB\u001b[0m \u001b[31m6.4 MB/s\u001b[0m eta \u001b[36m0:00:00\u001b[0m\n",
            "\u001b[?25hBuilding wheels for collected packages: langdetect, antlr4-python3-runtime\n",
            "  Building wheel for langdetect (setup.py) ... \u001b[?25l\u001b[?25hdone\n",
            "  Created wheel for langdetect: filename=langdetect-1.0.9-py3-none-any.whl size=993222 sha256=bd64cd9bfc86dc795fff8c054c70f34690003a2f725ca7f9783d54c19d054a17\n",
            "  Stored in directory: /root/.cache/pip/wheels/0a/f2/b2/e5ca405801e05eb7c8ed5b3b4bcf1fcabcd6272c167640072e\n",
            "  Building wheel for antlr4-python3-runtime (setup.py) ... \u001b[?25l\u001b[?25hdone\n",
            "  Created wheel for antlr4-python3-runtime: filename=antlr4_python3_runtime-4.9.3-py3-none-any.whl size=144555 sha256=d81c3ff428348a7fcf5563703caee8cc299fc1ba2611b75d94a9a3381a642e3a\n",
            "  Stored in directory: /root/.cache/pip/wheels/1a/97/32/461f837398029ad76911109f07047fde1d7b661a147c7c56d1\n",
            "Successfully built langdetect antlr4-python3-runtime\n",
            "Installing collected packages: filetype, antlr4-python3-runtime, XlsxWriter, unstructured.pytesseract, rapidfuzz, python-multipart, python-magic, python-iso639, python-docx, pypdfium2, pypdf, pypandoc, pi-heif, pdf2image, onnx, omegaconf, olefile, nvidia-nvjitlink-cu12, nvidia-curand-cu12, nvidia-cufft-cu12, nvidia-cuda-runtime-cu12, nvidia-cuda-nvrtc-cu12, nvidia-cuda-cupti-cu12, nvidia-cublas-cu12, mypy-extensions, marshmallow, langdetect, humanfriendly, eval-type-backport, emoji, backoff, aiofiles, typing-inspect, python-pptx, python-oxmsg, pikepdf, nvidia-cusparse-cu12, nvidia-cudnn-cu12, coloredlogs, unstructured-client, pdfminer.six, onnxruntime, nvidia-cusolver-cu12, dataclasses-json, unstructured, google-cloud-vision, unstructured-inference, effdet\n",
            "  Attempting uninstall: nvidia-nvjitlink-cu12\n",
            "    Found existing installation: nvidia-nvjitlink-cu12 12.5.82\n",
            "    Uninstalling nvidia-nvjitlink-cu12-12.5.82:\n",
            "      Successfully uninstalled nvidia-nvjitlink-cu12-12.5.82\n",
            "  Attempting uninstall: nvidia-curand-cu12\n",
            "    Found existing installation: nvidia-curand-cu12 10.3.6.82\n",
            "    Uninstalling nvidia-curand-cu12-10.3.6.82:\n",
            "      Successfully uninstalled nvidia-curand-cu12-10.3.6.82\n",
            "  Attempting uninstall: nvidia-cufft-cu12\n",
            "    Found existing installation: nvidia-cufft-cu12 11.2.3.61\n",
            "    Uninstalling nvidia-cufft-cu12-11.2.3.61:\n",
            "      Successfully uninstalled nvidia-cufft-cu12-11.2.3.61\n",
            "  Attempting uninstall: nvidia-cuda-runtime-cu12\n",
            "    Found existing installation: nvidia-cuda-runtime-cu12 12.5.82\n",
            "    Uninstalling nvidia-cuda-runtime-cu12-12.5.82:\n",
            "      Successfully uninstalled nvidia-cuda-runtime-cu12-12.5.82\n",
            "  Attempting uninstall: nvidia-cuda-nvrtc-cu12\n",
            "    Found existing installation: nvidia-cuda-nvrtc-cu12 12.5.82\n",
            "    Uninstalling nvidia-cuda-nvrtc-cu12-12.5.82:\n",
            "      Successfully uninstalled nvidia-cuda-nvrtc-cu12-12.5.82\n",
            "  Attempting uninstall: nvidia-cuda-cupti-cu12\n",
            "    Found existing installation: nvidia-cuda-cupti-cu12 12.5.82\n",
            "    Uninstalling nvidia-cuda-cupti-cu12-12.5.82:\n",
            "      Successfully uninstalled nvidia-cuda-cupti-cu12-12.5.82\n",
            "  Attempting uninstall: nvidia-cublas-cu12\n",
            "    Found existing installation: nvidia-cublas-cu12 12.5.3.2\n",
            "    Uninstalling nvidia-cublas-cu12-12.5.3.2:\n",
            "      Successfully uninstalled nvidia-cublas-cu12-12.5.3.2\n",
            "  Attempting uninstall: nvidia-cusparse-cu12\n",
            "    Found existing installation: nvidia-cusparse-cu12 12.5.1.3\n",
            "    Uninstalling nvidia-cusparse-cu12-12.5.1.3:\n",
            "      Successfully uninstalled nvidia-cusparse-cu12-12.5.1.3\n",
            "  Attempting uninstall: nvidia-cudnn-cu12\n",
            "    Found existing installation: nvidia-cudnn-cu12 9.3.0.75\n",
            "    Uninstalling nvidia-cudnn-cu12-9.3.0.75:\n",
            "      Successfully uninstalled nvidia-cudnn-cu12-9.3.0.75\n",
            "  Attempting uninstall: nvidia-cusolver-cu12\n",
            "    Found existing installation: nvidia-cusolver-cu12 11.6.3.83\n",
            "    Uninstalling nvidia-cusolver-cu12-11.6.3.83:\n",
            "      Successfully uninstalled nvidia-cusolver-cu12-11.6.3.83\n",
            "Successfully installed XlsxWriter-3.2.2 aiofiles-24.1.0 antlr4-python3-runtime-4.9.3 backoff-2.2.1 coloredlogs-15.0.1 dataclasses-json-0.6.7 effdet-0.4.1 emoji-2.14.1 eval-type-backport-0.2.2 filetype-1.2.0 google-cloud-vision-3.10.0 humanfriendly-10.0 langdetect-1.0.9 marshmallow-3.26.1 mypy-extensions-1.0.0 nvidia-cublas-cu12-12.4.5.8 nvidia-cuda-cupti-cu12-12.4.127 nvidia-cuda-nvrtc-cu12-12.4.127 nvidia-cuda-runtime-cu12-12.4.127 nvidia-cudnn-cu12-9.1.0.70 nvidia-cufft-cu12-11.2.1.3 nvidia-curand-cu12-10.3.5.147 nvidia-cusolver-cu12-11.6.1.9 nvidia-cusparse-cu12-12.3.1.170 nvidia-nvjitlink-cu12-12.4.127 olefile-0.47 omegaconf-2.3.0 onnx-1.17.0 onnxruntime-1.20.1 pdf2image-1.17.0 pdfminer.six-20240706 pi-heif-0.21.0 pikepdf-9.5.2 pypandoc-1.15 pypdf-5.3.0 pypdfium2-4.30.1 python-docx-1.1.2 python-iso639-2025.2.18 python-magic-0.4.27 python-multipart-0.0.20 python-oxmsg-0.0.2 python-pptx-1.0.2 rapidfuzz-3.12.1 typing-inspect-0.9.0 unstructured-0.16.23 unstructured-client-0.30.2 unstructured-inference-0.8.7 unstructured.pytesseract-0.3.13\n"
          ]
        },
        {
          "output_type": "display_data",
          "data": {
            "application/vnd.colab-display-data+json": {
              "pip_warning": {
                "packages": [
                  "google",
                  "pydevd_plugins"
                ]
              },
              "id": "6c0cb7ba5dd44167b22b76231577b948"
            }
          },
          "metadata": {}
        },
        {
          "output_type": "stream",
          "name": "stdout",
          "text": [
            "Requirement already satisfied: unstructured[openai] in /usr/local/lib/python3.11/dist-packages (0.16.23)\n",
            "\u001b[33mWARNING: unstructured 0.16.23 does not provide the extra 'openai'\u001b[0m\u001b[33m\n",
            "\u001b[0mRequirement already satisfied: chardet in /usr/local/lib/python3.11/dist-packages (from unstructured[openai]) (5.2.0)\n",
            "Requirement already satisfied: filetype in /usr/local/lib/python3.11/dist-packages (from unstructured[openai]) (1.2.0)\n",
            "Requirement already satisfied: python-magic in /usr/local/lib/python3.11/dist-packages (from unstructured[openai]) (0.4.27)\n",
            "Requirement already satisfied: lxml in /usr/local/lib/python3.11/dist-packages (from unstructured[openai]) (5.3.1)\n",
            "Requirement already satisfied: nltk in /usr/local/lib/python3.11/dist-packages (from unstructured[openai]) (3.9.1)\n",
            "Requirement already satisfied: requests in /usr/local/lib/python3.11/dist-packages (from unstructured[openai]) (2.32.3)\n",
            "Requirement already satisfied: beautifulsoup4 in /usr/local/lib/python3.11/dist-packages (from unstructured[openai]) (4.13.3)\n",
            "Requirement already satisfied: emoji in /usr/local/lib/python3.11/dist-packages (from unstructured[openai]) (2.14.1)\n",
            "Requirement already satisfied: dataclasses-json in /usr/local/lib/python3.11/dist-packages (from unstructured[openai]) (0.6.7)\n",
            "Requirement already satisfied: python-iso639 in /usr/local/lib/python3.11/dist-packages (from unstructured[openai]) (2025.2.18)\n",
            "Requirement already satisfied: langdetect in /usr/local/lib/python3.11/dist-packages (from unstructured[openai]) (1.0.9)\n",
            "Requirement already satisfied: numpy<2 in /usr/local/lib/python3.11/dist-packages (from unstructured[openai]) (1.26.4)\n",
            "Requirement already satisfied: rapidfuzz in /usr/local/lib/python3.11/dist-packages (from unstructured[openai]) (3.12.1)\n",
            "Requirement already satisfied: backoff in /usr/local/lib/python3.11/dist-packages (from unstructured[openai]) (2.2.1)\n",
            "Requirement already satisfied: typing-extensions in /usr/local/lib/python3.11/dist-packages (from unstructured[openai]) (4.12.2)\n",
            "Requirement already satisfied: unstructured-client in /usr/local/lib/python3.11/dist-packages (from unstructured[openai]) (0.30.2)\n",
            "Requirement already satisfied: wrapt in /usr/local/lib/python3.11/dist-packages (from unstructured[openai]) (1.17.2)\n",
            "Requirement already satisfied: tqdm in /usr/local/lib/python3.11/dist-packages (from unstructured[openai]) (4.67.1)\n",
            "Requirement already satisfied: psutil in /usr/local/lib/python3.11/dist-packages (from unstructured[openai]) (5.9.5)\n",
            "Requirement already satisfied: python-oxmsg in /usr/local/lib/python3.11/dist-packages (from unstructured[openai]) (0.0.2)\n",
            "Requirement already satisfied: html5lib in /usr/local/lib/python3.11/dist-packages (from unstructured[openai]) (1.1)\n",
            "Requirement already satisfied: soupsieve>1.2 in /usr/local/lib/python3.11/dist-packages (from beautifulsoup4->unstructured[openai]) (2.6)\n",
            "Requirement already satisfied: marshmallow<4.0.0,>=3.18.0 in /usr/local/lib/python3.11/dist-packages (from dataclasses-json->unstructured[openai]) (3.26.1)\n",
            "Requirement already satisfied: typing-inspect<1,>=0.4.0 in /usr/local/lib/python3.11/dist-packages (from dataclasses-json->unstructured[openai]) (0.9.0)\n",
            "Requirement already satisfied: six>=1.9 in /usr/local/lib/python3.11/dist-packages (from html5lib->unstructured[openai]) (1.17.0)\n",
            "Requirement already satisfied: webencodings in /usr/local/lib/python3.11/dist-packages (from html5lib->unstructured[openai]) (0.5.1)\n",
            "Requirement already satisfied: click in /usr/local/lib/python3.11/dist-packages (from nltk->unstructured[openai]) (8.1.8)\n",
            "Requirement already satisfied: joblib in /usr/local/lib/python3.11/dist-packages (from nltk->unstructured[openai]) (1.4.2)\n",
            "Requirement already satisfied: regex>=2021.8.3 in /usr/local/lib/python3.11/dist-packages (from nltk->unstructured[openai]) (2024.11.6)\n",
            "Requirement already satisfied: olefile in /usr/local/lib/python3.11/dist-packages (from python-oxmsg->unstructured[openai]) (0.47)\n",
            "Requirement already satisfied: charset-normalizer<4,>=2 in /usr/local/lib/python3.11/dist-packages (from requests->unstructured[openai]) (3.4.1)\n",
            "Requirement already satisfied: idna<4,>=2.5 in /usr/local/lib/python3.11/dist-packages (from requests->unstructured[openai]) (3.10)\n",
            "Requirement already satisfied: urllib3<3,>=1.21.1 in /usr/local/lib/python3.11/dist-packages (from requests->unstructured[openai]) (2.3.0)\n",
            "Requirement already satisfied: certifi>=2017.4.17 in /usr/local/lib/python3.11/dist-packages (from requests->unstructured[openai]) (2025.1.31)\n",
            "Requirement already satisfied: aiofiles>=24.1.0 in /usr/local/lib/python3.11/dist-packages (from unstructured-client->unstructured[openai]) (24.1.0)\n",
            "Requirement already satisfied: cryptography>=3.1 in /usr/local/lib/python3.11/dist-packages (from unstructured-client->unstructured[openai]) (43.0.3)\n",
            "Requirement already satisfied: eval-type-backport>=0.2.0 in /usr/local/lib/python3.11/dist-packages (from unstructured-client->unstructured[openai]) (0.2.2)\n",
            "Requirement already satisfied: httpx>=0.27.0 in /usr/local/lib/python3.11/dist-packages (from unstructured-client->unstructured[openai]) (0.28.1)\n",
            "Requirement already satisfied: nest-asyncio>=1.6.0 in /usr/local/lib/python3.11/dist-packages (from unstructured-client->unstructured[openai]) (1.6.0)\n",
            "Requirement already satisfied: pydantic>=2.10.3 in /usr/local/lib/python3.11/dist-packages (from unstructured-client->unstructured[openai]) (2.10.6)\n",
            "Requirement already satisfied: pypdf>=4.0 in /usr/local/lib/python3.11/dist-packages (from unstructured-client->unstructured[openai]) (5.3.0)\n",
            "Requirement already satisfied: python-dateutil>=2.8.2 in /usr/local/lib/python3.11/dist-packages (from unstructured-client->unstructured[openai]) (2.8.2)\n",
            "Requirement already satisfied: requests-toolbelt>=1.0.0 in /usr/local/lib/python3.11/dist-packages (from unstructured-client->unstructured[openai]) (1.0.0)\n",
            "Requirement already satisfied: cffi>=1.12 in /usr/local/lib/python3.11/dist-packages (from cryptography>=3.1->unstructured-client->unstructured[openai]) (1.17.1)\n",
            "Requirement already satisfied: anyio in /usr/local/lib/python3.11/dist-packages (from httpx>=0.27.0->unstructured-client->unstructured[openai]) (3.7.1)\n",
            "Requirement already satisfied: httpcore==1.* in /usr/local/lib/python3.11/dist-packages (from httpx>=0.27.0->unstructured-client->unstructured[openai]) (1.0.7)\n",
            "Requirement already satisfied: h11<0.15,>=0.13 in /usr/local/lib/python3.11/dist-packages (from httpcore==1.*->httpx>=0.27.0->unstructured-client->unstructured[openai]) (0.14.0)\n",
            "Requirement already satisfied: packaging>=17.0 in /usr/local/lib/python3.11/dist-packages (from marshmallow<4.0.0,>=3.18.0->dataclasses-json->unstructured[openai]) (24.2)\n",
            "Requirement already satisfied: annotated-types>=0.6.0 in /usr/local/lib/python3.11/dist-packages (from pydantic>=2.10.3->unstructured-client->unstructured[openai]) (0.7.0)\n",
            "Requirement already satisfied: pydantic-core==2.27.2 in /usr/local/lib/python3.11/dist-packages (from pydantic>=2.10.3->unstructured-client->unstructured[openai]) (2.27.2)\n",
            "Requirement already satisfied: mypy-extensions>=0.3.0 in /usr/local/lib/python3.11/dist-packages (from typing-inspect<1,>=0.4.0->dataclasses-json->unstructured[openai]) (1.0.0)\n",
            "Requirement already satisfied: pycparser in /usr/local/lib/python3.11/dist-packages (from cffi>=1.12->cryptography>=3.1->unstructured-client->unstructured[openai]) (2.22)\n",
            "Requirement already satisfied: sniffio>=1.1 in /usr/local/lib/python3.11/dist-packages (from anyio->httpx>=0.27.0->unstructured-client->unstructured[openai]) (1.3.1)\n",
            "Requirement already satisfied: langchain in /usr/local/lib/python3.11/dist-packages (0.3.18)\n",
            "Requirement already satisfied: langchain-core<1.0.0,>=0.3.34 in /usr/local/lib/python3.11/dist-packages (from langchain) (0.3.35)\n",
            "Requirement already satisfied: langchain-text-splitters<1.0.0,>=0.3.6 in /usr/local/lib/python3.11/dist-packages (from langchain) (0.3.6)\n",
            "Requirement already satisfied: langsmith<0.4,>=0.1.17 in /usr/local/lib/python3.11/dist-packages (from langchain) (0.3.8)\n",
            "Requirement already satisfied: pydantic<3.0.0,>=2.7.4 in /usr/local/lib/python3.11/dist-packages (from langchain) (2.10.6)\n",
            "Requirement already satisfied: SQLAlchemy<3,>=1.4 in /usr/local/lib/python3.11/dist-packages (from langchain) (2.0.38)\n",
            "Requirement already satisfied: requests<3,>=2 in /usr/local/lib/python3.11/dist-packages (from langchain) (2.32.3)\n",
            "Requirement already satisfied: PyYAML>=5.3 in /usr/local/lib/python3.11/dist-packages (from langchain) (6.0.2)\n",
            "Requirement already satisfied: aiohttp<4.0.0,>=3.8.3 in /usr/local/lib/python3.11/dist-packages (from langchain) (3.11.12)\n",
            "Requirement already satisfied: tenacity!=8.4.0,<10,>=8.1.0 in /usr/local/lib/python3.11/dist-packages (from langchain) (9.0.0)\n",
            "Requirement already satisfied: numpy<2,>=1.26.4 in /usr/local/lib/python3.11/dist-packages (from langchain) (1.26.4)\n",
            "Requirement already satisfied: aiohappyeyeballs>=2.3.0 in /usr/local/lib/python3.11/dist-packages (from aiohttp<4.0.0,>=3.8.3->langchain) (2.4.6)\n",
            "Requirement already satisfied: aiosignal>=1.1.2 in /usr/local/lib/python3.11/dist-packages (from aiohttp<4.0.0,>=3.8.3->langchain) (1.3.2)\n",
            "Requirement already satisfied: attrs>=17.3.0 in /usr/local/lib/python3.11/dist-packages (from aiohttp<4.0.0,>=3.8.3->langchain) (25.1.0)\n",
            "Requirement already satisfied: frozenlist>=1.1.1 in /usr/local/lib/python3.11/dist-packages (from aiohttp<4.0.0,>=3.8.3->langchain) (1.5.0)\n",
            "Requirement already satisfied: multidict<7.0,>=4.5 in /usr/local/lib/python3.11/dist-packages (from aiohttp<4.0.0,>=3.8.3->langchain) (6.1.0)\n",
            "Requirement already satisfied: propcache>=0.2.0 in /usr/local/lib/python3.11/dist-packages (from aiohttp<4.0.0,>=3.8.3->langchain) (0.2.1)\n",
            "Requirement already satisfied: yarl<2.0,>=1.17.0 in /usr/local/lib/python3.11/dist-packages (from aiohttp<4.0.0,>=3.8.3->langchain) (1.18.3)\n",
            "Requirement already satisfied: jsonpatch<2.0,>=1.33 in /usr/local/lib/python3.11/dist-packages (from langchain-core<1.0.0,>=0.3.34->langchain) (1.33)\n",
            "Requirement already satisfied: packaging<25,>=23.2 in /usr/local/lib/python3.11/dist-packages (from langchain-core<1.0.0,>=0.3.34->langchain) (24.2)\n",
            "Requirement already satisfied: typing-extensions>=4.7 in /usr/local/lib/python3.11/dist-packages (from langchain-core<1.0.0,>=0.3.34->langchain) (4.12.2)\n",
            "Requirement already satisfied: httpx<1,>=0.23.0 in /usr/local/lib/python3.11/dist-packages (from langsmith<0.4,>=0.1.17->langchain) (0.28.1)\n",
            "Requirement already satisfied: orjson<4.0.0,>=3.9.14 in /usr/local/lib/python3.11/dist-packages (from langsmith<0.4,>=0.1.17->langchain) (3.10.15)\n",
            "Requirement already satisfied: requests-toolbelt<2.0.0,>=1.0.0 in /usr/local/lib/python3.11/dist-packages (from langsmith<0.4,>=0.1.17->langchain) (1.0.0)\n",
            "Requirement already satisfied: zstandard<0.24.0,>=0.23.0 in /usr/local/lib/python3.11/dist-packages (from langsmith<0.4,>=0.1.17->langchain) (0.23.0)\n",
            "Requirement already satisfied: annotated-types>=0.6.0 in /usr/local/lib/python3.11/dist-packages (from pydantic<3.0.0,>=2.7.4->langchain) (0.7.0)\n",
            "Requirement already satisfied: pydantic-core==2.27.2 in /usr/local/lib/python3.11/dist-packages (from pydantic<3.0.0,>=2.7.4->langchain) (2.27.2)\n",
            "Requirement already satisfied: charset-normalizer<4,>=2 in /usr/local/lib/python3.11/dist-packages (from requests<3,>=2->langchain) (3.4.1)\n",
            "Requirement already satisfied: idna<4,>=2.5 in /usr/local/lib/python3.11/dist-packages (from requests<3,>=2->langchain) (3.10)\n",
            "Requirement already satisfied: urllib3<3,>=1.21.1 in /usr/local/lib/python3.11/dist-packages (from requests<3,>=2->langchain) (2.3.0)\n",
            "Requirement already satisfied: certifi>=2017.4.17 in /usr/local/lib/python3.11/dist-packages (from requests<3,>=2->langchain) (2025.1.31)\n",
            "Requirement already satisfied: greenlet!=0.4.17 in /usr/local/lib/python3.11/dist-packages (from SQLAlchemy<3,>=1.4->langchain) (3.1.1)\n",
            "Requirement already satisfied: anyio in /usr/local/lib/python3.11/dist-packages (from httpx<1,>=0.23.0->langsmith<0.4,>=0.1.17->langchain) (3.7.1)\n",
            "Requirement already satisfied: httpcore==1.* in /usr/local/lib/python3.11/dist-packages (from httpx<1,>=0.23.0->langsmith<0.4,>=0.1.17->langchain) (1.0.7)\n",
            "Requirement already satisfied: h11<0.15,>=0.13 in /usr/local/lib/python3.11/dist-packages (from httpcore==1.*->httpx<1,>=0.23.0->langsmith<0.4,>=0.1.17->langchain) (0.14.0)\n",
            "Requirement already satisfied: jsonpointer>=1.9 in /usr/local/lib/python3.11/dist-packages (from jsonpatch<2.0,>=1.33->langchain-core<1.0.0,>=0.3.34->langchain) (3.0.0)\n",
            "Requirement already satisfied: sniffio>=1.1 in /usr/local/lib/python3.11/dist-packages (from anyio->httpx<1,>=0.23.0->langsmith<0.4,>=0.1.17->langchain) (1.3.1)\n",
            "Collecting chromadb\n",
            "  Downloading chromadb-0.6.3-py3-none-any.whl.metadata (6.8 kB)\n",
            "Collecting build>=1.0.3 (from chromadb)\n",
            "  Downloading build-1.2.2.post1-py3-none-any.whl.metadata (6.5 kB)\n",
            "Requirement already satisfied: pydantic>=1.9 in /usr/local/lib/python3.11/dist-packages (from chromadb) (2.10.6)\n",
            "Collecting chroma-hnswlib==0.7.6 (from chromadb)\n",
            "  Downloading chroma_hnswlib-0.7.6-cp311-cp311-manylinux_2_17_x86_64.manylinux2014_x86_64.whl.metadata (252 bytes)\n",
            "Collecting fastapi>=0.95.2 (from chromadb)\n",
            "  Downloading fastapi-0.115.8-py3-none-any.whl.metadata (27 kB)\n",
            "Collecting uvicorn>=0.18.3 (from uvicorn[standard]>=0.18.3->chromadb)\n",
            "  Downloading uvicorn-0.34.0-py3-none-any.whl.metadata (6.5 kB)\n",
            "Requirement already satisfied: numpy>=1.22.5 in /usr/local/lib/python3.11/dist-packages (from chromadb) (1.26.4)\n",
            "Collecting posthog>=2.4.0 (from chromadb)\n",
            "  Downloading posthog-3.14.2-py2.py3-none-any.whl.metadata (2.9 kB)\n",
            "Requirement already satisfied: typing_extensions>=4.5.0 in /usr/local/lib/python3.11/dist-packages (from chromadb) (4.12.2)\n",
            "Requirement already satisfied: onnxruntime>=1.14.1 in /usr/local/lib/python3.11/dist-packages (from chromadb) (1.20.1)\n",
            "Requirement already satisfied: opentelemetry-api>=1.2.0 in /usr/local/lib/python3.11/dist-packages (from chromadb) (1.16.0)\n",
            "Collecting opentelemetry-exporter-otlp-proto-grpc>=1.2.0 (from chromadb)\n",
            "  Downloading opentelemetry_exporter_otlp_proto_grpc-1.30.0-py3-none-any.whl.metadata (2.4 kB)\n",
            "Collecting opentelemetry-instrumentation-fastapi>=0.41b0 (from chromadb)\n",
            "  Downloading opentelemetry_instrumentation_fastapi-0.51b0-py3-none-any.whl.metadata (2.2 kB)\n",
            "Requirement already satisfied: opentelemetry-sdk>=1.2.0 in /usr/local/lib/python3.11/dist-packages (from chromadb) (1.16.0)\n",
            "Requirement already satisfied: tokenizers>=0.13.2 in /usr/local/lib/python3.11/dist-packages (from chromadb) (0.21.0)\n",
            "Collecting pypika>=0.48.9 (from chromadb)\n",
            "  Downloading PyPika-0.48.9.tar.gz (67 kB)\n",
            "\u001b[2K     \u001b[90m━━━━━━━━━━━━━━━━━━━━━━━━━━━━━━━━━━━━━━━━\u001b[0m \u001b[32m67.3/67.3 kB\u001b[0m \u001b[31m2.6 MB/s\u001b[0m eta \u001b[36m0:00:00\u001b[0m\n",
            "\u001b[?25h  Installing build dependencies ... \u001b[?25l\u001b[?25hdone\n",
            "  Getting requirements to build wheel ... \u001b[?25l\u001b[?25hdone\n",
            "  Preparing metadata (pyproject.toml) ... \u001b[?25l\u001b[?25hdone\n",
            "Requirement already satisfied: tqdm>=4.65.0 in /usr/local/lib/python3.11/dist-packages (from chromadb) (4.67.1)\n",
            "Collecting overrides>=7.3.1 (from chromadb)\n",
            "  Downloading overrides-7.7.0-py3-none-any.whl.metadata (5.8 kB)\n",
            "Requirement already satisfied: importlib-resources in /usr/local/lib/python3.11/dist-packages (from chromadb) (6.5.2)\n",
            "Requirement already satisfied: grpcio>=1.58.0 in /usr/local/lib/python3.11/dist-packages (from chromadb) (1.70.0)\n",
            "Collecting bcrypt>=4.0.1 (from chromadb)\n",
            "  Downloading bcrypt-4.2.1-cp39-abi3-manylinux_2_28_x86_64.whl.metadata (9.8 kB)\n",
            "Requirement already satisfied: typer>=0.9.0 in /usr/local/lib/python3.11/dist-packages (from chromadb) (0.15.1)\n",
            "Collecting kubernetes>=28.1.0 (from chromadb)\n",
            "  Downloading kubernetes-32.0.1-py2.py3-none-any.whl.metadata (1.7 kB)\n",
            "Requirement already satisfied: tenacity>=8.2.3 in /usr/local/lib/python3.11/dist-packages (from chromadb) (9.0.0)\n",
            "Requirement already satisfied: PyYAML>=6.0.0 in /usr/local/lib/python3.11/dist-packages (from chromadb) (6.0.2)\n",
            "Collecting mmh3>=4.0.1 (from chromadb)\n",
            "  Downloading mmh3-5.1.0-cp311-cp311-manylinux_2_5_x86_64.manylinux1_x86_64.manylinux_2_17_x86_64.manylinux2014_x86_64.whl.metadata (16 kB)\n",
            "Requirement already satisfied: orjson>=3.9.12 in /usr/local/lib/python3.11/dist-packages (from chromadb) (3.10.15)\n",
            "Requirement already satisfied: httpx>=0.27.0 in /usr/local/lib/python3.11/dist-packages (from chromadb) (0.28.1)\n",
            "Requirement already satisfied: rich>=10.11.0 in /usr/local/lib/python3.11/dist-packages (from chromadb) (13.9.4)\n",
            "Requirement already satisfied: packaging>=19.1 in /usr/local/lib/python3.11/dist-packages (from build>=1.0.3->chromadb) (24.2)\n",
            "Collecting pyproject_hooks (from build>=1.0.3->chromadb)\n",
            "  Downloading pyproject_hooks-1.2.0-py3-none-any.whl.metadata (1.3 kB)\n",
            "Collecting starlette<0.46.0,>=0.40.0 (from fastapi>=0.95.2->chromadb)\n",
            "  Downloading starlette-0.45.3-py3-none-any.whl.metadata (6.3 kB)\n",
            "Requirement already satisfied: anyio in /usr/local/lib/python3.11/dist-packages (from httpx>=0.27.0->chromadb) (3.7.1)\n",
            "Requirement already satisfied: certifi in /usr/local/lib/python3.11/dist-packages (from httpx>=0.27.0->chromadb) (2025.1.31)\n",
            "Requirement already satisfied: httpcore==1.* in /usr/local/lib/python3.11/dist-packages (from httpx>=0.27.0->chromadb) (1.0.7)\n",
            "Requirement already satisfied: idna in /usr/local/lib/python3.11/dist-packages (from httpx>=0.27.0->chromadb) (3.10)\n",
            "Requirement already satisfied: h11<0.15,>=0.13 in /usr/local/lib/python3.11/dist-packages (from httpcore==1.*->httpx>=0.27.0->chromadb) (0.14.0)\n",
            "Requirement already satisfied: six>=1.9.0 in /usr/local/lib/python3.11/dist-packages (from kubernetes>=28.1.0->chromadb) (1.17.0)\n",
            "Requirement already satisfied: python-dateutil>=2.5.3 in /usr/local/lib/python3.11/dist-packages (from kubernetes>=28.1.0->chromadb) (2.8.2)\n",
            "Requirement already satisfied: google-auth>=1.0.1 in /usr/local/lib/python3.11/dist-packages (from kubernetes>=28.1.0->chromadb) (2.27.0)\n",
            "Requirement already satisfied: websocket-client!=0.40.0,!=0.41.*,!=0.42.*,>=0.32.0 in /usr/local/lib/python3.11/dist-packages (from kubernetes>=28.1.0->chromadb) (1.8.0)\n",
            "Requirement already satisfied: requests in /usr/local/lib/python3.11/dist-packages (from kubernetes>=28.1.0->chromadb) (2.32.3)\n",
            "Requirement already satisfied: requests-oauthlib in /usr/local/lib/python3.11/dist-packages (from kubernetes>=28.1.0->chromadb) (2.0.0)\n",
            "Requirement already satisfied: oauthlib>=3.2.2 in /usr/local/lib/python3.11/dist-packages (from kubernetes>=28.1.0->chromadb) (3.2.2)\n",
            "Requirement already satisfied: urllib3>=1.24.2 in /usr/local/lib/python3.11/dist-packages (from kubernetes>=28.1.0->chromadb) (2.3.0)\n",
            "Collecting durationpy>=0.7 (from kubernetes>=28.1.0->chromadb)\n",
            "  Downloading durationpy-0.9-py3-none-any.whl.metadata (338 bytes)\n",
            "Requirement already satisfied: coloredlogs in /usr/local/lib/python3.11/dist-packages (from onnxruntime>=1.14.1->chromadb) (15.0.1)\n",
            "Requirement already satisfied: flatbuffers in /usr/local/lib/python3.11/dist-packages (from onnxruntime>=1.14.1->chromadb) (25.2.10)\n",
            "Requirement already satisfied: protobuf in /usr/local/lib/python3.11/dist-packages (from onnxruntime>=1.14.1->chromadb) (4.25.6)\n",
            "Requirement already satisfied: sympy in /usr/local/lib/python3.11/dist-packages (from onnxruntime>=1.14.1->chromadb) (1.13.1)\n",
            "Requirement already satisfied: deprecated>=1.2.6 in /usr/local/lib/python3.11/dist-packages (from opentelemetry-api>=1.2.0->chromadb) (1.2.18)\n",
            "Requirement already satisfied: setuptools>=16.0 in /usr/local/lib/python3.11/dist-packages (from opentelemetry-api>=1.2.0->chromadb) (75.1.0)\n",
            "Requirement already satisfied: googleapis-common-protos~=1.52 in /usr/local/lib/python3.11/dist-packages (from opentelemetry-exporter-otlp-proto-grpc>=1.2.0->chromadb) (1.67.0)\n",
            "Collecting opentelemetry-exporter-otlp-proto-common==1.30.0 (from opentelemetry-exporter-otlp-proto-grpc>=1.2.0->chromadb)\n",
            "  Downloading opentelemetry_exporter_otlp_proto_common-1.30.0-py3-none-any.whl.metadata (1.9 kB)\n",
            "Collecting opentelemetry-proto==1.30.0 (from opentelemetry-exporter-otlp-proto-grpc>=1.2.0->chromadb)\n",
            "  Downloading opentelemetry_proto-1.30.0-py3-none-any.whl.metadata (2.4 kB)\n",
            "Collecting opentelemetry-sdk>=1.2.0 (from chromadb)\n",
            "  Downloading opentelemetry_sdk-1.30.0-py3-none-any.whl.metadata (1.6 kB)\n",
            "Collecting protobuf (from onnxruntime>=1.14.1->chromadb)\n",
            "  Downloading protobuf-5.29.3-cp38-abi3-manylinux2014_x86_64.whl.metadata (592 bytes)\n",
            "Collecting opentelemetry-instrumentation-asgi==0.51b0 (from opentelemetry-instrumentation-fastapi>=0.41b0->chromadb)\n",
            "  Downloading opentelemetry_instrumentation_asgi-0.51b0-py3-none-any.whl.metadata (2.1 kB)\n",
            "Collecting opentelemetry-instrumentation==0.51b0 (from opentelemetry-instrumentation-fastapi>=0.41b0->chromadb)\n",
            "  Downloading opentelemetry_instrumentation-0.51b0-py3-none-any.whl.metadata (6.3 kB)\n",
            "Collecting opentelemetry-semantic-conventions==0.51b0 (from opentelemetry-instrumentation-fastapi>=0.41b0->chromadb)\n",
            "  Downloading opentelemetry_semantic_conventions-0.51b0-py3-none-any.whl.metadata (2.5 kB)\n",
            "Collecting opentelemetry-util-http==0.51b0 (from opentelemetry-instrumentation-fastapi>=0.41b0->chromadb)\n",
            "  Downloading opentelemetry_util_http-0.51b0-py3-none-any.whl.metadata (2.6 kB)\n",
            "Requirement already satisfied: wrapt<2.0.0,>=1.0.0 in /usr/local/lib/python3.11/dist-packages (from opentelemetry-instrumentation==0.51b0->opentelemetry-instrumentation-fastapi>=0.41b0->chromadb) (1.17.2)\n",
            "Collecting asgiref~=3.0 (from opentelemetry-instrumentation-asgi==0.51b0->opentelemetry-instrumentation-fastapi>=0.41b0->chromadb)\n",
            "  Downloading asgiref-3.8.1-py3-none-any.whl.metadata (9.3 kB)\n",
            "Collecting opentelemetry-api>=1.2.0 (from chromadb)\n",
            "  Downloading opentelemetry_api-1.30.0-py3-none-any.whl.metadata (1.6 kB)\n",
            "Collecting importlib-metadata<=8.5.0,>=6.0 (from opentelemetry-api>=1.2.0->chromadb)\n",
            "  Downloading importlib_metadata-8.5.0-py3-none-any.whl.metadata (4.8 kB)\n",
            "Collecting monotonic>=1.5 (from posthog>=2.4.0->chromadb)\n",
            "  Downloading monotonic-1.6-py2.py3-none-any.whl.metadata (1.5 kB)\n",
            "Requirement already satisfied: backoff>=1.10.0 in /usr/local/lib/python3.11/dist-packages (from posthog>=2.4.0->chromadb) (2.2.1)\n",
            "Requirement already satisfied: annotated-types>=0.6.0 in /usr/local/lib/python3.11/dist-packages (from pydantic>=1.9->chromadb) (0.7.0)\n",
            "Requirement already satisfied: pydantic-core==2.27.2 in /usr/local/lib/python3.11/dist-packages (from pydantic>=1.9->chromadb) (2.27.2)\n",
            "Requirement already satisfied: markdown-it-py>=2.2.0 in /usr/local/lib/python3.11/dist-packages (from rich>=10.11.0->chromadb) (3.0.0)\n",
            "Requirement already satisfied: pygments<3.0.0,>=2.13.0 in /usr/local/lib/python3.11/dist-packages (from rich>=10.11.0->chromadb) (2.18.0)\n",
            "Requirement already satisfied: huggingface-hub<1.0,>=0.16.4 in /usr/local/lib/python3.11/dist-packages (from tokenizers>=0.13.2->chromadb) (0.28.1)\n",
            "Requirement already satisfied: click>=8.0.0 in /usr/local/lib/python3.11/dist-packages (from typer>=0.9.0->chromadb) (8.1.8)\n",
            "Requirement already satisfied: shellingham>=1.3.0 in /usr/local/lib/python3.11/dist-packages (from typer>=0.9.0->chromadb) (1.5.4)\n",
            "Collecting httptools>=0.6.3 (from uvicorn[standard]>=0.18.3->chromadb)\n",
            "  Downloading httptools-0.6.4-cp311-cp311-manylinux_2_5_x86_64.manylinux1_x86_64.manylinux_2_17_x86_64.manylinux2014_x86_64.whl.metadata (3.6 kB)\n",
            "Collecting python-dotenv>=0.13 (from uvicorn[standard]>=0.18.3->chromadb)\n",
            "  Downloading python_dotenv-1.0.1-py3-none-any.whl.metadata (23 kB)\n",
            "Collecting uvloop!=0.15.0,!=0.15.1,>=0.14.0 (from uvicorn[standard]>=0.18.3->chromadb)\n",
            "  Downloading uvloop-0.21.0-cp311-cp311-manylinux_2_17_x86_64.manylinux2014_x86_64.whl.metadata (4.9 kB)\n",
            "Collecting watchfiles>=0.13 (from uvicorn[standard]>=0.18.3->chromadb)\n",
            "  Downloading watchfiles-1.0.4-cp311-cp311-manylinux_2_17_x86_64.manylinux2014_x86_64.whl.metadata (4.9 kB)\n",
            "Requirement already satisfied: websockets>=10.4 in /usr/local/lib/python3.11/dist-packages (from uvicorn[standard]>=0.18.3->chromadb) (14.2)\n",
            "Requirement already satisfied: cachetools<6.0,>=2.0.0 in /usr/local/lib/python3.11/dist-packages (from google-auth>=1.0.1->kubernetes>=28.1.0->chromadb) (5.5.1)\n",
            "Requirement already satisfied: pyasn1-modules>=0.2.1 in /usr/local/lib/python3.11/dist-packages (from google-auth>=1.0.1->kubernetes>=28.1.0->chromadb) (0.4.1)\n",
            "Requirement already satisfied: rsa<5,>=3.1.4 in /usr/local/lib/python3.11/dist-packages (from google-auth>=1.0.1->kubernetes>=28.1.0->chromadb) (4.9)\n",
            "Requirement already satisfied: filelock in /usr/local/lib/python3.11/dist-packages (from huggingface-hub<1.0,>=0.16.4->tokenizers>=0.13.2->chromadb) (3.17.0)\n",
            "Requirement already satisfied: fsspec>=2023.5.0 in /usr/local/lib/python3.11/dist-packages (from huggingface-hub<1.0,>=0.16.4->tokenizers>=0.13.2->chromadb) (2024.10.0)\n",
            "Requirement already satisfied: zipp>=3.20 in /usr/local/lib/python3.11/dist-packages (from importlib-metadata<=8.5.0,>=6.0->opentelemetry-api>=1.2.0->chromadb) (3.21.0)\n",
            "Requirement already satisfied: mdurl~=0.1 in /usr/local/lib/python3.11/dist-packages (from markdown-it-py>=2.2.0->rich>=10.11.0->chromadb) (0.1.2)\n",
            "Requirement already satisfied: charset-normalizer<4,>=2 in /usr/local/lib/python3.11/dist-packages (from requests->kubernetes>=28.1.0->chromadb) (3.4.1)\n",
            "Requirement already satisfied: sniffio>=1.1 in /usr/local/lib/python3.11/dist-packages (from anyio->httpx>=0.27.0->chromadb) (1.3.1)\n",
            "Requirement already satisfied: humanfriendly>=9.1 in /usr/local/lib/python3.11/dist-packages (from coloredlogs->onnxruntime>=1.14.1->chromadb) (10.0)\n",
            "Requirement already satisfied: mpmath<1.4,>=1.1.0 in /usr/local/lib/python3.11/dist-packages (from sympy->onnxruntime>=1.14.1->chromadb) (1.3.0)\n",
            "Requirement already satisfied: pyasn1<0.7.0,>=0.4.6 in /usr/local/lib/python3.11/dist-packages (from pyasn1-modules>=0.2.1->google-auth>=1.0.1->kubernetes>=28.1.0->chromadb) (0.6.1)\n",
            "Downloading chromadb-0.6.3-py3-none-any.whl (611 kB)\n",
            "\u001b[2K   \u001b[90m━━━━━━━━━━━━━━━━━━━━━━━━━━━━━━━━━━━━━━━━\u001b[0m \u001b[32m611.1/611.1 kB\u001b[0m \u001b[31m13.7 MB/s\u001b[0m eta \u001b[36m0:00:00\u001b[0m\n",
            "\u001b[?25hDownloading chroma_hnswlib-0.7.6-cp311-cp311-manylinux_2_17_x86_64.manylinux2014_x86_64.whl (2.4 MB)\n",
            "\u001b[2K   \u001b[90m━━━━━━━━━━━━━━━━━━━━━━━━━━━━━━━━━━━━━━━━\u001b[0m \u001b[32m2.4/2.4 MB\u001b[0m \u001b[31m45.0 MB/s\u001b[0m eta \u001b[36m0:00:00\u001b[0m\n",
            "\u001b[?25hDownloading bcrypt-4.2.1-cp39-abi3-manylinux_2_28_x86_64.whl (278 kB)\n",
            "\u001b[2K   \u001b[90m━━━━━━━━━━━━━━━━━━━━━━━━━━━━━━━━━━━━━━━━\u001b[0m \u001b[32m278.6/278.6 kB\u001b[0m \u001b[31m20.2 MB/s\u001b[0m eta \u001b[36m0:00:00\u001b[0m\n",
            "\u001b[?25hDownloading build-1.2.2.post1-py3-none-any.whl (22 kB)\n",
            "Downloading fastapi-0.115.8-py3-none-any.whl (94 kB)\n",
            "\u001b[2K   \u001b[90m━━━━━━━━━━━━━━━━━━━━━━━━━━━━━━━━━━━━━━━━\u001b[0m \u001b[32m94.8/94.8 kB\u001b[0m \u001b[31m7.2 MB/s\u001b[0m eta \u001b[36m0:00:00\u001b[0m\n",
            "\u001b[?25hDownloading kubernetes-32.0.1-py2.py3-none-any.whl (2.0 MB)\n",
            "\u001b[2K   \u001b[90m━━━━━━━━━━━━━━━━━━━━━━━━━━━━━━━━━━━━━━━━\u001b[0m \u001b[32m2.0/2.0 MB\u001b[0m \u001b[31m66.5 MB/s\u001b[0m eta \u001b[36m0:00:00\u001b[0m\n",
            "\u001b[?25hDownloading mmh3-5.1.0-cp311-cp311-manylinux_2_5_x86_64.manylinux1_x86_64.manylinux_2_17_x86_64.manylinux2014_x86_64.whl (101 kB)\n",
            "\u001b[2K   \u001b[90m━━━━━━━━━━━━━━━━━━━━━━━━━━━━━━━━━━━━━━━━\u001b[0m \u001b[32m101.6/101.6 kB\u001b[0m \u001b[31m7.6 MB/s\u001b[0m eta \u001b[36m0:00:00\u001b[0m\n",
            "\u001b[?25hDownloading opentelemetry_exporter_otlp_proto_grpc-1.30.0-py3-none-any.whl (18 kB)\n",
            "Downloading opentelemetry_exporter_otlp_proto_common-1.30.0-py3-none-any.whl (18 kB)\n",
            "Downloading opentelemetry_proto-1.30.0-py3-none-any.whl (55 kB)\n",
            "\u001b[2K   \u001b[90m━━━━━━━━━━━━━━━━━━━━━━━━━━━━━━━━━━━━━━━━\u001b[0m \u001b[32m55.9/55.9 kB\u001b[0m \u001b[31m4.3 MB/s\u001b[0m eta \u001b[36m0:00:00\u001b[0m\n",
            "\u001b[?25hDownloading opentelemetry_instrumentation_fastapi-0.51b0-py3-none-any.whl (12 kB)\n",
            "Downloading opentelemetry_instrumentation-0.51b0-py3-none-any.whl (30 kB)\n",
            "Downloading opentelemetry_instrumentation_asgi-0.51b0-py3-none-any.whl (16 kB)\n",
            "Downloading opentelemetry_semantic_conventions-0.51b0-py3-none-any.whl (177 kB)\n",
            "\u001b[2K   \u001b[90m━━━━━━━━━━━━━━━━━━━━━━━━━━━━━━━━━━━━━━━━\u001b[0m \u001b[32m177.4/177.4 kB\u001b[0m \u001b[31m13.7 MB/s\u001b[0m eta \u001b[36m0:00:00\u001b[0m\n",
            "\u001b[?25hDownloading opentelemetry_api-1.30.0-py3-none-any.whl (64 kB)\n",
            "\u001b[2K   \u001b[90m━━━━━━━━━━━━━━━━━━━━━━━━━━━━━━━━━━━━━━━━\u001b[0m \u001b[32m65.0/65.0 kB\u001b[0m \u001b[31m4.9 MB/s\u001b[0m eta \u001b[36m0:00:00\u001b[0m\n",
            "\u001b[?25hDownloading opentelemetry_util_http-0.51b0-py3-none-any.whl (7.3 kB)\n",
            "Downloading opentelemetry_sdk-1.30.0-py3-none-any.whl (118 kB)\n",
            "\u001b[2K   \u001b[90m━━━━━━━━━━━━━━━━━━━━━━━━━━━━━━━━━━━━━━━━\u001b[0m \u001b[32m118.7/118.7 kB\u001b[0m \u001b[31m8.5 MB/s\u001b[0m eta \u001b[36m0:00:00\u001b[0m\n",
            "\u001b[?25hDownloading overrides-7.7.0-py3-none-any.whl (17 kB)\n",
            "Downloading posthog-3.14.2-py2.py3-none-any.whl (73 kB)\n",
            "\u001b[2K   \u001b[90m━━━━━━━━━━━━━━━━━━━━━━━━━━━━━━━━━━━━━━━━\u001b[0m \u001b[32m73.9/73.9 kB\u001b[0m \u001b[31m5.6 MB/s\u001b[0m eta \u001b[36m0:00:00\u001b[0m\n",
            "\u001b[?25hDownloading uvicorn-0.34.0-py3-none-any.whl (62 kB)\n",
            "\u001b[2K   \u001b[90m━━━━━━━━━━━━━━━━━━━━━━━━━━━━━━━━━━━━━━━━\u001b[0m \u001b[32m62.3/62.3 kB\u001b[0m \u001b[31m4.7 MB/s\u001b[0m eta \u001b[36m0:00:00\u001b[0m\n",
            "\u001b[?25hDownloading durationpy-0.9-py3-none-any.whl (3.5 kB)\n",
            "Downloading httptools-0.6.4-cp311-cp311-manylinux_2_5_x86_64.manylinux1_x86_64.manylinux_2_17_x86_64.manylinux2014_x86_64.whl (459 kB)\n",
            "\u001b[2K   \u001b[90m━━━━━━━━━━━━━━━━━━━━━━━━━━━━━━━━━━━━━━━━\u001b[0m \u001b[32m459.8/459.8 kB\u001b[0m \u001b[31m23.3 MB/s\u001b[0m eta \u001b[36m0:00:00\u001b[0m\n",
            "\u001b[?25hDownloading importlib_metadata-8.5.0-py3-none-any.whl (26 kB)\n",
            "Downloading monotonic-1.6-py2.py3-none-any.whl (8.2 kB)\n",
            "Downloading protobuf-5.29.3-cp38-abi3-manylinux2014_x86_64.whl (319 kB)\n",
            "\u001b[2K   \u001b[90m━━━━━━━━━━━━━━━━━━━━━━━━━━━━━━━━━━━━━━━━\u001b[0m \u001b[32m319.7/319.7 kB\u001b[0m \u001b[31m19.6 MB/s\u001b[0m eta \u001b[36m0:00:00\u001b[0m\n",
            "\u001b[?25hDownloading python_dotenv-1.0.1-py3-none-any.whl (19 kB)\n",
            "Downloading starlette-0.45.3-py3-none-any.whl (71 kB)\n",
            "\u001b[2K   \u001b[90m━━━━━━━━━━━━━━━━━━━━━━━━━━━━━━━━━━━━━━━━\u001b[0m \u001b[32m71.5/71.5 kB\u001b[0m \u001b[31m5.5 MB/s\u001b[0m eta \u001b[36m0:00:00\u001b[0m\n",
            "\u001b[?25hDownloading uvloop-0.21.0-cp311-cp311-manylinux_2_17_x86_64.manylinux2014_x86_64.whl (4.0 MB)\n",
            "\u001b[2K   \u001b[90m━━━━━━━━━━━━━━━━━━━━━━━━━━━━━━━━━━━━━━━━\u001b[0m \u001b[32m4.0/4.0 MB\u001b[0m \u001b[31m66.3 MB/s\u001b[0m eta \u001b[36m0:00:00\u001b[0m\n",
            "\u001b[?25hDownloading watchfiles-1.0.4-cp311-cp311-manylinux_2_17_x86_64.manylinux2014_x86_64.whl (452 kB)\n",
            "\u001b[2K   \u001b[90m━━━━━━━━━━━━━━━━━━━━━━━━━━━━━━━━━━━━━━━━\u001b[0m \u001b[32m452.6/452.6 kB\u001b[0m \u001b[31m25.1 MB/s\u001b[0m eta \u001b[36m0:00:00\u001b[0m\n",
            "\u001b[?25hDownloading pyproject_hooks-1.2.0-py3-none-any.whl (10 kB)\n",
            "Downloading asgiref-3.8.1-py3-none-any.whl (23 kB)\n",
            "Building wheels for collected packages: pypika\n",
            "  Building wheel for pypika (pyproject.toml) ... \u001b[?25l\u001b[?25hdone\n",
            "  Created wheel for pypika: filename=PyPika-0.48.9-py2.py3-none-any.whl size=53771 sha256=b678450aa511a6aaf9051f51896a10ebca12af5a8c4d4ffa4a4fcf85f3b4c172\n",
            "  Stored in directory: /root/.cache/pip/wheels/a3/01/bd/4c40ceb9d5354160cb186dcc153360f4ab7eb23e2b24daf96d\n",
            "Successfully built pypika\n",
            "Installing collected packages: pypika, monotonic, durationpy, uvloop, uvicorn, python-dotenv, pyproject_hooks, protobuf, overrides, opentelemetry-util-http, mmh3, importlib-metadata, httptools, chroma-hnswlib, bcrypt, asgiref, watchfiles, starlette, posthog, opentelemetry-proto, opentelemetry-api, build, opentelemetry-semantic-conventions, opentelemetry-exporter-otlp-proto-common, kubernetes, fastapi, opentelemetry-sdk, opentelemetry-instrumentation, opentelemetry-instrumentation-asgi, opentelemetry-exporter-otlp-proto-grpc, opentelemetry-instrumentation-fastapi, chromadb\n",
            "  Attempting uninstall: protobuf\n",
            "    Found existing installation: protobuf 4.25.6\n",
            "    Uninstalling protobuf-4.25.6:\n",
            "      Successfully uninstalled protobuf-4.25.6\n",
            "  Attempting uninstall: importlib-metadata\n",
            "    Found existing installation: importlib_metadata 8.6.1\n",
            "    Uninstalling importlib_metadata-8.6.1:\n",
            "      Successfully uninstalled importlib_metadata-8.6.1\n",
            "  Attempting uninstall: opentelemetry-api\n",
            "    Found existing installation: opentelemetry-api 1.16.0\n",
            "    Uninstalling opentelemetry-api-1.16.0:\n",
            "      Successfully uninstalled opentelemetry-api-1.16.0\n",
            "  Attempting uninstall: opentelemetry-semantic-conventions\n",
            "    Found existing installation: opentelemetry-semantic-conventions 0.37b0\n",
            "    Uninstalling opentelemetry-semantic-conventions-0.37b0:\n",
            "      Successfully uninstalled opentelemetry-semantic-conventions-0.37b0\n",
            "  Attempting uninstall: opentelemetry-sdk\n",
            "    Found existing installation: opentelemetry-sdk 1.16.0\n",
            "    Uninstalling opentelemetry-sdk-1.16.0:\n",
            "      Successfully uninstalled opentelemetry-sdk-1.16.0\n",
            "Successfully installed asgiref-3.8.1 bcrypt-4.2.1 build-1.2.2.post1 chroma-hnswlib-0.7.6 chromadb-0.6.3 durationpy-0.9 fastapi-0.115.8 httptools-0.6.4 importlib-metadata-8.5.0 kubernetes-32.0.1 mmh3-5.1.0 monotonic-1.6 opentelemetry-api-1.30.0 opentelemetry-exporter-otlp-proto-common-1.30.0 opentelemetry-exporter-otlp-proto-grpc-1.30.0 opentelemetry-instrumentation-0.51b0 opentelemetry-instrumentation-asgi-0.51b0 opentelemetry-instrumentation-fastapi-0.51b0 opentelemetry-proto-1.30.0 opentelemetry-sdk-1.30.0 opentelemetry-semantic-conventions-0.51b0 opentelemetry-util-http-0.51b0 overrides-7.7.0 posthog-3.14.2 protobuf-5.29.3 pypika-0.48.9 pyproject_hooks-1.2.0 python-dotenv-1.0.1 starlette-0.45.3 uvicorn-0.34.0 uvloop-0.21.0 watchfiles-1.0.4\n"
          ]
        },
        {
          "output_type": "display_data",
          "data": {
            "application/vnd.colab-display-data+json": {
              "pip_warning": {
                "packages": [
                  "importlib_metadata"
                ]
              },
              "id": "b0649b9c87fa45329d64616af46e4b9b"
            }
          },
          "metadata": {}
        }
      ],
      "source": [
        "!pip install \"unstructured[all-docs]\"\n",
        "!pip install \"unstructured[openai]\"\n",
        "!pip install langchain\n",
        "!pip install chromadb"
      ]
    },
    {
      "cell_type": "markdown",
      "source": [
        "# Unstructured API - Key Features:\n",
        "\n",
        "1. Precise Document Extraction: Unstructured offers advanced capabilities in extracting elements and metadata from documents. This includes a variety of document element types and metadata.\n",
        "\n",
        "2. Extensive File Support: The platform supports a wide array of file types, ensuring versatility in handling different document formats from PDF, Images, HTML, and many more.\n",
        "\n",
        "https://docs.unstructured.io/welcome\n",
        "\n",
        "https://docs.unstructured.io/open-source/introduction/overview\n"
      ],
      "metadata": {
        "id": "Va6p61_0uonO"
      }
    },
    {
      "cell_type": "markdown",
      "source": [
        "# The Unstructured Core API consists of the following components:\n",
        "\n",
        "1. Partitioning: The partitioning functions in Unstructured enable the extraction of structured content from raw, unstructured documents. Partitioning functions in unstructured allow users to extract structured content from a raw unstructured document. These functions break a document down into elements such as Title, NarrativeText, and ListItem, enabling users to decide what content they’d like to keep for their particular application. If you’re training a summarization model, for example, you may only be interested in NarrativeText.\n",
        "\n",
        "2. Cleaning: Data preparation for NLP models often requires cleaning to ensure quality. The Unstructured library includes cleaning functions that assist in sanitizing output, removing unwanted content, and improving the performance of NLP models. This step is essential for maintaining the integrity of data before it is passed to downstream applications.\n",
        "\n",
        "3. Extracting: This functionality allows for the extraction of specific entities within documents. It is designed to identify and isolate relevant pieces of information, making it easier for users to focus on the most pertinent data in their documents.\n",
        "\n",
        "4. Staging: Staging functions help prepare your data for ingestion into downstream systems. Please note that this functionality is being deprecated in favor of Destination Connectors.\n",
        "\n",
        "5. Chunking: The chunking process in Unstructured is distinct from conventional methods. Instead of relying solely on text-based features to form chunks, Unstructured uses a deep understanding of document formats to partition documents into semantic units (document elements).\n",
        "\n",
        "6. Embedding: The embedding encoder classes in Unstructured leverage document elements detected through partitioning or grouped via chunking to obtain embeddings for each element. This is particularly useful for applications like Retrieval Augmented Generation (RAG), where precise and contextually relevant embeddings are crucial."
      ],
      "metadata": {
        "id": "L77CdkqattGG"
      }
    },
    {
      "cell_type": "markdown",
      "source": [
        "##PDF - Extraction\n",
        "https://docs.unstructured.io/open-source/core-functionality/partitioning\n"
      ],
      "metadata": {
        "id": "C6PGw-2BtXTl"
      }
    },
    {
      "cell_type": "code",
      "source": [
        "from unstructured.partition.auto import partition\n",
        "\n",
        "#link = 'https://github.com/Unstructured-IO/unstructured/blob/main/example-docs/layout-parser-paper-fast.pdf'\n",
        "\n",
        "url = 'https://raw.githubusercontent.com/Unstructured-IO/unstructured/blob/main/example-docs/pdf/layout-parser-paper-fast.pdf'\n",
        "\n",
        "# Use if loading from  a url\n",
        "elements = partition(url=url)\n",
        "\n",
        "# Use if loading from a local file\n",
        "#elements = partition(\"/content/example-docs/layout-parser-paper-fast.pdf\")\n",
        "\n",
        "elements"
      ],
      "metadata": {
        "colab": {
          "base_uri": "https://localhost:8080/"
        },
        "id": "i9dQ4GomgyiE",
        "outputId": "ceea4af1-1dbf-4892-a8f3-eaf1163cb9b1"
      },
      "execution_count": 6,
      "outputs": [
        {
          "output_type": "execute_result",
          "data": {
            "text/plain": [
              "[<unstructured.documents.elements.Title at 0x7cffaf909550>]"
            ]
          },
          "metadata": {},
          "execution_count": 6
        }
      ]
    },
    {
      "cell_type": "code",
      "source": [
        "from collections import Counter\n",
        "\n",
        "display(Counter(type(element) for element in elements))\n",
        "print(\"\")"
      ],
      "metadata": {
        "colab": {
          "base_uri": "https://localhost:8080/",
          "height": 52
        },
        "id": "ScLyWILRov-g",
        "outputId": "4a2e213c-c3df-459e-d98d-4e87f2fc8358"
      },
      "execution_count": 7,
      "outputs": [
        {
          "output_type": "display_data",
          "data": {
            "text/plain": [
              "Counter({unstructured.documents.elements.Title: 1})"
            ]
          },
          "metadata": {}
        },
        {
          "output_type": "stream",
          "name": "stdout",
          "text": [
            "\n"
          ]
        }
      ]
    },
    {
      "cell_type": "code",
      "source": [
        "display(*[(type(element), element.text) for element in elements])"
      ],
      "metadata": {
        "colab": {
          "base_uri": "https://localhost:8080/",
          "height": 34
        },
        "id": "Fv2Kge-RpNfP",
        "outputId": "c6e38890-99d7-42b7-b3f2-3fcdc0a6ed93"
      },
      "execution_count": 8,
      "outputs": [
        {
          "output_type": "display_data",
          "data": {
            "text/plain": [
              "(unstructured.documents.elements.Title, '404: Not Found')"
            ]
          },
          "metadata": {}
        }
      ]
    },
    {
      "cell_type": "markdown",
      "source": [
        "##HTML - Extraction"
      ],
      "metadata": {
        "id": "p-yqUZxvs5vw"
      }
    },
    {
      "cell_type": "code",
      "source": [
        "url = 'https://www.businessinsider.com/navalny-death-letters-trump-second-term-agenda-really-scary-2024-2'\n",
        "\n",
        "from unstructured.partition.auto import partition\n",
        "\n",
        "elements = partition(url=url, strategy='hi_res', html_assemble_articles=True,\n",
        "                     chunking_strategy=\"by_title\", multipage_sections=True)\n",
        "elements"
      ],
      "metadata": {
        "colab": {
          "base_uri": "https://localhost:8080/"
        },
        "id": "rhC2I8asp9D_",
        "outputId": "4a6ef680-d714-40ce-86d3-811df41f2c1d"
      },
      "execution_count": 13,
      "outputs": [
        {
          "output_type": "execute_result",
          "data": {
            "text/plain": [
              "[<unstructured.documents.elements.CompositeElement at 0x7cffa29319d0>,\n",
              " <unstructured.documents.elements.CompositeElement at 0x7cffa2931750>,\n",
              " <unstructured.documents.elements.CompositeElement at 0x7cffa2931490>,\n",
              " <unstructured.documents.elements.CompositeElement at 0x7cffa2931250>,\n",
              " <unstructured.documents.elements.CompositeElement at 0x7cffa2930f90>,\n",
              " <unstructured.documents.elements.CompositeElement at 0x7cffa2930c50>,\n",
              " <unstructured.documents.elements.CompositeElement at 0x7cffa2930790>,\n",
              " <unstructured.documents.elements.CompositeElement at 0x7cffa29309d0>,\n",
              " <unstructured.documents.elements.CompositeElement at 0x7cffa2930610>]"
            ]
          },
          "metadata": {},
          "execution_count": 13
        }
      ]
    },
    {
      "cell_type": "code",
      "source": [
        "from unstructured.partition.html import partition_html\n",
        "\n",
        "url = 'https://www.businessinsider.com/navalny-death-letters-trump-second-term-agenda-really-scary-2024-2'\n",
        "\n",
        "elements = partition_html(url=url)\n",
        "\n",
        "elements"
      ],
      "metadata": {
        "colab": {
          "base_uri": "https://localhost:8080/"
        },
        "id": "ZdQ6C1GIITcl",
        "outputId": "f9c8079f-6ee1-4038-a3e0-50d8a1f492eb"
      },
      "execution_count": 26,
      "outputs": [
        {
          "output_type": "execute_result",
          "data": {
            "text/plain": [
              "[<unstructured.documents.elements.Text at 0x7cffa1959dd0>,\n",
              " <unstructured.documents.elements.Text at 0x7cffa195ac50>,\n",
              " <unstructured.documents.elements.Title at 0x7cffa195ad10>,\n",
              " <unstructured.documents.elements.Text at 0x7cffa1f56750>,\n",
              " <unstructured.documents.elements.Text at 0x7cffa25c4210>,\n",
              " <unstructured.documents.elements.Text at 0x7cffa1af1d90>,\n",
              " <unstructured.documents.elements.NarrativeText at 0x7cffa1908710>,\n",
              " <unstructured.documents.elements.NarrativeText at 0x7cffa1908450>,\n",
              " <unstructured.documents.elements.ListItem at 0x7cffa1af24d0>,\n",
              " <unstructured.documents.elements.ListItem at 0x7cffa1af3fd0>,\n",
              " <unstructured.documents.elements.ListItem at 0x7cffa1af1dd0>,\n",
              " <unstructured.documents.elements.NarrativeText at 0x7cffa1af3ed0>,\n",
              " <unstructured.documents.elements.NarrativeText at 0x7cffa195a310>,\n",
              " <unstructured.documents.elements.NarrativeText at 0x7cffa195b7d0>,\n",
              " <unstructured.documents.elements.NarrativeText at 0x7cffa195b250>,\n",
              " <unstructured.documents.elements.NarrativeText at 0x7cffa1959e90>,\n",
              " <unstructured.documents.elements.NarrativeText at 0x7cffa1959610>,\n",
              " <unstructured.documents.elements.NarrativeText at 0x7cffa195b1d0>,\n",
              " <unstructured.documents.elements.NarrativeText at 0x7cffa1959910>,\n",
              " <unstructured.documents.elements.NarrativeText at 0x7cffa195b090>,\n",
              " <unstructured.documents.elements.NarrativeText at 0x7cffa1958b50>,\n",
              " <unstructured.documents.elements.NarrativeText at 0x7cffa1959150>,\n",
              " <unstructured.documents.elements.NarrativeText at 0x7cffa1959190>,\n",
              " <unstructured.documents.elements.NarrativeText at 0x7cffa195b390>,\n",
              " <unstructured.documents.elements.Title at 0x7cffa1958cd0>,\n",
              " <unstructured.documents.elements.ListItem at 0x7cffa195bad0>,\n",
              " <unstructured.documents.elements.ListItem at 0x7cffa195bd50>,\n",
              " <unstructured.documents.elements.Title at 0x7cffa19100d0>,\n",
              " <unstructured.documents.elements.NarrativeText at 0x7cffa1910890>,\n",
              " <unstructured.documents.elements.Text at 0x7cffa19108d0>,\n",
              " <unstructured.documents.elements.ListItem at 0x7cffa1911090>,\n",
              " <unstructured.documents.elements.ListItem at 0x7cffa1911490>,\n",
              " <unstructured.documents.elements.ListItem at 0x7cffa19117d0>,\n",
              " <unstructured.documents.elements.ListItem at 0x7cffa1911ad0>,\n",
              " <unstructured.documents.elements.ListItem at 0x7cffa1911d90>,\n",
              " <unstructured.documents.elements.ListItem at 0x7cffa1912010>,\n",
              " <unstructured.documents.elements.ListItem at 0x7cffa1912350>,\n",
              " <unstructured.documents.elements.ListItem at 0x7cffa19125d0>,\n",
              " <unstructured.documents.elements.ListItem at 0x7cffa1912850>,\n",
              " <unstructured.documents.elements.ListItem at 0x7cffa1912b90>,\n",
              " <unstructured.documents.elements.ListItem at 0x7cffa1912dd0>,\n",
              " <unstructured.documents.elements.ListItem at 0x7cffa1913150>,\n",
              " <unstructured.documents.elements.ListItem at 0x7cffa1913450>,\n",
              " <unstructured.documents.elements.Text at 0x7cffa1913290>,\n",
              " <unstructured.documents.elements.ListItem at 0x7cffa1913910>,\n",
              " <unstructured.documents.elements.ListItem at 0x7cffa1913bd0>,\n",
              " <unstructured.documents.elements.ListItem at 0x7cffa1913e50>,\n",
              " <unstructured.documents.elements.ListItem at 0x7cffa1918210>,\n",
              " <unstructured.documents.elements.ListItem at 0x7cffa1918510>,\n",
              " <unstructured.documents.elements.ListItem at 0x7cffa1918810>,\n",
              " <unstructured.documents.elements.Text at 0x7cffa1918910>,\n",
              " <unstructured.documents.elements.ListItem at 0x7cffa1918e90>,\n",
              " <unstructured.documents.elements.ListItem at 0x7cffa1919110>,\n",
              " <unstructured.documents.elements.Text at 0x7cffa1919150>,\n",
              " <unstructured.documents.elements.ListItem at 0x7cffa19196d0>,\n",
              " <unstructured.documents.elements.ListItem at 0x7cffa1919990>,\n",
              " <unstructured.documents.elements.ListItem at 0x7cffa1919d10>,\n",
              " <unstructured.documents.elements.ListItem at 0x7cffa1919fd0>,\n",
              " <unstructured.documents.elements.ListItem at 0x7cffa191a2d0>,\n",
              " <unstructured.documents.elements.ListItem at 0x7cffa191a5d0>,\n",
              " <unstructured.documents.elements.NarrativeText at 0x7cffa191aed0>,\n",
              " <unstructured.documents.elements.Text at 0x7cffa191b510>,\n",
              " <unstructured.documents.elements.ListItem at 0x7cffa2930f50>,\n",
              " <unstructured.documents.elements.ListItem at 0x7cffa1911050>,\n",
              " <unstructured.documents.elements.ListItem at 0x7cffa1913c10>]"
            ]
          },
          "metadata": {},
          "execution_count": 26
        }
      ]
    },
    {
      "cell_type": "code",
      "source": [
        "from collections import Counter\n",
        "\n",
        "display(Counter(type(element) for element in elements))\n",
        "print(\"\")"
      ],
      "metadata": {
        "colab": {
          "base_uri": "https://localhost:8080/",
          "height": 104
        },
        "id": "vZO3mLI_qted",
        "outputId": "8de68bfb-17f3-4f68-a9c2-30edc0b27037"
      },
      "execution_count": 27,
      "outputs": [
        {
          "output_type": "display_data",
          "data": {
            "text/plain": [
              "Counter({unstructured.documents.elements.Text: 10,\n",
              "         unstructured.documents.elements.Title: 3,\n",
              "         unstructured.documents.elements.NarrativeText: 17,\n",
              "         unstructured.documents.elements.ListItem: 35})"
            ]
          },
          "metadata": {}
        },
        {
          "output_type": "stream",
          "name": "stdout",
          "text": [
            "\n"
          ]
        }
      ]
    },
    {
      "cell_type": "code",
      "source": [
        "display(*[(type(element), element.text) for element in elements])"
      ],
      "metadata": {
        "colab": {
          "base_uri": "https://localhost:8080/",
          "height": 1000
        },
        "id": "cxqE342JBYjn",
        "outputId": "91ca931f-dd1b-4192-ee34-9b2b8fbabc36"
      },
      "execution_count": 33,
      "outputs": [
        {
          "output_type": "display_data",
          "data": {
            "text/plain": [
              "(unstructured.documents.elements.Text, 'Subscribe Newsletters')"
            ]
          },
          "metadata": {}
        },
        {
          "output_type": "display_data",
          "data": {
            "text/plain": [
              "(unstructured.documents.elements.Text, 'Military & Defense')"
            ]
          },
          "metadata": {}
        },
        {
          "output_type": "display_data",
          "data": {
            "text/plain": [
              "(unstructured.documents.elements.Title,\n",
              " \"In Navalny's last letters, the Russian dissident called Trump's agenda for a second term 'really scary'\")"
            ]
          },
          "metadata": {}
        },
        {
          "output_type": "display_data",
          "data": {
            "text/plain": [
              "(unstructured.documents.elements.Text, 'Kelsey Vlamis')"
            ]
          },
          "metadata": {}
        },
        {
          "output_type": "display_data",
          "data": {
            "text/plain": [
              "(unstructured.documents.elements.Text, '2024-02-20T01:55:04Z')"
            ]
          },
          "metadata": {}
        },
        {
          "output_type": "display_data",
          "data": {
            "text/plain": [
              "(unstructured.documents.elements.Text,\n",
              " 'Facebook Email X LinkedIn Copy Link Impact Link')"
            ]
          },
          "metadata": {}
        },
        {
          "output_type": "display_data",
          "data": {
            "text/plain": [
              "(unstructured.documents.elements.NarrativeText, 'Read in app')"
            ]
          },
          "metadata": {}
        },
        {
          "output_type": "display_data",
          "data": {
            "text/plain": [
              "(unstructured.documents.elements.NarrativeText,\n",
              " 'This story is available exclusively to Business Insider subscribers. Become an Insider and start reading now. Have an account? .')"
            ]
          },
          "metadata": {}
        },
        {
          "output_type": "display_data",
          "data": {
            "text/plain": [
              "(unstructured.documents.elements.ListItem,\n",
              " \"Alexey Navalny, Vladimir Putin's most prominent critic, commented on US politics months before his death.\")"
            ]
          },
          "metadata": {}
        },
        {
          "output_type": "display_data",
          "data": {
            "text/plain": [
              "(unstructured.documents.elements.ListItem,\n",
              " 'Navalny expressed concern in letters to a friend over a potential second term for Donald Trump.')"
            ]
          },
          "metadata": {}
        },
        {
          "output_type": "display_data",
          "data": {
            "text/plain": [
              "(unstructured.documents.elements.ListItem,\n",
              " \"Trump briefly mentioned Navalny's death in a Truth Social post on Monday.\")"
            ]
          },
          "metadata": {}
        },
        {
          "output_type": "display_data",
          "data": {
            "text/plain": [
              "(unstructured.documents.elements.NarrativeText,\n",
              " 'Alexey Navalny, a dissident and the political nemesis of Russian President Vladimir Putin, spent the past few years of his life behind bars but still managed to stay connected to the outside world.')"
            ]
          },
          "metadata": {}
        },
        {
          "output_type": "display_data",
          "data": {
            "text/plain": [
              "(unstructured.documents.elements.NarrativeText,\n",
              " \"Letters from the final months of his life, obtained by The New York Times, show that Navalny, who'd been imprisoned since January 2021, managed to stay on top of current events — including in the US.\")"
            ]
          },
          "metadata": {}
        },
        {
          "output_type": "display_data",
          "data": {
            "text/plain": [
              "(unstructured.documents.elements.NarrativeText,\n",
              " 'In a letter sent to a friend, a photographer named Evgeny Feldman, Navalny said former President Donald Trump\\'s agenda for a second term was \"really scary,\" according to the Times.')"
            ]
          },
          "metadata": {}
        },
        {
          "output_type": "display_data",
          "data": {
            "text/plain": [
              "(unstructured.documents.elements.NarrativeText,\n",
              " 'He said if President Joe Biden were to have a health issue, \"Trump will become president,\" adding: \"Doesn\\'t this obvious thing concern the Democrats?\"')"
            ]
          },
          "metadata": {}
        },
        {
          "output_type": "display_data",
          "data": {
            "text/plain": [
              "(unstructured.documents.elements.NarrativeText,\n",
              " 'In another letter to Feldman dated December 3, Navalny again expressed concern over Trump and asked his friend, \"Please name one current politician you admire.\"')"
            ]
          },
          "metadata": {}
        },
        {
          "output_type": "display_data",
          "data": {
            "text/plain": [
              "(unstructured.documents.elements.NarrativeText,\n",
              " \"Trump's office didn't immediately respond to a request for comment from Business Insider.\")"
            ]
          },
          "metadata": {}
        },
        {
          "output_type": "display_data",
          "data": {
            "text/plain": [
              "(unstructured.documents.elements.NarrativeText,\n",
              " 'On December 6, Navalny disappeared from the IK-6 penal colony about 120 miles east of Moscow. He turned up again on Christmas Day when his lawyers announced they had located him at the IK-3 penal colony, about 1,000 miles northeast of Moscow, above the Arctic Circle.')"
            ]
          },
          "metadata": {}
        },
        {
          "output_type": "display_data",
          "data": {
            "text/plain": [
              "(unstructured.documents.elements.NarrativeText,\n",
              " \"The Times reported that Navalny's communication ability from his new prison was greatly diminished.\")"
            ]
          },
          "metadata": {}
        },
        {
          "output_type": "display_data",
          "data": {
            "text/plain": [
              "(unstructured.documents.elements.NarrativeText,\n",
              " \"The journalist Sergei Parkhomenko said he received a letter from Navalny on February 13, a few days before Navalny's death was announced. In the letter, which Parkhomenko shared on Facebook, Navalny spoke of books and said he only had access to classics at his new prison.\")"
            ]
          },
          "metadata": {}
        },
        {
          "output_type": "display_data",
          "data": {
            "text/plain": [
              "(unstructured.documents.elements.NarrativeText,\n",
              " '\"Who could\\'ve told me that Chekhov is the most depressing Russian writer?\" he wrote.')"
            ]
          },
          "metadata": {}
        },
        {
          "output_type": "display_data",
          "data": {
            "text/plain": [
              "(unstructured.documents.elements.NarrativeText,\n",
              " \"Trump, for his part, didn't mention Navalny in the days after his death, despite condemnations from other leaders who directly blamed Putin.\")"
            ]
          },
          "metadata": {}
        },
        {
          "output_type": "display_data",
          "data": {
            "text/plain": [
              "(unstructured.documents.elements.NarrativeText,\n",
              " 'In a Truth Social post on Monday, Trump briefly mentioned Navalny before directing his ire at his own perceived political opponents: \"The sudden death of Alexei Navalny has made me more and more aware of what is happening in our Country. It is a slow, steady progression, with CROOKED, Radical Left Politicians, Prosecutors, and Judges leading us down a path to destruction.\"')"
            ]
          },
          "metadata": {}
        },
        {
          "output_type": "display_data",
          "data": {
            "text/plain": [
              "(unstructured.documents.elements.NarrativeText,\n",
              " 'He mentioned neither Russia nor Putin.')"
            ]
          },
          "metadata": {}
        },
        {
          "output_type": "display_data",
          "data": {
            "text/plain": [
              "(unstructured.documents.elements.Title, 'Read next')"
            ]
          },
          "metadata": {}
        },
        {
          "output_type": "display_data",
          "data": {
            "text/plain": [
              "(unstructured.documents.elements.ListItem, 'Donald Trump')"
            ]
          },
          "metadata": {}
        },
        {
          "output_type": "display_data",
          "data": {
            "text/plain": [
              "(unstructured.documents.elements.ListItem, 'Russia')"
            ]
          },
          "metadata": {}
        },
        {
          "output_type": "display_data",
          "data": {
            "text/plain": [
              "(unstructured.documents.elements.Title, 'Recommended video')"
            ]
          },
          "metadata": {}
        },
        {
          "output_type": "display_data",
          "data": {
            "text/plain": [
              "(unstructured.documents.elements.NarrativeText,\n",
              " 'This story is available exclusively to Business Insider subscribers. Become an Insider and start reading now. Have an account? .')"
            ]
          },
          "metadata": {}
        },
        {
          "output_type": "display_data",
          "data": {
            "text/plain": [
              "(unstructured.documents.elements.Text, 'Legal & Privacy')"
            ]
          },
          "metadata": {}
        },
        {
          "output_type": "display_data",
          "data": {
            "text/plain": [
              "(unstructured.documents.elements.ListItem, 'Terms of Service')"
            ]
          },
          "metadata": {}
        },
        {
          "output_type": "display_data",
          "data": {
            "text/plain": [
              "(unstructured.documents.elements.ListItem, 'Terms of Sale')"
            ]
          },
          "metadata": {}
        },
        {
          "output_type": "display_data",
          "data": {
            "text/plain": [
              "(unstructured.documents.elements.ListItem, 'Privacy Policy')"
            ]
          },
          "metadata": {}
        },
        {
          "output_type": "display_data",
          "data": {
            "text/plain": [
              "(unstructured.documents.elements.ListItem, 'Accessibility')"
            ]
          },
          "metadata": {}
        },
        {
          "output_type": "display_data",
          "data": {
            "text/plain": [
              "(unstructured.documents.elements.ListItem, 'Code of Ethics Policy')"
            ]
          },
          "metadata": {}
        },
        {
          "output_type": "display_data",
          "data": {
            "text/plain": [
              "(unstructured.documents.elements.ListItem, 'Reprints & Permissions')"
            ]
          },
          "metadata": {}
        },
        {
          "output_type": "display_data",
          "data": {
            "text/plain": [
              "(unstructured.documents.elements.ListItem, 'Disclaimer')"
            ]
          },
          "metadata": {}
        },
        {
          "output_type": "display_data",
          "data": {
            "text/plain": [
              "(unstructured.documents.elements.ListItem, 'Advertising Policies')"
            ]
          },
          "metadata": {}
        },
        {
          "output_type": "display_data",
          "data": {
            "text/plain": [
              "(unstructured.documents.elements.ListItem, 'Conflict of Interest Policy')"
            ]
          },
          "metadata": {}
        },
        {
          "output_type": "display_data",
          "data": {
            "text/plain": [
              "(unstructured.documents.elements.ListItem, 'Commerce Policy')"
            ]
          },
          "metadata": {}
        },
        {
          "output_type": "display_data",
          "data": {
            "text/plain": [
              "(unstructured.documents.elements.ListItem, 'Coupons Privacy Policy')"
            ]
          },
          "metadata": {}
        },
        {
          "output_type": "display_data",
          "data": {
            "text/plain": [
              "(unstructured.documents.elements.ListItem, 'Coupons Terms')"
            ]
          },
          "metadata": {}
        },
        {
          "output_type": "display_data",
          "data": {
            "text/plain": [
              "(unstructured.documents.elements.ListItem, 'Your Privacy Choices')"
            ]
          },
          "metadata": {}
        },
        {
          "output_type": "display_data",
          "data": {
            "text/plain": [
              "(unstructured.documents.elements.Text, 'Company')"
            ]
          },
          "metadata": {}
        },
        {
          "output_type": "display_data",
          "data": {
            "text/plain": [
              "(unstructured.documents.elements.ListItem, 'About Us')"
            ]
          },
          "metadata": {}
        },
        {
          "output_type": "display_data",
          "data": {
            "text/plain": [
              "(unstructured.documents.elements.ListItem, 'Careers')"
            ]
          },
          "metadata": {}
        },
        {
          "output_type": "display_data",
          "data": {
            "text/plain": [
              "(unstructured.documents.elements.ListItem, 'Advertise With Us')"
            ]
          },
          "metadata": {}
        },
        {
          "output_type": "display_data",
          "data": {
            "text/plain": [
              "(unstructured.documents.elements.ListItem, 'Contact Us')"
            ]
          },
          "metadata": {}
        },
        {
          "output_type": "display_data",
          "data": {
            "text/plain": [
              "(unstructured.documents.elements.ListItem, 'Company News')"
            ]
          },
          "metadata": {}
        },
        {
          "output_type": "display_data",
          "data": {
            "text/plain": [
              "(unstructured.documents.elements.ListItem, 'Masthead')"
            ]
          },
          "metadata": {}
        },
        {
          "output_type": "display_data",
          "data": {
            "text/plain": [
              "(unstructured.documents.elements.Text, 'Other')"
            ]
          },
          "metadata": {}
        },
        {
          "output_type": "display_data",
          "data": {
            "text/plain": [
              "(unstructured.documents.elements.ListItem, 'Sitemap')"
            ]
          },
          "metadata": {}
        },
        {
          "output_type": "display_data",
          "data": {
            "text/plain": [
              "(unstructured.documents.elements.ListItem, 'Stock quotes by finanzen.net')"
            ]
          },
          "metadata": {}
        },
        {
          "output_type": "display_data",
          "data": {
            "text/plain": [
              "(unstructured.documents.elements.Text, 'International Editions')"
            ]
          },
          "metadata": {}
        },
        {
          "output_type": "display_data",
          "data": {
            "text/plain": [
              "(unstructured.documents.elements.ListItem, 'AT')"
            ]
          },
          "metadata": {}
        },
        {
          "output_type": "display_data",
          "data": {
            "text/plain": [
              "(unstructured.documents.elements.ListItem, 'DE')"
            ]
          },
          "metadata": {}
        },
        {
          "output_type": "display_data",
          "data": {
            "text/plain": [
              "(unstructured.documents.elements.ListItem, 'ES')"
            ]
          },
          "metadata": {}
        },
        {
          "output_type": "display_data",
          "data": {
            "text/plain": [
              "(unstructured.documents.elements.ListItem, 'JP')"
            ]
          },
          "metadata": {}
        },
        {
          "output_type": "display_data",
          "data": {
            "text/plain": [
              "(unstructured.documents.elements.ListItem, 'NL')"
            ]
          },
          "metadata": {}
        },
        {
          "output_type": "display_data",
          "data": {
            "text/plain": [
              "(unstructured.documents.elements.ListItem, 'PL')"
            ]
          },
          "metadata": {}
        },
        {
          "output_type": "display_data",
          "data": {
            "text/plain": [
              "(unstructured.documents.elements.NarrativeText,\n",
              " 'Copyright © 2025 Insider Inc. All rights reserved. Registration on or use of this site constitutes acceptance of our Terms of Service and Privacy Policy.')"
            ]
          },
          "metadata": {}
        },
        {
          "output_type": "display_data",
          "data": {
            "text/plain": [
              "(unstructured.documents.elements.Text, 'Jump to')"
            ]
          },
          "metadata": {}
        },
        {
          "output_type": "display_data",
          "data": {
            "text/plain": [
              "(unstructured.documents.elements.ListItem, 'Main content')"
            ]
          },
          "metadata": {}
        },
        {
          "output_type": "display_data",
          "data": {
            "text/plain": [
              "(unstructured.documents.elements.ListItem, 'Search')"
            ]
          },
          "metadata": {}
        },
        {
          "output_type": "display_data",
          "data": {
            "text/plain": [
              "(unstructured.documents.elements.ListItem, 'Account')"
            ]
          },
          "metadata": {}
        }
      ]
    },
    {
      "cell_type": "code",
      "source": [],
      "metadata": {
        "id": "v9fmDNrnI6px"
      },
      "execution_count": null,
      "outputs": []
    },
    {
      "cell_type": "code",
      "source": [
        "for element in elements:\n",
        "  print(str(type(element)))"
      ],
      "metadata": {
        "colab": {
          "base_uri": "https://localhost:8080/"
        },
        "id": "8MjzVKmJJ28Y",
        "outputId": "990cb670-9017-406a-9e78-cc7fab810b04"
      },
      "execution_count": 38,
      "outputs": [
        {
          "output_type": "stream",
          "name": "stdout",
          "text": [
            "<class 'unstructured.documents.elements.Text'>\n",
            "<class 'unstructured.documents.elements.Text'>\n",
            "<class 'unstructured.documents.elements.Title'>\n",
            "<class 'unstructured.documents.elements.Text'>\n",
            "<class 'unstructured.documents.elements.Text'>\n",
            "<class 'unstructured.documents.elements.Text'>\n",
            "<class 'unstructured.documents.elements.NarrativeText'>\n",
            "<class 'unstructured.documents.elements.NarrativeText'>\n",
            "<class 'unstructured.documents.elements.ListItem'>\n",
            "<class 'unstructured.documents.elements.ListItem'>\n",
            "<class 'unstructured.documents.elements.ListItem'>\n",
            "<class 'unstructured.documents.elements.NarrativeText'>\n",
            "<class 'unstructured.documents.elements.NarrativeText'>\n",
            "<class 'unstructured.documents.elements.NarrativeText'>\n",
            "<class 'unstructured.documents.elements.NarrativeText'>\n",
            "<class 'unstructured.documents.elements.NarrativeText'>\n",
            "<class 'unstructured.documents.elements.NarrativeText'>\n",
            "<class 'unstructured.documents.elements.NarrativeText'>\n",
            "<class 'unstructured.documents.elements.NarrativeText'>\n",
            "<class 'unstructured.documents.elements.NarrativeText'>\n",
            "<class 'unstructured.documents.elements.NarrativeText'>\n",
            "<class 'unstructured.documents.elements.NarrativeText'>\n",
            "<class 'unstructured.documents.elements.NarrativeText'>\n",
            "<class 'unstructured.documents.elements.NarrativeText'>\n",
            "<class 'unstructured.documents.elements.Title'>\n",
            "<class 'unstructured.documents.elements.ListItem'>\n",
            "<class 'unstructured.documents.elements.ListItem'>\n",
            "<class 'unstructured.documents.elements.Title'>\n",
            "<class 'unstructured.documents.elements.NarrativeText'>\n",
            "<class 'unstructured.documents.elements.Text'>\n",
            "<class 'unstructured.documents.elements.ListItem'>\n",
            "<class 'unstructured.documents.elements.ListItem'>\n",
            "<class 'unstructured.documents.elements.ListItem'>\n",
            "<class 'unstructured.documents.elements.ListItem'>\n",
            "<class 'unstructured.documents.elements.ListItem'>\n",
            "<class 'unstructured.documents.elements.ListItem'>\n",
            "<class 'unstructured.documents.elements.ListItem'>\n",
            "<class 'unstructured.documents.elements.ListItem'>\n",
            "<class 'unstructured.documents.elements.ListItem'>\n",
            "<class 'unstructured.documents.elements.ListItem'>\n",
            "<class 'unstructured.documents.elements.ListItem'>\n",
            "<class 'unstructured.documents.elements.ListItem'>\n",
            "<class 'unstructured.documents.elements.ListItem'>\n",
            "<class 'unstructured.documents.elements.Text'>\n",
            "<class 'unstructured.documents.elements.ListItem'>\n",
            "<class 'unstructured.documents.elements.ListItem'>\n",
            "<class 'unstructured.documents.elements.ListItem'>\n",
            "<class 'unstructured.documents.elements.ListItem'>\n",
            "<class 'unstructured.documents.elements.ListItem'>\n",
            "<class 'unstructured.documents.elements.ListItem'>\n",
            "<class 'unstructured.documents.elements.Text'>\n",
            "<class 'unstructured.documents.elements.ListItem'>\n",
            "<class 'unstructured.documents.elements.ListItem'>\n",
            "<class 'unstructured.documents.elements.Text'>\n",
            "<class 'unstructured.documents.elements.ListItem'>\n",
            "<class 'unstructured.documents.elements.ListItem'>\n",
            "<class 'unstructured.documents.elements.ListItem'>\n",
            "<class 'unstructured.documents.elements.ListItem'>\n",
            "<class 'unstructured.documents.elements.ListItem'>\n",
            "<class 'unstructured.documents.elements.ListItem'>\n",
            "<class 'unstructured.documents.elements.NarrativeText'>\n",
            "<class 'unstructured.documents.elements.Text'>\n",
            "<class 'unstructured.documents.elements.ListItem'>\n",
            "<class 'unstructured.documents.elements.ListItem'>\n",
            "<class 'unstructured.documents.elements.ListItem'>\n"
          ]
        }
      ]
    },
    {
      "cell_type": "code",
      "source": [
        "display(*[(type(element), element.text) for element in elements if str(type(element)) == \"<class 'unstructured.documents.elements.Title'>\"])"
      ],
      "metadata": {
        "colab": {
          "base_uri": "https://localhost:8080/",
          "height": 86
        },
        "id": "SNA20wUHJ98C",
        "outputId": "2322e052-b949-4cd3-fb16-ca86358785b6"
      },
      "execution_count": 39,
      "outputs": [
        {
          "output_type": "display_data",
          "data": {
            "text/plain": [
              "(unstructured.documents.elements.Title,\n",
              " \"In Navalny's last letters, the Russian dissident called Trump's agenda for a second term 'really scary'\")"
            ]
          },
          "metadata": {}
        },
        {
          "output_type": "display_data",
          "data": {
            "text/plain": [
              "(unstructured.documents.elements.Title, 'Read next')"
            ]
          },
          "metadata": {}
        },
        {
          "output_type": "display_data",
          "data": {
            "text/plain": [
              "(unstructured.documents.elements.Title, 'Recommended video')"
            ]
          },
          "metadata": {}
        }
      ]
    },
    {
      "cell_type": "code",
      "source": [
        "display(*[(type(element), element.text) for element in elements if str(type(element)) == \"<class 'unstructured.documents.elements.ListItem'>\"])"
      ],
      "metadata": {
        "id": "bYU8tuuG__XY",
        "colab": {
          "base_uri": "https://localhost:8080/",
          "height": 677
        },
        "outputId": "fc46711c-5690-454f-9384-ac85e94c87bf"
      },
      "execution_count": 41,
      "outputs": [
        {
          "output_type": "display_data",
          "data": {
            "text/plain": [
              "(unstructured.documents.elements.ListItem,\n",
              " \"Alexey Navalny, Vladimir Putin's most prominent critic, commented on US politics months before his death.\")"
            ]
          },
          "metadata": {}
        },
        {
          "output_type": "display_data",
          "data": {
            "text/plain": [
              "(unstructured.documents.elements.ListItem,\n",
              " 'Navalny expressed concern in letters to a friend over a potential second term for Donald Trump.')"
            ]
          },
          "metadata": {}
        },
        {
          "output_type": "display_data",
          "data": {
            "text/plain": [
              "(unstructured.documents.elements.ListItem,\n",
              " \"Trump briefly mentioned Navalny's death in a Truth Social post on Monday.\")"
            ]
          },
          "metadata": {}
        },
        {
          "output_type": "display_data",
          "data": {
            "text/plain": [
              "(unstructured.documents.elements.ListItem, 'Donald Trump')"
            ]
          },
          "metadata": {}
        },
        {
          "output_type": "display_data",
          "data": {
            "text/plain": [
              "(unstructured.documents.elements.ListItem, 'Russia')"
            ]
          },
          "metadata": {}
        },
        {
          "output_type": "display_data",
          "data": {
            "text/plain": [
              "(unstructured.documents.elements.ListItem, 'Terms of Service')"
            ]
          },
          "metadata": {}
        },
        {
          "output_type": "display_data",
          "data": {
            "text/plain": [
              "(unstructured.documents.elements.ListItem, 'Terms of Sale')"
            ]
          },
          "metadata": {}
        },
        {
          "output_type": "display_data",
          "data": {
            "text/plain": [
              "(unstructured.documents.elements.ListItem, 'Privacy Policy')"
            ]
          },
          "metadata": {}
        },
        {
          "output_type": "display_data",
          "data": {
            "text/plain": [
              "(unstructured.documents.elements.ListItem, 'Accessibility')"
            ]
          },
          "metadata": {}
        },
        {
          "output_type": "display_data",
          "data": {
            "text/plain": [
              "(unstructured.documents.elements.ListItem, 'Code of Ethics Policy')"
            ]
          },
          "metadata": {}
        },
        {
          "output_type": "display_data",
          "data": {
            "text/plain": [
              "(unstructured.documents.elements.ListItem, 'Reprints & Permissions')"
            ]
          },
          "metadata": {}
        },
        {
          "output_type": "display_data",
          "data": {
            "text/plain": [
              "(unstructured.documents.elements.ListItem, 'Disclaimer')"
            ]
          },
          "metadata": {}
        },
        {
          "output_type": "display_data",
          "data": {
            "text/plain": [
              "(unstructured.documents.elements.ListItem, 'Advertising Policies')"
            ]
          },
          "metadata": {}
        },
        {
          "output_type": "display_data",
          "data": {
            "text/plain": [
              "(unstructured.documents.elements.ListItem, 'Conflict of Interest Policy')"
            ]
          },
          "metadata": {}
        },
        {
          "output_type": "display_data",
          "data": {
            "text/plain": [
              "(unstructured.documents.elements.ListItem, 'Commerce Policy')"
            ]
          },
          "metadata": {}
        },
        {
          "output_type": "display_data",
          "data": {
            "text/plain": [
              "(unstructured.documents.elements.ListItem, 'Coupons Privacy Policy')"
            ]
          },
          "metadata": {}
        },
        {
          "output_type": "display_data",
          "data": {
            "text/plain": [
              "(unstructured.documents.elements.ListItem, 'Coupons Terms')"
            ]
          },
          "metadata": {}
        },
        {
          "output_type": "display_data",
          "data": {
            "text/plain": [
              "(unstructured.documents.elements.ListItem, 'Your Privacy Choices')"
            ]
          },
          "metadata": {}
        },
        {
          "output_type": "display_data",
          "data": {
            "text/plain": [
              "(unstructured.documents.elements.ListItem, 'About Us')"
            ]
          },
          "metadata": {}
        },
        {
          "output_type": "display_data",
          "data": {
            "text/plain": [
              "(unstructured.documents.elements.ListItem, 'Careers')"
            ]
          },
          "metadata": {}
        },
        {
          "output_type": "display_data",
          "data": {
            "text/plain": [
              "(unstructured.documents.elements.ListItem, 'Advertise With Us')"
            ]
          },
          "metadata": {}
        },
        {
          "output_type": "display_data",
          "data": {
            "text/plain": [
              "(unstructured.documents.elements.ListItem, 'Contact Us')"
            ]
          },
          "metadata": {}
        },
        {
          "output_type": "display_data",
          "data": {
            "text/plain": [
              "(unstructured.documents.elements.ListItem, 'Company News')"
            ]
          },
          "metadata": {}
        },
        {
          "output_type": "display_data",
          "data": {
            "text/plain": [
              "(unstructured.documents.elements.ListItem, 'Masthead')"
            ]
          },
          "metadata": {}
        },
        {
          "output_type": "display_data",
          "data": {
            "text/plain": [
              "(unstructured.documents.elements.ListItem, 'Sitemap')"
            ]
          },
          "metadata": {}
        },
        {
          "output_type": "display_data",
          "data": {
            "text/plain": [
              "(unstructured.documents.elements.ListItem, 'Stock quotes by finanzen.net')"
            ]
          },
          "metadata": {}
        },
        {
          "output_type": "display_data",
          "data": {
            "text/plain": [
              "(unstructured.documents.elements.ListItem, 'AT')"
            ]
          },
          "metadata": {}
        },
        {
          "output_type": "display_data",
          "data": {
            "text/plain": [
              "(unstructured.documents.elements.ListItem, 'DE')"
            ]
          },
          "metadata": {}
        },
        {
          "output_type": "display_data",
          "data": {
            "text/plain": [
              "(unstructured.documents.elements.ListItem, 'ES')"
            ]
          },
          "metadata": {}
        },
        {
          "output_type": "display_data",
          "data": {
            "text/plain": [
              "(unstructured.documents.elements.ListItem, 'JP')"
            ]
          },
          "metadata": {}
        },
        {
          "output_type": "display_data",
          "data": {
            "text/plain": [
              "(unstructured.documents.elements.ListItem, 'NL')"
            ]
          },
          "metadata": {}
        },
        {
          "output_type": "display_data",
          "data": {
            "text/plain": [
              "(unstructured.documents.elements.ListItem, 'PL')"
            ]
          },
          "metadata": {}
        },
        {
          "output_type": "display_data",
          "data": {
            "text/plain": [
              "(unstructured.documents.elements.ListItem, 'Main content')"
            ]
          },
          "metadata": {}
        },
        {
          "output_type": "display_data",
          "data": {
            "text/plain": [
              "(unstructured.documents.elements.ListItem, 'Search')"
            ]
          },
          "metadata": {}
        },
        {
          "output_type": "display_data",
          "data": {
            "text/plain": [
              "(unstructured.documents.elements.ListItem, 'Account')"
            ]
          },
          "metadata": {}
        }
      ]
    },
    {
      "cell_type": "code",
      "source": [
        "display(*[(type(element), element.text) for element in elements if str(type(element)) == \"<class 'unstructured.documents.elements.Text'>\"])"
      ],
      "metadata": {
        "colab": {
          "base_uri": "https://localhost:8080/",
          "height": 208
        },
        "id": "BMrl8qws-iXh",
        "outputId": "f4640436-c6d0-4240-ed67-8588e8ea3648"
      },
      "execution_count": 42,
      "outputs": [
        {
          "output_type": "display_data",
          "data": {
            "text/plain": [
              "(unstructured.documents.elements.Text, 'Subscribe Newsletters')"
            ]
          },
          "metadata": {}
        },
        {
          "output_type": "display_data",
          "data": {
            "text/plain": [
              "(unstructured.documents.elements.Text, 'Military & Defense')"
            ]
          },
          "metadata": {}
        },
        {
          "output_type": "display_data",
          "data": {
            "text/plain": [
              "(unstructured.documents.elements.Text, 'Kelsey Vlamis')"
            ]
          },
          "metadata": {}
        },
        {
          "output_type": "display_data",
          "data": {
            "text/plain": [
              "(unstructured.documents.elements.Text, '2024-02-20T01:55:04Z')"
            ]
          },
          "metadata": {}
        },
        {
          "output_type": "display_data",
          "data": {
            "text/plain": [
              "(unstructured.documents.elements.Text,\n",
              " 'Facebook Email X LinkedIn Copy Link Impact Link')"
            ]
          },
          "metadata": {}
        },
        {
          "output_type": "display_data",
          "data": {
            "text/plain": [
              "(unstructured.documents.elements.Text, 'Legal & Privacy')"
            ]
          },
          "metadata": {}
        },
        {
          "output_type": "display_data",
          "data": {
            "text/plain": [
              "(unstructured.documents.elements.Text, 'Company')"
            ]
          },
          "metadata": {}
        },
        {
          "output_type": "display_data",
          "data": {
            "text/plain": [
              "(unstructured.documents.elements.Text, 'Other')"
            ]
          },
          "metadata": {}
        },
        {
          "output_type": "display_data",
          "data": {
            "text/plain": [
              "(unstructured.documents.elements.Text, 'International Editions')"
            ]
          },
          "metadata": {}
        },
        {
          "output_type": "display_data",
          "data": {
            "text/plain": [
              "(unstructured.documents.elements.Text, 'Jump to')"
            ]
          },
          "metadata": {}
        }
      ]
    },
    {
      "cell_type": "code",
      "source": [
        "display(*[(type(element), element.text) for element in elements if str(type(element)) == \"<class 'unstructured.documents.elements.NarrativeText'>\"])"
      ],
      "metadata": {
        "colab": {
          "base_uri": "https://localhost:8080/",
          "height": 781
        },
        "id": "SF4-23B_qxvJ",
        "outputId": "1f270371-4742-4118-e0d3-e3e792067c69"
      },
      "execution_count": 43,
      "outputs": [
        {
          "output_type": "display_data",
          "data": {
            "text/plain": [
              "(unstructured.documents.elements.NarrativeText, 'Read in app')"
            ]
          },
          "metadata": {}
        },
        {
          "output_type": "display_data",
          "data": {
            "text/plain": [
              "(unstructured.documents.elements.NarrativeText,\n",
              " 'This story is available exclusively to Business Insider subscribers. Become an Insider and start reading now. Have an account? .')"
            ]
          },
          "metadata": {}
        },
        {
          "output_type": "display_data",
          "data": {
            "text/plain": [
              "(unstructured.documents.elements.NarrativeText,\n",
              " 'Alexey Navalny, a dissident and the political nemesis of Russian President Vladimir Putin, spent the past few years of his life behind bars but still managed to stay connected to the outside world.')"
            ]
          },
          "metadata": {}
        },
        {
          "output_type": "display_data",
          "data": {
            "text/plain": [
              "(unstructured.documents.elements.NarrativeText,\n",
              " \"Letters from the final months of his life, obtained by The New York Times, show that Navalny, who'd been imprisoned since January 2021, managed to stay on top of current events — including in the US.\")"
            ]
          },
          "metadata": {}
        },
        {
          "output_type": "display_data",
          "data": {
            "text/plain": [
              "(unstructured.documents.elements.NarrativeText,\n",
              " 'In a letter sent to a friend, a photographer named Evgeny Feldman, Navalny said former President Donald Trump\\'s agenda for a second term was \"really scary,\" according to the Times.')"
            ]
          },
          "metadata": {}
        },
        {
          "output_type": "display_data",
          "data": {
            "text/plain": [
              "(unstructured.documents.elements.NarrativeText,\n",
              " 'He said if President Joe Biden were to have a health issue, \"Trump will become president,\" adding: \"Doesn\\'t this obvious thing concern the Democrats?\"')"
            ]
          },
          "metadata": {}
        },
        {
          "output_type": "display_data",
          "data": {
            "text/plain": [
              "(unstructured.documents.elements.NarrativeText,\n",
              " 'In another letter to Feldman dated December 3, Navalny again expressed concern over Trump and asked his friend, \"Please name one current politician you admire.\"')"
            ]
          },
          "metadata": {}
        },
        {
          "output_type": "display_data",
          "data": {
            "text/plain": [
              "(unstructured.documents.elements.NarrativeText,\n",
              " \"Trump's office didn't immediately respond to a request for comment from Business Insider.\")"
            ]
          },
          "metadata": {}
        },
        {
          "output_type": "display_data",
          "data": {
            "text/plain": [
              "(unstructured.documents.elements.NarrativeText,\n",
              " 'On December 6, Navalny disappeared from the IK-6 penal colony about 120 miles east of Moscow. He turned up again on Christmas Day when his lawyers announced they had located him at the IK-3 penal colony, about 1,000 miles northeast of Moscow, above the Arctic Circle.')"
            ]
          },
          "metadata": {}
        },
        {
          "output_type": "display_data",
          "data": {
            "text/plain": [
              "(unstructured.documents.elements.NarrativeText,\n",
              " \"The Times reported that Navalny's communication ability from his new prison was greatly diminished.\")"
            ]
          },
          "metadata": {}
        },
        {
          "output_type": "display_data",
          "data": {
            "text/plain": [
              "(unstructured.documents.elements.NarrativeText,\n",
              " \"The journalist Sergei Parkhomenko said he received a letter from Navalny on February 13, a few days before Navalny's death was announced. In the letter, which Parkhomenko shared on Facebook, Navalny spoke of books and said he only had access to classics at his new prison.\")"
            ]
          },
          "metadata": {}
        },
        {
          "output_type": "display_data",
          "data": {
            "text/plain": [
              "(unstructured.documents.elements.NarrativeText,\n",
              " '\"Who could\\'ve told me that Chekhov is the most depressing Russian writer?\" he wrote.')"
            ]
          },
          "metadata": {}
        },
        {
          "output_type": "display_data",
          "data": {
            "text/plain": [
              "(unstructured.documents.elements.NarrativeText,\n",
              " \"Trump, for his part, didn't mention Navalny in the days after his death, despite condemnations from other leaders who directly blamed Putin.\")"
            ]
          },
          "metadata": {}
        },
        {
          "output_type": "display_data",
          "data": {
            "text/plain": [
              "(unstructured.documents.elements.NarrativeText,\n",
              " 'In a Truth Social post on Monday, Trump briefly mentioned Navalny before directing his ire at his own perceived political opponents: \"The sudden death of Alexei Navalny has made me more and more aware of what is happening in our Country. It is a slow, steady progression, with CROOKED, Radical Left Politicians, Prosecutors, and Judges leading us down a path to destruction.\"')"
            ]
          },
          "metadata": {}
        },
        {
          "output_type": "display_data",
          "data": {
            "text/plain": [
              "(unstructured.documents.elements.NarrativeText,\n",
              " 'He mentioned neither Russia nor Putin.')"
            ]
          },
          "metadata": {}
        },
        {
          "output_type": "display_data",
          "data": {
            "text/plain": [
              "(unstructured.documents.elements.NarrativeText,\n",
              " 'This story is available exclusively to Business Insider subscribers. Become an Insider and start reading now. Have an account? .')"
            ]
          },
          "metadata": {}
        },
        {
          "output_type": "display_data",
          "data": {
            "text/plain": [
              "(unstructured.documents.elements.NarrativeText,\n",
              " 'Copyright © 2025 Insider Inc. All rights reserved. Registration on or use of this site constitutes acceptance of our Terms of Service and Privacy Policy.')"
            ]
          },
          "metadata": {}
        }
      ]
    },
    {
      "cell_type": "markdown",
      "source": [
        "## Embeddings\n",
        "\n",
        "https://unstructured-io.github.io/unstructured/core/embedding.html"
      ],
      "metadata": {
        "id": "Yxl_RbCp9RBb"
      }
    },
    {
      "cell_type": "code",
      "source": [
        "from google.colab import userdata\n",
        "open_ai_api_key = userdata.get('open_ai_api_key')\n",
        "\n",
        "from unstructured.documents.elements import Text\n",
        "from unstructured.embed.openai import OpenAIEmbeddingEncoder\n",
        "\n",
        "# Initialize the encoder with OpenAI credentials\n",
        "#embedding_encoder = OpenAIEmbeddingEncoder(api_key=open_ai_api_key)\n",
        "\n",
        "#embedding_encoder = OpenAIEmbeddingEncoder(api_key=open_ai_api_key)\n",
        "\n",
        "\n",
        "embedding_encoder =OpenAIEmbeddingEncoder(config=OpenAIEmbeddingConfig(api_key=open_ai_api_key))\n",
        "\n",
        "#embedding_encoder = OpenAIEmbeddingEncoder(config=[open_ai_api_key,\"text-embedding-ada-002\"] )\n",
        "\n",
        "# Embed a list of Elements\n",
        "elements = embedding_encoder.embed_documents(\n",
        "    elements=[Text(\"This is sentence 1\"), Text(\"This is sentence 2\")],\n",
        ")\n",
        "\n",
        "# Embed a single query string\n",
        "query = \"This is the query\"\n",
        "query_embedding = embedding_encoder.embed_query(query=query)\n",
        "\n",
        "# Print embeddings\n",
        "[print(e.embeddings, e) for e in elements]\n",
        "print(query_embedding, query)\n",
        "print(embedding_encoder.is_unit_vector(), embedding_encoder.num_of_dimensions())"
      ],
      "metadata": {
        "id": "-fr4ntVfO6ZC",
        "colab": {
          "base_uri": "https://localhost:8080/",
          "height": 211
        },
        "outputId": "1592e4a5-4015-4151-85dc-4ad63db5e936"
      },
      "execution_count": null,
      "outputs": [
        {
          "output_type": "error",
          "ename": "NameError",
          "evalue": "name 'OpenAIEmbeddingConfig' is not defined",
          "traceback": [
            "\u001b[0;31m---------------------------------------------------------------------------\u001b[0m",
            "\u001b[0;31mNameError\u001b[0m                                 Traceback (most recent call last)",
            "\u001b[0;32m<ipython-input-27-bcd67ad64b77>\u001b[0m in \u001b[0;36m<cell line: 13>\u001b[0;34m()\u001b[0m\n\u001b[1;32m     11\u001b[0m \u001b[0;34m\u001b[0m\u001b[0m\n\u001b[1;32m     12\u001b[0m \u001b[0;34m\u001b[0m\u001b[0m\n\u001b[0;32m---> 13\u001b[0;31m \u001b[0membedding_encoder\u001b[0m \u001b[0;34m=\u001b[0m\u001b[0mOpenAIEmbeddingEncoder\u001b[0m\u001b[0;34m(\u001b[0m\u001b[0mconfig\u001b[0m\u001b[0;34m=\u001b[0m\u001b[0mOpenAIEmbeddingConfig\u001b[0m\u001b[0;34m(\u001b[0m\u001b[0mapi_key\u001b[0m\u001b[0;34m=\u001b[0m\u001b[0mopen_ai_api_key\u001b[0m\u001b[0;34m)\u001b[0m\u001b[0;34m)\u001b[0m\u001b[0;34m\u001b[0m\u001b[0;34m\u001b[0m\u001b[0m\n\u001b[0m\u001b[1;32m     14\u001b[0m \u001b[0;34m\u001b[0m\u001b[0m\n\u001b[1;32m     15\u001b[0m \u001b[0;31m#embedding_encoder = OpenAIEmbeddingEncoder(config=[open_ai_api_key,\"text-embedding-ada-002\"] )\u001b[0m\u001b[0;34m\u001b[0m\u001b[0;34m\u001b[0m\u001b[0m\n",
            "\u001b[0;31mNameError\u001b[0m: name 'OpenAIEmbeddingConfig' is not defined"
          ]
        }
      ]
    },
    {
      "cell_type": "markdown",
      "source": [
        "## CNN HTML Links, Vector Databases, Automatic Summarization via LangChain + OpenAI\n",
        "\n",
        "In the following section we:\n",
        "\n",
        "1. Get the links for the latest articles from an HTML file (Option 1) or directly from the CNN website (Option 2).  \n",
        "2. Use the Unstructured document loader in Langchain to load the files.\n",
        "3. Create embeddings for each file using OpenAIEmbeddings.\n",
        "4. Store the embeddings in Chroma DB.\n",
        "5. Query Chroma DB to return relevant articles.   \n",
        "6. Summarize the relevant articles using LangChain OpenAI integration.\n",
        "\n",
        "https://unstructured-io.github.io/unstructured/examples/chroma.html"
      ],
      "metadata": {
        "id": "ThTIA8k3tL2X"
      }
    },
    {
      "cell_type": "markdown",
      "source": [
        "## Option 1: Import from HTML file stored on Github"
      ],
      "metadata": {
        "id": "Ve3HHzTqhhqP"
      }
    },
    {
      "cell_type": "code",
      "source": [
        "from unstructured.partition.html import partition_html\n",
        "import requests\n",
        "from google.colab import userdata\n",
        "open_ai_api_key = userdata.get('open_ai_api_key')\n",
        "\n",
        "url = \"https://github.com/StatsAI/NLP/blob/main/Breaking%20News%2C%20Latest%20News%20and%20Videos%20_%20CNN.html\"\n",
        "\n",
        "try:\n",
        "    response = requests.get(url, allow_redirects=True)\n",
        "    response.raise_for_status()  # Raise error if download fails\n",
        "except requests.exceptions.RequestException as e:\n",
        "    print(f\"Error downloading HTML: {e}\")\n",
        "    exit(1)\n",
        "\n",
        "# Save the content to a file\n",
        "with open(\"downloaded_html.html\", \"wb\") as f:\n",
        "    f.write(response.content)\n",
        "\n",
        "print(f\"HTML downloaded successfully to downloaded_html.html\")\n",
        "\n",
        "elements = partition_html(filename='downloaded_html.html')\n",
        "elements = elements[3].links\n",
        "\n",
        "links = []\n",
        "cnn_lite_url = \"https://lite.cnn.com/\"\n",
        "\n",
        "for element in elements:\n",
        "  try:\n",
        "    if element[\"url\"][3:-2]:\n",
        "      relative_link = element[\"url\"][3:-2]\n",
        "      links.append(f\"{cnn_lite_url}{relative_link}\")\n",
        "  except IndexError:\n",
        "    # Handle the case where the \"url\" key doesn't exist or the index is out of range\n",
        "    continue\n",
        "\n",
        "links"
      ],
      "metadata": {
        "colab": {
          "base_uri": "https://localhost:8080/"
        },
        "id": "xOcpgzxHauNo",
        "outputId": "e84c8451-127e-47cb-a5e3-9c79139d0243"
      },
      "execution_count": null,
      "outputs": [
        {
          "output_type": "stream",
          "name": "stdout",
          "text": [
            "HTML downloaded successfully to downloaded_html.html\n"
          ]
        },
        {
          "output_type": "execute_result",
          "data": {
            "text/plain": [
              "['https://lite.cnn.com/2024/02/22/middleeast/israel-ceasefire-negotiating-team-to-paris-intl/index.html',\n",
              " 'https://lite.cnn.com/2024/02/22/europe/spain-valencia-apartment-fire-intl/index.html',\n",
              " 'https://lite.cnn.com/2024/02/22/politics/leaked-documents-tech-firm-chinese-hacking/index.html',\n",
              " 'https://lite.cnn.com/2024/02/22/us/university-georgia-woman-dead/index.html',\n",
              " 'https://lite.cnn.com/2024/02/22/politics/nikki-haley-alabama-ivf-ruling/index.html',\n",
              " 'https://lite.cnn.com/2024/02/22/politics/mar-a-lago-carlos-de-oliveira-classified-documents/index.html',\n",
              " 'https://lite.cnn.com/2024/02/22/us/military-family-embryos-alabama-ruling/index.html',\n",
              " 'https://lite.cnn.com/2024/02/22/politics/putin-trump-us-election-analysis/index.html',\n",
              " 'https://lite.cnn.com/2024/02/22/politics/us-brothers-detained-gaza/index.html',\n",
              " 'https://lite.cnn.com/2024/02/22/politics/trump-moves-dismiss-classified-documents-case/index.html',\n",
              " 'https://lite.cnn.com/2024/02/22/us/rise-above-movement-ruling-on-hold/index.html',\n",
              " 'https://lite.cnn.com/2024/02/22/tech/att-cell-service-outage/index.html',\n",
              " 'https://lite.cnn.com/2024/02/22/tech/outage-att-cell-phone-service-cause/index.html',\n",
              " 'https://lite.cnn.com/travel/most-visited-national-park-service-sites-2023/index.html',\n",
              " 'https://lite.cnn.com/2024/02/22/opinions/nasa-mars-simulator-volunteers-chiao/index.html',\n",
              " 'https://lite.cnn.com/2024/02/22/media/vice-lay-offs-stops-publishing-content-on-its-website/index.html',\n",
              " 'https://lite.cnn.com/2024/02/22/style/jeff-koons-moon-phases-odysseus-landing/index.html',\n",
              " 'https://lite.cnn.com/2024/02/22/us/nassau-county-ny-transgender-sports-ban/index.html',\n",
              " 'https://lite.cnn.com/2024/02/22/politics/smugglers-charged-iranian-missile-houthis/index.html',\n",
              " 'https://lite.cnn.com/2024/02/22/opinions/jewish-harvard-antisemitism-racism-dei-licht/index.html',\n",
              " 'https://lite.cnn.com/2024/02/22/politics/biden-meets-with-navalny-family-in-california/index.html',\n",
              " 'https://lite.cnn.com/2024/02/22/us/uvalde-school-shooting-texas-police/index.html',\n",
              " 'https://lite.cnn.com/2024/02/22/us/alabama-embryos-ruling-ivf-treatment-leaving-state/index.html',\n",
              " 'https://lite.cnn.com/2024/02/22/politics/sanctions-russia-navalny-death/index.html',\n",
              " 'https://lite.cnn.com/2024/02/22/tech/us-pharmacies-face-delays-filling-prescriptions-because-of-cyberattack/index.html',\n",
              " 'https://lite.cnn.com/2024/02/22/politics/alexander-smirnov-re-arrested/index.html',\n",
              " 'https://lite.cnn.com/2024/02/21/us/alabama-ruling-frozen-embryos-facility-pauses-ivf/index.html',\n",
              " 'https://lite.cnn.com/2024/02/22/europe/russia-navalny-mother-body-intl/index.html',\n",
              " 'https://lite.cnn.com/2024/02/22/media/fox-news-bogus-fbi-informant-biden/index.html',\n",
              " 'https://lite.cnn.com/2024/02/22/business/toyota-recalls-280-000-vehicles-hnk-intl/index.html',\n",
              " 'https://lite.cnn.com/2024/02/21/politics/haley-alabama-supreme-court-ruling/index.html',\n",
              " 'https://lite.cnn.com/2024/02/22/entertainment/zendaya-tom-holland-rizz/index.html',\n",
              " 'https://lite.cnn.com/2024/02/22/us/how-to-help-civilians-in-ukraine-after-two-years-of-war/index.html',\n",
              " 'https://lite.cnn.com/2024/02/22/tech/ftc-avast-cybersecurity-company-fine/index.html',\n",
              " 'https://lite.cnn.com/2024/02/21/politics/wic-snap-choice-funding-congress/index.html',\n",
              " 'https://lite.cnn.com/2024/02/22/us/adam-montgomery-guilty-second-degree-murder-child-death/index.html',\n",
              " 'https://lite.cnn.com/2024/02/22/opinions/what-trumps-vp-shortlist-reveals-zelizer/index.html',\n",
              " 'https://lite.cnn.com/2024/02/22/politics/trump-engoron-civil-fraud-order/index.html',\n",
              " 'https://lite.cnn.com/2024/02/22/politics/usda-discrimination-report-recommendations-reaj/index.html',\n",
              " 'https://lite.cnn.com/2024/02/22/entertainment/wendy-williams-aphasia-and-dementia/index.html',\n",
              " 'https://lite.cnn.com/health/frontotemporal-dementia-definition-symptoms-wellness/index.html',\n",
              " 'https://lite.cnn.com/2024/02/22/cnn10/ten-content-fri/index.html',\n",
              " 'https://lite.cnn.com/2024/02/22/media/timothy-burke-indicted-fox-news-tucker-carlson-footage/index.html',\n",
              " 'https://lite.cnn.com/2024/02/22/entertainment/rust-trial-alec-baldwin-shooting/index.html',\n",
              " 'https://lite.cnn.com/2024/02/22/investing/tech-stocks-surge-higher-as-nvidia-rallies/index.html',\n",
              " 'https://lite.cnn.com/2024/02/22/opinions/mike-johnson-gop-house-majority-brown/index.html',\n",
              " 'https://lite.cnn.com/2024/02/22/politics/protesters-san-francisco-biden-genocide/index.html',\n",
              " 'https://lite.cnn.com/2024/02/22/business/child-labor-slaughterhouses-labor-department/index.html',\n",
              " 'https://lite.cnn.com/2024/02/22/us/darryl-george-crown-act-trial-texas-reaj/index.html',\n",
              " 'https://lite.cnn.com/2024/02/22/politics/scott-perry-biden-impeachment/index.html',\n",
              " 'https://lite.cnn.com/2024/02/22/us/microsoft-default-font-aptos-calibri-cec/index.html',\n",
              " 'https://lite.cnn.com/2024/02/22/tech/nvidia-ceo-jensen-huang-20-richest-billionaire/index.html',\n",
              " 'https://lite.cnn.com/2024/02/22/us/hydeia-broadbent-aids-activist-dies-reaj/index.html',\n",
              " 'https://lite.cnn.com/2024/02/22/tech/google-gemini-ai-image-generator/index.html',\n",
              " 'https://lite.cnn.com/2024/02/22/politics/justice-department-criminal-civil-sanctions-russia-kremlin/index.html',\n",
              " 'https://lite.cnn.com/2024/02/22/politics/biden-bully-pulpit-trump-russia/index.html',\n",
              " 'https://lite.cnn.com/2024/02/22/politics/blinken-haiti-support-mission/index.html',\n",
              " 'https://lite.cnn.com/2024/02/22/europe/ukraine-russia-eu-anniversary-intl/index.html',\n",
              " 'https://lite.cnn.com/2024/02/22/politics/teamsters-republicans-donation-convention-trump/index.html',\n",
              " 'https://lite.cnn.com/2024/02/22/business/mortgage-rates-rise-for-third-week/index.html',\n",
              " 'https://lite.cnn.com/2024/02/22/politics/ron-desantis-vice-president-trump/index.html',\n",
              " 'https://lite.cnn.com/2024/02/22/us/man-arrested-in-the-killing-of-a-los-angeles-model-and-real-estate-agent/index.html',\n",
              " 'https://lite.cnn.com/2024/02/22/opinions/taylor-tomlinson-after-midnight-netflix-comedy-seymour/index.html',\n",
              " 'https://lite.cnn.com/2024/02/22/politics/boy-scouts-bankruptcy-settlement-supreme-court/index.html',\n",
              " 'https://lite.cnn.com/2024/02/15/style/dune-part-two-zendaya-red-carpet-fashion/index.html',\n",
              " 'https://lite.cnn.com/2024/02/22/us/atlanta-symphony-fosters-diversity-in-orchestras-reaj/index.html',\n",
              " 'https://lite.cnn.com/2024/02/22/europe/bobi-oldest-dog-loses-title-scli-intl/index.html',\n",
              " 'https://lite.cnn.com/2024/02/21/us/oklahoma-teen-death-school-fight/index.html',\n",
              " 'https://lite.cnn.com/2024/02/22/entertainment/devil-wears-prada-reunion/index.html',\n",
              " 'https://lite.cnn.com/2024/02/22/sport/dani-alves-guilty-sexual-assault-spt-intl/index.html',\n",
              " 'https://lite.cnn.com/2024/02/21/us/audrii-cunningham-memorial-death-thursday/index.html',\n",
              " 'https://lite.cnn.com/2024/02/22/us/pittsburgh-bridge-2022-collapse-ntsb/index.html',\n",
              " 'https://lite.cnn.com/2024/02/22/sport/lionel-messi-inter-miami-mls-season-opener-spt-intl/index.html',\n",
              " 'https://lite.cnn.com/2024/02/22/business/home-sales-prices-rise-january/index.html',\n",
              " 'https://lite.cnn.com/2024/02/22/style/toilet-design-future-waste-design-for-impact/index.html',\n",
              " 'https://lite.cnn.com/2024/02/22/entertainment/natalie-portman-vanity-fair/index.html',\n",
              " 'https://lite.cnn.com/2024/02/16/media/sean-hannity-right-wing-media-biden-bribes/index.html',\n",
              " 'https://lite.cnn.com/2024/02/21/politics/trump-engoron-fraud-ruling-delay/index.html',\n",
              " 'https://lite.cnn.com/2024/02/22/us/pew-survey-curriculum-debate-reaj/index.html',\n",
              " 'https://lite.cnn.com/2024/02/22/sport/always-ready-sporting-cristal-copa-libertadores-altitude-spt-intl/index.html',\n",
              " 'https://lite.cnn.com/2024/02/22/entertainment/avatar-the-last-airbender-review/index.html',\n",
              " 'https://lite.cnn.com/2024/02/22/politics/biden-congress-republicans-strom-thurmond/index.html',\n",
              " 'https://lite.cnn.com/2024/02/22/business/four-day-work-week-uk/index.html',\n",
              " 'https://lite.cnn.com/2024/02/22/business/nestle-customers-aging-diet/index.html',\n",
              " 'https://lite.cnn.com/2024/02/22/business/price-of-rent-dropping/index.html',\n",
              " 'https://lite.cnn.com/travel/the-a340/index.html',\n",
              " 'https://lite.cnn.com/2024/02/22/us/texas-crown-act-law-trial-explainer-reaj/index.html',\n",
              " 'https://lite.cnn.com/2024/02/22/middleeast/church-gaza-city-palestinians-israeli-strikes-intl/index.html',\n",
              " 'https://lite.cnn.com/2024/02/22/sport/christian-horner-toto-wolff-red-bull-investigation-intl-spt/index.html',\n",
              " 'https://lite.cnn.com/2024/02/22/style/karl-marx-charles-darwin-gift-scli-intl/index.html',\n",
              " 'https://lite.cnn.com/2024/02/22/style/saul-leiter-photography/index.html',\n",
              " 'https://lite.cnn.com/2024/02/21/politics/biden-putin-crazy-sob/index.html',\n",
              " 'https://lite.cnn.com/2024/02/22/politics/cpac-trump-republican-president-election/index.html',\n",
              " 'https://lite.cnn.com/2024/02/22/sport/mlb-2024-spring-training-how-to-watch-spt-intl/index.html',\n",
              " 'https://lite.cnn.com/2024/02/22/middleeast/jerusalem-shooting-attack-intl-hnk/index.html',\n",
              " 'https://lite.cnn.com/2024/02/21/opinions/trump-europe-security-nato-us-andelman/index.html',\n",
              " 'https://lite.cnn.com/2024/02/22/sport/caitlin-clark-ncaa-all-time-scoring-spt-intl/index.html',\n",
              " 'https://lite.cnn.com/2024/02/22/health/oklahoma-narcan-vending-machines/index.html',\n",
              " 'https://lite.cnn.com/2024/02/22/asia/china-cost-of-raising-children-intl-hnk/index.html',\n",
              " 'https://lite.cnn.com/2024/02/22/politics/haley-trump-criminal-trials/index.html']"
            ]
          },
          "metadata": {},
          "execution_count": 24
        }
      ]
    },
    {
      "cell_type": "markdown",
      "source": [
        "## Option 2: Import from URL"
      ],
      "metadata": {
        "id": "LlmSs1neo9Yu"
      }
    },
    {
      "cell_type": "code",
      "source": [
        "from unstructured.partition.html import partition_html\n",
        "from google.colab import userdata\n",
        "open_ai_api_key = userdata.get('open_ai_api_key')\n",
        "\n",
        "cnn_lite_url = \"https://lite.cnn.com/\"\n",
        "\n",
        "elements = partition_html(url=cnn_lite_url)\n",
        "links = []\n",
        "\n",
        "for element in elements:\n",
        "  try:\n",
        "    if element.links[0][\"url\"][1:]:\n",
        "      relative_link = element.links[0][\"url\"][1:]\n",
        "      links.append(f\"{cnn_lite_url}{relative_link}\")\n",
        "  except IndexError:\n",
        "    # Handle the case where the \"url\" key doesn't exist or the index is out of range\n",
        "    continue\n",
        "\n",
        "links"
      ],
      "metadata": {
        "id": "e815gGkDPxpq",
        "colab": {
          "base_uri": "https://localhost:8080/"
        },
        "outputId": "bc3efb73-668e-42ba-ba21-b9f1bcd210de"
      },
      "execution_count": null,
      "outputs": [
        {
          "output_type": "execute_result",
          "data": {
            "text/plain": [
              "['https://lite.cnn.com/2024/02/22/us/man-arrested-in-the-killing-of-a-los-angeles-model-and-real-estate-agent/index.html',\n",
              " 'https://lite.cnn.com/2024/02/22/travel/alaska-airlines-passenger-pens-assault-charge/index.html',\n",
              " 'https://lite.cnn.com/2024/02/22/politics/trump-moves-dismiss-classified-documents-case/index.html',\n",
              " 'https://lite.cnn.com/2024/02/22/europe/kherson-russia-advance-ukraine-intl/index.html',\n",
              " 'https://lite.cnn.com/2024/02/22/style/jeff-koons-moon-phases-odysseus-landing/index.html',\n",
              " 'https://lite.cnn.com/2024/02/21/politics/haley-alabama-supreme-court-ruling/index.html',\n",
              " 'https://lite.cnn.com/2024/02/22/middleeast/israel-ceasefire-negotiating-team-to-paris-intl/index.html',\n",
              " 'https://lite.cnn.com/2024/02/22/europe/spain-valencia-apartment-fire-intl/index.html',\n",
              " 'https://lite.cnn.com/2024/02/22/politics/leaked-documents-tech-firm-chinese-hacking/index.html',\n",
              " 'https://lite.cnn.com/2024/02/22/us/university-georgia-woman-dead/index.html',\n",
              " 'https://lite.cnn.com/2024/02/22/politics/nikki-haley-alabama-ivf-ruling/index.html',\n",
              " 'https://lite.cnn.com/2024/02/22/politics/mar-a-lago-carlos-de-oliveira-classified-documents/index.html',\n",
              " 'https://lite.cnn.com/2024/02/22/us/military-family-embryos-alabama-ruling/index.html',\n",
              " 'https://lite.cnn.com/2024/02/22/politics/putin-trump-us-election-analysis/index.html',\n",
              " 'https://lite.cnn.com/2024/02/22/politics/us-brothers-detained-gaza/index.html',\n",
              " 'https://lite.cnn.com/2024/02/22/us/rise-above-movement-ruling-on-hold/index.html',\n",
              " 'https://lite.cnn.com/2024/02/22/tech/att-cell-service-outage/index.html',\n",
              " 'https://lite.cnn.com/2024/02/22/tech/outage-att-cell-phone-service-cause/index.html',\n",
              " 'https://lite.cnn.com/travel/most-visited-national-park-service-sites-2023/index.html',\n",
              " 'https://lite.cnn.com/2024/02/22/opinions/nasa-mars-simulator-volunteers-chiao/index.html',\n",
              " 'https://lite.cnn.com/2024/02/22/media/vice-lay-offs-stops-publishing-content-on-its-website/index.html',\n",
              " 'https://lite.cnn.com/2024/02/22/us/nassau-county-ny-transgender-sports-ban/index.html',\n",
              " 'https://lite.cnn.com/2024/02/22/politics/smugglers-charged-iranian-missile-houthis/index.html',\n",
              " 'https://lite.cnn.com/2024/02/22/opinions/jewish-harvard-antisemitism-racism-dei-licht/index.html',\n",
              " 'https://lite.cnn.com/2024/02/22/politics/biden-meets-with-navalny-family-in-california/index.html',\n",
              " 'https://lite.cnn.com/2024/02/22/us/uvalde-school-shooting-texas-police/index.html',\n",
              " 'https://lite.cnn.com/2024/02/22/us/alabama-embryos-ruling-ivf-treatment-leaving-state/index.html',\n",
              " 'https://lite.cnn.com/2024/02/22/politics/sanctions-russia-navalny-death/index.html',\n",
              " 'https://lite.cnn.com/2024/02/22/tech/us-pharmacies-face-delays-filling-prescriptions-because-of-cyberattack/index.html',\n",
              " 'https://lite.cnn.com/2024/02/22/politics/alexander-smirnov-re-arrested/index.html',\n",
              " 'https://lite.cnn.com/2024/02/21/us/alabama-ruling-frozen-embryos-facility-pauses-ivf/index.html',\n",
              " 'https://lite.cnn.com/2024/02/22/europe/russia-navalny-mother-body-intl/index.html',\n",
              " 'https://lite.cnn.com/2024/02/22/media/fox-news-bogus-fbi-informant-biden/index.html',\n",
              " 'https://lite.cnn.com/2024/02/22/business/toyota-recalls-280-000-vehicles-hnk-intl/index.html',\n",
              " 'https://lite.cnn.com/2024/02/22/entertainment/zendaya-tom-holland-rizz/index.html',\n",
              " 'https://lite.cnn.com/2024/02/22/us/how-to-help-civilians-in-ukraine-after-two-years-of-war/index.html',\n",
              " 'https://lite.cnn.com/2024/02/22/tech/ftc-avast-cybersecurity-company-fine/index.html',\n",
              " 'https://lite.cnn.com/2024/02/21/politics/wic-snap-choice-funding-congress/index.html',\n",
              " 'https://lite.cnn.com/2024/02/22/us/adam-montgomery-guilty-second-degree-murder-child-death/index.html',\n",
              " 'https://lite.cnn.com/2024/02/22/opinions/what-trumps-vp-shortlist-reveals-zelizer/index.html',\n",
              " 'https://lite.cnn.com/2024/02/22/politics/trump-engoron-civil-fraud-order/index.html',\n",
              " 'https://lite.cnn.com/2024/02/22/politics/usda-discrimination-report-recommendations-reaj/index.html',\n",
              " 'https://lite.cnn.com/2024/02/22/entertainment/wendy-williams-aphasia-and-dementia/index.html',\n",
              " 'https://lite.cnn.com/health/frontotemporal-dementia-definition-symptoms-wellness/index.html',\n",
              " 'https://lite.cnn.com/2024/02/22/cnn10/ten-content-fri/index.html',\n",
              " 'https://lite.cnn.com/2024/02/22/media/timothy-burke-indicted-fox-news-tucker-carlson-footage/index.html',\n",
              " 'https://lite.cnn.com/2024/02/22/entertainment/rust-trial-alec-baldwin-shooting/index.html',\n",
              " 'https://lite.cnn.com/2024/02/22/investing/tech-stocks-surge-higher-as-nvidia-rallies/index.html',\n",
              " 'https://lite.cnn.com/2024/02/22/opinions/mike-johnson-gop-house-majority-brown/index.html',\n",
              " 'https://lite.cnn.com/2024/02/22/politics/protesters-san-francisco-biden-genocide/index.html',\n",
              " 'https://lite.cnn.com/2024/02/22/business/child-labor-slaughterhouses-labor-department/index.html',\n",
              " 'https://lite.cnn.com/2024/02/22/us/darryl-george-crown-act-trial-texas-reaj/index.html',\n",
              " 'https://lite.cnn.com/2024/02/22/politics/scott-perry-biden-impeachment/index.html',\n",
              " 'https://lite.cnn.com/2024/02/22/us/microsoft-default-font-aptos-calibri-cec/index.html',\n",
              " 'https://lite.cnn.com/2024/02/22/tech/nvidia-ceo-jensen-huang-20-richest-billionaire/index.html',\n",
              " 'https://lite.cnn.com/2024/02/22/us/hydeia-broadbent-aids-activist-dies-reaj/index.html',\n",
              " 'https://lite.cnn.com/2024/02/22/tech/google-gemini-ai-image-generator/index.html',\n",
              " 'https://lite.cnn.com/2024/02/22/politics/justice-department-criminal-civil-sanctions-russia-kremlin/index.html',\n",
              " 'https://lite.cnn.com/2024/02/22/politics/biden-bully-pulpit-trump-russia/index.html',\n",
              " 'https://lite.cnn.com/2024/02/22/politics/blinken-haiti-support-mission/index.html',\n",
              " 'https://lite.cnn.com/2024/02/22/europe/ukraine-russia-eu-anniversary-intl/index.html',\n",
              " 'https://lite.cnn.com/2024/02/22/politics/teamsters-republicans-donation-convention-trump/index.html',\n",
              " 'https://lite.cnn.com/2024/02/22/business/mortgage-rates-rise-for-third-week/index.html',\n",
              " 'https://lite.cnn.com/2024/02/22/politics/ron-desantis-vice-president-trump/index.html',\n",
              " 'https://lite.cnn.com/2024/02/22/opinions/taylor-tomlinson-after-midnight-netflix-comedy-seymour/index.html',\n",
              " 'https://lite.cnn.com/2024/02/22/politics/boy-scouts-bankruptcy-settlement-supreme-court/index.html',\n",
              " 'https://lite.cnn.com/2024/02/15/style/dune-part-two-zendaya-red-carpet-fashion/index.html',\n",
              " 'https://lite.cnn.com/2024/02/22/us/atlanta-symphony-fosters-diversity-in-orchestras-reaj/index.html',\n",
              " 'https://lite.cnn.com/2024/02/22/europe/bobi-oldest-dog-loses-title-scli-intl/index.html',\n",
              " 'https://lite.cnn.com/2024/02/21/us/oklahoma-teen-death-school-fight/index.html',\n",
              " 'https://lite.cnn.com/2024/02/22/entertainment/devil-wears-prada-reunion/index.html',\n",
              " 'https://lite.cnn.com/2024/02/22/sport/dani-alves-guilty-sexual-assault-spt-intl/index.html',\n",
              " 'https://lite.cnn.com/2024/02/21/us/audrii-cunningham-memorial-death-thursday/index.html',\n",
              " 'https://lite.cnn.com/2024/02/22/us/pittsburgh-bridge-2022-collapse-ntsb/index.html',\n",
              " 'https://lite.cnn.com/2024/02/22/sport/lionel-messi-inter-miami-mls-season-opener-spt-intl/index.html',\n",
              " 'https://lite.cnn.com/2024/02/22/business/home-sales-prices-rise-january/index.html',\n",
              " 'https://lite.cnn.com/2024/02/22/style/toilet-design-future-waste-design-for-impact/index.html',\n",
              " 'https://lite.cnn.com/2024/02/22/entertainment/natalie-portman-vanity-fair/index.html',\n",
              " 'https://lite.cnn.com/2024/02/16/media/sean-hannity-right-wing-media-biden-bribes/index.html',\n",
              " 'https://lite.cnn.com/2024/02/21/politics/trump-engoron-fraud-ruling-delay/index.html',\n",
              " 'https://lite.cnn.com/2024/02/22/us/pew-survey-curriculum-debate-reaj/index.html',\n",
              " 'https://lite.cnn.com/2024/02/22/sport/always-ready-sporting-cristal-copa-libertadores-altitude-spt-intl/index.html',\n",
              " 'https://lite.cnn.com/2024/02/22/entertainment/avatar-the-last-airbender-review/index.html',\n",
              " 'https://lite.cnn.com/2024/02/22/politics/biden-congress-republicans-strom-thurmond/index.html',\n",
              " 'https://lite.cnn.com/2024/02/22/business/four-day-work-week-uk/index.html',\n",
              " 'https://lite.cnn.com/2024/02/22/business/nestle-customers-aging-diet/index.html',\n",
              " 'https://lite.cnn.com/2024/02/22/business/price-of-rent-dropping/index.html',\n",
              " 'https://lite.cnn.com/travel/the-a340/index.html',\n",
              " 'https://lite.cnn.com/2024/02/22/us/texas-crown-act-law-trial-explainer-reaj/index.html',\n",
              " 'https://lite.cnn.com/2024/02/22/middleeast/church-gaza-city-palestinians-israeli-strikes-intl/index.html',\n",
              " 'https://lite.cnn.com/2024/02/22/sport/christian-horner-toto-wolff-red-bull-investigation-intl-spt/index.html',\n",
              " 'https://lite.cnn.com/2024/02/22/style/karl-marx-charles-darwin-gift-scli-intl/index.html',\n",
              " 'https://lite.cnn.com/2024/02/22/style/saul-leiter-photography/index.html',\n",
              " 'https://lite.cnn.com/2024/02/21/politics/biden-putin-crazy-sob/index.html',\n",
              " 'https://lite.cnn.com/2024/02/22/politics/cpac-trump-republican-president-election/index.html',\n",
              " 'https://lite.cnn.com/2024/02/22/sport/mlb-2024-spring-training-how-to-watch-spt-intl/index.html',\n",
              " 'https://lite.cnn.com/2024/02/22/middleeast/jerusalem-shooting-attack-intl-hnk/index.html',\n",
              " 'https://lite.cnn.com/2024/02/21/opinions/trump-europe-security-nato-us-andelman/index.html',\n",
              " 'https://lite.cnn.com/2024/02/22/sport/caitlin-clark-ncaa-all-time-scoring-spt-intl/index.html',\n",
              " 'https://lite.cnn.com/2024/02/22/health/oklahoma-narcan-vending-machines/index.html',\n",
              " 'https://lite.cnn.com/ttps://www.cnn.com/',\n",
              " 'https://lite.cnn.com/ttps://www.cnn.com/terms',\n",
              " 'https://lite.cnn.com/ttps://www.warnermediaprivacy.com/policycenter/b2c/WMNS/',\n",
              " 'https://lite.cnn.com/ttps://www.warnermediaprivacy.com/policycenter/b2c/WMNS/']"
            ]
          },
          "metadata": {},
          "execution_count": 123
        }
      ]
    },
    {
      "cell_type": "code",
      "source": [
        "from langchain.document_loaders import UnstructuredURLLoader\n",
        "\n",
        "# links = ['https://lite.cnn.com/2024/02/22/tech/nvidia-ceo-jensen-huang-20-richest-billionaire/index.html',\n",
        "#          'https://lite.cnn.com/2024/02/22/us/darryl-george-crown-act-trial-texas-reaj/index.html']\n",
        "\n",
        "loaders = UnstructuredURLLoader(urls=links, show_progress_bar=True)\n",
        "\n",
        "docs = loaders.load()"
      ],
      "metadata": {
        "colab": {
          "base_uri": "https://localhost:8080/"
        },
        "id": "nz5uhvRJXRYF",
        "outputId": "f6f7c30b-d560-484b-bf5b-555d5ea458fe"
      },
      "execution_count": null,
      "outputs": [
        {
          "output_type": "stream",
          "name": "stderr",
          "text": [
            "100%|██████████| 100/100 [00:27<00:00,  3.65it/s]\n"
          ]
        }
      ]
    },
    {
      "cell_type": "code",
      "source": [
        "from langchain.vectorstores.chroma import Chroma\n",
        "from langchain.embeddings import OpenAIEmbeddings\n",
        "from unstructured.embed.openai import OpenAIEmbeddingEncoder\n",
        "\n",
        "embeddings = OpenAIEmbeddings(openai_api_key=open_ai_api_key)\n",
        "vectorstore = Chroma.from_documents(docs, embeddings)"
      ],
      "metadata": {
        "colab": {
          "base_uri": "https://localhost:8080/"
        },
        "id": "m0t1C-aBX6Y8",
        "outputId": "15587a87-2885-405e-9437-3095cdb561ae"
      },
      "execution_count": null,
      "outputs": [
        {
          "output_type": "stream",
          "name": "stderr",
          "text": [
            "/usr/local/lib/python3.10/dist-packages/langchain_core/_api/deprecation.py:117: LangChainDeprecationWarning: The class `langchain_community.embeddings.openai.OpenAIEmbeddings` was deprecated in langchain-community 0.1.0 and will be removed in 0.2.0. An updated version of the class exists in the langchain-openai package and should be used instead. To use it run `pip install -U langchain-openai` and import as `from langchain_openai import OpenAIEmbeddings`.\n",
            "  warn_deprecated(\n"
          ]
        }
      ]
    },
    {
      "cell_type": "code",
      "source": [
        "query_docs = vectorstore.similarity_search(\"Russia\", k=5)"
      ],
      "metadata": {
        "id": "VSoBhb6VwQHi"
      },
      "execution_count": null,
      "outputs": []
    },
    {
      "cell_type": "code",
      "source": [
        "from langchain.chat_models import ChatOpenAI\n",
        "from langchain.chains.summarize import load_summarize_chain\n",
        "\n",
        "llm = ChatOpenAI(temperature=0, model_name=\"gpt-3.5-turbo-16k\", openai_api_key=open_ai_api_key)\n",
        "chain = load_summarize_chain(llm, chain_type=\"stuff\")"
      ],
      "metadata": {
        "colab": {
          "base_uri": "https://localhost:8080/"
        },
        "id": "lHtxNGSDdqVd",
        "outputId": "979e1e9b-6faf-49cf-80da-97399fcd27c6"
      },
      "execution_count": null,
      "outputs": [
        {
          "output_type": "stream",
          "name": "stderr",
          "text": [
            "/usr/local/lib/python3.10/dist-packages/langchain_core/_api/deprecation.py:117: LangChainDeprecationWarning: The class `langchain_community.chat_models.openai.ChatOpenAI` was deprecated in langchain-community 0.0.10 and will be removed in 0.2.0. An updated version of the class exists in the langchain-openai package and should be used instead. To use it run `pip install -U langchain-openai` and import as `from langchain_openai import ChatOpenAI`.\n",
            "  warn_deprecated(\n"
          ]
        }
      ]
    },
    {
      "cell_type": "code",
      "source": [
        "for doc in query_docs:\n",
        "  source = doc.metadata\n",
        "  result = chain.invoke([doc])\n",
        "  print(result['output_text'])\n",
        "  print(source)\n",
        "  print('')"
      ],
      "metadata": {
        "colab": {
          "base_uri": "https://localhost:8080/"
        },
        "id": "YhcSSyJ0H1Gv",
        "outputId": "196c803f-a9e2-40de-bee1-0c272bea3266"
      },
      "execution_count": null,
      "outputs": [
        {
          "output_type": "stream",
          "name": "stdout",
          "text": [
            "The article discusses how Russian President Vladimir Putin has been able to exert influence and cause division within the United States. Despite facing criticism and sanctions, Putin has remained resilient and has successfully exploited American political divides. His actions have not only threatened US power but also strained relations between the US and its European NATO allies. The article highlights Putin's use of espionage and propaganda to provoke discord in US politics, and how he has capitalized on the tendency of American politicians to turn against each other.\n",
            "{'source': 'https://lite.cnn.com/2024/02/22/politics/putin-trump-us-election-analysis/index.html'}\n",
            "\n",
            "European leaders are increasingly concerned about the United States' commitment to their defense and are taking steps to become more self-sufficient. Former President Donald Trump's failure to condemn Russian President Vladimir Putin and his opposition to aid for Ukraine have raised fears among European leaders that the US may abandon them. European leaders are considering how to defend themselves without relying on the American nuclear and security umbrella. Efforts are being made to increase European defense production and create a pan-European ministry of defense. European countries are also pledging military aid to Ukraine. The US's reduced funding is already being felt across Europe, and without congressional action, funding for US operations in Europe could run out in May. European leaders are also discussing the issue of nuclear weapons, with France suggesting a \"clear European dimension\" to nuclear deterrence. The shift towards self-sufficiency represents a significant change for Europe, which has long relied on the US for defense.\n",
            "{'source': 'https://lite.cnn.com/2024/02/21/opinions/trump-europe-security-nato-us-andelman/index.html'}\n",
            "\n",
            "The US Justice Department has announced criminal and civil actions against sanctioned Russian oligarchs and others accused of supporting the Kremlin and its military. The actions, carried out by the Justice Department's Task Force KleptoCapture, aim to target the wealth networks surrounding Russian oligarchs and Kremlin insiders. The task force has brought about 70 criminal cases and five criminal cases against corporate entities, resulting in arrests and the seizure of approximately $700 million worth of assets. The Justice Department hopes to transfer these assets to Ukraine or use them for aid. The announcement comes ahead of the two-year anniversary of Russia's invasion of Ukraine. The White House is also expected to announce a new sanctions package against Russia, holding President Vladimir Putin accountable for the war in Ukraine and the death of opposition figure Alexey Navalny.\n",
            "{'source': 'https://lite.cnn.com/2024/02/22/politics/justice-department-criminal-civil-sanctions-russia-kremlin/index.html'}\n",
            "\n",
            "As Ukraine marks the second anniversary of Russia's invasion, Europe is facing difficult questions about its financial support for Ukraine. The war has been deadlocked for some time, and fatigue is setting in as the bills grow. The EU and its regional allies have spent over $100 billion funding Ukraine's defense effort, and the UK has pledged over $15 billion. However, as the conflict continues and political attention is diverted to other issues, spending on Ukraine could become politically harder to justify. The prospect of Donald Trump returning to the White House also raises concerns about the future of US support for Ukraine. European officials believe it is crucial to continue supporting Ukraine, even if the US pulls financial support. They suggest using frozen Russian assets to help fund Ukraine and increasing European defense capabilities. The goal is for Europe to become more independent in terms of security and defense.\n",
            "{'source': 'https://lite.cnn.com/2024/02/22/europe/ukraine-russia-eu-anniversary-intl/index.html'}\n",
            "\n",
            "The mother of Russian opposition politician Alexey Navalny claims she has seen her son's body and is being pressured to hold a secret funeral. Navalny's wife also believes that Russian President Vladimir Putin killed her husband and urges the media not to be swayed by Russian government narratives. Navalny's mother alleges that investigators want to bury his body secretly and without saying goodbye. The Russian Investigative Committee has set conditions for the release of Navalny's body, including keeping the funeral private and transporting the body to Moscow on a special plane. The Kremlin spokesperson says he has not seen the comments from Navalny's mother and that the Kremlin is dealing with other important issues. Navalny's death has drawn criticism from Western leaders, with US President Joe Biden blaming Putin for the incident. Russia has accused the US of \"hysteria\" regarding Navalny's death. Navalny, a prominent opposition leader, died in an Arctic penal colony last week.\n",
            "{'source': 'https://lite.cnn.com/2024/02/22/europe/russia-navalny-mother-body-intl/index.html'}\n",
            "\n"
          ]
        }
      ]
    },
    {
      "cell_type": "code",
      "source": [
        "chain.invoke(query_docs)"
      ],
      "metadata": {
        "colab": {
          "base_uri": "https://localhost:8080/"
        },
        "id": "v5-pnrLu825o",
        "outputId": "3d9cd3ae-faa2-41fe-f3cd-9d0f6f184f3c"
      },
      "execution_count": null,
      "outputs": [
        {
          "output_type": "execute_result",
          "data": {
            "text/plain": [
              "{'input_documents': [Document(page_content='CNN\\n\\n2/23/2024\\n\\nPutin looms over a third successive US election\\n\\nAnalysis by Stephen Collinson, CNN\\n\\nUpdated: \\n        10:53 PM EST, Thu February 22, 2024\\n\\nSource: CNN\\n\\n“Russia, Russia, Russia.”\\n\\nEx-President Donald Trump’s scathing catchphrase for a torrent of investigations during his administration also serves as an apt catch-all for the\\xa0current meltdown over Moscow roiling US politics.\\n\\nThe United States might have beaten the Kremlin in the Cold War\\xa0and ever since regarded Moscow as a mere irritant — albeit one with nuclear arms — and have been desperate to concentrate on the showdown with its new superpower rival, China.\\n\\nBut Russia and its leader, whom President Joe Biden described as a “crazy S.O.B.” at a Wednesday fundraiser, won’t go away.\\n\\nPresident Vladimir Putin has trained the malevolence of his intelligence agencies, his military power, global diplomacy and obstructive statecraft into a multi-front assault on American power in the United States and abroad.\\n\\nHe has carved out baleful influence at the center of US politics in an extraordinary display of an adversary penetrating and exploiting American political divides. The ex-KGB lieutenant colonel, who conceived a grievance after watching the Soviet Union dissolve from his outpost in East Germany, has sparked chaos in a single-minded effort to discredit and weaken the United States. Successive US presidents have underestimated Russia, misread its historic humiliations and struggled to work out how to change Putin’s course and contain his threat.\\n\\nWestern observers often point out that Putin’s leadership has been a disaster for Russia. As oligarchs plundered natural resources, Russians were hammered by international sanctions, democracy was crushed and thousands of soldiers perished in his wars.\\n\\nBut Putin has been remarkably resilient following earlier signs that his invasion of Ukraine – nearly two years ago –\\xa0was a disaster and could even bring him down. There are now signs that Russia’s reconstituting of its armed forces and willingness to absorb horrendous losses are turning the tide of the war and raising the prospect of a victory that would turn Putin into a far greater danger.\\n\\nThe Russian leader’s leveraging of power and successful forays into US politics are, meanwhile, threatening to cause a schism between the US and European NATO allies that could put the post-World War II security architecture at risk.\\n\\nAll the ways Putin is playing in US politics\\n\\nPutin is advancing Russian interests against the US on multiple fronts.\\n\\nBiden once tried to save US-Russia relations\\n\\nBiden is just the latest president to be confronted by a national security migraine because of Putin.\\n\\nYet it wasn’t always this way. Early in his tenure, Putin sought cooperation. He was one of the first world leaders to call President George W. Bush after the September 11 attacks in 2001. Bush famously once looked into Putin’s eyes and said he got “a sense of his soul” — one of the many catastrophic misjudgments of the Russian leader by presidents in the 21st century. President Barack Obama attempted a “reset” of relations with Moscow. But after a period as prime minister, Putin returned to the presidency and became increasingly hostile toward the West. The Russian leader was particularly incensed by the US-led operation to topple Libyan leader Moammar Gadhafi in 2011. Obama’s critics now say he did too little to respond to Putin’s annexation of Crimea from Ukraine in 2014 and paved the way for Russia’s full invasion two years ago.\\n\\nTrump came to office haunted by allegations that his team colluded with Russia’s effort to damage 2016 Democratic nominee Hillary Clinton. A probe by special counsel Robert Mueller did not find evidence of conspiring between the Trump campaign and Russia. But the special counsel did detail multiple contacts between the two and wrote that the Trump campaign believed it would benefit from information stolen and released by the Russians. Whether Russia helped Trump win is impossible to say. But the subsequent fallout forever soured the new president on US intelligence agencies that he regarded as a hostile “Deep State” and led him to torch their credibility among his millions of supporters. This whipping up of domestic antagonism and the damage to US institutions plays into Russia’s goals. And the spectacle of Trump, as president at a Helsinki summit, siding with Putin and trashing US intelligence agencies over their claims of election interference remains one of the most staggering moments in the history of US-Russia relations.\\n\\nWhen Biden took over, he made a high-stakes bid to reduce the poison from relations with Moscow, meeting Putin in Geneva in an echo of old Cold War summitry. Approaching the talks with deep skepticism, Biden sought to halt Russian cybersecurity attacks and to reopen nuclear disarmament negotiations while trying to ease the risks of an accidental war.\\n\\n“We’ll find out within the next six months to a year whether or not we actually have a strategic dialogue that matters,” Biden said after the meeting in June 2021.\\n\\nIt was not much more than six months later that he got his answer, when Putin invaded Ukraine, a sovereign, democratic neighbor, which led to what has effectively become a proxy war between Biden and a Kremlin leader who has said he sees the conflict as part of a wider clash with the United States and the West.\\n\\nPutin’s efforts to weaken US power have only escalated since.\\n\\nRussia’s use of espionage agencies to inject propaganda and discord in US politics through social media and more directly by intelligence agencies was described by Mueller in his final report as an effort “designed to provoke and amplify political and social discord in the United States.”\\n\\nIronically, those efforts use two of America’s great innovations — its open, adversarial, democratic political system and the computer technology that empowered the internet – in an attempt to bring it down.\\n\\nAnd as recent days have shown, the Russian leader can always rely on one priceless resource – the reflex of American politicians to turn on one another in a way that makes his threat even stronger.\\n\\nSee Full Web Article\\n\\nGo to the full CNN experience\\n\\n© 2024 Cable News Network. A Warner Bros. Discovery Company. All Rights Reserved.\\n\\nTerms of Use\\n\\nPrivacy Policy\\n\\nAd Choices\\n\\nCookie Settings', metadata={'source': 'https://lite.cnn.com/2024/02/22/politics/putin-trump-us-election-analysis/index.html'}),\n",
              "  Document(page_content='CNN\\n\\n2/23/2024\\n\\nOpinion: Europe is already painting Trump out of its defense picture\\n\\nOpinion by David A. Andelman\\n\\nUpdated: \\n        7:20 AM EST, Thu February 22, 2024\\n\\nSource: CNN\\n\\nMadeline Albright famously called America the “indispensable nation.”\\u202fIs former President Donald Trump\\u202fmaking America\\u202fthe\\u202firrelevant nation?\\n\\nTrump finally broke\\xa0days of silence\\xa0on\\xa0Russian opposition figure Alexey Navalny’s death but failed to mention Russia or condemn Russian President Vladimir Putin in his first public comments. Meanwhile, congressional Republicans have continued to follow his lead, stalemating assistance for Ukraine, the one nation standing up to Putin’s armies.\\n\\nHouse Speaker Mike Johnson\\u202fhas resisted calls to bring a Senate-passed aid package for Ukraine up for a quick vote, instead allowing the House to adjourn for a nearly two-week recess.\\n\\nThere may be majority support for Ukraine aid\\u202fin the chamber as whole, but\\u202fJohnson faces stiff opposition\\u202ffrom his right flank over additional aid, with Trump urging Republicans to reject it.\\n\\nThese moves followed\\u202fTrump’s recent threat to tell Russia\\u202fto “do whatever the hell they want” to any NATO member nations who lag in their military spending.\\n\\nThe result? Rising fears of a new and frightening turn in the United States have left an increasing number of European leaders determined to strike out on their own.\\n\\nEven comments from\\u202fPresident\\u202fJoe Biden addressed to a recalcitrant Congress\\u202fsuch as\\u202f“the way they’re walking away from the threat of Russia, the way they’re walking away from\\xa0the threat of\\xa0NATO, the way they’re walking away from meeting our obligation, it’s\\xa0shocking,” haven’t helped.\\n\\nIndeed, much was made at the annual Munich Security Conference over congressional failures.\\xa0Most European leaders headed home from Munich, more convinced than ever that the United States is on the cusp of abandoning them.\\n\\nFor many, it is clear democracies must begin considering in concrete terms how to defend themselves without the American nuclear and security umbrella under which they have thrived for more than a half century.\\n\\nBefore leaving,\\u202fDanish Prime Minister Mette Frederiksen\\u202feven announced her country would be handing over all her nation’s artillery to Ukraine as well as F-16 fighters. “We\\xa0 have to\\xa0do more,”\\xa0Frederiksen said, as\\xa0Saturday marks the two-year anniversary\\xa0of Russia’s invasion of Ukraine.\\n\\nThe first steps toward a new direction for such a Europe — without America — are already being taken. In Berlin,\\u202fUrsula von der Leyen, the former German defense minister who has deftly steered the continent for five fraught years as the European Commission’s\\u202fpresident, announced\\u202fMonday that she would be seeking a second term. High on her agenda, she says, would be the creation of Europe’s first\\u202fcommissioner of defense.\\n\\nCreating such a pan-European ministry goes far beyond simply reshuffling bureaucrats in Brussels, however. First, there’s the question of budgets.\\n\\nAlready, America’s\\xa0reduced\\xa0funding is being felt across Europe. As\\u202fCNN reported, American support of Ukraine is still bleeding resources from the US Army’s Europe and Africa Command, now left with $3 billion to fund $5 billion in operational needs including the ferrying of weapons and equipment to Ukraine and even NATO member Poland.\\n\\nWithout congressional action, funding for US operations in Europe could run out in May, with\\u202fArmy Secretary Christine\\u202fWormuth\\u202fexpecting\\xa0the Army would\\u202f“have to sort of rob Peter to pay Paul.”\\n\\nVon der Leyen has also said that upping European defense production would be a top priority for her second term — not to mention sorting through vastly divergent budgets of the various countries.\\n\\nWith respect to Ukraine, despite his\\xa0initial\\xa0 protestations of eternal solidarity, \\u202fFrench President Emmanuel Macron’s government\\xa0has committed just\\xa0640 million euros ($686 million),\\xa0compared with Germany’s\\xa017.7 billion euros ($19.1 billion) in military aid, according to calculations from\\xa0Germany’s Kiel Institute, an economic research institute and think tank. \\xa0Although the French figure has been disputed, the institute does say “France’s contributions “are far below the UK’s,” which is only in the middle rank of European suppliers.\\n\\nStill, as a bloc, Europe at about 85 billion euros ($92 billion) has already passed\\xa0the United States at 66.2 billion euros\\xa0($71.6 billion)\\xa0in total commitments to Ukraine. US military assistance has been higher than the EU’s has been, though this has now been halted in the face of Congressional inaction while EU aid is only accelerating.\\n\\nThen there is the nuclear issue. The US has an estimated\\u202f100 nuclear weapons\\u202fdeployed at air bases in Belgium, Germany, Italy, the Netherlands and Turkey — though all launch codes are in US hands. France is the only European Union country with its own arsenal — the world’s fourth largest. With\\u202f290 operational warheads, it’s the largest in Europe, though barely 5 percent the size of Russia’s.\\n\\nFrance has refused to cede control of such weapons to any other power, though that could change. In a recent visit to Sweden,\\u202fMacron suggested\\u202fthat while nuclear deterrence is in “France’s vital interests,” such plans should have a “clear European dimension, which gives us a special responsibility.”\\n\\nBritain, while no longer in the EU, has an arsenal of\\u202f225 nuclear weapons. At the Munich Security Conference, the shadow (opposition) British Foreign Secretary\\u202fDavid Lammy\\u202fsaid his Labour Party, if elected in elections this year, would propose “a new U.K.-EU security pact.”\\n\\nAll these efforts and pledges represent a dramatic change in direction for a continent that for decades has remained chained unflinchingly to America as its guarantor. To oversee this process, Europe needs a strong and resolute individual for its first defense czar.\\n\\nOne front-runner is Estonian Prime Minister Kaja Kallas, who’s already taken the lead in a EU plan to deliver\\u202f1 million artillery shells\\u202fto Ukraine.\\n\\n“We need a combat-effective Europe, able to provide for its own defense. This is the only way to build deterrence by denial that would be credible enough to avoid war and stop Russia’s cycle of aggression,”\\u202fKallas wrote last year\\xa0for Politico Europe.\\n\\n“Since the invasion began, we have seen Russia fire Europe’s monthly artillery production in a single day in Ukraine. Capacity and sustainability will determine the outcome of this war.”\\n\\nKallas has a clear motivation in taking on such a post — a Russian bull’s-eye on her back. Last week, the Kremlin placed her on\\u202fa wanted list, apparently the first head of government to be targeted. (It accused her and others of destroying or damaging monuments in memory of Soviet soldiers.) And at Munich, she\\u202fproposed seizing all of Russia’s assets\\u202ffrozen abroad and\\u202fturning them over to Ukraine\\u202f— before November’s US presidential election.\\n\\nThe most graphic evidence, though, of just how far Europe is moving away from America and toward self-sufficiency was an opinion column Monday by Estonian President Alar Karis that discussed the region’s defense without a single reference to the United States or Donald Trump.\\n\\n“Any European country would struggle to face Russia alone,”\\u202fKaris observed. “But when we’re united, we’re invincible.”\\n\\nOr in a direct slap at Trump,\\u202fGerman magazine Der Spiegel\\xa0noted: “NATO, of course, is not a (debt) collection agency.”\\n\\nSee Full Web Article\\n\\nGo to the full CNN experience\\n\\n© 2024 Cable News Network. A Warner Bros. Discovery Company. All Rights Reserved.\\n\\nTerms of Use\\n\\nPrivacy Policy\\n\\nAd Choices\\n\\nCookie Settings', metadata={'source': 'https://lite.cnn.com/2024/02/21/opinions/trump-europe-security-nato-us-andelman/index.html'}),\n",
              "  Document(page_content='CNN\\n\\n2/23/2024\\n\\nJustice Department announces criminal and civil actions against sanctioned Russian oligarchs\\n\\nBy Hannah Rabinowitz, CNN\\n\\nUpdated: \\n        2:23 PM EST, Thu February 22, 2024\\n\\nSource: CNN\\n\\nThe Justice Department on Thursday announced a sweeping set of criminal and civil enforcement actions targeting sanctioned Russian oligarchs and others accused of working to support the Kremlin and its military.\\n\\nThe announcement, made by the Justice Department’s\\xa0Task Force KleptoCapture, comes days before the two-year anniversary of Russia’s invasion of Ukraine.\\n\\nThe task force — made up of federal prosecutors, investigators, and analysts — has targeted the web of wealth surrounding Russian oligarchs and Kremlin insiders.\\xa0In the two years since Russia’s invasion, the task force has brought about 70 criminal cases against individuals and five criminal cases against corporate entities. More than a dozen of those charged have been arrested worldwide, department officials said.\\n\\nThe task force has also moved to seize about $700 million worth of assets, which Justice Department officials said they hope to ultimately transfer to Ukraine or use in aid. While the bulk of that money is still in the process of being forfeited, department officials said, about $6 million has been transferred to Ukraine thus far.\\n\\nAs the Justice Department works to enforce existing sanctions, the White House is also set to announce a new sanctions package against Russia on Friday,\\xa0CNN has reported. The sanctions are aimed to hold Russian President Vladimir Putin accountable for Russia’s war in Ukraine — which hits the 2-year mark on Saturday — and\\xa0for the death of opposition figure Alexey Navalny, US National Security Council spokesperson John Kirby said on Tuesday.\\n\\nDavid Lim, one of the co-directors of the task force, said Thursday that he hopes the enforcement actions demonstrate the department’s “commitment and resolve to enforcing our laws in the hopes that we are able to play a role in supporting the Ukrainian people.”\\n\\n“What you have seen through today’s public announcement are our efforts at really targeting the facilitators who possess the requisite skill set, access, connections that allowed the Russian war machine, the Russian elites, to continually see have access to western services and western goods,” Lim said.\\n\\nAttorney General Merrick Garland, meanwhile, said in a statement that the Justice Department “is more committed than ever to cutting off the flow of illegal funds that are fueling Putin’s war and to holding accountable those who continue to enable it.”\\n\\nAs part of Thursday’s announcement, the Justice Department unveiled two cases out of Florida. In the first case, prosecutors announced criminal charges against a pro-Russian Ukrainian oligarch accused doing more than $300 million in business in violation of US sanctions.\\n\\nProsecutors also filed a civil forfeiture complaint against two luxury condos in Miami that they say are owned by sanctioned Russian oligarch Viktor Perevalov. The properties are located at the Ritz-Carlton, prosecutors said, and are valued at approximately $2.5 million.\\n\\nIn New York, prosecutors announced charges against another sanctioned Russian oligarch accused of laundering money to “support two superyachts.” The oligarch, Andrey Kostin, and two US-based individuals are also charged with scheming to evade US sanctions by concealing Kostin’s ownership of an apartment in Aspen, Colorado, and working to update the apartment. The three also tried to sell the home for $12 million.\\n\\nThe department brought additional charges against Vladislav Osipov, a dual Russian and Swiss national accused of hiding his ownership of a 255-foot luxury yacht named “Tango” in violation of US sanctions.\\n\\nAnd in Georgia, prosecutors secured a guilty plea from Atlanta-based dual national Feliks Medvedev for his role in an alleged plot to launder more than $150 million through bank accounts and shell companies on behalf of Russian clients.\\n\\nThis story has been updated with additional information.\\n\\nSee Full Web Article\\n\\nGo to the full CNN experience\\n\\n© 2024 Cable News Network. A Warner Bros. Discovery Company. All Rights Reserved.\\n\\nTerms of Use\\n\\nPrivacy Policy\\n\\nAd Choices\\n\\nCookie Settings', metadata={'source': 'https://lite.cnn.com/2024/02/22/politics/justice-department-criminal-civil-sanctions-russia-kremlin/index.html'}),\n",
              "  Document(page_content='CNN\\n\\n2/23/2024\\n\\nWorld\\n    /\\n\\nEurope\\n\\nAs Ukraine marks two years since Russia’s invasion, Europe is facing difficult questions\\n\\nAnalysis by Luke McGee, CNN\\n\\nUpdated: \\n        1:49 PM EST, Thu February 22, 2024\\n\\nSource: CNN\\n\\nAs the world prepares to mark the second anniversary of Vladimir Putin’s Ukraine invasion this week, Europe must ask itself some searching questions about the war that unexpectedly erupted on its borders – and how it will approach the next 12 months.\\n\\nArguably most important among those questions: How long can it practically sustain such draining financial support for Ukraine?\\n\\nThat thought is not new,\\xa0but is increasingly echoed privately in some corners of officialdom. It also reflects several current grim truths.\\n\\nThe war has\\xa0been deadlocked for\\xa0some time,\\xa0while\\xa0last week,\\xa0Ukraine\\xa0was forced to withdraw from the key town of Avdiivka after months of fierce fighting, marking its worst defeat since the fall of Bakhmut in May.\\n\\nMoney desperately needed from the United\\xa0States\\xa0is stuck, having passed the Senate but awaiting House approval. Unity between the European\\xa0Union\\xa0(EU)\\xa0and NATO\\xa0is starting to fray, with nearly every big decision held up and threatened with veto.\\n\\nNo serious Western voices want to abandon\\xa0Kyiv, but it’s undeniable that fatigue is setting in as the bills grow.\\n\\nSince the start of the crisis, the EU\\xa0and its regional allies have spent\\xa0more than\\xa0$100 billion funding Ukraine’s defense effort, according to the Kiel Institute’s Ukraine Support Tracker.\\n\\nEarlier this month, EU leaders agreed to a $54 billion package for Ukraine between now and 2027. The United\\xa0Kingdom, arguably the major security player in the region, has also pledged\\xa0more than\\xa0$15 billion\\xa0to Ukraine since 2022. For context, according to the Kiel Institute the US has spent\\xa0$66 billion, with another $60 billion in the pipeline.\\n\\nWhile the West’s resounding support for Ukraine since 2022\\xa0has\\xa0surprised many in\\xa0the\\xa0diplomatic world, the longer the war drags on, the more the fatigue grows.\\n\\nBetween there being no end to the conflict in sight,\\xa0and\\xa0competition for political attention in the Middle East – as well as domestic concerns from inflation-led cost-of-living crises\\xa0around the world\\xa0– spending huge sums on Ukraine could become politically harder to stomach for governments.\\n\\nThe political pressure on spending will become more visible as European Parliamentary elections take place in June, as well as national polls in multiple countries including the UK, a key Ukrainian ally.\\n\\nEuropean officials need only look at the difficulty US President Joe Biden is having with his own Ukraine package to see the real-world impact of funding a costly overseas war when it comes into direct contact with domestic politics.\\n\\nAdding\\xa0to these inauspicious distractions\\xa0is\\xa0the prospect of Donald Trump returning to the White House next year.\\n\\nTrump has not clearly stated what his Ukraine policy would be, save his claim that he could end the war within 24 hours. The former president’s anti-NATO rhetoric, general disdain for European institutions and odd admiration for Putin are well-known.\\n\\nWhile no one knows what another Trump presidency might materially mean, it is plausible to envisage a worst-case scenario for Ukraine, where it loses momentum on the ground while the new\\xa0occupant of the White House\\xa0decides that America has spent enough already.\\n\\nThis is an alarming prospect for European officials who already believe Putin is digging in and trying to wait out the West.\\n\\nThis is where the next 12 months become crucial for Ukraine’s European allies. It is manifestly in continental Europe’s interest that Putin does not win this war – there are very few who would disagree with that sentiment.\\n\\nIt is therefore crucial, officials say, that whatever happens in America, Europeans hold their noses and keep spending, however hard it seems.\\n\\nIn the run-up to the\\xa0US\\xa0presidential election, the question of what happens to European security without America will inevitably be asked. And while it is true that Ukrainian security is directly tied to wider European security, the immediate question of how to\\xa0support\\xa0Kyiv\\xa0is subtly different to Europe’s long-term goal of greater security independence from DC.\\n\\nCan Europe continue funding Ukraine if the US pulls\\xa0financial support?\\n\\nMost officials argue that it can. It would be difficult, sure, but possible. “The EU is very good at raising funds and there are tools it hasn’t yet used,” one NATO official\\xa0told CNN.\\n\\nThe official\\xa0said\\xa0that in the next 12 months, Brussels should start to look at using money tied up in frozen Russian assets to help fund Ukraine. “While that money cannot legally be used to buy weapons, it can be used to cover compensation costs, freeing up money for weapons from EU and national budgets,”\\xa0they said.\\n\\nDiplomatic voices who have eyes on the world beyond Europe raise eyebrows at this. Some fear that setting a precedent for using frozen assets to raise money for foreign wars could give countries like China a green light to do the same in its internal regional battles. Beijing introduced a new law\\xa0last year\\xa0that\\xa0makes\\xa0it easier to do\\xa0similar to foreign assets within China.\\n\\nThe thornier issue is whether or not Europe could provide\\xa0Kyiv\\xa0with the weapons it needs to win the war without American support.\\n\\nThe answer to that would be no. Europe simply doesn’t have the manufacturing heft right now to independently serve Ukraine over the next 12 months.\\n\\nHowever, Western diplomats are optimistic that arming Ukraine fits perfectly with a much-needed European drive to reduce its reliance on America.\\n\\nOfficials point to a recent deal, brokered by NATO, where European countries have pledged to purchase 1,000 missiles from American firms that will be built in a new German factory.\\n\\nAlmost everyone agrees that Europe needs to buy more weapons and have a security policy that is not so reliant on the US. Achieving that needn’t come at the expense of America, and dangling the carrot of lucrative contracts for US companies is one way of ensuring everyone wins.\\n\\nPutin’s unprovoked invasion of Ukraine is a travesty that has cost unnecessary lives. If any positives are to come from it, they should include Europe finally becoming fit to defend itself, and cooperating with its old ally.\\n\\nAnd for what it’s worth, the vast majority of Western officials believe that if Europe can spend the next year making itself fighting fit, it will be far easier to keep a future President Trump onside.\\n\\nSee Full Web Article\\n\\nGo to the full CNN experience\\n\\n© 2024 Cable News Network. A Warner Bros. Discovery Company. All Rights Reserved.\\n\\nTerms of Use\\n\\nPrivacy Policy\\n\\nAd Choices\\n\\nCookie Settings', metadata={'source': 'https://lite.cnn.com/2024/02/22/europe/ukraine-russia-eu-anniversary-intl/index.html'}),\n",
              "  Document(page_content='CNN\\n\\n2/23/2024\\n\\nWorld\\n    /\\n\\nEurope\\n\\nMother of Kremlin critic Alexey Navalny says she has seen his body, is being pressured to hold secret funeral\\n\\nBy Anna Chernova, Sebastian Shukla, Christian Edwards and AnneClaire Stapleton, CNN\\n\\nUpdated: \\n        5:42 PM EST, Thu February 22, 2024\\n\\nSource: CNN\\n\\nThe mother of Russian opposition politician Alexey Navalny, who died in an Arctic penal colony last week, said Thursday she had seen her son’s body and was being pressured to hold a secret funeral.\\n\\nLyudmila Navalnaya said she had seen her son’s body on Wednesday in a morgue in Salekhard, the Siberian town near the prison where Navalny had been held since December, after being denied access to it for days after his death.\\n\\nShe also saw a medical report stating his cause of death as being natural, Navalny’s spokesperson, Kira Yarmysh, said on X. The late Kremlin critic’s wife, Yulia Navalnaya, reiterated on Thursday that she believes Russian President Vladimir Putin killed her husband and urged the media not to be diverted by Russian government narratives.\\n\\nIn a video posted on her son’s YouTube channel, Navalny’s mother said: “According to the law, they should have given me Alexey’s body right away, but they haven’t done it yet. Instead, they blackmail me and set conditions for where, when and how Alexey should be buried.”\\n\\n“I’m recording this video because they started threatening me. Looking into my eyes they say that if I don’t agree to a secret funeral they will do something with my son’s body,” she said.\\n\\nNavalnaya claimed that an investigator named Voropayev told her: “Time is working against you. The corpse is decomposing.” She did not give the full name of the official.\\n\\nShe also claimed the Russian Investigative Committee looking into the circumstances of her son’s death would like to bury his body “secretly without saying goodbye.” She said the investigators “claim that they know the cause of death and that they have all the medical legal documents,” and that she had signed his medical death certificate.\\n\\nIvan Zhdanov, the director of\\xa0Navalny’s Anti-Corruption Foundation,\\xa0told Russian\\xa0journalist Alexander Plyushchev the committee had set numerous\\xa0conditions for Navalny’s mother to follow before they would release the body.\\n\\nAmong those conditions, he claimed, were that that any funeral should be kept “among the family” and not announced, to prevent crowds from gathering, and that the body should be transported to Moscow on a special plane. The family would also have to be accompanied by an employee of the\\xa0committee\\xa0at all times before the funeral, he said, and Navalny’s\\xa0body\\xa0would have to be kept in either the Moscow or Vladimir region prior to burial because the committee\\xa0was “afraid that the morgue will be stormed.”\\n\\nOnly when those conditions were met would the family receive Navalny’s death certificate, Zhdanov said.\\n\\nNavalny’s\\xa0mother\\xa0was first denied the cemetery of her choice, and then both parties agreed\\xa0to\\xa0hold the funeral at Khovanskoye cemetery in Moscow, Zhdanov said, adding that the parties hadn’t agreed on the farewell hall.\\xa0Navalny’s\\xa0mother\\xa0was pressured into\\xa0agreeing\\xa0to\\xa0these\\xa0conditions, Zhdanov added.\\n\\nKremlin spokesperson\\xa0Dmitry Peskov told CNN’s Matthew Chance that he had not seen the comments from Navalny’s mother regarding her son’s body and the issues she claims she is experiencing with investigators.\\n\\n“Unfortunately, I have not seen her words so I cannot comment on that,” Peskov said. He added that the Kremlin was “dealing with different issues which are of great importance for our country.”\\n\\nNavalny’s wife, Navalnaya, had earlier accused Russian authorities of “hiding” his body in an attempt to disguise the cause of his death. She said they were “lying pathetically” and waiting for “traces of another of Putin’s Novichoks to disappear.” The Kremlin has said an investigation into the circumstances around Navalny’s death is “underway” and the results are currently “unknown.”\\n\\nNavalny’s mother’s claims to have seen his body come almost a week after his death was announced on February 16. The news drew barbed reaction from Western leaders, including US President Joe Biden, who pinned the blame on his Russian counterpart, saying that “what has happened to Navalny is yet more proof of Putin’s brutality.”\\n\\nRussia meanwhile has accused the US of “hysteria,” regarding his death. “The US acts as the prosecutors, as the judge, and as the punisher all in one, and this hysteria regarding the death of Navalny is a prime example of that,” Russian Foreign Minister Sergey Lavrov said Thursday at a G20 press conference in Rio de Janeiro, Brazil. “These people have no right to interfere in our home affairs, especially given their own problems,” Lavrov said.\\n\\nUS President Joe Biden met with Navalny’s wife and daughter in California on Thursday, where he expressed his condolences and his “admiration” for Navalny’s “extraordinary courage and his legacy of fighting against corruption.”\\n\\nNavalny was Russia’s highest-profile opposition leader and spent years criticizing Putin, who has been in power for nearly a quarter of a century, at great personal risk. His death came weeks before the country’s presidential elections scheduled for March 17, which is widely seen by the international community as little more than a formality that will secure Putin a fifth term in power.\\n\\nHe returned to Russia in 2021 from Germany, where he had been treated after being poisoned with Novichok, a Soviet-era nerve agent. On arrival Navalny was swiftly arrested – on charges he dismissed as politically motivated – and spent the rest of his life in prison.\\n\\nThe Russian prison service said Navalny “felt unwell after a walk” in his Siberian penal colony and “almost immediately” lost consciousness.\\n\\nNavalny was sentenced to 19 years in prison in August after being found guilty of creating an extremist community, financing extremist activists and various other crimes. He was already serving sentences of 11-and-a-half years in a maximum security facility on fraud and other changes he denies.\\n\\nHe was initially imprisoned in a penal colony about 150 miles east of Moscow, but his lawyers in December said they had lost contact with him for nearly three weeks. After filing 680 requests to locate him, his team announced on December 25 that they had “found” Navalny more than 1,000 miles away at the IK-3 penal colony in Kharp, known as “Polar Wolf.”\\n\\nNavalny spent his final weeks in the IK-3 colony, where he described the “freezing” conditions to a Moscow court, telling them he slept under a newspaper for warmth.\\n\\nThis is a developing story and will be updated\\n\\nSee Full Web Article\\n\\nGo to the full CNN experience\\n\\n© 2024 Cable News Network. A Warner Bros. Discovery Company. All Rights Reserved.\\n\\nTerms of Use\\n\\nPrivacy Policy\\n\\nAd Choices\\n\\nCookie Settings', metadata={'source': 'https://lite.cnn.com/2024/02/22/europe/russia-navalny-mother-body-intl/index.html'})],\n",
              " 'output_text': \"The article discusses the ongoing influence of Russian President Vladimir Putin on US politics and the potential consequences for US-European relations. It highlights Putin's efforts to weaken US power and exploit political divides in the country, as well as the threat this poses to the post-World War II security architecture. The article also mentions the Justice Department's announcement of criminal and civil actions against sanctioned Russian oligarchs, as well as the difficulties Europe faces in sustaining financial support for Ukraine. Additionally, it covers the pressure faced by the mother of Kremlin critic Alexey Navalny to hold a secret funeral and the accusations made by Navalny's wife against Russian authorities.\"}"
            ]
          },
          "metadata": {},
          "execution_count": 30
        }
      ]
    }
  ]
}