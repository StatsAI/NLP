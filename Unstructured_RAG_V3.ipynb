{
  "nbformat": 4,
  "nbformat_minor": 0,
  "metadata": {
    "colab": {
      "provenance": [],
      "include_colab_link": true
    },
    "kernelspec": {
      "name": "python3",
      "display_name": "Python 3"
    },
    "language_info": {
      "name": "python"
    }
  },
  "cells": [
    {
      "cell_type": "markdown",
      "metadata": {
        "id": "view-in-github",
        "colab_type": "text"
      },
      "source": [
        "<a href=\"https://colab.research.google.com/github/StatsAI/NLP/blob/main/Unstructured_RAG_V3.ipynb\" target=\"_parent\"><img src=\"https://colab.research.google.com/assets/colab-badge.svg\" alt=\"Open In Colab\"/></a>"
      ]
    },
    {
      "cell_type": "code",
      "source": [
        "# Author: Hussain Abbas, MSc\n",
        "# © 2025 Stats AI LLC\n",
        "# All Rights Reserved"
      ],
      "metadata": {
        "id": "vQ4jIA0RPOzO"
      },
      "execution_count": 1,
      "outputs": []
    },
    {
      "cell_type": "code",
      "execution_count": 2,
      "metadata": {
        "colab": {
          "base_uri": "https://localhost:8080/",
          "height": 1000
        },
        "id": "fg-z6olse1cO",
        "outputId": "d858ea58-6c14-4f07-ddd6-4165ad0bd168"
      },
      "outputs": [
        {
          "output_type": "stream",
          "name": "stdout",
          "text": [
            "Collecting unstructured[all-docs]\n",
            "  Downloading unstructured-0.16.23-py3-none-any.whl.metadata (24 kB)\n",
            "Requirement already satisfied: chardet in /usr/local/lib/python3.11/dist-packages (from unstructured[all-docs]) (5.2.0)\n",
            "Collecting filetype (from unstructured[all-docs])\n",
            "  Downloading filetype-1.2.0-py2.py3-none-any.whl.metadata (6.5 kB)\n",
            "Collecting python-magic (from unstructured[all-docs])\n",
            "  Downloading python_magic-0.4.27-py2.py3-none-any.whl.metadata (5.8 kB)\n",
            "Requirement already satisfied: lxml in /usr/local/lib/python3.11/dist-packages (from unstructured[all-docs]) (5.3.1)\n",
            "Requirement already satisfied: nltk in /usr/local/lib/python3.11/dist-packages (from unstructured[all-docs]) (3.9.1)\n",
            "Requirement already satisfied: requests in /usr/local/lib/python3.11/dist-packages (from unstructured[all-docs]) (2.32.3)\n",
            "Requirement already satisfied: beautifulsoup4 in /usr/local/lib/python3.11/dist-packages (from unstructured[all-docs]) (4.13.3)\n",
            "Collecting emoji (from unstructured[all-docs])\n",
            "  Downloading emoji-2.14.1-py3-none-any.whl.metadata (5.7 kB)\n",
            "Collecting dataclasses-json (from unstructured[all-docs])\n",
            "  Downloading dataclasses_json-0.6.7-py3-none-any.whl.metadata (25 kB)\n",
            "Collecting python-iso639 (from unstructured[all-docs])\n",
            "  Downloading python_iso639-2025.2.18-py3-none-any.whl.metadata (14 kB)\n",
            "Collecting langdetect (from unstructured[all-docs])\n",
            "  Downloading langdetect-1.0.9.tar.gz (981 kB)\n",
            "\u001b[2K     \u001b[90m━━━━━━━━━━━━━━━━━━━━━━━━━━━━━━━━━━━━━━━━\u001b[0m \u001b[32m981.5/981.5 kB\u001b[0m \u001b[31m13.5 MB/s\u001b[0m eta \u001b[36m0:00:00\u001b[0m\n",
            "\u001b[?25h  Preparing metadata (setup.py) ... \u001b[?25l\u001b[?25hdone\n",
            "Requirement already satisfied: numpy<2 in /usr/local/lib/python3.11/dist-packages (from unstructured[all-docs]) (1.26.4)\n",
            "Collecting rapidfuzz (from unstructured[all-docs])\n",
            "  Downloading rapidfuzz-3.12.1-cp311-cp311-manylinux_2_17_x86_64.manylinux2014_x86_64.whl.metadata (11 kB)\n",
            "Collecting backoff (from unstructured[all-docs])\n",
            "  Downloading backoff-2.2.1-py3-none-any.whl.metadata (14 kB)\n",
            "Requirement already satisfied: typing-extensions in /usr/local/lib/python3.11/dist-packages (from unstructured[all-docs]) (4.12.2)\n",
            "Collecting unstructured-client (from unstructured[all-docs])\n",
            "  Downloading unstructured_client-0.30.3-py3-none-any.whl.metadata (23 kB)\n",
            "Requirement already satisfied: wrapt in /usr/local/lib/python3.11/dist-packages (from unstructured[all-docs]) (1.17.2)\n",
            "Requirement already satisfied: tqdm in /usr/local/lib/python3.11/dist-packages (from unstructured[all-docs]) (4.67.1)\n",
            "Requirement already satisfied: psutil in /usr/local/lib/python3.11/dist-packages (from unstructured[all-docs]) (5.9.5)\n",
            "Collecting python-oxmsg (from unstructured[all-docs])\n",
            "  Downloading python_oxmsg-0.0.2-py3-none-any.whl.metadata (5.0 kB)\n",
            "Requirement already satisfied: html5lib in /usr/local/lib/python3.11/dist-packages (from unstructured[all-docs]) (1.1)\n",
            "Requirement already satisfied: pandas in /usr/local/lib/python3.11/dist-packages (from unstructured[all-docs]) (2.2.2)\n",
            "Requirement already satisfied: xlrd in /usr/local/lib/python3.11/dist-packages (from unstructured[all-docs]) (2.0.1)\n",
            "Collecting pdfminer.six (from unstructured[all-docs])\n",
            "  Downloading pdfminer.six-20240706-py3-none-any.whl.metadata (4.1 kB)\n",
            "Requirement already satisfied: markdown in /usr/local/lib/python3.11/dist-packages (from unstructured[all-docs]) (3.7)\n",
            "Collecting effdet (from unstructured[all-docs])\n",
            "  Downloading effdet-0.4.1-py3-none-any.whl.metadata (33 kB)\n",
            "Requirement already satisfied: openpyxl in /usr/local/lib/python3.11/dist-packages (from unstructured[all-docs]) (3.1.5)\n",
            "Collecting pdf2image (from unstructured[all-docs])\n",
            "  Downloading pdf2image-1.17.0-py3-none-any.whl.metadata (6.2 kB)\n",
            "Requirement already satisfied: networkx in /usr/local/lib/python3.11/dist-packages (from unstructured[all-docs]) (3.4.2)\n",
            "Collecting google-cloud-vision (from unstructured[all-docs])\n",
            "  Downloading google_cloud_vision-3.10.0-py2.py3-none-any.whl.metadata (5.3 kB)\n",
            "Collecting pypdf (from unstructured[all-docs])\n",
            "  Downloading pypdf-5.3.0-py3-none-any.whl.metadata (7.2 kB)\n",
            "Collecting unstructured.pytesseract>=0.3.12 (from unstructured[all-docs])\n",
            "  Downloading unstructured.pytesseract-0.3.13-py3-none-any.whl.metadata (11 kB)\n",
            "Collecting unstructured-inference>=0.8.7 (from unstructured[all-docs])\n",
            "  Downloading unstructured_inference-0.8.7-py3-none-any.whl.metadata (5.3 kB)\n",
            "Collecting pikepdf (from unstructured[all-docs])\n",
            "  Downloading pikepdf-9.5.2-cp311-cp311-manylinux_2_17_x86_64.manylinux2014_x86_64.whl.metadata (8.1 kB)\n",
            "Collecting pypandoc (from unstructured[all-docs])\n",
            "  Downloading pypandoc-1.15-py3-none-any.whl.metadata (16 kB)\n",
            "Collecting onnx (from unstructured[all-docs])\n",
            "  Downloading onnx-1.17.0-cp311-cp311-manylinux_2_17_x86_64.manylinux2014_x86_64.whl.metadata (16 kB)\n",
            "Collecting python-docx>=1.1.2 (from unstructured[all-docs])\n",
            "  Downloading python_docx-1.1.2-py3-none-any.whl.metadata (2.0 kB)\n",
            "Collecting pi-heif (from unstructured[all-docs])\n",
            "  Downloading pi_heif-0.21.0-cp311-cp311-manylinux_2_17_x86_64.manylinux2014_x86_64.whl.metadata (6.5 kB)\n",
            "Collecting python-pptx>=1.0.1 (from unstructured[all-docs])\n",
            "  Downloading python_pptx-1.0.2-py3-none-any.whl.metadata (2.5 kB)\n",
            "Requirement already satisfied: Pillow>=3.3.2 in /usr/local/lib/python3.11/dist-packages (from python-pptx>=1.0.1->unstructured[all-docs]) (11.1.0)\n",
            "Collecting XlsxWriter>=0.5.7 (from python-pptx>=1.0.1->unstructured[all-docs])\n",
            "  Downloading XlsxWriter-3.2.2-py3-none-any.whl.metadata (2.8 kB)\n",
            "Collecting python-multipart (from unstructured-inference>=0.8.7->unstructured[all-docs])\n",
            "  Downloading python_multipart-0.0.20-py3-none-any.whl.metadata (1.8 kB)\n",
            "Requirement already satisfied: huggingface-hub in /usr/local/lib/python3.11/dist-packages (from unstructured-inference>=0.8.7->unstructured[all-docs]) (0.28.1)\n",
            "Requirement already satisfied: opencv-python!=4.7.0.68 in /usr/local/lib/python3.11/dist-packages (from unstructured-inference>=0.8.7->unstructured[all-docs]) (4.11.0.86)\n",
            "Collecting onnxruntime>=1.17.0 (from unstructured-inference>=0.8.7->unstructured[all-docs])\n",
            "  Downloading onnxruntime-1.20.1-cp311-cp311-manylinux_2_27_x86_64.manylinux_2_28_x86_64.whl.metadata (4.5 kB)\n",
            "Requirement already satisfied: matplotlib in /usr/local/lib/python3.11/dist-packages (from unstructured-inference>=0.8.7->unstructured[all-docs]) (3.10.0)\n",
            "Requirement already satisfied: torch in /usr/local/lib/python3.11/dist-packages (from unstructured-inference>=0.8.7->unstructured[all-docs]) (2.5.1+cu124)\n",
            "Requirement already satisfied: timm in /usr/local/lib/python3.11/dist-packages (from unstructured-inference>=0.8.7->unstructured[all-docs]) (1.0.14)\n",
            "Requirement already satisfied: transformers>=4.25.1 in /usr/local/lib/python3.11/dist-packages (from unstructured-inference>=0.8.7->unstructured[all-docs]) (4.48.3)\n",
            "Requirement already satisfied: scipy in /usr/local/lib/python3.11/dist-packages (from unstructured-inference>=0.8.7->unstructured[all-docs]) (1.13.1)\n",
            "Collecting pypdfium2 (from unstructured-inference>=0.8.7->unstructured[all-docs])\n",
            "  Downloading pypdfium2-4.30.1-py3-none-manylinux_2_17_x86_64.manylinux2014_x86_64.whl.metadata (48 kB)\n",
            "\u001b[2K     \u001b[90m━━━━━━━━━━━━━━━━━━━━━━━━━━━━━━━━━━━━━━━━\u001b[0m \u001b[32m48.2/48.2 kB\u001b[0m \u001b[31m3.7 MB/s\u001b[0m eta \u001b[36m0:00:00\u001b[0m\n",
            "\u001b[?25hRequirement already satisfied: charset-normalizer>=2.0.0 in /usr/local/lib/python3.11/dist-packages (from pdfminer.six->unstructured[all-docs]) (3.4.1)\n",
            "Requirement already satisfied: cryptography>=36.0.0 in /usr/local/lib/python3.11/dist-packages (from pdfminer.six->unstructured[all-docs]) (43.0.3)\n",
            "Requirement already satisfied: packaging>=21.3 in /usr/local/lib/python3.11/dist-packages (from unstructured.pytesseract>=0.3.12->unstructured[all-docs]) (24.2)\n",
            "Requirement already satisfied: soupsieve>1.2 in /usr/local/lib/python3.11/dist-packages (from beautifulsoup4->unstructured[all-docs]) (2.6)\n",
            "Collecting marshmallow<4.0.0,>=3.18.0 (from dataclasses-json->unstructured[all-docs])\n",
            "  Downloading marshmallow-3.26.1-py3-none-any.whl.metadata (7.3 kB)\n",
            "Collecting typing-inspect<1,>=0.4.0 (from dataclasses-json->unstructured[all-docs])\n",
            "  Downloading typing_inspect-0.9.0-py3-none-any.whl.metadata (1.5 kB)\n",
            "Requirement already satisfied: torchvision in /usr/local/lib/python3.11/dist-packages (from effdet->unstructured[all-docs]) (0.20.1+cu124)\n",
            "Requirement already satisfied: pycocotools>=2.0.2 in /usr/local/lib/python3.11/dist-packages (from effdet->unstructured[all-docs]) (2.0.8)\n",
            "Collecting omegaconf>=2.0 (from effdet->unstructured[all-docs])\n",
            "  Downloading omegaconf-2.3.0-py3-none-any.whl.metadata (3.9 kB)\n",
            "Requirement already satisfied: google-api-core!=2.0.*,!=2.1.*,!=2.10.*,!=2.2.*,!=2.3.*,!=2.4.*,!=2.5.*,!=2.6.*,!=2.7.*,!=2.8.*,!=2.9.*,<3.0.0dev,>=1.34.1 in /usr/local/lib/python3.11/dist-packages (from google-api-core[grpc]!=2.0.*,!=2.1.*,!=2.10.*,!=2.2.*,!=2.3.*,!=2.4.*,!=2.5.*,!=2.6.*,!=2.7.*,!=2.8.*,!=2.9.*,<3.0.0dev,>=1.34.1->google-cloud-vision->unstructured[all-docs]) (2.19.2)\n",
            "Requirement already satisfied: google-auth!=2.24.0,!=2.25.0,<3.0.0dev,>=2.14.1 in /usr/local/lib/python3.11/dist-packages (from google-cloud-vision->unstructured[all-docs]) (2.27.0)\n",
            "Requirement already satisfied: proto-plus<2.0.0dev,>=1.22.3 in /usr/local/lib/python3.11/dist-packages (from google-cloud-vision->unstructured[all-docs]) (1.26.0)\n",
            "Requirement already satisfied: protobuf!=4.21.0,!=4.21.1,!=4.21.2,!=4.21.3,!=4.21.4,!=4.21.5,<6.0.0dev,>=3.20.2 in /usr/local/lib/python3.11/dist-packages (from google-cloud-vision->unstructured[all-docs]) (4.25.6)\n",
            "Requirement already satisfied: six>=1.9 in /usr/local/lib/python3.11/dist-packages (from html5lib->unstructured[all-docs]) (1.17.0)\n",
            "Requirement already satisfied: webencodings in /usr/local/lib/python3.11/dist-packages (from html5lib->unstructured[all-docs]) (0.5.1)\n",
            "Requirement already satisfied: click in /usr/local/lib/python3.11/dist-packages (from nltk->unstructured[all-docs]) (8.1.8)\n",
            "Requirement already satisfied: joblib in /usr/local/lib/python3.11/dist-packages (from nltk->unstructured[all-docs]) (1.4.2)\n",
            "Requirement already satisfied: regex>=2021.8.3 in /usr/local/lib/python3.11/dist-packages (from nltk->unstructured[all-docs]) (2024.11.6)\n",
            "Requirement already satisfied: et-xmlfile in /usr/local/lib/python3.11/dist-packages (from openpyxl->unstructured[all-docs]) (2.0.0)\n",
            "Requirement already satisfied: python-dateutil>=2.8.2 in /usr/local/lib/python3.11/dist-packages (from pandas->unstructured[all-docs]) (2.8.2)\n",
            "Requirement already satisfied: pytz>=2020.1 in /usr/local/lib/python3.11/dist-packages (from pandas->unstructured[all-docs]) (2025.1)\n",
            "Requirement already satisfied: tzdata>=2022.7 in /usr/local/lib/python3.11/dist-packages (from pandas->unstructured[all-docs]) (2025.1)\n",
            "Requirement already satisfied: Deprecated in /usr/local/lib/python3.11/dist-packages (from pikepdf->unstructured[all-docs]) (1.2.18)\n",
            "Collecting olefile (from python-oxmsg->unstructured[all-docs])\n",
            "  Downloading olefile-0.47-py2.py3-none-any.whl.metadata (9.7 kB)\n",
            "Requirement already satisfied: idna<4,>=2.5 in /usr/local/lib/python3.11/dist-packages (from requests->unstructured[all-docs]) (3.10)\n",
            "Requirement already satisfied: urllib3<3,>=1.21.1 in /usr/local/lib/python3.11/dist-packages (from requests->unstructured[all-docs]) (2.3.0)\n",
            "Requirement already satisfied: certifi>=2017.4.17 in /usr/local/lib/python3.11/dist-packages (from requests->unstructured[all-docs]) (2025.1.31)\n",
            "Collecting aiofiles>=24.1.0 (from unstructured-client->unstructured[all-docs])\n",
            "  Downloading aiofiles-24.1.0-py3-none-any.whl.metadata (10 kB)\n",
            "Collecting eval-type-backport>=0.2.0 (from unstructured-client->unstructured[all-docs])\n",
            "  Downloading eval_type_backport-0.2.2-py3-none-any.whl.metadata (2.2 kB)\n",
            "Requirement already satisfied: httpx>=0.27.0 in /usr/local/lib/python3.11/dist-packages (from unstructured-client->unstructured[all-docs]) (0.28.1)\n",
            "Requirement already satisfied: nest-asyncio>=1.6.0 in /usr/local/lib/python3.11/dist-packages (from unstructured-client->unstructured[all-docs]) (1.6.0)\n",
            "Requirement already satisfied: pydantic>=2.10.3 in /usr/local/lib/python3.11/dist-packages (from unstructured-client->unstructured[all-docs]) (2.10.6)\n",
            "Requirement already satisfied: requests-toolbelt>=1.0.0 in /usr/local/lib/python3.11/dist-packages (from unstructured-client->unstructured[all-docs]) (1.0.0)\n",
            "Requirement already satisfied: cffi>=1.12 in /usr/local/lib/python3.11/dist-packages (from cryptography>=36.0.0->pdfminer.six->unstructured[all-docs]) (1.17.1)\n",
            "Requirement already satisfied: googleapis-common-protos<2.0.dev0,>=1.56.2 in /usr/local/lib/python3.11/dist-packages (from google-api-core!=2.0.*,!=2.1.*,!=2.10.*,!=2.2.*,!=2.3.*,!=2.4.*,!=2.5.*,!=2.6.*,!=2.7.*,!=2.8.*,!=2.9.*,<3.0.0dev,>=1.34.1->google-api-core[grpc]!=2.0.*,!=2.1.*,!=2.10.*,!=2.2.*,!=2.3.*,!=2.4.*,!=2.5.*,!=2.6.*,!=2.7.*,!=2.8.*,!=2.9.*,<3.0.0dev,>=1.34.1->google-cloud-vision->unstructured[all-docs]) (1.67.0)\n",
            "Requirement already satisfied: grpcio<2.0dev,>=1.33.2 in /usr/local/lib/python3.11/dist-packages (from google-api-core[grpc]!=2.0.*,!=2.1.*,!=2.10.*,!=2.2.*,!=2.3.*,!=2.4.*,!=2.5.*,!=2.6.*,!=2.7.*,!=2.8.*,!=2.9.*,<3.0.0dev,>=1.34.1->google-cloud-vision->unstructured[all-docs]) (1.70.0)\n",
            "Requirement already satisfied: grpcio-status<2.0.dev0,>=1.33.2 in /usr/local/lib/python3.11/dist-packages (from google-api-core[grpc]!=2.0.*,!=2.1.*,!=2.10.*,!=2.2.*,!=2.3.*,!=2.4.*,!=2.5.*,!=2.6.*,!=2.7.*,!=2.8.*,!=2.9.*,<3.0.0dev,>=1.34.1->google-cloud-vision->unstructured[all-docs]) (1.62.3)\n",
            "Requirement already satisfied: cachetools<6.0,>=2.0.0 in /usr/local/lib/python3.11/dist-packages (from google-auth!=2.24.0,!=2.25.0,<3.0.0dev,>=2.14.1->google-cloud-vision->unstructured[all-docs]) (5.5.1)\n",
            "Requirement already satisfied: pyasn1-modules>=0.2.1 in /usr/local/lib/python3.11/dist-packages (from google-auth!=2.24.0,!=2.25.0,<3.0.0dev,>=2.14.1->google-cloud-vision->unstructured[all-docs]) (0.4.1)\n",
            "Requirement already satisfied: rsa<5,>=3.1.4 in /usr/local/lib/python3.11/dist-packages (from google-auth!=2.24.0,!=2.25.0,<3.0.0dev,>=2.14.1->google-cloud-vision->unstructured[all-docs]) (4.9)\n",
            "Requirement already satisfied: anyio in /usr/local/lib/python3.11/dist-packages (from httpx>=0.27.0->unstructured-client->unstructured[all-docs]) (3.7.1)\n",
            "Requirement already satisfied: httpcore==1.* in /usr/local/lib/python3.11/dist-packages (from httpx>=0.27.0->unstructured-client->unstructured[all-docs]) (1.0.7)\n",
            "Requirement already satisfied: h11<0.15,>=0.13 in /usr/local/lib/python3.11/dist-packages (from httpcore==1.*->httpx>=0.27.0->unstructured-client->unstructured[all-docs]) (0.14.0)\n",
            "Collecting antlr4-python3-runtime==4.9.* (from omegaconf>=2.0->effdet->unstructured[all-docs])\n",
            "  Downloading antlr4-python3-runtime-4.9.3.tar.gz (117 kB)\n",
            "\u001b[2K     \u001b[90m━━━━━━━━━━━━━━━━━━━━━━━━━━━━━━━━━━━━━━━━\u001b[0m \u001b[32m117.0/117.0 kB\u001b[0m \u001b[31m9.5 MB/s\u001b[0m eta \u001b[36m0:00:00\u001b[0m\n",
            "\u001b[?25h  Preparing metadata (setup.py) ... \u001b[?25l\u001b[?25hdone\n",
            "Requirement already satisfied: PyYAML>=5.1.0 in /usr/local/lib/python3.11/dist-packages (from omegaconf>=2.0->effdet->unstructured[all-docs]) (6.0.2)\n",
            "Collecting coloredlogs (from onnxruntime>=1.17.0->unstructured-inference>=0.8.7->unstructured[all-docs])\n",
            "  Downloading coloredlogs-15.0.1-py2.py3-none-any.whl.metadata (12 kB)\n",
            "Requirement already satisfied: flatbuffers in /usr/local/lib/python3.11/dist-packages (from onnxruntime>=1.17.0->unstructured-inference>=0.8.7->unstructured[all-docs]) (25.2.10)\n",
            "Requirement already satisfied: sympy in /usr/local/lib/python3.11/dist-packages (from onnxruntime>=1.17.0->unstructured-inference>=0.8.7->unstructured[all-docs]) (1.13.1)\n",
            "Requirement already satisfied: contourpy>=1.0.1 in /usr/local/lib/python3.11/dist-packages (from matplotlib->unstructured-inference>=0.8.7->unstructured[all-docs]) (1.3.1)\n",
            "Requirement already satisfied: cycler>=0.10 in /usr/local/lib/python3.11/dist-packages (from matplotlib->unstructured-inference>=0.8.7->unstructured[all-docs]) (0.12.1)\n",
            "Requirement already satisfied: fonttools>=4.22.0 in /usr/local/lib/python3.11/dist-packages (from matplotlib->unstructured-inference>=0.8.7->unstructured[all-docs]) (4.56.0)\n",
            "Requirement already satisfied: kiwisolver>=1.3.1 in /usr/local/lib/python3.11/dist-packages (from matplotlib->unstructured-inference>=0.8.7->unstructured[all-docs]) (1.4.8)\n",
            "Requirement already satisfied: pyparsing>=2.3.1 in /usr/local/lib/python3.11/dist-packages (from matplotlib->unstructured-inference>=0.8.7->unstructured[all-docs]) (3.2.1)\n",
            "Requirement already satisfied: annotated-types>=0.6.0 in /usr/local/lib/python3.11/dist-packages (from pydantic>=2.10.3->unstructured-client->unstructured[all-docs]) (0.7.0)\n",
            "Requirement already satisfied: pydantic-core==2.27.2 in /usr/local/lib/python3.11/dist-packages (from pydantic>=2.10.3->unstructured-client->unstructured[all-docs]) (2.27.2)\n",
            "Requirement already satisfied: safetensors in /usr/local/lib/python3.11/dist-packages (from timm->unstructured-inference>=0.8.7->unstructured[all-docs]) (0.5.2)\n",
            "Requirement already satisfied: filelock in /usr/local/lib/python3.11/dist-packages (from torch->unstructured-inference>=0.8.7->unstructured[all-docs]) (3.17.0)\n",
            "Requirement already satisfied: jinja2 in /usr/local/lib/python3.11/dist-packages (from torch->unstructured-inference>=0.8.7->unstructured[all-docs]) (3.1.5)\n",
            "Requirement already satisfied: fsspec in /usr/local/lib/python3.11/dist-packages (from torch->unstructured-inference>=0.8.7->unstructured[all-docs]) (2024.10.0)\n",
            "Collecting nvidia-cuda-nvrtc-cu12==12.4.127 (from torch->unstructured-inference>=0.8.7->unstructured[all-docs])\n",
            "  Downloading nvidia_cuda_nvrtc_cu12-12.4.127-py3-none-manylinux2014_x86_64.whl.metadata (1.5 kB)\n",
            "Collecting nvidia-cuda-runtime-cu12==12.4.127 (from torch->unstructured-inference>=0.8.7->unstructured[all-docs])\n",
            "  Downloading nvidia_cuda_runtime_cu12-12.4.127-py3-none-manylinux2014_x86_64.whl.metadata (1.5 kB)\n",
            "Collecting nvidia-cuda-cupti-cu12==12.4.127 (from torch->unstructured-inference>=0.8.7->unstructured[all-docs])\n",
            "  Downloading nvidia_cuda_cupti_cu12-12.4.127-py3-none-manylinux2014_x86_64.whl.metadata (1.6 kB)\n",
            "Collecting nvidia-cudnn-cu12==9.1.0.70 (from torch->unstructured-inference>=0.8.7->unstructured[all-docs])\n",
            "  Downloading nvidia_cudnn_cu12-9.1.0.70-py3-none-manylinux2014_x86_64.whl.metadata (1.6 kB)\n",
            "Collecting nvidia-cublas-cu12==12.4.5.8 (from torch->unstructured-inference>=0.8.7->unstructured[all-docs])\n",
            "  Downloading nvidia_cublas_cu12-12.4.5.8-py3-none-manylinux2014_x86_64.whl.metadata (1.5 kB)\n",
            "Collecting nvidia-cufft-cu12==11.2.1.3 (from torch->unstructured-inference>=0.8.7->unstructured[all-docs])\n",
            "  Downloading nvidia_cufft_cu12-11.2.1.3-py3-none-manylinux2014_x86_64.whl.metadata (1.5 kB)\n",
            "Collecting nvidia-curand-cu12==10.3.5.147 (from torch->unstructured-inference>=0.8.7->unstructured[all-docs])\n",
            "  Downloading nvidia_curand_cu12-10.3.5.147-py3-none-manylinux2014_x86_64.whl.metadata (1.5 kB)\n",
            "Collecting nvidia-cusolver-cu12==11.6.1.9 (from torch->unstructured-inference>=0.8.7->unstructured[all-docs])\n",
            "  Downloading nvidia_cusolver_cu12-11.6.1.9-py3-none-manylinux2014_x86_64.whl.metadata (1.6 kB)\n",
            "Collecting nvidia-cusparse-cu12==12.3.1.170 (from torch->unstructured-inference>=0.8.7->unstructured[all-docs])\n",
            "  Downloading nvidia_cusparse_cu12-12.3.1.170-py3-none-manylinux2014_x86_64.whl.metadata (1.6 kB)\n",
            "Requirement already satisfied: nvidia-nccl-cu12==2.21.5 in /usr/local/lib/python3.11/dist-packages (from torch->unstructured-inference>=0.8.7->unstructured[all-docs]) (2.21.5)\n",
            "Requirement already satisfied: nvidia-nvtx-cu12==12.4.127 in /usr/local/lib/python3.11/dist-packages (from torch->unstructured-inference>=0.8.7->unstructured[all-docs]) (12.4.127)\n",
            "Collecting nvidia-nvjitlink-cu12==12.4.127 (from torch->unstructured-inference>=0.8.7->unstructured[all-docs])\n",
            "  Downloading nvidia_nvjitlink_cu12-12.4.127-py3-none-manylinux2014_x86_64.whl.metadata (1.5 kB)\n",
            "Requirement already satisfied: triton==3.1.0 in /usr/local/lib/python3.11/dist-packages (from torch->unstructured-inference>=0.8.7->unstructured[all-docs]) (3.1.0)\n",
            "Requirement already satisfied: mpmath<1.4,>=1.1.0 in /usr/local/lib/python3.11/dist-packages (from sympy->onnxruntime>=1.17.0->unstructured-inference>=0.8.7->unstructured[all-docs]) (1.3.0)\n",
            "Requirement already satisfied: tokenizers<0.22,>=0.21 in /usr/local/lib/python3.11/dist-packages (from transformers>=4.25.1->unstructured-inference>=0.8.7->unstructured[all-docs]) (0.21.0)\n",
            "Collecting mypy-extensions>=0.3.0 (from typing-inspect<1,>=0.4.0->dataclasses-json->unstructured[all-docs])\n",
            "  Downloading mypy_extensions-1.0.0-py3-none-any.whl.metadata (1.1 kB)\n",
            "Requirement already satisfied: pycparser in /usr/local/lib/python3.11/dist-packages (from cffi>=1.12->cryptography>=36.0.0->pdfminer.six->unstructured[all-docs]) (2.22)\n",
            "Requirement already satisfied: pyasn1<0.7.0,>=0.4.6 in /usr/local/lib/python3.11/dist-packages (from pyasn1-modules>=0.2.1->google-auth!=2.24.0,!=2.25.0,<3.0.0dev,>=2.14.1->google-cloud-vision->unstructured[all-docs]) (0.6.1)\n",
            "Requirement already satisfied: sniffio>=1.1 in /usr/local/lib/python3.11/dist-packages (from anyio->httpx>=0.27.0->unstructured-client->unstructured[all-docs]) (1.3.1)\n",
            "Collecting humanfriendly>=9.1 (from coloredlogs->onnxruntime>=1.17.0->unstructured-inference>=0.8.7->unstructured[all-docs])\n",
            "  Downloading humanfriendly-10.0-py2.py3-none-any.whl.metadata (9.2 kB)\n",
            "Requirement already satisfied: MarkupSafe>=2.0 in /usr/local/lib/python3.11/dist-packages (from jinja2->torch->unstructured-inference>=0.8.7->unstructured[all-docs]) (3.0.2)\n",
            "Downloading python_docx-1.1.2-py3-none-any.whl (244 kB)\n",
            "\u001b[2K   \u001b[90m━━━━━━━━━━━━━━━━━━━━━━━━━━━━━━━━━━━━━━━━\u001b[0m \u001b[32m244.3/244.3 kB\u001b[0m \u001b[31m19.3 MB/s\u001b[0m eta \u001b[36m0:00:00\u001b[0m\n",
            "\u001b[?25hDownloading python_pptx-1.0.2-py3-none-any.whl (472 kB)\n",
            "\u001b[2K   \u001b[90m━━━━━━━━━━━━━━━━━━━━━━━━━━━━━━━━━━━━━━━━\u001b[0m \u001b[32m472.8/472.8 kB\u001b[0m \u001b[31m34.2 MB/s\u001b[0m eta \u001b[36m0:00:00\u001b[0m\n",
            "\u001b[?25hDownloading unstructured_inference-0.8.7-py3-none-any.whl (48 kB)\n",
            "\u001b[2K   \u001b[90m━━━━━━━━━━━━━━━━━━━━━━━━━━━━━━━━━━━━━━━━\u001b[0m \u001b[32m48.8/48.8 kB\u001b[0m \u001b[31m4.2 MB/s\u001b[0m eta \u001b[36m0:00:00\u001b[0m\n",
            "\u001b[?25hDownloading pdfminer.six-20240706-py3-none-any.whl (5.6 MB)\n",
            "\u001b[2K   \u001b[90m━━━━━━━━━━━━━━━━━━━━━━━━━━━━━━━━━━━━━━━━\u001b[0m \u001b[32m5.6/5.6 MB\u001b[0m \u001b[31m82.9 MB/s\u001b[0m eta \u001b[36m0:00:00\u001b[0m\n",
            "\u001b[?25hDownloading unstructured.pytesseract-0.3.13-py3-none-any.whl (14 kB)\n",
            "Downloading backoff-2.2.1-py3-none-any.whl (15 kB)\n",
            "Downloading dataclasses_json-0.6.7-py3-none-any.whl (28 kB)\n",
            "Downloading effdet-0.4.1-py3-none-any.whl (112 kB)\n",
            "\u001b[2K   \u001b[90m━━━━━━━━━━━━━━━━━━━━━━━━━━━━━━━━━━━━━━━━\u001b[0m \u001b[32m112.5/112.5 kB\u001b[0m \u001b[31m10.3 MB/s\u001b[0m eta \u001b[36m0:00:00\u001b[0m\n",
            "\u001b[?25hDownloading emoji-2.14.1-py3-none-any.whl (590 kB)\n",
            "\u001b[2K   \u001b[90m━━━━━━━━━━━━━━━━━━━━━━━━━━━━━━━━━━━━━━━━\u001b[0m \u001b[32m590.6/590.6 kB\u001b[0m \u001b[31m36.6 MB/s\u001b[0m eta \u001b[36m0:00:00\u001b[0m\n",
            "\u001b[?25hDownloading filetype-1.2.0-py2.py3-none-any.whl (19 kB)\n",
            "Downloading google_cloud_vision-3.10.0-py2.py3-none-any.whl (523 kB)\n",
            "\u001b[2K   \u001b[90m━━━━━━━━━━━━━━━━━━━━━━━━━━━━━━━━━━━━━━━━\u001b[0m \u001b[32m523.4/523.4 kB\u001b[0m \u001b[31m29.7 MB/s\u001b[0m eta \u001b[36m0:00:00\u001b[0m\n",
            "\u001b[?25hDownloading onnx-1.17.0-cp311-cp311-manylinux_2_17_x86_64.manylinux2014_x86_64.whl (16.0 MB)\n",
            "\u001b[2K   \u001b[90m━━━━━━━━━━━━━━━━━━━━━━━━━━━━━━━━━━━━━━━━\u001b[0m \u001b[32m16.0/16.0 MB\u001b[0m \u001b[31m49.2 MB/s\u001b[0m eta \u001b[36m0:00:00\u001b[0m\n",
            "\u001b[?25hDownloading pdf2image-1.17.0-py3-none-any.whl (11 kB)\n",
            "Downloading pi_heif-0.21.0-cp311-cp311-manylinux_2_17_x86_64.manylinux2014_x86_64.whl (1.2 MB)\n",
            "\u001b[2K   \u001b[90m━━━━━━━━━━━━━━━━━━━━━━━━━━━━━━━━━━━━━━━━\u001b[0m \u001b[32m1.2/1.2 MB\u001b[0m \u001b[31m49.8 MB/s\u001b[0m eta \u001b[36m0:00:00\u001b[0m\n",
            "\u001b[?25hDownloading pikepdf-9.5.2-cp311-cp311-manylinux_2_17_x86_64.manylinux2014_x86_64.whl (2.4 MB)\n",
            "\u001b[2K   \u001b[90m━━━━━━━━━━━━━━━━━━━━━━━━━━━━━━━━━━━━━━━━\u001b[0m \u001b[32m2.4/2.4 MB\u001b[0m \u001b[31m75.2 MB/s\u001b[0m eta \u001b[36m0:00:00\u001b[0m\n",
            "\u001b[?25hDownloading pypandoc-1.15-py3-none-any.whl (21 kB)\n",
            "Downloading pypdf-5.3.0-py3-none-any.whl (300 kB)\n",
            "\u001b[2K   \u001b[90m━━━━━━━━━━━━━━━━━━━━━━━━━━━━━━━━━━━━━━━━\u001b[0m \u001b[32m300.7/300.7 kB\u001b[0m \u001b[31m24.4 MB/s\u001b[0m eta \u001b[36m0:00:00\u001b[0m\n",
            "\u001b[?25hDownloading python_iso639-2025.2.18-py3-none-any.whl (167 kB)\n",
            "\u001b[2K   \u001b[90m━━━━━━━━━━━━━━━━━━━━━━━━━━━━━━━━━━━━━━━━\u001b[0m \u001b[32m167.6/167.6 kB\u001b[0m \u001b[31m13.1 MB/s\u001b[0m eta \u001b[36m0:00:00\u001b[0m\n",
            "\u001b[?25hDownloading python_magic-0.4.27-py2.py3-none-any.whl (13 kB)\n",
            "Downloading python_oxmsg-0.0.2-py3-none-any.whl (31 kB)\n",
            "Downloading rapidfuzz-3.12.1-cp311-cp311-manylinux_2_17_x86_64.manylinux2014_x86_64.whl (3.1 MB)\n",
            "\u001b[2K   \u001b[90m━━━━━━━━━━━━━━━━━━━━━━━━━━━━━━━━━━━━━━━━\u001b[0m \u001b[32m3.1/3.1 MB\u001b[0m \u001b[31m26.6 MB/s\u001b[0m eta \u001b[36m0:00:00\u001b[0m\n",
            "\u001b[?25hDownloading unstructured-0.16.23-py3-none-any.whl (1.8 MB)\n",
            "\u001b[2K   \u001b[90m━━━━━━━━━━━━━━━━━━━━━━━━━━━━━━━━━━━━━━━━\u001b[0m \u001b[32m1.8/1.8 MB\u001b[0m \u001b[31m65.2 MB/s\u001b[0m eta \u001b[36m0:00:00\u001b[0m\n",
            "\u001b[?25hDownloading unstructured_client-0.30.3-py3-none-any.whl (113 kB)\n",
            "\u001b[2K   \u001b[90m━━━━━━━━━━━━━━━━━━━━━━━━━━━━━━━━━━━━━━━━\u001b[0m \u001b[32m113.6/113.6 kB\u001b[0m \u001b[31m7.8 MB/s\u001b[0m eta \u001b[36m0:00:00\u001b[0m\n",
            "\u001b[?25hDownloading aiofiles-24.1.0-py3-none-any.whl (15 kB)\n",
            "Downloading eval_type_backport-0.2.2-py3-none-any.whl (5.8 kB)\n",
            "Downloading marshmallow-3.26.1-py3-none-any.whl (50 kB)\n",
            "\u001b[2K   \u001b[90m━━━━━━━━━━━━━━━━━━━━━━━━━━━━━━━━━━━━━━━━\u001b[0m \u001b[32m50.9/50.9 kB\u001b[0m \u001b[31m4.1 MB/s\u001b[0m eta \u001b[36m0:00:00\u001b[0m\n",
            "\u001b[?25hDownloading omegaconf-2.3.0-py3-none-any.whl (79 kB)\n",
            "\u001b[2K   \u001b[90m━━━━━━━━━━━━━━━━━━━━━━━━━━━━━━━━━━━━━━━━\u001b[0m \u001b[32m79.5/79.5 kB\u001b[0m \u001b[31m6.7 MB/s\u001b[0m eta \u001b[36m0:00:00\u001b[0m\n",
            "\u001b[?25hDownloading onnxruntime-1.20.1-cp311-cp311-manylinux_2_27_x86_64.manylinux_2_28_x86_64.whl (13.3 MB)\n",
            "\u001b[2K   \u001b[90m━━━━━━━━━━━━━━━━━━━━━━━━━━━━━━━━━━━━━━━━\u001b[0m \u001b[32m13.3/13.3 MB\u001b[0m \u001b[31m67.3 MB/s\u001b[0m eta \u001b[36m0:00:00\u001b[0m\n",
            "\u001b[?25hDownloading nvidia_cublas_cu12-12.4.5.8-py3-none-manylinux2014_x86_64.whl (363.4 MB)\n",
            "\u001b[2K   \u001b[90m━━━━━━━━━━━━━━━━━━━━━━━━━━━━━━━━━━━━━━━━\u001b[0m \u001b[32m363.4/363.4 MB\u001b[0m \u001b[31m1.3 MB/s\u001b[0m eta \u001b[36m0:00:00\u001b[0m\n",
            "\u001b[?25hDownloading nvidia_cuda_cupti_cu12-12.4.127-py3-none-manylinux2014_x86_64.whl (13.8 MB)\n",
            "\u001b[2K   \u001b[90m━━━━━━━━━━━━━━━━━━━━━━━━━━━━━━━━━━━━━━━━\u001b[0m \u001b[32m13.8/13.8 MB\u001b[0m \u001b[31m93.7 MB/s\u001b[0m eta \u001b[36m0:00:00\u001b[0m\n",
            "\u001b[?25hDownloading nvidia_cuda_nvrtc_cu12-12.4.127-py3-none-manylinux2014_x86_64.whl (24.6 MB)\n",
            "\u001b[2K   \u001b[90m━━━━━━━━━━━━━━━━━━━━━━━━━━━━━━━━━━━━━━━━\u001b[0m \u001b[32m24.6/24.6 MB\u001b[0m \u001b[31m60.8 MB/s\u001b[0m eta \u001b[36m0:00:00\u001b[0m\n",
            "\u001b[?25hDownloading nvidia_cuda_runtime_cu12-12.4.127-py3-none-manylinux2014_x86_64.whl (883 kB)\n",
            "\u001b[2K   \u001b[90m━━━━━━━━━━━━━━━━━━━━━━━━━━━━━━━━━━━━━━━━\u001b[0m \u001b[32m883.7/883.7 kB\u001b[0m \u001b[31m44.0 MB/s\u001b[0m eta \u001b[36m0:00:00\u001b[0m\n",
            "\u001b[?25hDownloading nvidia_cudnn_cu12-9.1.0.70-py3-none-manylinux2014_x86_64.whl (664.8 MB)\n",
            "\u001b[2K   \u001b[90m━━━━━━━━━━━━━━━━━━━━━━━━━━━━━━━━━━━━━━━━\u001b[0m \u001b[32m664.8/664.8 MB\u001b[0m \u001b[31m1.4 MB/s\u001b[0m eta \u001b[36m0:00:00\u001b[0m\n",
            "\u001b[?25hDownloading nvidia_cufft_cu12-11.2.1.3-py3-none-manylinux2014_x86_64.whl (211.5 MB)\n",
            "\u001b[2K   \u001b[90m━━━━━━━━━━━━━━━━━━━━━━━━━━━━━━━━━━━━━━━━\u001b[0m \u001b[32m211.5/211.5 MB\u001b[0m \u001b[31m6.1 MB/s\u001b[0m eta \u001b[36m0:00:00\u001b[0m\n",
            "\u001b[?25hDownloading nvidia_curand_cu12-10.3.5.147-py3-none-manylinux2014_x86_64.whl (56.3 MB)\n",
            "\u001b[2K   \u001b[90m━━━━━━━━━━━━━━━━━━━━━━━━━━━━━━━━━━━━━━━━\u001b[0m \u001b[32m56.3/56.3 MB\u001b[0m \u001b[31m11.0 MB/s\u001b[0m eta \u001b[36m0:00:00\u001b[0m\n",
            "\u001b[?25hDownloading nvidia_cusolver_cu12-11.6.1.9-py3-none-manylinux2014_x86_64.whl (127.9 MB)\n",
            "\u001b[2K   \u001b[90m━━━━━━━━━━━━━━━━━━━━━━━━━━━━━━━━━━━━━━━━\u001b[0m \u001b[32m127.9/127.9 MB\u001b[0m \u001b[31m7.0 MB/s\u001b[0m eta \u001b[36m0:00:00\u001b[0m\n",
            "\u001b[?25hDownloading nvidia_cusparse_cu12-12.3.1.170-py3-none-manylinux2014_x86_64.whl (207.5 MB)\n",
            "\u001b[2K   \u001b[90m━━━━━━━━━━━━━━━━━━━━━━━━━━━━━━━━━━━━━━━━\u001b[0m \u001b[32m207.5/207.5 MB\u001b[0m \u001b[31m5.3 MB/s\u001b[0m eta \u001b[36m0:00:00\u001b[0m\n",
            "\u001b[?25hDownloading nvidia_nvjitlink_cu12-12.4.127-py3-none-manylinux2014_x86_64.whl (21.1 MB)\n",
            "\u001b[2K   \u001b[90m━━━━━━━━━━━━━━━━━━━━━━━━━━━━━━━━━━━━━━━━\u001b[0m \u001b[32m21.1/21.1 MB\u001b[0m \u001b[31m72.2 MB/s\u001b[0m eta \u001b[36m0:00:00\u001b[0m\n",
            "\u001b[?25hDownloading typing_inspect-0.9.0-py3-none-any.whl (8.8 kB)\n",
            "Downloading XlsxWriter-3.2.2-py3-none-any.whl (165 kB)\n",
            "\u001b[2K   \u001b[90m━━━━━━━━━━━━━━━━━━━━━━━━━━━━━━━━━━━━━━━━\u001b[0m \u001b[32m165.1/165.1 kB\u001b[0m \u001b[31m15.2 MB/s\u001b[0m eta \u001b[36m0:00:00\u001b[0m\n",
            "\u001b[?25hDownloading olefile-0.47-py2.py3-none-any.whl (114 kB)\n",
            "\u001b[2K   \u001b[90m━━━━━━━━━━━━━━━━━━━━━━━━━━━━━━━━━━━━━━━━\u001b[0m \u001b[32m114.6/114.6 kB\u001b[0m \u001b[31m10.3 MB/s\u001b[0m eta \u001b[36m0:00:00\u001b[0m\n",
            "\u001b[?25hDownloading pypdfium2-4.30.1-py3-none-manylinux_2_17_x86_64.manylinux2014_x86_64.whl (2.9 MB)\n",
            "\u001b[2K   \u001b[90m━━━━━━━━━━━━━━━━━━━━━━━━━━━━━━━━━━━━━━━━\u001b[0m \u001b[32m2.9/2.9 MB\u001b[0m \u001b[31m78.7 MB/s\u001b[0m eta \u001b[36m0:00:00\u001b[0m\n",
            "\u001b[?25hDownloading python_multipart-0.0.20-py3-none-any.whl (24 kB)\n",
            "Downloading mypy_extensions-1.0.0-py3-none-any.whl (4.7 kB)\n",
            "Downloading coloredlogs-15.0.1-py2.py3-none-any.whl (46 kB)\n",
            "\u001b[2K   \u001b[90m━━━━━━━━━━━━━━━━━━━━━━━━━━━━━━━━━━━━━━━━\u001b[0m \u001b[32m46.0/46.0 kB\u001b[0m \u001b[31m3.4 MB/s\u001b[0m eta \u001b[36m0:00:00\u001b[0m\n",
            "\u001b[?25hDownloading humanfriendly-10.0-py2.py3-none-any.whl (86 kB)\n",
            "\u001b[2K   \u001b[90m━━━━━━━━━━━━━━━━━━━━━━━━━━━━━━━━━━━━━━━━\u001b[0m \u001b[32m86.8/86.8 kB\u001b[0m \u001b[31m7.7 MB/s\u001b[0m eta \u001b[36m0:00:00\u001b[0m\n",
            "\u001b[?25hBuilding wheels for collected packages: langdetect, antlr4-python3-runtime\n",
            "  Building wheel for langdetect (setup.py) ... \u001b[?25l\u001b[?25hdone\n",
            "  Created wheel for langdetect: filename=langdetect-1.0.9-py3-none-any.whl size=993222 sha256=03658bf55c8c9067b59fd5d1c537b3bf57995615cdbf56bd3704e57b46af88c3\n",
            "  Stored in directory: /root/.cache/pip/wheels/0a/f2/b2/e5ca405801e05eb7c8ed5b3b4bcf1fcabcd6272c167640072e\n",
            "  Building wheel for antlr4-python3-runtime (setup.py) ... \u001b[?25l\u001b[?25hdone\n",
            "  Created wheel for antlr4-python3-runtime: filename=antlr4_python3_runtime-4.9.3-py3-none-any.whl size=144555 sha256=c45733bc6b3aab52a09e4b5c93fd0d65fad51441122435ec809ea2a99f6a515a\n",
            "  Stored in directory: /root/.cache/pip/wheels/1a/97/32/461f837398029ad76911109f07047fde1d7b661a147c7c56d1\n",
            "Successfully built langdetect antlr4-python3-runtime\n",
            "Installing collected packages: filetype, antlr4-python3-runtime, XlsxWriter, unstructured.pytesseract, rapidfuzz, python-multipart, python-magic, python-iso639, python-docx, pypdfium2, pypdf, pypandoc, pi-heif, pdf2image, onnx, omegaconf, olefile, nvidia-nvjitlink-cu12, nvidia-curand-cu12, nvidia-cufft-cu12, nvidia-cuda-runtime-cu12, nvidia-cuda-nvrtc-cu12, nvidia-cuda-cupti-cu12, nvidia-cublas-cu12, mypy-extensions, marshmallow, langdetect, humanfriendly, eval-type-backport, emoji, backoff, aiofiles, typing-inspect, python-pptx, python-oxmsg, pikepdf, nvidia-cusparse-cu12, nvidia-cudnn-cu12, coloredlogs, unstructured-client, pdfminer.six, onnxruntime, nvidia-cusolver-cu12, dataclasses-json, unstructured, google-cloud-vision, unstructured-inference, effdet\n",
            "  Attempting uninstall: nvidia-nvjitlink-cu12\n",
            "    Found existing installation: nvidia-nvjitlink-cu12 12.5.82\n",
            "    Uninstalling nvidia-nvjitlink-cu12-12.5.82:\n",
            "      Successfully uninstalled nvidia-nvjitlink-cu12-12.5.82\n",
            "  Attempting uninstall: nvidia-curand-cu12\n",
            "    Found existing installation: nvidia-curand-cu12 10.3.6.82\n",
            "    Uninstalling nvidia-curand-cu12-10.3.6.82:\n",
            "      Successfully uninstalled nvidia-curand-cu12-10.3.6.82\n",
            "  Attempting uninstall: nvidia-cufft-cu12\n",
            "    Found existing installation: nvidia-cufft-cu12 11.2.3.61\n",
            "    Uninstalling nvidia-cufft-cu12-11.2.3.61:\n",
            "      Successfully uninstalled nvidia-cufft-cu12-11.2.3.61\n",
            "  Attempting uninstall: nvidia-cuda-runtime-cu12\n",
            "    Found existing installation: nvidia-cuda-runtime-cu12 12.5.82\n",
            "    Uninstalling nvidia-cuda-runtime-cu12-12.5.82:\n",
            "      Successfully uninstalled nvidia-cuda-runtime-cu12-12.5.82\n",
            "  Attempting uninstall: nvidia-cuda-nvrtc-cu12\n",
            "    Found existing installation: nvidia-cuda-nvrtc-cu12 12.5.82\n",
            "    Uninstalling nvidia-cuda-nvrtc-cu12-12.5.82:\n",
            "      Successfully uninstalled nvidia-cuda-nvrtc-cu12-12.5.82\n",
            "  Attempting uninstall: nvidia-cuda-cupti-cu12\n",
            "    Found existing installation: nvidia-cuda-cupti-cu12 12.5.82\n",
            "    Uninstalling nvidia-cuda-cupti-cu12-12.5.82:\n",
            "      Successfully uninstalled nvidia-cuda-cupti-cu12-12.5.82\n",
            "  Attempting uninstall: nvidia-cublas-cu12\n",
            "    Found existing installation: nvidia-cublas-cu12 12.5.3.2\n",
            "    Uninstalling nvidia-cublas-cu12-12.5.3.2:\n",
            "      Successfully uninstalled nvidia-cublas-cu12-12.5.3.2\n",
            "  Attempting uninstall: nvidia-cusparse-cu12\n",
            "    Found existing installation: nvidia-cusparse-cu12 12.5.1.3\n",
            "    Uninstalling nvidia-cusparse-cu12-12.5.1.3:\n",
            "      Successfully uninstalled nvidia-cusparse-cu12-12.5.1.3\n",
            "  Attempting uninstall: nvidia-cudnn-cu12\n",
            "    Found existing installation: nvidia-cudnn-cu12 9.3.0.75\n",
            "    Uninstalling nvidia-cudnn-cu12-9.3.0.75:\n",
            "      Successfully uninstalled nvidia-cudnn-cu12-9.3.0.75\n",
            "  Attempting uninstall: nvidia-cusolver-cu12\n",
            "    Found existing installation: nvidia-cusolver-cu12 11.6.3.83\n",
            "    Uninstalling nvidia-cusolver-cu12-11.6.3.83:\n",
            "      Successfully uninstalled nvidia-cusolver-cu12-11.6.3.83\n",
            "Successfully installed XlsxWriter-3.2.2 aiofiles-24.1.0 antlr4-python3-runtime-4.9.3 backoff-2.2.1 coloredlogs-15.0.1 dataclasses-json-0.6.7 effdet-0.4.1 emoji-2.14.1 eval-type-backport-0.2.2 filetype-1.2.0 google-cloud-vision-3.10.0 humanfriendly-10.0 langdetect-1.0.9 marshmallow-3.26.1 mypy-extensions-1.0.0 nvidia-cublas-cu12-12.4.5.8 nvidia-cuda-cupti-cu12-12.4.127 nvidia-cuda-nvrtc-cu12-12.4.127 nvidia-cuda-runtime-cu12-12.4.127 nvidia-cudnn-cu12-9.1.0.70 nvidia-cufft-cu12-11.2.1.3 nvidia-curand-cu12-10.3.5.147 nvidia-cusolver-cu12-11.6.1.9 nvidia-cusparse-cu12-12.3.1.170 nvidia-nvjitlink-cu12-12.4.127 olefile-0.47 omegaconf-2.3.0 onnx-1.17.0 onnxruntime-1.20.1 pdf2image-1.17.0 pdfminer.six-20240706 pi-heif-0.21.0 pikepdf-9.5.2 pypandoc-1.15 pypdf-5.3.0 pypdfium2-4.30.1 python-docx-1.1.2 python-iso639-2025.2.18 python-magic-0.4.27 python-multipart-0.0.20 python-oxmsg-0.0.2 python-pptx-1.0.2 rapidfuzz-3.12.1 typing-inspect-0.9.0 unstructured-0.16.23 unstructured-client-0.30.3 unstructured-inference-0.8.7 unstructured.pytesseract-0.3.13\n"
          ]
        },
        {
          "output_type": "display_data",
          "data": {
            "application/vnd.colab-display-data+json": {
              "pip_warning": {
                "packages": [
                  "google",
                  "pydevd_plugins"
                ]
              },
              "id": "639610c32c224c77950555709af6be37"
            }
          },
          "metadata": {}
        },
        {
          "output_type": "stream",
          "name": "stdout",
          "text": [
            "Requirement already satisfied: unstructured[openai] in /usr/local/lib/python3.11/dist-packages (0.16.23)\n",
            "\u001b[33mWARNING: unstructured 0.16.23 does not provide the extra 'openai'\u001b[0m\u001b[33m\n",
            "\u001b[0mRequirement already satisfied: chardet in /usr/local/lib/python3.11/dist-packages (from unstructured[openai]) (5.2.0)\n",
            "Requirement already satisfied: filetype in /usr/local/lib/python3.11/dist-packages (from unstructured[openai]) (1.2.0)\n",
            "Requirement already satisfied: python-magic in /usr/local/lib/python3.11/dist-packages (from unstructured[openai]) (0.4.27)\n",
            "Requirement already satisfied: lxml in /usr/local/lib/python3.11/dist-packages (from unstructured[openai]) (5.3.1)\n",
            "Requirement already satisfied: nltk in /usr/local/lib/python3.11/dist-packages (from unstructured[openai]) (3.9.1)\n",
            "Requirement already satisfied: requests in /usr/local/lib/python3.11/dist-packages (from unstructured[openai]) (2.32.3)\n",
            "Requirement already satisfied: beautifulsoup4 in /usr/local/lib/python3.11/dist-packages (from unstructured[openai]) (4.13.3)\n",
            "Requirement already satisfied: emoji in /usr/local/lib/python3.11/dist-packages (from unstructured[openai]) (2.14.1)\n",
            "Requirement already satisfied: dataclasses-json in /usr/local/lib/python3.11/dist-packages (from unstructured[openai]) (0.6.7)\n",
            "Requirement already satisfied: python-iso639 in /usr/local/lib/python3.11/dist-packages (from unstructured[openai]) (2025.2.18)\n",
            "Requirement already satisfied: langdetect in /usr/local/lib/python3.11/dist-packages (from unstructured[openai]) (1.0.9)\n",
            "Requirement already satisfied: numpy<2 in /usr/local/lib/python3.11/dist-packages (from unstructured[openai]) (1.26.4)\n",
            "Requirement already satisfied: rapidfuzz in /usr/local/lib/python3.11/dist-packages (from unstructured[openai]) (3.12.1)\n",
            "Requirement already satisfied: backoff in /usr/local/lib/python3.11/dist-packages (from unstructured[openai]) (2.2.1)\n",
            "Requirement already satisfied: typing-extensions in /usr/local/lib/python3.11/dist-packages (from unstructured[openai]) (4.12.2)\n",
            "Requirement already satisfied: unstructured-client in /usr/local/lib/python3.11/dist-packages (from unstructured[openai]) (0.30.3)\n",
            "Requirement already satisfied: wrapt in /usr/local/lib/python3.11/dist-packages (from unstructured[openai]) (1.17.2)\n",
            "Requirement already satisfied: tqdm in /usr/local/lib/python3.11/dist-packages (from unstructured[openai]) (4.67.1)\n",
            "Requirement already satisfied: psutil in /usr/local/lib/python3.11/dist-packages (from unstructured[openai]) (5.9.5)\n",
            "Requirement already satisfied: python-oxmsg in /usr/local/lib/python3.11/dist-packages (from unstructured[openai]) (0.0.2)\n",
            "Requirement already satisfied: html5lib in /usr/local/lib/python3.11/dist-packages (from unstructured[openai]) (1.1)\n",
            "Requirement already satisfied: soupsieve>1.2 in /usr/local/lib/python3.11/dist-packages (from beautifulsoup4->unstructured[openai]) (2.6)\n",
            "Requirement already satisfied: marshmallow<4.0.0,>=3.18.0 in /usr/local/lib/python3.11/dist-packages (from dataclasses-json->unstructured[openai]) (3.26.1)\n",
            "Requirement already satisfied: typing-inspect<1,>=0.4.0 in /usr/local/lib/python3.11/dist-packages (from dataclasses-json->unstructured[openai]) (0.9.0)\n",
            "Requirement already satisfied: six>=1.9 in /usr/local/lib/python3.11/dist-packages (from html5lib->unstructured[openai]) (1.17.0)\n",
            "Requirement already satisfied: webencodings in /usr/local/lib/python3.11/dist-packages (from html5lib->unstructured[openai]) (0.5.1)\n",
            "Requirement already satisfied: click in /usr/local/lib/python3.11/dist-packages (from nltk->unstructured[openai]) (8.1.8)\n",
            "Requirement already satisfied: joblib in /usr/local/lib/python3.11/dist-packages (from nltk->unstructured[openai]) (1.4.2)\n",
            "Requirement already satisfied: regex>=2021.8.3 in /usr/local/lib/python3.11/dist-packages (from nltk->unstructured[openai]) (2024.11.6)\n",
            "Requirement already satisfied: olefile in /usr/local/lib/python3.11/dist-packages (from python-oxmsg->unstructured[openai]) (0.47)\n",
            "Requirement already satisfied: charset-normalizer<4,>=2 in /usr/local/lib/python3.11/dist-packages (from requests->unstructured[openai]) (3.4.1)\n",
            "Requirement already satisfied: idna<4,>=2.5 in /usr/local/lib/python3.11/dist-packages (from requests->unstructured[openai]) (3.10)\n",
            "Requirement already satisfied: urllib3<3,>=1.21.1 in /usr/local/lib/python3.11/dist-packages (from requests->unstructured[openai]) (2.3.0)\n",
            "Requirement already satisfied: certifi>=2017.4.17 in /usr/local/lib/python3.11/dist-packages (from requests->unstructured[openai]) (2025.1.31)\n",
            "Requirement already satisfied: aiofiles>=24.1.0 in /usr/local/lib/python3.11/dist-packages (from unstructured-client->unstructured[openai]) (24.1.0)\n",
            "Requirement already satisfied: cryptography>=3.1 in /usr/local/lib/python3.11/dist-packages (from unstructured-client->unstructured[openai]) (43.0.3)\n",
            "Requirement already satisfied: eval-type-backport>=0.2.0 in /usr/local/lib/python3.11/dist-packages (from unstructured-client->unstructured[openai]) (0.2.2)\n",
            "Requirement already satisfied: httpx>=0.27.0 in /usr/local/lib/python3.11/dist-packages (from unstructured-client->unstructured[openai]) (0.28.1)\n",
            "Requirement already satisfied: nest-asyncio>=1.6.0 in /usr/local/lib/python3.11/dist-packages (from unstructured-client->unstructured[openai]) (1.6.0)\n",
            "Requirement already satisfied: pydantic>=2.10.3 in /usr/local/lib/python3.11/dist-packages (from unstructured-client->unstructured[openai]) (2.10.6)\n",
            "Requirement already satisfied: pypdf>=4.0 in /usr/local/lib/python3.11/dist-packages (from unstructured-client->unstructured[openai]) (5.3.0)\n",
            "Requirement already satisfied: python-dateutil>=2.8.2 in /usr/local/lib/python3.11/dist-packages (from unstructured-client->unstructured[openai]) (2.8.2)\n",
            "Requirement already satisfied: requests-toolbelt>=1.0.0 in /usr/local/lib/python3.11/dist-packages (from unstructured-client->unstructured[openai]) (1.0.0)\n",
            "Requirement already satisfied: cffi>=1.12 in /usr/local/lib/python3.11/dist-packages (from cryptography>=3.1->unstructured-client->unstructured[openai]) (1.17.1)\n",
            "Requirement already satisfied: anyio in /usr/local/lib/python3.11/dist-packages (from httpx>=0.27.0->unstructured-client->unstructured[openai]) (3.7.1)\n",
            "Requirement already satisfied: httpcore==1.* in /usr/local/lib/python3.11/dist-packages (from httpx>=0.27.0->unstructured-client->unstructured[openai]) (1.0.7)\n",
            "Requirement already satisfied: h11<0.15,>=0.13 in /usr/local/lib/python3.11/dist-packages (from httpcore==1.*->httpx>=0.27.0->unstructured-client->unstructured[openai]) (0.14.0)\n",
            "Requirement already satisfied: packaging>=17.0 in /usr/local/lib/python3.11/dist-packages (from marshmallow<4.0.0,>=3.18.0->dataclasses-json->unstructured[openai]) (24.2)\n",
            "Requirement already satisfied: annotated-types>=0.6.0 in /usr/local/lib/python3.11/dist-packages (from pydantic>=2.10.3->unstructured-client->unstructured[openai]) (0.7.0)\n",
            "Requirement already satisfied: pydantic-core==2.27.2 in /usr/local/lib/python3.11/dist-packages (from pydantic>=2.10.3->unstructured-client->unstructured[openai]) (2.27.2)\n",
            "Requirement already satisfied: mypy-extensions>=0.3.0 in /usr/local/lib/python3.11/dist-packages (from typing-inspect<1,>=0.4.0->dataclasses-json->unstructured[openai]) (1.0.0)\n",
            "Requirement already satisfied: pycparser in /usr/local/lib/python3.11/dist-packages (from cffi>=1.12->cryptography>=3.1->unstructured-client->unstructured[openai]) (2.22)\n",
            "Requirement already satisfied: sniffio>=1.1 in /usr/local/lib/python3.11/dist-packages (from anyio->httpx>=0.27.0->unstructured-client->unstructured[openai]) (1.3.1)\n",
            "Requirement already satisfied: langchain in /usr/local/lib/python3.11/dist-packages (0.3.18)\n",
            "Requirement already satisfied: langchain-core<1.0.0,>=0.3.34 in /usr/local/lib/python3.11/dist-packages (from langchain) (0.3.35)\n",
            "Requirement already satisfied: langchain-text-splitters<1.0.0,>=0.3.6 in /usr/local/lib/python3.11/dist-packages (from langchain) (0.3.6)\n",
            "Requirement already satisfied: langsmith<0.4,>=0.1.17 in /usr/local/lib/python3.11/dist-packages (from langchain) (0.3.8)\n",
            "Requirement already satisfied: pydantic<3.0.0,>=2.7.4 in /usr/local/lib/python3.11/dist-packages (from langchain) (2.10.6)\n",
            "Requirement already satisfied: SQLAlchemy<3,>=1.4 in /usr/local/lib/python3.11/dist-packages (from langchain) (2.0.38)\n",
            "Requirement already satisfied: requests<3,>=2 in /usr/local/lib/python3.11/dist-packages (from langchain) (2.32.3)\n",
            "Requirement already satisfied: PyYAML>=5.3 in /usr/local/lib/python3.11/dist-packages (from langchain) (6.0.2)\n",
            "Requirement already satisfied: aiohttp<4.0.0,>=3.8.3 in /usr/local/lib/python3.11/dist-packages (from langchain) (3.11.12)\n",
            "Requirement already satisfied: tenacity!=8.4.0,<10,>=8.1.0 in /usr/local/lib/python3.11/dist-packages (from langchain) (9.0.0)\n",
            "Requirement already satisfied: numpy<2,>=1.26.4 in /usr/local/lib/python3.11/dist-packages (from langchain) (1.26.4)\n",
            "Requirement already satisfied: aiohappyeyeballs>=2.3.0 in /usr/local/lib/python3.11/dist-packages (from aiohttp<4.0.0,>=3.8.3->langchain) (2.4.6)\n",
            "Requirement already satisfied: aiosignal>=1.1.2 in /usr/local/lib/python3.11/dist-packages (from aiohttp<4.0.0,>=3.8.3->langchain) (1.3.2)\n",
            "Requirement already satisfied: attrs>=17.3.0 in /usr/local/lib/python3.11/dist-packages (from aiohttp<4.0.0,>=3.8.3->langchain) (25.1.0)\n",
            "Requirement already satisfied: frozenlist>=1.1.1 in /usr/local/lib/python3.11/dist-packages (from aiohttp<4.0.0,>=3.8.3->langchain) (1.5.0)\n",
            "Requirement already satisfied: multidict<7.0,>=4.5 in /usr/local/lib/python3.11/dist-packages (from aiohttp<4.0.0,>=3.8.3->langchain) (6.1.0)\n",
            "Requirement already satisfied: propcache>=0.2.0 in /usr/local/lib/python3.11/dist-packages (from aiohttp<4.0.0,>=3.8.3->langchain) (0.2.1)\n",
            "Requirement already satisfied: yarl<2.0,>=1.17.0 in /usr/local/lib/python3.11/dist-packages (from aiohttp<4.0.0,>=3.8.3->langchain) (1.18.3)\n",
            "Requirement already satisfied: jsonpatch<2.0,>=1.33 in /usr/local/lib/python3.11/dist-packages (from langchain-core<1.0.0,>=0.3.34->langchain) (1.33)\n",
            "Requirement already satisfied: packaging<25,>=23.2 in /usr/local/lib/python3.11/dist-packages (from langchain-core<1.0.0,>=0.3.34->langchain) (24.2)\n",
            "Requirement already satisfied: typing-extensions>=4.7 in /usr/local/lib/python3.11/dist-packages (from langchain-core<1.0.0,>=0.3.34->langchain) (4.12.2)\n",
            "Requirement already satisfied: httpx<1,>=0.23.0 in /usr/local/lib/python3.11/dist-packages (from langsmith<0.4,>=0.1.17->langchain) (0.28.1)\n",
            "Requirement already satisfied: orjson<4.0.0,>=3.9.14 in /usr/local/lib/python3.11/dist-packages (from langsmith<0.4,>=0.1.17->langchain) (3.10.15)\n",
            "Requirement already satisfied: requests-toolbelt<2.0.0,>=1.0.0 in /usr/local/lib/python3.11/dist-packages (from langsmith<0.4,>=0.1.17->langchain) (1.0.0)\n",
            "Requirement already satisfied: zstandard<0.24.0,>=0.23.0 in /usr/local/lib/python3.11/dist-packages (from langsmith<0.4,>=0.1.17->langchain) (0.23.0)\n",
            "Requirement already satisfied: annotated-types>=0.6.0 in /usr/local/lib/python3.11/dist-packages (from pydantic<3.0.0,>=2.7.4->langchain) (0.7.0)\n",
            "Requirement already satisfied: pydantic-core==2.27.2 in /usr/local/lib/python3.11/dist-packages (from pydantic<3.0.0,>=2.7.4->langchain) (2.27.2)\n",
            "Requirement already satisfied: charset-normalizer<4,>=2 in /usr/local/lib/python3.11/dist-packages (from requests<3,>=2->langchain) (3.4.1)\n",
            "Requirement already satisfied: idna<4,>=2.5 in /usr/local/lib/python3.11/dist-packages (from requests<3,>=2->langchain) (3.10)\n",
            "Requirement already satisfied: urllib3<3,>=1.21.1 in /usr/local/lib/python3.11/dist-packages (from requests<3,>=2->langchain) (2.3.0)\n",
            "Requirement already satisfied: certifi>=2017.4.17 in /usr/local/lib/python3.11/dist-packages (from requests<3,>=2->langchain) (2025.1.31)\n",
            "Requirement already satisfied: greenlet!=0.4.17 in /usr/local/lib/python3.11/dist-packages (from SQLAlchemy<3,>=1.4->langchain) (3.1.1)\n",
            "Requirement already satisfied: anyio in /usr/local/lib/python3.11/dist-packages (from httpx<1,>=0.23.0->langsmith<0.4,>=0.1.17->langchain) (3.7.1)\n",
            "Requirement already satisfied: httpcore==1.* in /usr/local/lib/python3.11/dist-packages (from httpx<1,>=0.23.0->langsmith<0.4,>=0.1.17->langchain) (1.0.7)\n",
            "Requirement already satisfied: h11<0.15,>=0.13 in /usr/local/lib/python3.11/dist-packages (from httpcore==1.*->httpx<1,>=0.23.0->langsmith<0.4,>=0.1.17->langchain) (0.14.0)\n",
            "Requirement already satisfied: jsonpointer>=1.9 in /usr/local/lib/python3.11/dist-packages (from jsonpatch<2.0,>=1.33->langchain-core<1.0.0,>=0.3.34->langchain) (3.0.0)\n",
            "Requirement already satisfied: sniffio>=1.1 in /usr/local/lib/python3.11/dist-packages (from anyio->httpx<1,>=0.23.0->langsmith<0.4,>=0.1.17->langchain) (1.3.1)\n",
            "Collecting chromadb\n",
            "  Downloading chromadb-0.6.3-py3-none-any.whl.metadata (6.8 kB)\n",
            "Collecting build>=1.0.3 (from chromadb)\n",
            "  Downloading build-1.2.2.post1-py3-none-any.whl.metadata (6.5 kB)\n",
            "Requirement already satisfied: pydantic>=1.9 in /usr/local/lib/python3.11/dist-packages (from chromadb) (2.10.6)\n",
            "Collecting chroma-hnswlib==0.7.6 (from chromadb)\n",
            "  Downloading chroma_hnswlib-0.7.6-cp311-cp311-manylinux_2_17_x86_64.manylinux2014_x86_64.whl.metadata (252 bytes)\n",
            "Collecting fastapi>=0.95.2 (from chromadb)\n",
            "  Downloading fastapi-0.115.8-py3-none-any.whl.metadata (27 kB)\n",
            "Collecting uvicorn>=0.18.3 (from uvicorn[standard]>=0.18.3->chromadb)\n",
            "  Downloading uvicorn-0.34.0-py3-none-any.whl.metadata (6.5 kB)\n",
            "Requirement already satisfied: numpy>=1.22.5 in /usr/local/lib/python3.11/dist-packages (from chromadb) (1.26.4)\n",
            "Collecting posthog>=2.4.0 (from chromadb)\n",
            "  Downloading posthog-3.14.2-py2.py3-none-any.whl.metadata (2.9 kB)\n",
            "Requirement already satisfied: typing_extensions>=4.5.0 in /usr/local/lib/python3.11/dist-packages (from chromadb) (4.12.2)\n",
            "Requirement already satisfied: onnxruntime>=1.14.1 in /usr/local/lib/python3.11/dist-packages (from chromadb) (1.20.1)\n",
            "Requirement already satisfied: opentelemetry-api>=1.2.0 in /usr/local/lib/python3.11/dist-packages (from chromadb) (1.16.0)\n",
            "Collecting opentelemetry-exporter-otlp-proto-grpc>=1.2.0 (from chromadb)\n",
            "  Downloading opentelemetry_exporter_otlp_proto_grpc-1.30.0-py3-none-any.whl.metadata (2.4 kB)\n",
            "Collecting opentelemetry-instrumentation-fastapi>=0.41b0 (from chromadb)\n",
            "  Downloading opentelemetry_instrumentation_fastapi-0.51b0-py3-none-any.whl.metadata (2.2 kB)\n",
            "Requirement already satisfied: opentelemetry-sdk>=1.2.0 in /usr/local/lib/python3.11/dist-packages (from chromadb) (1.16.0)\n",
            "Requirement already satisfied: tokenizers>=0.13.2 in /usr/local/lib/python3.11/dist-packages (from chromadb) (0.21.0)\n",
            "Collecting pypika>=0.48.9 (from chromadb)\n",
            "  Downloading PyPika-0.48.9.tar.gz (67 kB)\n",
            "\u001b[2K     \u001b[90m━━━━━━━━━━━━━━━━━━━━━━━━━━━━━━━━━━━━━━━━\u001b[0m \u001b[32m67.3/67.3 kB\u001b[0m \u001b[31m2.9 MB/s\u001b[0m eta \u001b[36m0:00:00\u001b[0m\n",
            "\u001b[?25h  Installing build dependencies ... \u001b[?25l\u001b[?25hdone\n",
            "  Getting requirements to build wheel ... \u001b[?25l\u001b[?25hdone\n",
            "  Preparing metadata (pyproject.toml) ... \u001b[?25l\u001b[?25hdone\n",
            "Requirement already satisfied: tqdm>=4.65.0 in /usr/local/lib/python3.11/dist-packages (from chromadb) (4.67.1)\n",
            "Collecting overrides>=7.3.1 (from chromadb)\n",
            "  Downloading overrides-7.7.0-py3-none-any.whl.metadata (5.8 kB)\n",
            "Requirement already satisfied: importlib-resources in /usr/local/lib/python3.11/dist-packages (from chromadb) (6.5.2)\n",
            "Requirement already satisfied: grpcio>=1.58.0 in /usr/local/lib/python3.11/dist-packages (from chromadb) (1.70.0)\n",
            "Collecting bcrypt>=4.0.1 (from chromadb)\n",
            "  Downloading bcrypt-4.2.1-cp39-abi3-manylinux_2_28_x86_64.whl.metadata (9.8 kB)\n",
            "Requirement already satisfied: typer>=0.9.0 in /usr/local/lib/python3.11/dist-packages (from chromadb) (0.15.1)\n",
            "Collecting kubernetes>=28.1.0 (from chromadb)\n",
            "  Downloading kubernetes-32.0.1-py2.py3-none-any.whl.metadata (1.7 kB)\n",
            "Requirement already satisfied: tenacity>=8.2.3 in /usr/local/lib/python3.11/dist-packages (from chromadb) (9.0.0)\n",
            "Requirement already satisfied: PyYAML>=6.0.0 in /usr/local/lib/python3.11/dist-packages (from chromadb) (6.0.2)\n",
            "Collecting mmh3>=4.0.1 (from chromadb)\n",
            "  Downloading mmh3-5.1.0-cp311-cp311-manylinux_2_5_x86_64.manylinux1_x86_64.manylinux_2_17_x86_64.manylinux2014_x86_64.whl.metadata (16 kB)\n",
            "Requirement already satisfied: orjson>=3.9.12 in /usr/local/lib/python3.11/dist-packages (from chromadb) (3.10.15)\n",
            "Requirement already satisfied: httpx>=0.27.0 in /usr/local/lib/python3.11/dist-packages (from chromadb) (0.28.1)\n",
            "Requirement already satisfied: rich>=10.11.0 in /usr/local/lib/python3.11/dist-packages (from chromadb) (13.9.4)\n",
            "Requirement already satisfied: packaging>=19.1 in /usr/local/lib/python3.11/dist-packages (from build>=1.0.3->chromadb) (24.2)\n",
            "Collecting pyproject_hooks (from build>=1.0.3->chromadb)\n",
            "  Downloading pyproject_hooks-1.2.0-py3-none-any.whl.metadata (1.3 kB)\n",
            "Collecting starlette<0.46.0,>=0.40.0 (from fastapi>=0.95.2->chromadb)\n",
            "  Downloading starlette-0.45.3-py3-none-any.whl.metadata (6.3 kB)\n",
            "Requirement already satisfied: anyio in /usr/local/lib/python3.11/dist-packages (from httpx>=0.27.0->chromadb) (3.7.1)\n",
            "Requirement already satisfied: certifi in /usr/local/lib/python3.11/dist-packages (from httpx>=0.27.0->chromadb) (2025.1.31)\n",
            "Requirement already satisfied: httpcore==1.* in /usr/local/lib/python3.11/dist-packages (from httpx>=0.27.0->chromadb) (1.0.7)\n",
            "Requirement already satisfied: idna in /usr/local/lib/python3.11/dist-packages (from httpx>=0.27.0->chromadb) (3.10)\n",
            "Requirement already satisfied: h11<0.15,>=0.13 in /usr/local/lib/python3.11/dist-packages (from httpcore==1.*->httpx>=0.27.0->chromadb) (0.14.0)\n",
            "Requirement already satisfied: six>=1.9.0 in /usr/local/lib/python3.11/dist-packages (from kubernetes>=28.1.0->chromadb) (1.17.0)\n",
            "Requirement already satisfied: python-dateutil>=2.5.3 in /usr/local/lib/python3.11/dist-packages (from kubernetes>=28.1.0->chromadb) (2.8.2)\n",
            "Requirement already satisfied: google-auth>=1.0.1 in /usr/local/lib/python3.11/dist-packages (from kubernetes>=28.1.0->chromadb) (2.27.0)\n",
            "Requirement already satisfied: websocket-client!=0.40.0,!=0.41.*,!=0.42.*,>=0.32.0 in /usr/local/lib/python3.11/dist-packages (from kubernetes>=28.1.0->chromadb) (1.8.0)\n",
            "Requirement already satisfied: requests in /usr/local/lib/python3.11/dist-packages (from kubernetes>=28.1.0->chromadb) (2.32.3)\n",
            "Requirement already satisfied: requests-oauthlib in /usr/local/lib/python3.11/dist-packages (from kubernetes>=28.1.0->chromadb) (2.0.0)\n",
            "Requirement already satisfied: oauthlib>=3.2.2 in /usr/local/lib/python3.11/dist-packages (from kubernetes>=28.1.0->chromadb) (3.2.2)\n",
            "Requirement already satisfied: urllib3>=1.24.2 in /usr/local/lib/python3.11/dist-packages (from kubernetes>=28.1.0->chromadb) (2.3.0)\n",
            "Collecting durationpy>=0.7 (from kubernetes>=28.1.0->chromadb)\n",
            "  Downloading durationpy-0.9-py3-none-any.whl.metadata (338 bytes)\n",
            "Requirement already satisfied: coloredlogs in /usr/local/lib/python3.11/dist-packages (from onnxruntime>=1.14.1->chromadb) (15.0.1)\n",
            "Requirement already satisfied: flatbuffers in /usr/local/lib/python3.11/dist-packages (from onnxruntime>=1.14.1->chromadb) (25.2.10)\n",
            "Requirement already satisfied: protobuf in /usr/local/lib/python3.11/dist-packages (from onnxruntime>=1.14.1->chromadb) (4.25.6)\n",
            "Requirement already satisfied: sympy in /usr/local/lib/python3.11/dist-packages (from onnxruntime>=1.14.1->chromadb) (1.13.1)\n",
            "Requirement already satisfied: deprecated>=1.2.6 in /usr/local/lib/python3.11/dist-packages (from opentelemetry-api>=1.2.0->chromadb) (1.2.18)\n",
            "Requirement already satisfied: setuptools>=16.0 in /usr/local/lib/python3.11/dist-packages (from opentelemetry-api>=1.2.0->chromadb) (75.1.0)\n",
            "Requirement already satisfied: googleapis-common-protos~=1.52 in /usr/local/lib/python3.11/dist-packages (from opentelemetry-exporter-otlp-proto-grpc>=1.2.0->chromadb) (1.67.0)\n",
            "Collecting opentelemetry-exporter-otlp-proto-common==1.30.0 (from opentelemetry-exporter-otlp-proto-grpc>=1.2.0->chromadb)\n",
            "  Downloading opentelemetry_exporter_otlp_proto_common-1.30.0-py3-none-any.whl.metadata (1.9 kB)\n",
            "Collecting opentelemetry-proto==1.30.0 (from opentelemetry-exporter-otlp-proto-grpc>=1.2.0->chromadb)\n",
            "  Downloading opentelemetry_proto-1.30.0-py3-none-any.whl.metadata (2.4 kB)\n",
            "Collecting opentelemetry-sdk>=1.2.0 (from chromadb)\n",
            "  Downloading opentelemetry_sdk-1.30.0-py3-none-any.whl.metadata (1.6 kB)\n",
            "Collecting protobuf (from onnxruntime>=1.14.1->chromadb)\n",
            "  Downloading protobuf-5.29.3-cp38-abi3-manylinux2014_x86_64.whl.metadata (592 bytes)\n",
            "Collecting opentelemetry-instrumentation-asgi==0.51b0 (from opentelemetry-instrumentation-fastapi>=0.41b0->chromadb)\n",
            "  Downloading opentelemetry_instrumentation_asgi-0.51b0-py3-none-any.whl.metadata (2.1 kB)\n",
            "Collecting opentelemetry-instrumentation==0.51b0 (from opentelemetry-instrumentation-fastapi>=0.41b0->chromadb)\n",
            "  Downloading opentelemetry_instrumentation-0.51b0-py3-none-any.whl.metadata (6.3 kB)\n",
            "Collecting opentelemetry-semantic-conventions==0.51b0 (from opentelemetry-instrumentation-fastapi>=0.41b0->chromadb)\n",
            "  Downloading opentelemetry_semantic_conventions-0.51b0-py3-none-any.whl.metadata (2.5 kB)\n",
            "Collecting opentelemetry-util-http==0.51b0 (from opentelemetry-instrumentation-fastapi>=0.41b0->chromadb)\n",
            "  Downloading opentelemetry_util_http-0.51b0-py3-none-any.whl.metadata (2.6 kB)\n",
            "Requirement already satisfied: wrapt<2.0.0,>=1.0.0 in /usr/local/lib/python3.11/dist-packages (from opentelemetry-instrumentation==0.51b0->opentelemetry-instrumentation-fastapi>=0.41b0->chromadb) (1.17.2)\n",
            "Collecting asgiref~=3.0 (from opentelemetry-instrumentation-asgi==0.51b0->opentelemetry-instrumentation-fastapi>=0.41b0->chromadb)\n",
            "  Downloading asgiref-3.8.1-py3-none-any.whl.metadata (9.3 kB)\n",
            "Collecting opentelemetry-api>=1.2.0 (from chromadb)\n",
            "  Downloading opentelemetry_api-1.30.0-py3-none-any.whl.metadata (1.6 kB)\n",
            "Collecting importlib-metadata<=8.5.0,>=6.0 (from opentelemetry-api>=1.2.0->chromadb)\n",
            "  Downloading importlib_metadata-8.5.0-py3-none-any.whl.metadata (4.8 kB)\n",
            "Collecting monotonic>=1.5 (from posthog>=2.4.0->chromadb)\n",
            "  Downloading monotonic-1.6-py2.py3-none-any.whl.metadata (1.5 kB)\n",
            "Requirement already satisfied: backoff>=1.10.0 in /usr/local/lib/python3.11/dist-packages (from posthog>=2.4.0->chromadb) (2.2.1)\n",
            "Requirement already satisfied: annotated-types>=0.6.0 in /usr/local/lib/python3.11/dist-packages (from pydantic>=1.9->chromadb) (0.7.0)\n",
            "Requirement already satisfied: pydantic-core==2.27.2 in /usr/local/lib/python3.11/dist-packages (from pydantic>=1.9->chromadb) (2.27.2)\n",
            "Requirement already satisfied: markdown-it-py>=2.2.0 in /usr/local/lib/python3.11/dist-packages (from rich>=10.11.0->chromadb) (3.0.0)\n",
            "Requirement already satisfied: pygments<3.0.0,>=2.13.0 in /usr/local/lib/python3.11/dist-packages (from rich>=10.11.0->chromadb) (2.18.0)\n",
            "Requirement already satisfied: huggingface-hub<1.0,>=0.16.4 in /usr/local/lib/python3.11/dist-packages (from tokenizers>=0.13.2->chromadb) (0.28.1)\n",
            "Requirement already satisfied: click>=8.0.0 in /usr/local/lib/python3.11/dist-packages (from typer>=0.9.0->chromadb) (8.1.8)\n",
            "Requirement already satisfied: shellingham>=1.3.0 in /usr/local/lib/python3.11/dist-packages (from typer>=0.9.0->chromadb) (1.5.4)\n",
            "Collecting httptools>=0.6.3 (from uvicorn[standard]>=0.18.3->chromadb)\n",
            "  Downloading httptools-0.6.4-cp311-cp311-manylinux_2_5_x86_64.manylinux1_x86_64.manylinux_2_17_x86_64.manylinux2014_x86_64.whl.metadata (3.6 kB)\n",
            "Collecting python-dotenv>=0.13 (from uvicorn[standard]>=0.18.3->chromadb)\n",
            "  Downloading python_dotenv-1.0.1-py3-none-any.whl.metadata (23 kB)\n",
            "Collecting uvloop!=0.15.0,!=0.15.1,>=0.14.0 (from uvicorn[standard]>=0.18.3->chromadb)\n",
            "  Downloading uvloop-0.21.0-cp311-cp311-manylinux_2_17_x86_64.manylinux2014_x86_64.whl.metadata (4.9 kB)\n",
            "Collecting watchfiles>=0.13 (from uvicorn[standard]>=0.18.3->chromadb)\n",
            "  Downloading watchfiles-1.0.4-cp311-cp311-manylinux_2_17_x86_64.manylinux2014_x86_64.whl.metadata (4.9 kB)\n",
            "Requirement already satisfied: websockets>=10.4 in /usr/local/lib/python3.11/dist-packages (from uvicorn[standard]>=0.18.3->chromadb) (14.2)\n",
            "Requirement already satisfied: cachetools<6.0,>=2.0.0 in /usr/local/lib/python3.11/dist-packages (from google-auth>=1.0.1->kubernetes>=28.1.0->chromadb) (5.5.1)\n",
            "Requirement already satisfied: pyasn1-modules>=0.2.1 in /usr/local/lib/python3.11/dist-packages (from google-auth>=1.0.1->kubernetes>=28.1.0->chromadb) (0.4.1)\n",
            "Requirement already satisfied: rsa<5,>=3.1.4 in /usr/local/lib/python3.11/dist-packages (from google-auth>=1.0.1->kubernetes>=28.1.0->chromadb) (4.9)\n",
            "Requirement already satisfied: filelock in /usr/local/lib/python3.11/dist-packages (from huggingface-hub<1.0,>=0.16.4->tokenizers>=0.13.2->chromadb) (3.17.0)\n",
            "Requirement already satisfied: fsspec>=2023.5.0 in /usr/local/lib/python3.11/dist-packages (from huggingface-hub<1.0,>=0.16.4->tokenizers>=0.13.2->chromadb) (2024.10.0)\n",
            "Requirement already satisfied: zipp>=3.20 in /usr/local/lib/python3.11/dist-packages (from importlib-metadata<=8.5.0,>=6.0->opentelemetry-api>=1.2.0->chromadb) (3.21.0)\n",
            "Requirement already satisfied: mdurl~=0.1 in /usr/local/lib/python3.11/dist-packages (from markdown-it-py>=2.2.0->rich>=10.11.0->chromadb) (0.1.2)\n",
            "Requirement already satisfied: charset-normalizer<4,>=2 in /usr/local/lib/python3.11/dist-packages (from requests->kubernetes>=28.1.0->chromadb) (3.4.1)\n",
            "Requirement already satisfied: sniffio>=1.1 in /usr/local/lib/python3.11/dist-packages (from anyio->httpx>=0.27.0->chromadb) (1.3.1)\n",
            "Requirement already satisfied: humanfriendly>=9.1 in /usr/local/lib/python3.11/dist-packages (from coloredlogs->onnxruntime>=1.14.1->chromadb) (10.0)\n",
            "Requirement already satisfied: mpmath<1.4,>=1.1.0 in /usr/local/lib/python3.11/dist-packages (from sympy->onnxruntime>=1.14.1->chromadb) (1.3.0)\n",
            "Requirement already satisfied: pyasn1<0.7.0,>=0.4.6 in /usr/local/lib/python3.11/dist-packages (from pyasn1-modules>=0.2.1->google-auth>=1.0.1->kubernetes>=28.1.0->chromadb) (0.6.1)\n",
            "Downloading chromadb-0.6.3-py3-none-any.whl (611 kB)\n",
            "\u001b[2K   \u001b[90m━━━━━━━━━━━━━━━━━━━━━━━━━━━━━━━━━━━━━━━━\u001b[0m \u001b[32m611.1/611.1 kB\u001b[0m \u001b[31m16.9 MB/s\u001b[0m eta \u001b[36m0:00:00\u001b[0m\n",
            "\u001b[?25hDownloading chroma_hnswlib-0.7.6-cp311-cp311-manylinux_2_17_x86_64.manylinux2014_x86_64.whl (2.4 MB)\n",
            "\u001b[2K   \u001b[90m━━━━━━━━━━━━━━━━━━━━━━━━━━━━━━━━━━━━━━━━\u001b[0m \u001b[32m2.4/2.4 MB\u001b[0m \u001b[31m58.9 MB/s\u001b[0m eta \u001b[36m0:00:00\u001b[0m\n",
            "\u001b[?25hDownloading bcrypt-4.2.1-cp39-abi3-manylinux_2_28_x86_64.whl (278 kB)\n",
            "\u001b[2K   \u001b[90m━━━━━━━━━━━━━━━━━━━━━━━━━━━━━━━━━━━━━━━━\u001b[0m \u001b[32m278.6/278.6 kB\u001b[0m \u001b[31m20.4 MB/s\u001b[0m eta \u001b[36m0:00:00\u001b[0m\n",
            "\u001b[?25hDownloading build-1.2.2.post1-py3-none-any.whl (22 kB)\n",
            "Downloading fastapi-0.115.8-py3-none-any.whl (94 kB)\n",
            "\u001b[2K   \u001b[90m━━━━━━━━━━━━━━━━━━━━━━━━━━━━━━━━━━━━━━━━\u001b[0m \u001b[32m94.8/94.8 kB\u001b[0m \u001b[31m7.2 MB/s\u001b[0m eta \u001b[36m0:00:00\u001b[0m\n",
            "\u001b[?25hDownloading kubernetes-32.0.1-py2.py3-none-any.whl (2.0 MB)\n",
            "\u001b[2K   \u001b[90m━━━━━━━━━━━━━━━━━━━━━━━━━━━━━━━━━━━━━━━━\u001b[0m \u001b[32m2.0/2.0 MB\u001b[0m \u001b[31m71.5 MB/s\u001b[0m eta \u001b[36m0:00:00\u001b[0m\n",
            "\u001b[?25hDownloading mmh3-5.1.0-cp311-cp311-manylinux_2_5_x86_64.manylinux1_x86_64.manylinux_2_17_x86_64.manylinux2014_x86_64.whl (101 kB)\n",
            "\u001b[2K   \u001b[90m━━━━━━━━━━━━━━━━━━━━━━━━━━━━━━━━━━━━━━━━\u001b[0m \u001b[32m101.6/101.6 kB\u001b[0m \u001b[31m7.9 MB/s\u001b[0m eta \u001b[36m0:00:00\u001b[0m\n",
            "\u001b[?25hDownloading opentelemetry_exporter_otlp_proto_grpc-1.30.0-py3-none-any.whl (18 kB)\n",
            "Downloading opentelemetry_exporter_otlp_proto_common-1.30.0-py3-none-any.whl (18 kB)\n",
            "Downloading opentelemetry_proto-1.30.0-py3-none-any.whl (55 kB)\n",
            "\u001b[2K   \u001b[90m━━━━━━━━━━━━━━━━━━━━━━━━━━━━━━━━━━━━━━━━\u001b[0m \u001b[32m55.9/55.9 kB\u001b[0m \u001b[31m4.6 MB/s\u001b[0m eta \u001b[36m0:00:00\u001b[0m\n",
            "\u001b[?25hDownloading opentelemetry_instrumentation_fastapi-0.51b0-py3-none-any.whl (12 kB)\n",
            "Downloading opentelemetry_instrumentation-0.51b0-py3-none-any.whl (30 kB)\n",
            "Downloading opentelemetry_instrumentation_asgi-0.51b0-py3-none-any.whl (16 kB)\n",
            "Downloading opentelemetry_semantic_conventions-0.51b0-py3-none-any.whl (177 kB)\n",
            "\u001b[2K   \u001b[90m━━━━━━━━━━━━━━━━━━━━━━━━━━━━━━━━━━━━━━━━\u001b[0m \u001b[32m177.4/177.4 kB\u001b[0m \u001b[31m14.7 MB/s\u001b[0m eta \u001b[36m0:00:00\u001b[0m\n",
            "\u001b[?25hDownloading opentelemetry_api-1.30.0-py3-none-any.whl (64 kB)\n",
            "\u001b[2K   \u001b[90m━━━━━━━━━━━━━━━━━━━━━━━━━━━━━━━━━━━━━━━━\u001b[0m \u001b[32m65.0/65.0 kB\u001b[0m \u001b[31m4.8 MB/s\u001b[0m eta \u001b[36m0:00:00\u001b[0m\n",
            "\u001b[?25hDownloading opentelemetry_util_http-0.51b0-py3-none-any.whl (7.3 kB)\n",
            "Downloading opentelemetry_sdk-1.30.0-py3-none-any.whl (118 kB)\n",
            "\u001b[2K   \u001b[90m━━━━━━━━━━━━━━━━━━━━━━━━━━━━━━━━━━━━━━━━\u001b[0m \u001b[32m118.7/118.7 kB\u001b[0m \u001b[31m8.8 MB/s\u001b[0m eta \u001b[36m0:00:00\u001b[0m\n",
            "\u001b[?25hDownloading overrides-7.7.0-py3-none-any.whl (17 kB)\n",
            "Downloading posthog-3.14.2-py2.py3-none-any.whl (73 kB)\n",
            "\u001b[2K   \u001b[90m━━━━━━━━━━━━━━━━━━━━━━━━━━━━━━━━━━━━━━━━\u001b[0m \u001b[32m73.9/73.9 kB\u001b[0m \u001b[31m6.3 MB/s\u001b[0m eta \u001b[36m0:00:00\u001b[0m\n",
            "\u001b[?25hDownloading uvicorn-0.34.0-py3-none-any.whl (62 kB)\n",
            "\u001b[2K   \u001b[90m━━━━━━━━━━━━━━━━━━━━━━━━━━━━━━━━━━━━━━━━\u001b[0m \u001b[32m62.3/62.3 kB\u001b[0m \u001b[31m5.3 MB/s\u001b[0m eta \u001b[36m0:00:00\u001b[0m\n",
            "\u001b[?25hDownloading durationpy-0.9-py3-none-any.whl (3.5 kB)\n",
            "Downloading httptools-0.6.4-cp311-cp311-manylinux_2_5_x86_64.manylinux1_x86_64.manylinux_2_17_x86_64.manylinux2014_x86_64.whl (459 kB)\n",
            "\u001b[2K   \u001b[90m━━━━━━━━━━━━━━━━━━━━━━━━━━━━━━━━━━━━━━━━\u001b[0m \u001b[32m459.8/459.8 kB\u001b[0m \u001b[31m31.0 MB/s\u001b[0m eta \u001b[36m0:00:00\u001b[0m\n",
            "\u001b[?25hDownloading importlib_metadata-8.5.0-py3-none-any.whl (26 kB)\n",
            "Downloading monotonic-1.6-py2.py3-none-any.whl (8.2 kB)\n",
            "Downloading protobuf-5.29.3-cp38-abi3-manylinux2014_x86_64.whl (319 kB)\n",
            "\u001b[2K   \u001b[90m━━━━━━━━━━━━━━━━━━━━━━━━━━━━━━━━━━━━━━━━\u001b[0m \u001b[32m319.7/319.7 kB\u001b[0m \u001b[31m24.0 MB/s\u001b[0m eta \u001b[36m0:00:00\u001b[0m\n",
            "\u001b[?25hDownloading python_dotenv-1.0.1-py3-none-any.whl (19 kB)\n",
            "Downloading starlette-0.45.3-py3-none-any.whl (71 kB)\n",
            "\u001b[2K   \u001b[90m━━━━━━━━━━━━━━━━━━━━━━━━━━━━━━━━━━━━━━━━\u001b[0m \u001b[32m71.5/71.5 kB\u001b[0m \u001b[31m6.1 MB/s\u001b[0m eta \u001b[36m0:00:00\u001b[0m\n",
            "\u001b[?25hDownloading uvloop-0.21.0-cp311-cp311-manylinux_2_17_x86_64.manylinux2014_x86_64.whl (4.0 MB)\n",
            "\u001b[2K   \u001b[90m━━━━━━━━━━━━━━━━━━━━━━━━━━━━━━━━━━━━━━━━\u001b[0m \u001b[32m4.0/4.0 MB\u001b[0m \u001b[31m40.5 MB/s\u001b[0m eta \u001b[36m0:00:00\u001b[0m\n",
            "\u001b[?25hDownloading watchfiles-1.0.4-cp311-cp311-manylinux_2_17_x86_64.manylinux2014_x86_64.whl (452 kB)\n",
            "\u001b[2K   \u001b[90m━━━━━━━━━━━━━━━━━━━━━━━━━━━━━━━━━━━━━━━━\u001b[0m \u001b[32m452.6/452.6 kB\u001b[0m \u001b[31m32.2 MB/s\u001b[0m eta \u001b[36m0:00:00\u001b[0m\n",
            "\u001b[?25hDownloading pyproject_hooks-1.2.0-py3-none-any.whl (10 kB)\n",
            "Downloading asgiref-3.8.1-py3-none-any.whl (23 kB)\n",
            "Building wheels for collected packages: pypika\n",
            "  Building wheel for pypika (pyproject.toml) ... \u001b[?25l\u001b[?25hdone\n",
            "  Created wheel for pypika: filename=PyPika-0.48.9-py2.py3-none-any.whl size=53771 sha256=a81a6aa4c5f4646d1e81fe791deb8428df4f111ae382f2aea9256eeed2b14d61\n",
            "  Stored in directory: /root/.cache/pip/wheels/a3/01/bd/4c40ceb9d5354160cb186dcc153360f4ab7eb23e2b24daf96d\n",
            "Successfully built pypika\n",
            "Installing collected packages: pypika, monotonic, durationpy, uvloop, uvicorn, python-dotenv, pyproject_hooks, protobuf, overrides, opentelemetry-util-http, mmh3, importlib-metadata, httptools, chroma-hnswlib, bcrypt, asgiref, watchfiles, starlette, posthog, opentelemetry-proto, opentelemetry-api, build, opentelemetry-semantic-conventions, opentelemetry-exporter-otlp-proto-common, kubernetes, fastapi, opentelemetry-sdk, opentelemetry-instrumentation, opentelemetry-instrumentation-asgi, opentelemetry-exporter-otlp-proto-grpc, opentelemetry-instrumentation-fastapi, chromadb\n",
            "  Attempting uninstall: protobuf\n",
            "    Found existing installation: protobuf 4.25.6\n",
            "    Uninstalling protobuf-4.25.6:\n",
            "      Successfully uninstalled protobuf-4.25.6\n",
            "  Attempting uninstall: importlib-metadata\n",
            "    Found existing installation: importlib_metadata 8.6.1\n",
            "    Uninstalling importlib_metadata-8.6.1:\n",
            "      Successfully uninstalled importlib_metadata-8.6.1\n",
            "  Attempting uninstall: opentelemetry-api\n",
            "    Found existing installation: opentelemetry-api 1.16.0\n",
            "    Uninstalling opentelemetry-api-1.16.0:\n",
            "      Successfully uninstalled opentelemetry-api-1.16.0\n",
            "  Attempting uninstall: opentelemetry-semantic-conventions\n",
            "    Found existing installation: opentelemetry-semantic-conventions 0.37b0\n",
            "    Uninstalling opentelemetry-semantic-conventions-0.37b0:\n",
            "      Successfully uninstalled opentelemetry-semantic-conventions-0.37b0\n",
            "  Attempting uninstall: opentelemetry-sdk\n",
            "    Found existing installation: opentelemetry-sdk 1.16.0\n",
            "    Uninstalling opentelemetry-sdk-1.16.0:\n",
            "      Successfully uninstalled opentelemetry-sdk-1.16.0\n",
            "Successfully installed asgiref-3.8.1 bcrypt-4.2.1 build-1.2.2.post1 chroma-hnswlib-0.7.6 chromadb-0.6.3 durationpy-0.9 fastapi-0.115.8 httptools-0.6.4 importlib-metadata-8.5.0 kubernetes-32.0.1 mmh3-5.1.0 monotonic-1.6 opentelemetry-api-1.30.0 opentelemetry-exporter-otlp-proto-common-1.30.0 opentelemetry-exporter-otlp-proto-grpc-1.30.0 opentelemetry-instrumentation-0.51b0 opentelemetry-instrumentation-asgi-0.51b0 opentelemetry-instrumentation-fastapi-0.51b0 opentelemetry-proto-1.30.0 opentelemetry-sdk-1.30.0 opentelemetry-semantic-conventions-0.51b0 opentelemetry-util-http-0.51b0 overrides-7.7.0 posthog-3.14.2 protobuf-5.29.3 pypika-0.48.9 pyproject_hooks-1.2.0 python-dotenv-1.0.1 starlette-0.45.3 uvicorn-0.34.0 uvloop-0.21.0 watchfiles-1.0.4\n"
          ]
        },
        {
          "output_type": "display_data",
          "data": {
            "application/vnd.colab-display-data+json": {
              "pip_warning": {
                "packages": [
                  "importlib_metadata"
                ]
              },
              "id": "4a93635e1430493aabb878c594ea3ce9"
            }
          },
          "metadata": {}
        }
      ],
      "source": [
        "!pip install \"unstructured[all-docs]\"\n",
        "!pip install \"unstructured[openai]\"\n",
        "!pip install langchain\n",
        "!pip install chromadb"
      ]
    },
    {
      "cell_type": "markdown",
      "source": [
        "# Unstructured API - Key Features:\n",
        "\n",
        "1. Precise Document Extraction: Unstructured offers advanced capabilities in extracting elements and metadata from documents. This includes a variety of document element types and metadata.\n",
        "\n",
        "2. Extensive File Support: The platform supports a wide array of file types, ensuring versatility in handling different document formats from PDF, Images, HTML, and many more.\n",
        "\n",
        "https://docs.unstructured.io/welcome\n",
        "\n",
        "https://docs.unstructured.io/open-source/introduction/overview\n"
      ],
      "metadata": {
        "id": "Va6p61_0uonO"
      }
    },
    {
      "cell_type": "markdown",
      "source": [
        "# The Unstructured Core API consists of the following components:\n",
        "\n",
        "1. Partitioning: The partitioning functions in Unstructured enable the extraction of structured content from raw, unstructured documents. Partitioning functions in unstructured allow users to extract structured content from a raw unstructured document. These functions break a document down into elements such as Title, NarrativeText, and ListItem, enabling users to decide what content they’d like to keep for their particular application. If you’re training a summarization model, for example, you may only be interested in NarrativeText.\n",
        "\n",
        "2. Cleaning: Data preparation for NLP models often requires cleaning to ensure quality. The Unstructured library includes cleaning functions that assist in sanitizing output, removing unwanted content, and improving the performance of NLP models. This step is essential for maintaining the integrity of data before it is passed to downstream applications.\n",
        "\n",
        "3. Extracting: This functionality allows for the extraction of specific entities within documents. It is designed to identify and isolate relevant pieces of information, making it easier for users to focus on the most pertinent data in their documents.\n",
        "\n",
        "4. Staging: Staging functions help prepare your data for ingestion into downstream systems. Please note that this functionality is being deprecated in favor of Destination Connectors.\n",
        "\n",
        "5. Chunking: The chunking process in Unstructured is distinct from conventional methods. Instead of relying solely on text-based features to form chunks, Unstructured uses a deep understanding of document formats to partition documents into semantic units (document elements).\n",
        "\n",
        "6. Embedding: The embedding encoder classes in Unstructured leverage document elements detected through partitioning or grouped via chunking to obtain embeddings for each element. This is particularly useful for applications like Retrieval Augmented Generation (RAG), where precise and contextually relevant embeddings are crucial."
      ],
      "metadata": {
        "id": "L77CdkqattGG"
      }
    },
    {
      "cell_type": "markdown",
      "source": [
        "##PDF - Extraction\n",
        "https://docs.unstructured.io/open-source/core-functionality/partitioning\n"
      ],
      "metadata": {
        "id": "C6PGw-2BtXTl"
      }
    },
    {
      "cell_type": "code",
      "source": [
        "# from unstructured.partition.auto import partition\n",
        "\n",
        "# #link = 'https://github.com/Unstructured-IO/unstructured/blob/main/example-docs/layout-parser-paper-fast.pdf'\n",
        "\n",
        "# url = 'https://raw.githubusercontent.com/Unstructured-IO/unstructured/blob/main/example-docs/pdf/layout-parser-paper-fast.pdf'\n",
        "\n",
        "# # Use if loading from  a url\n",
        "# elements = partition(url=url)\n",
        "\n",
        "# # Use if loading from a local file\n",
        "# #elements = partition(\"/content/example-docs/layout-parser-paper-fast.pdf\")\n",
        "\n",
        "# elements"
      ],
      "metadata": {
        "id": "i9dQ4GomgyiE"
      },
      "execution_count": 3,
      "outputs": []
    },
    {
      "cell_type": "code",
      "source": [
        "# from collections import Counter\n",
        "\n",
        "# display(Counter(type(element) for element in elements))\n",
        "# print(\"\")"
      ],
      "metadata": {
        "id": "ScLyWILRov-g"
      },
      "execution_count": 4,
      "outputs": []
    },
    {
      "cell_type": "code",
      "source": [
        "# display(*[(type(element), element.text) for element in elements])"
      ],
      "metadata": {
        "id": "Fv2Kge-RpNfP"
      },
      "execution_count": 5,
      "outputs": []
    },
    {
      "cell_type": "markdown",
      "source": [
        "##HTML - Extraction"
      ],
      "metadata": {
        "id": "p-yqUZxvs5vw"
      }
    },
    {
      "cell_type": "code",
      "source": [
        "# url = 'https://www.businessinsider.com/navalny-death-letters-trump-second-term-agenda-really-scary-2024-2'\n",
        "\n",
        "# from unstructured.partition.auto import partition\n",
        "\n",
        "# elements = partition(url=url, strategy='hi_res', html_assemble_articles=True,\n",
        "#                      chunking_strategy=\"by_title\", multipage_sections=True)\n",
        "# elements"
      ],
      "metadata": {
        "id": "rhC2I8asp9D_"
      },
      "execution_count": 6,
      "outputs": []
    },
    {
      "cell_type": "code",
      "source": [
        "from unstructured.partition.html import partition_html\n",
        "\n",
        "url = 'https://www.businessinsider.com/navalny-death-letters-trump-second-term-agenda-really-scary-2024-2'\n",
        "\n",
        "elements = partition_html(url=url)\n",
        "\n",
        "elements"
      ],
      "metadata": {
        "colab": {
          "base_uri": "https://localhost:8080/"
        },
        "id": "ZdQ6C1GIITcl",
        "outputId": "5fc25c75-d20f-4a4e-f0a9-3961c2cb3091"
      },
      "execution_count": 1,
      "outputs": [
        {
          "output_type": "execute_result",
          "data": {
            "text/plain": [
              "[<unstructured.documents.elements.Text at 0x787bcf30c5d0>,\n",
              " <unstructured.documents.elements.Text at 0x787bcf3285d0>,\n",
              " <unstructured.documents.elements.Title at 0x787bcf2a4e50>,\n",
              " <unstructured.documents.elements.Text at 0x787bcf2a6b50>,\n",
              " <unstructured.documents.elements.Text at 0x787bcf2a7490>,\n",
              " <unstructured.documents.elements.Text at 0x787bcf22df50>,\n",
              " <unstructured.documents.elements.NarrativeText at 0x787bcd31d350>,\n",
              " <unstructured.documents.elements.NarrativeText at 0x787bcd31e7d0>,\n",
              " <unstructured.documents.elements.ListItem at 0x787bcd31eb50>,\n",
              " <unstructured.documents.elements.ListItem at 0x787bcd31ec50>,\n",
              " <unstructured.documents.elements.ListItem at 0x787bcd31ed90>,\n",
              " <unstructured.documents.elements.NarrativeText at 0x787bcd325950>,\n",
              " <unstructured.documents.elements.NarrativeText at 0x787bcd327dd0>,\n",
              " <unstructured.documents.elements.NarrativeText at 0x787bcd329910>,\n",
              " <unstructured.documents.elements.NarrativeText at 0x787bcd32b4d0>,\n",
              " <unstructured.documents.elements.NarrativeText at 0x787bcd32d410>,\n",
              " <unstructured.documents.elements.NarrativeText at 0x787bcd32df10>,\n",
              " <unstructured.documents.elements.NarrativeText at 0x787bcd32efd0>,\n",
              " <unstructured.documents.elements.NarrativeText at 0x787bcd32fed0>,\n",
              " <unstructured.documents.elements.NarrativeText at 0x787bcd331110>,\n",
              " <unstructured.documents.elements.NarrativeText at 0x787bcd332890>,\n",
              " <unstructured.documents.elements.NarrativeText at 0x787bcd338ad0>,\n",
              " <unstructured.documents.elements.NarrativeText at 0x787bcd339290>,\n",
              " <unstructured.documents.elements.NarrativeText at 0x787bcd33a050>,\n",
              " <unstructured.documents.elements.Title at 0x787bcd339dd0>,\n",
              " <unstructured.documents.elements.ListItem at 0x787bcd33a690>,\n",
              " <unstructured.documents.elements.ListItem at 0x787bcd33a910>,\n",
              " <unstructured.documents.elements.Title at 0x787bcd33ae90>,\n",
              " <unstructured.documents.elements.NarrativeText at 0x787bcd33ba10>,\n",
              " <unstructured.documents.elements.Text at 0x787bcd33c3d0>,\n",
              " <unstructured.documents.elements.ListItem at 0x787bcd33c890>,\n",
              " <unstructured.documents.elements.ListItem at 0x787bcd33cc10>,\n",
              " <unstructured.documents.elements.ListItem at 0x787bcd33cf50>,\n",
              " <unstructured.documents.elements.ListItem at 0x787bcd33d250>,\n",
              " <unstructured.documents.elements.ListItem at 0x787bcd33d510>,\n",
              " <unstructured.documents.elements.ListItem at 0x787bcd33d790>,\n",
              " <unstructured.documents.elements.ListItem at 0x787bcd33dad0>,\n",
              " <unstructured.documents.elements.ListItem at 0x787bcd33dd50>,\n",
              " <unstructured.documents.elements.ListItem at 0x787bcd33dfd0>,\n",
              " <unstructured.documents.elements.ListItem at 0x787bcd33e310>,\n",
              " <unstructured.documents.elements.ListItem at 0x787bcd33e550>,\n",
              " <unstructured.documents.elements.ListItem at 0x787bcd33e8d0>,\n",
              " <unstructured.documents.elements.ListItem at 0x787bcd33ebd0>,\n",
              " <unstructured.documents.elements.Text at 0x787bcd33ee90>,\n",
              " <unstructured.documents.elements.ListItem at 0x787bcd33f2d0>,\n",
              " <unstructured.documents.elements.ListItem at 0x787bcd33f590>,\n",
              " <unstructured.documents.elements.ListItem at 0x787bcd33f810>,\n",
              " <unstructured.documents.elements.ListItem at 0x787bcd33fb90>,\n",
              " <unstructured.documents.elements.ListItem at 0x787bcd33fe90>,\n",
              " <unstructured.documents.elements.ListItem at 0x787bcd3441d0>,\n",
              " <unstructured.documents.elements.Text at 0x787bcd344590>,\n",
              " <unstructured.documents.elements.ListItem at 0x787bcd344a90>,\n",
              " <unstructured.documents.elements.ListItem at 0x787bcd344d10>,\n",
              " <unstructured.documents.elements.Text at 0x787bcd3450d0>,\n",
              " <unstructured.documents.elements.ListItem at 0x787bcd345590>,\n",
              " <unstructured.documents.elements.ListItem at 0x787bcd345890>,\n",
              " <unstructured.documents.elements.ListItem at 0x787bcd345b90>,\n",
              " <unstructured.documents.elements.ListItem at 0x787bcd345e90>,\n",
              " <unstructured.documents.elements.ListItem at 0x787bcd346190>,\n",
              " <unstructured.documents.elements.ListItem at 0x787bcd346490>,\n",
              " <unstructured.documents.elements.NarrativeText at 0x787bcd3475d0>,\n",
              " <unstructured.documents.elements.Text at 0x787bcd34c250>,\n",
              " <unstructured.documents.elements.ListItem at 0x787bcd34c650>,\n",
              " <unstructured.documents.elements.ListItem at 0x787bcd34c950>,\n",
              " <unstructured.documents.elements.ListItem at 0x787bcd34cc90>]"
            ]
          },
          "metadata": {},
          "execution_count": 1
        }
      ]
    },
    {
      "cell_type": "code",
      "source": [
        "from collections import Counter\n",
        "\n",
        "display(Counter(type(element) for element in elements))\n",
        "print(\"\")"
      ],
      "metadata": {
        "colab": {
          "base_uri": "https://localhost:8080/",
          "height": 104
        },
        "id": "vZO3mLI_qted",
        "outputId": "0922506f-c668-43f2-b3b4-6e1bded4e65b"
      },
      "execution_count": 2,
      "outputs": [
        {
          "output_type": "display_data",
          "data": {
            "text/plain": [
              "Counter({unstructured.documents.elements.Text: 10,\n",
              "         unstructured.documents.elements.Title: 3,\n",
              "         unstructured.documents.elements.NarrativeText: 17,\n",
              "         unstructured.documents.elements.ListItem: 35})"
            ]
          },
          "metadata": {}
        },
        {
          "output_type": "stream",
          "name": "stdout",
          "text": [
            "\n"
          ]
        }
      ]
    },
    {
      "cell_type": "code",
      "source": [
        "display(*[(type(element), element.text) for element in elements])"
      ],
      "metadata": {
        "colab": {
          "base_uri": "https://localhost:8080/",
          "height": 1000
        },
        "id": "cxqE342JBYjn",
        "outputId": "db2ac074-fb71-47cc-9fb3-f0bb2a70cffb"
      },
      "execution_count": 3,
      "outputs": [
        {
          "output_type": "display_data",
          "data": {
            "text/plain": [
              "(unstructured.documents.elements.Text, 'Subscribe Newsletters')"
            ]
          },
          "metadata": {}
        },
        {
          "output_type": "display_data",
          "data": {
            "text/plain": [
              "(unstructured.documents.elements.Text, 'Military & Defense')"
            ]
          },
          "metadata": {}
        },
        {
          "output_type": "display_data",
          "data": {
            "text/plain": [
              "(unstructured.documents.elements.Title,\n",
              " \"In Navalny's last letters, the Russian dissident called Trump's agenda for a second term 'really scary'\")"
            ]
          },
          "metadata": {}
        },
        {
          "output_type": "display_data",
          "data": {
            "text/plain": [
              "(unstructured.documents.elements.Text, 'Kelsey Vlamis')"
            ]
          },
          "metadata": {}
        },
        {
          "output_type": "display_data",
          "data": {
            "text/plain": [
              "(unstructured.documents.elements.Text, '2024-02-20T01:55:04Z')"
            ]
          },
          "metadata": {}
        },
        {
          "output_type": "display_data",
          "data": {
            "text/plain": [
              "(unstructured.documents.elements.Text,\n",
              " 'Facebook Email X LinkedIn Copy Link Impact Link')"
            ]
          },
          "metadata": {}
        },
        {
          "output_type": "display_data",
          "data": {
            "text/plain": [
              "(unstructured.documents.elements.NarrativeText, 'Read in app')"
            ]
          },
          "metadata": {}
        },
        {
          "output_type": "display_data",
          "data": {
            "text/plain": [
              "(unstructured.documents.elements.NarrativeText,\n",
              " 'This story is available exclusively to Business Insider subscribers. Become an Insider and start reading now. Have an account? .')"
            ]
          },
          "metadata": {}
        },
        {
          "output_type": "display_data",
          "data": {
            "text/plain": [
              "(unstructured.documents.elements.ListItem,\n",
              " \"Alexey Navalny, Vladimir Putin's most prominent critic, commented on US politics months before his death.\")"
            ]
          },
          "metadata": {}
        },
        {
          "output_type": "display_data",
          "data": {
            "text/plain": [
              "(unstructured.documents.elements.ListItem,\n",
              " 'Navalny expressed concern in letters to a friend over a potential second term for Donald Trump.')"
            ]
          },
          "metadata": {}
        },
        {
          "output_type": "display_data",
          "data": {
            "text/plain": [
              "(unstructured.documents.elements.ListItem,\n",
              " \"Trump briefly mentioned Navalny's death in a Truth Social post on Monday.\")"
            ]
          },
          "metadata": {}
        },
        {
          "output_type": "display_data",
          "data": {
            "text/plain": [
              "(unstructured.documents.elements.NarrativeText,\n",
              " 'Alexey Navalny, a dissident and the political nemesis of Russian President Vladimir Putin, spent the past few years of his life behind bars but still managed to stay connected to the outside world.')"
            ]
          },
          "metadata": {}
        },
        {
          "output_type": "display_data",
          "data": {
            "text/plain": [
              "(unstructured.documents.elements.NarrativeText,\n",
              " \"Letters from the final months of his life, obtained by The New York Times, show that Navalny, who'd been imprisoned since January 2021, managed to stay on top of current events — including in the US.\")"
            ]
          },
          "metadata": {}
        },
        {
          "output_type": "display_data",
          "data": {
            "text/plain": [
              "(unstructured.documents.elements.NarrativeText,\n",
              " 'In a letter sent to a friend, a photographer named Evgeny Feldman, Navalny said former President Donald Trump\\'s agenda for a second term was \"really scary,\" according to the Times.')"
            ]
          },
          "metadata": {}
        },
        {
          "output_type": "display_data",
          "data": {
            "text/plain": [
              "(unstructured.documents.elements.NarrativeText,\n",
              " 'He said if President Joe Biden were to have a health issue, \"Trump will become president,\" adding: \"Doesn\\'t this obvious thing concern the Democrats?\"')"
            ]
          },
          "metadata": {}
        },
        {
          "output_type": "display_data",
          "data": {
            "text/plain": [
              "(unstructured.documents.elements.NarrativeText,\n",
              " 'In another letter to Feldman dated December 3, Navalny again expressed concern over Trump and asked his friend, \"Please name one current politician you admire.\"')"
            ]
          },
          "metadata": {}
        },
        {
          "output_type": "display_data",
          "data": {
            "text/plain": [
              "(unstructured.documents.elements.NarrativeText,\n",
              " \"Trump's office didn't immediately respond to a request for comment from Business Insider.\")"
            ]
          },
          "metadata": {}
        },
        {
          "output_type": "display_data",
          "data": {
            "text/plain": [
              "(unstructured.documents.elements.NarrativeText,\n",
              " 'On December 6, Navalny disappeared from the IK-6 penal colony about 120 miles east of Moscow. He turned up again on Christmas Day when his lawyers announced they had located him at the IK-3 penal colony, about 1,000 miles northeast of Moscow, above the Arctic Circle.')"
            ]
          },
          "metadata": {}
        },
        {
          "output_type": "display_data",
          "data": {
            "text/plain": [
              "(unstructured.documents.elements.NarrativeText,\n",
              " \"The Times reported that Navalny's communication ability from his new prison was greatly diminished.\")"
            ]
          },
          "metadata": {}
        },
        {
          "output_type": "display_data",
          "data": {
            "text/plain": [
              "(unstructured.documents.elements.NarrativeText,\n",
              " \"The journalist Sergei Parkhomenko said he received a letter from Navalny on February 13, a few days before Navalny's death was announced. In the letter, which Parkhomenko shared on Facebook, Navalny spoke of books and said he only had access to classics at his new prison.\")"
            ]
          },
          "metadata": {}
        },
        {
          "output_type": "display_data",
          "data": {
            "text/plain": [
              "(unstructured.documents.elements.NarrativeText,\n",
              " '\"Who could\\'ve told me that Chekhov is the most depressing Russian writer?\" he wrote.')"
            ]
          },
          "metadata": {}
        },
        {
          "output_type": "display_data",
          "data": {
            "text/plain": [
              "(unstructured.documents.elements.NarrativeText,\n",
              " \"Trump, for his part, didn't mention Navalny in the days after his death, despite condemnations from other leaders who directly blamed Putin.\")"
            ]
          },
          "metadata": {}
        },
        {
          "output_type": "display_data",
          "data": {
            "text/plain": [
              "(unstructured.documents.elements.NarrativeText,\n",
              " 'In a Truth Social post on Monday, Trump briefly mentioned Navalny before directing his ire at his own perceived political opponents: \"The sudden death of Alexei Navalny has made me more and more aware of what is happening in our Country. It is a slow, steady progression, with CROOKED, Radical Left Politicians, Prosecutors, and Judges leading us down a path to destruction.\"')"
            ]
          },
          "metadata": {}
        },
        {
          "output_type": "display_data",
          "data": {
            "text/plain": [
              "(unstructured.documents.elements.NarrativeText,\n",
              " 'He mentioned neither Russia nor Putin.')"
            ]
          },
          "metadata": {}
        },
        {
          "output_type": "display_data",
          "data": {
            "text/plain": [
              "(unstructured.documents.elements.Title, 'Read next')"
            ]
          },
          "metadata": {}
        },
        {
          "output_type": "display_data",
          "data": {
            "text/plain": [
              "(unstructured.documents.elements.ListItem, 'Donald Trump')"
            ]
          },
          "metadata": {}
        },
        {
          "output_type": "display_data",
          "data": {
            "text/plain": [
              "(unstructured.documents.elements.ListItem, 'Russia')"
            ]
          },
          "metadata": {}
        },
        {
          "output_type": "display_data",
          "data": {
            "text/plain": [
              "(unstructured.documents.elements.Title, 'Recommended video')"
            ]
          },
          "metadata": {}
        },
        {
          "output_type": "display_data",
          "data": {
            "text/plain": [
              "(unstructured.documents.elements.NarrativeText,\n",
              " 'This story is available exclusively to Business Insider subscribers. Become an Insider and start reading now. Have an account? .')"
            ]
          },
          "metadata": {}
        },
        {
          "output_type": "display_data",
          "data": {
            "text/plain": [
              "(unstructured.documents.elements.Text, 'Legal & Privacy')"
            ]
          },
          "metadata": {}
        },
        {
          "output_type": "display_data",
          "data": {
            "text/plain": [
              "(unstructured.documents.elements.ListItem, 'Terms of Service')"
            ]
          },
          "metadata": {}
        },
        {
          "output_type": "display_data",
          "data": {
            "text/plain": [
              "(unstructured.documents.elements.ListItem, 'Terms of Sale')"
            ]
          },
          "metadata": {}
        },
        {
          "output_type": "display_data",
          "data": {
            "text/plain": [
              "(unstructured.documents.elements.ListItem, 'Privacy Policy')"
            ]
          },
          "metadata": {}
        },
        {
          "output_type": "display_data",
          "data": {
            "text/plain": [
              "(unstructured.documents.elements.ListItem, 'Accessibility')"
            ]
          },
          "metadata": {}
        },
        {
          "output_type": "display_data",
          "data": {
            "text/plain": [
              "(unstructured.documents.elements.ListItem, 'Code of Ethics Policy')"
            ]
          },
          "metadata": {}
        },
        {
          "output_type": "display_data",
          "data": {
            "text/plain": [
              "(unstructured.documents.elements.ListItem, 'Reprints & Permissions')"
            ]
          },
          "metadata": {}
        },
        {
          "output_type": "display_data",
          "data": {
            "text/plain": [
              "(unstructured.documents.elements.ListItem, 'Disclaimer')"
            ]
          },
          "metadata": {}
        },
        {
          "output_type": "display_data",
          "data": {
            "text/plain": [
              "(unstructured.documents.elements.ListItem, 'Advertising Policies')"
            ]
          },
          "metadata": {}
        },
        {
          "output_type": "display_data",
          "data": {
            "text/plain": [
              "(unstructured.documents.elements.ListItem, 'Conflict of Interest Policy')"
            ]
          },
          "metadata": {}
        },
        {
          "output_type": "display_data",
          "data": {
            "text/plain": [
              "(unstructured.documents.elements.ListItem, 'Commerce Policy')"
            ]
          },
          "metadata": {}
        },
        {
          "output_type": "display_data",
          "data": {
            "text/plain": [
              "(unstructured.documents.elements.ListItem, 'Coupons Privacy Policy')"
            ]
          },
          "metadata": {}
        },
        {
          "output_type": "display_data",
          "data": {
            "text/plain": [
              "(unstructured.documents.elements.ListItem, 'Coupons Terms')"
            ]
          },
          "metadata": {}
        },
        {
          "output_type": "display_data",
          "data": {
            "text/plain": [
              "(unstructured.documents.elements.ListItem, 'Your Privacy Choices')"
            ]
          },
          "metadata": {}
        },
        {
          "output_type": "display_data",
          "data": {
            "text/plain": [
              "(unstructured.documents.elements.Text, 'Company')"
            ]
          },
          "metadata": {}
        },
        {
          "output_type": "display_data",
          "data": {
            "text/plain": [
              "(unstructured.documents.elements.ListItem, 'About Us')"
            ]
          },
          "metadata": {}
        },
        {
          "output_type": "display_data",
          "data": {
            "text/plain": [
              "(unstructured.documents.elements.ListItem, 'Careers')"
            ]
          },
          "metadata": {}
        },
        {
          "output_type": "display_data",
          "data": {
            "text/plain": [
              "(unstructured.documents.elements.ListItem, 'Advertise With Us')"
            ]
          },
          "metadata": {}
        },
        {
          "output_type": "display_data",
          "data": {
            "text/plain": [
              "(unstructured.documents.elements.ListItem, 'Contact Us')"
            ]
          },
          "metadata": {}
        },
        {
          "output_type": "display_data",
          "data": {
            "text/plain": [
              "(unstructured.documents.elements.ListItem, 'Company News')"
            ]
          },
          "metadata": {}
        },
        {
          "output_type": "display_data",
          "data": {
            "text/plain": [
              "(unstructured.documents.elements.ListItem, 'Masthead')"
            ]
          },
          "metadata": {}
        },
        {
          "output_type": "display_data",
          "data": {
            "text/plain": [
              "(unstructured.documents.elements.Text, 'Other')"
            ]
          },
          "metadata": {}
        },
        {
          "output_type": "display_data",
          "data": {
            "text/plain": [
              "(unstructured.documents.elements.ListItem, 'Sitemap')"
            ]
          },
          "metadata": {}
        },
        {
          "output_type": "display_data",
          "data": {
            "text/plain": [
              "(unstructured.documents.elements.ListItem, 'Stock quotes by finanzen.net')"
            ]
          },
          "metadata": {}
        },
        {
          "output_type": "display_data",
          "data": {
            "text/plain": [
              "(unstructured.documents.elements.Text, 'International Editions')"
            ]
          },
          "metadata": {}
        },
        {
          "output_type": "display_data",
          "data": {
            "text/plain": [
              "(unstructured.documents.elements.ListItem, 'AT')"
            ]
          },
          "metadata": {}
        },
        {
          "output_type": "display_data",
          "data": {
            "text/plain": [
              "(unstructured.documents.elements.ListItem, 'DE')"
            ]
          },
          "metadata": {}
        },
        {
          "output_type": "display_data",
          "data": {
            "text/plain": [
              "(unstructured.documents.elements.ListItem, 'ES')"
            ]
          },
          "metadata": {}
        },
        {
          "output_type": "display_data",
          "data": {
            "text/plain": [
              "(unstructured.documents.elements.ListItem, 'JP')"
            ]
          },
          "metadata": {}
        },
        {
          "output_type": "display_data",
          "data": {
            "text/plain": [
              "(unstructured.documents.elements.ListItem, 'NL')"
            ]
          },
          "metadata": {}
        },
        {
          "output_type": "display_data",
          "data": {
            "text/plain": [
              "(unstructured.documents.elements.ListItem, 'PL')"
            ]
          },
          "metadata": {}
        },
        {
          "output_type": "display_data",
          "data": {
            "text/plain": [
              "(unstructured.documents.elements.NarrativeText,\n",
              " 'Copyright © 2025 Insider Inc. All rights reserved. Registration on or use of this site constitutes acceptance of our Terms of Service and Privacy Policy.')"
            ]
          },
          "metadata": {}
        },
        {
          "output_type": "display_data",
          "data": {
            "text/plain": [
              "(unstructured.documents.elements.Text, 'Jump to')"
            ]
          },
          "metadata": {}
        },
        {
          "output_type": "display_data",
          "data": {
            "text/plain": [
              "(unstructured.documents.elements.ListItem, 'Main content')"
            ]
          },
          "metadata": {}
        },
        {
          "output_type": "display_data",
          "data": {
            "text/plain": [
              "(unstructured.documents.elements.ListItem, 'Search')"
            ]
          },
          "metadata": {}
        },
        {
          "output_type": "display_data",
          "data": {
            "text/plain": [
              "(unstructured.documents.elements.ListItem, 'Account')"
            ]
          },
          "metadata": {}
        }
      ]
    },
    {
      "cell_type": "code",
      "source": [
        "for element in elements:\n",
        "  print(str(type(element)))"
      ],
      "metadata": {
        "colab": {
          "base_uri": "https://localhost:8080/"
        },
        "id": "8MjzVKmJJ28Y",
        "outputId": "9d734226-9bb5-4fb8-c1d6-bfb713ab8050"
      },
      "execution_count": 4,
      "outputs": [
        {
          "output_type": "stream",
          "name": "stdout",
          "text": [
            "<class 'unstructured.documents.elements.Text'>\n",
            "<class 'unstructured.documents.elements.Text'>\n",
            "<class 'unstructured.documents.elements.Title'>\n",
            "<class 'unstructured.documents.elements.Text'>\n",
            "<class 'unstructured.documents.elements.Text'>\n",
            "<class 'unstructured.documents.elements.Text'>\n",
            "<class 'unstructured.documents.elements.NarrativeText'>\n",
            "<class 'unstructured.documents.elements.NarrativeText'>\n",
            "<class 'unstructured.documents.elements.ListItem'>\n",
            "<class 'unstructured.documents.elements.ListItem'>\n",
            "<class 'unstructured.documents.elements.ListItem'>\n",
            "<class 'unstructured.documents.elements.NarrativeText'>\n",
            "<class 'unstructured.documents.elements.NarrativeText'>\n",
            "<class 'unstructured.documents.elements.NarrativeText'>\n",
            "<class 'unstructured.documents.elements.NarrativeText'>\n",
            "<class 'unstructured.documents.elements.NarrativeText'>\n",
            "<class 'unstructured.documents.elements.NarrativeText'>\n",
            "<class 'unstructured.documents.elements.NarrativeText'>\n",
            "<class 'unstructured.documents.elements.NarrativeText'>\n",
            "<class 'unstructured.documents.elements.NarrativeText'>\n",
            "<class 'unstructured.documents.elements.NarrativeText'>\n",
            "<class 'unstructured.documents.elements.NarrativeText'>\n",
            "<class 'unstructured.documents.elements.NarrativeText'>\n",
            "<class 'unstructured.documents.elements.NarrativeText'>\n",
            "<class 'unstructured.documents.elements.Title'>\n",
            "<class 'unstructured.documents.elements.ListItem'>\n",
            "<class 'unstructured.documents.elements.ListItem'>\n",
            "<class 'unstructured.documents.elements.Title'>\n",
            "<class 'unstructured.documents.elements.NarrativeText'>\n",
            "<class 'unstructured.documents.elements.Text'>\n",
            "<class 'unstructured.documents.elements.ListItem'>\n",
            "<class 'unstructured.documents.elements.ListItem'>\n",
            "<class 'unstructured.documents.elements.ListItem'>\n",
            "<class 'unstructured.documents.elements.ListItem'>\n",
            "<class 'unstructured.documents.elements.ListItem'>\n",
            "<class 'unstructured.documents.elements.ListItem'>\n",
            "<class 'unstructured.documents.elements.ListItem'>\n",
            "<class 'unstructured.documents.elements.ListItem'>\n",
            "<class 'unstructured.documents.elements.ListItem'>\n",
            "<class 'unstructured.documents.elements.ListItem'>\n",
            "<class 'unstructured.documents.elements.ListItem'>\n",
            "<class 'unstructured.documents.elements.ListItem'>\n",
            "<class 'unstructured.documents.elements.ListItem'>\n",
            "<class 'unstructured.documents.elements.Text'>\n",
            "<class 'unstructured.documents.elements.ListItem'>\n",
            "<class 'unstructured.documents.elements.ListItem'>\n",
            "<class 'unstructured.documents.elements.ListItem'>\n",
            "<class 'unstructured.documents.elements.ListItem'>\n",
            "<class 'unstructured.documents.elements.ListItem'>\n",
            "<class 'unstructured.documents.elements.ListItem'>\n",
            "<class 'unstructured.documents.elements.Text'>\n",
            "<class 'unstructured.documents.elements.ListItem'>\n",
            "<class 'unstructured.documents.elements.ListItem'>\n",
            "<class 'unstructured.documents.elements.Text'>\n",
            "<class 'unstructured.documents.elements.ListItem'>\n",
            "<class 'unstructured.documents.elements.ListItem'>\n",
            "<class 'unstructured.documents.elements.ListItem'>\n",
            "<class 'unstructured.documents.elements.ListItem'>\n",
            "<class 'unstructured.documents.elements.ListItem'>\n",
            "<class 'unstructured.documents.elements.ListItem'>\n",
            "<class 'unstructured.documents.elements.NarrativeText'>\n",
            "<class 'unstructured.documents.elements.Text'>\n",
            "<class 'unstructured.documents.elements.ListItem'>\n",
            "<class 'unstructured.documents.elements.ListItem'>\n",
            "<class 'unstructured.documents.elements.ListItem'>\n"
          ]
        }
      ]
    },
    {
      "cell_type": "code",
      "source": [
        "display(*[(type(element), element.text) for element in elements if str(type(element)) == \"<class 'unstructured.documents.elements.Title'>\"])"
      ],
      "metadata": {
        "colab": {
          "base_uri": "https://localhost:8080/",
          "height": 86
        },
        "id": "SNA20wUHJ98C",
        "outputId": "3bc21764-a58c-4eaf-ba3a-cc1b90b01b27"
      },
      "execution_count": 5,
      "outputs": [
        {
          "output_type": "display_data",
          "data": {
            "text/plain": [
              "(unstructured.documents.elements.Title,\n",
              " \"In Navalny's last letters, the Russian dissident called Trump's agenda for a second term 'really scary'\")"
            ]
          },
          "metadata": {}
        },
        {
          "output_type": "display_data",
          "data": {
            "text/plain": [
              "(unstructured.documents.elements.Title, 'Read next')"
            ]
          },
          "metadata": {}
        },
        {
          "output_type": "display_data",
          "data": {
            "text/plain": [
              "(unstructured.documents.elements.Title, 'Recommended video')"
            ]
          },
          "metadata": {}
        }
      ]
    },
    {
      "cell_type": "code",
      "source": [
        "display(*[(type(element), element.text) for element in elements if str(type(element)) == \"<class 'unstructured.documents.elements.ListItem'>\"])"
      ],
      "metadata": {
        "id": "bYU8tuuG__XY",
        "colab": {
          "base_uri": "https://localhost:8080/",
          "height": 676
        },
        "outputId": "577989a4-73cb-47e9-cf52-dbbea1d5ef82"
      },
      "execution_count": 6,
      "outputs": [
        {
          "output_type": "display_data",
          "data": {
            "text/plain": [
              "(unstructured.documents.elements.ListItem,\n",
              " \"Alexey Navalny, Vladimir Putin's most prominent critic, commented on US politics months before his death.\")"
            ]
          },
          "metadata": {}
        },
        {
          "output_type": "display_data",
          "data": {
            "text/plain": [
              "(unstructured.documents.elements.ListItem,\n",
              " 'Navalny expressed concern in letters to a friend over a potential second term for Donald Trump.')"
            ]
          },
          "metadata": {}
        },
        {
          "output_type": "display_data",
          "data": {
            "text/plain": [
              "(unstructured.documents.elements.ListItem,\n",
              " \"Trump briefly mentioned Navalny's death in a Truth Social post on Monday.\")"
            ]
          },
          "metadata": {}
        },
        {
          "output_type": "display_data",
          "data": {
            "text/plain": [
              "(unstructured.documents.elements.ListItem, 'Donald Trump')"
            ]
          },
          "metadata": {}
        },
        {
          "output_type": "display_data",
          "data": {
            "text/plain": [
              "(unstructured.documents.elements.ListItem, 'Russia')"
            ]
          },
          "metadata": {}
        },
        {
          "output_type": "display_data",
          "data": {
            "text/plain": [
              "(unstructured.documents.elements.ListItem, 'Terms of Service')"
            ]
          },
          "metadata": {}
        },
        {
          "output_type": "display_data",
          "data": {
            "text/plain": [
              "(unstructured.documents.elements.ListItem, 'Terms of Sale')"
            ]
          },
          "metadata": {}
        },
        {
          "output_type": "display_data",
          "data": {
            "text/plain": [
              "(unstructured.documents.elements.ListItem, 'Privacy Policy')"
            ]
          },
          "metadata": {}
        },
        {
          "output_type": "display_data",
          "data": {
            "text/plain": [
              "(unstructured.documents.elements.ListItem, 'Accessibility')"
            ]
          },
          "metadata": {}
        },
        {
          "output_type": "display_data",
          "data": {
            "text/plain": [
              "(unstructured.documents.elements.ListItem, 'Code of Ethics Policy')"
            ]
          },
          "metadata": {}
        },
        {
          "output_type": "display_data",
          "data": {
            "text/plain": [
              "(unstructured.documents.elements.ListItem, 'Reprints & Permissions')"
            ]
          },
          "metadata": {}
        },
        {
          "output_type": "display_data",
          "data": {
            "text/plain": [
              "(unstructured.documents.elements.ListItem, 'Disclaimer')"
            ]
          },
          "metadata": {}
        },
        {
          "output_type": "display_data",
          "data": {
            "text/plain": [
              "(unstructured.documents.elements.ListItem, 'Advertising Policies')"
            ]
          },
          "metadata": {}
        },
        {
          "output_type": "display_data",
          "data": {
            "text/plain": [
              "(unstructured.documents.elements.ListItem, 'Conflict of Interest Policy')"
            ]
          },
          "metadata": {}
        },
        {
          "output_type": "display_data",
          "data": {
            "text/plain": [
              "(unstructured.documents.elements.ListItem, 'Commerce Policy')"
            ]
          },
          "metadata": {}
        },
        {
          "output_type": "display_data",
          "data": {
            "text/plain": [
              "(unstructured.documents.elements.ListItem, 'Coupons Privacy Policy')"
            ]
          },
          "metadata": {}
        },
        {
          "output_type": "display_data",
          "data": {
            "text/plain": [
              "(unstructured.documents.elements.ListItem, 'Coupons Terms')"
            ]
          },
          "metadata": {}
        },
        {
          "output_type": "display_data",
          "data": {
            "text/plain": [
              "(unstructured.documents.elements.ListItem, 'Your Privacy Choices')"
            ]
          },
          "metadata": {}
        },
        {
          "output_type": "display_data",
          "data": {
            "text/plain": [
              "(unstructured.documents.elements.ListItem, 'About Us')"
            ]
          },
          "metadata": {}
        },
        {
          "output_type": "display_data",
          "data": {
            "text/plain": [
              "(unstructured.documents.elements.ListItem, 'Careers')"
            ]
          },
          "metadata": {}
        },
        {
          "output_type": "display_data",
          "data": {
            "text/plain": [
              "(unstructured.documents.elements.ListItem, 'Advertise With Us')"
            ]
          },
          "metadata": {}
        },
        {
          "output_type": "display_data",
          "data": {
            "text/plain": [
              "(unstructured.documents.elements.ListItem, 'Contact Us')"
            ]
          },
          "metadata": {}
        },
        {
          "output_type": "display_data",
          "data": {
            "text/plain": [
              "(unstructured.documents.elements.ListItem, 'Company News')"
            ]
          },
          "metadata": {}
        },
        {
          "output_type": "display_data",
          "data": {
            "text/plain": [
              "(unstructured.documents.elements.ListItem, 'Masthead')"
            ]
          },
          "metadata": {}
        },
        {
          "output_type": "display_data",
          "data": {
            "text/plain": [
              "(unstructured.documents.elements.ListItem, 'Sitemap')"
            ]
          },
          "metadata": {}
        },
        {
          "output_type": "display_data",
          "data": {
            "text/plain": [
              "(unstructured.documents.elements.ListItem, 'Stock quotes by finanzen.net')"
            ]
          },
          "metadata": {}
        },
        {
          "output_type": "display_data",
          "data": {
            "text/plain": [
              "(unstructured.documents.elements.ListItem, 'AT')"
            ]
          },
          "metadata": {}
        },
        {
          "output_type": "display_data",
          "data": {
            "text/plain": [
              "(unstructured.documents.elements.ListItem, 'DE')"
            ]
          },
          "metadata": {}
        },
        {
          "output_type": "display_data",
          "data": {
            "text/plain": [
              "(unstructured.documents.elements.ListItem, 'ES')"
            ]
          },
          "metadata": {}
        },
        {
          "output_type": "display_data",
          "data": {
            "text/plain": [
              "(unstructured.documents.elements.ListItem, 'JP')"
            ]
          },
          "metadata": {}
        },
        {
          "output_type": "display_data",
          "data": {
            "text/plain": [
              "(unstructured.documents.elements.ListItem, 'NL')"
            ]
          },
          "metadata": {}
        },
        {
          "output_type": "display_data",
          "data": {
            "text/plain": [
              "(unstructured.documents.elements.ListItem, 'PL')"
            ]
          },
          "metadata": {}
        },
        {
          "output_type": "display_data",
          "data": {
            "text/plain": [
              "(unstructured.documents.elements.ListItem, 'Main content')"
            ]
          },
          "metadata": {}
        },
        {
          "output_type": "display_data",
          "data": {
            "text/plain": [
              "(unstructured.documents.elements.ListItem, 'Search')"
            ]
          },
          "metadata": {}
        },
        {
          "output_type": "display_data",
          "data": {
            "text/plain": [
              "(unstructured.documents.elements.ListItem, 'Account')"
            ]
          },
          "metadata": {}
        }
      ]
    },
    {
      "cell_type": "code",
      "source": [
        "display(*[(type(element), element.text) for element in elements if str(type(element)) == \"<class 'unstructured.documents.elements.Text'>\"])"
      ],
      "metadata": {
        "colab": {
          "base_uri": "https://localhost:8080/",
          "height": 208
        },
        "id": "BMrl8qws-iXh",
        "outputId": "5d7c83d2-c9f8-4243-ec29-28c7984bab92"
      },
      "execution_count": 7,
      "outputs": [
        {
          "output_type": "display_data",
          "data": {
            "text/plain": [
              "(unstructured.documents.elements.Text, 'Subscribe Newsletters')"
            ]
          },
          "metadata": {}
        },
        {
          "output_type": "display_data",
          "data": {
            "text/plain": [
              "(unstructured.documents.elements.Text, 'Military & Defense')"
            ]
          },
          "metadata": {}
        },
        {
          "output_type": "display_data",
          "data": {
            "text/plain": [
              "(unstructured.documents.elements.Text, 'Kelsey Vlamis')"
            ]
          },
          "metadata": {}
        },
        {
          "output_type": "display_data",
          "data": {
            "text/plain": [
              "(unstructured.documents.elements.Text, '2024-02-20T01:55:04Z')"
            ]
          },
          "metadata": {}
        },
        {
          "output_type": "display_data",
          "data": {
            "text/plain": [
              "(unstructured.documents.elements.Text,\n",
              " 'Facebook Email X LinkedIn Copy Link Impact Link')"
            ]
          },
          "metadata": {}
        },
        {
          "output_type": "display_data",
          "data": {
            "text/plain": [
              "(unstructured.documents.elements.Text, 'Legal & Privacy')"
            ]
          },
          "metadata": {}
        },
        {
          "output_type": "display_data",
          "data": {
            "text/plain": [
              "(unstructured.documents.elements.Text, 'Company')"
            ]
          },
          "metadata": {}
        },
        {
          "output_type": "display_data",
          "data": {
            "text/plain": [
              "(unstructured.documents.elements.Text, 'Other')"
            ]
          },
          "metadata": {}
        },
        {
          "output_type": "display_data",
          "data": {
            "text/plain": [
              "(unstructured.documents.elements.Text, 'International Editions')"
            ]
          },
          "metadata": {}
        },
        {
          "output_type": "display_data",
          "data": {
            "text/plain": [
              "(unstructured.documents.elements.Text, 'Jump to')"
            ]
          },
          "metadata": {}
        }
      ]
    },
    {
      "cell_type": "code",
      "source": [
        "display(*[(type(element), element.text) for element in elements if str(type(element)) == \"<class 'unstructured.documents.elements.NarrativeText'>\"])"
      ],
      "metadata": {
        "colab": {
          "base_uri": "https://localhost:8080/",
          "height": 711
        },
        "id": "SF4-23B_qxvJ",
        "outputId": "8c82bd39-5dca-481e-963b-7fe528788d70"
      },
      "execution_count": 8,
      "outputs": [
        {
          "output_type": "display_data",
          "data": {
            "text/plain": [
              "(unstructured.documents.elements.NarrativeText, 'Read in app')"
            ]
          },
          "metadata": {}
        },
        {
          "output_type": "display_data",
          "data": {
            "text/plain": [
              "(unstructured.documents.elements.NarrativeText,\n",
              " 'This story is available exclusively to Business Insider subscribers. Become an Insider and start reading now. Have an account? .')"
            ]
          },
          "metadata": {}
        },
        {
          "output_type": "display_data",
          "data": {
            "text/plain": [
              "(unstructured.documents.elements.NarrativeText,\n",
              " 'Alexey Navalny, a dissident and the political nemesis of Russian President Vladimir Putin, spent the past few years of his life behind bars but still managed to stay connected to the outside world.')"
            ]
          },
          "metadata": {}
        },
        {
          "output_type": "display_data",
          "data": {
            "text/plain": [
              "(unstructured.documents.elements.NarrativeText,\n",
              " \"Letters from the final months of his life, obtained by The New York Times, show that Navalny, who'd been imprisoned since January 2021, managed to stay on top of current events — including in the US.\")"
            ]
          },
          "metadata": {}
        },
        {
          "output_type": "display_data",
          "data": {
            "text/plain": [
              "(unstructured.documents.elements.NarrativeText,\n",
              " 'In a letter sent to a friend, a photographer named Evgeny Feldman, Navalny said former President Donald Trump\\'s agenda for a second term was \"really scary,\" according to the Times.')"
            ]
          },
          "metadata": {}
        },
        {
          "output_type": "display_data",
          "data": {
            "text/plain": [
              "(unstructured.documents.elements.NarrativeText,\n",
              " 'He said if President Joe Biden were to have a health issue, \"Trump will become president,\" adding: \"Doesn\\'t this obvious thing concern the Democrats?\"')"
            ]
          },
          "metadata": {}
        },
        {
          "output_type": "display_data",
          "data": {
            "text/plain": [
              "(unstructured.documents.elements.NarrativeText,\n",
              " 'In another letter to Feldman dated December 3, Navalny again expressed concern over Trump and asked his friend, \"Please name one current politician you admire.\"')"
            ]
          },
          "metadata": {}
        },
        {
          "output_type": "display_data",
          "data": {
            "text/plain": [
              "(unstructured.documents.elements.NarrativeText,\n",
              " \"Trump's office didn't immediately respond to a request for comment from Business Insider.\")"
            ]
          },
          "metadata": {}
        },
        {
          "output_type": "display_data",
          "data": {
            "text/plain": [
              "(unstructured.documents.elements.NarrativeText,\n",
              " 'On December 6, Navalny disappeared from the IK-6 penal colony about 120 miles east of Moscow. He turned up again on Christmas Day when his lawyers announced they had located him at the IK-3 penal colony, about 1,000 miles northeast of Moscow, above the Arctic Circle.')"
            ]
          },
          "metadata": {}
        },
        {
          "output_type": "display_data",
          "data": {
            "text/plain": [
              "(unstructured.documents.elements.NarrativeText,\n",
              " \"The Times reported that Navalny's communication ability from his new prison was greatly diminished.\")"
            ]
          },
          "metadata": {}
        },
        {
          "output_type": "display_data",
          "data": {
            "text/plain": [
              "(unstructured.documents.elements.NarrativeText,\n",
              " \"The journalist Sergei Parkhomenko said he received a letter from Navalny on February 13, a few days before Navalny's death was announced. In the letter, which Parkhomenko shared on Facebook, Navalny spoke of books and said he only had access to classics at his new prison.\")"
            ]
          },
          "metadata": {}
        },
        {
          "output_type": "display_data",
          "data": {
            "text/plain": [
              "(unstructured.documents.elements.NarrativeText,\n",
              " '\"Who could\\'ve told me that Chekhov is the most depressing Russian writer?\" he wrote.')"
            ]
          },
          "metadata": {}
        },
        {
          "output_type": "display_data",
          "data": {
            "text/plain": [
              "(unstructured.documents.elements.NarrativeText,\n",
              " \"Trump, for his part, didn't mention Navalny in the days after his death, despite condemnations from other leaders who directly blamed Putin.\")"
            ]
          },
          "metadata": {}
        },
        {
          "output_type": "display_data",
          "data": {
            "text/plain": [
              "(unstructured.documents.elements.NarrativeText,\n",
              " 'In a Truth Social post on Monday, Trump briefly mentioned Navalny before directing his ire at his own perceived political opponents: \"The sudden death of Alexei Navalny has made me more and more aware of what is happening in our Country. It is a slow, steady progression, with CROOKED, Radical Left Politicians, Prosecutors, and Judges leading us down a path to destruction.\"')"
            ]
          },
          "metadata": {}
        },
        {
          "output_type": "display_data",
          "data": {
            "text/plain": [
              "(unstructured.documents.elements.NarrativeText,\n",
              " 'He mentioned neither Russia nor Putin.')"
            ]
          },
          "metadata": {}
        },
        {
          "output_type": "display_data",
          "data": {
            "text/plain": [
              "(unstructured.documents.elements.NarrativeText,\n",
              " 'This story is available exclusively to Business Insider subscribers. Become an Insider and start reading now. Have an account? .')"
            ]
          },
          "metadata": {}
        },
        {
          "output_type": "display_data",
          "data": {
            "text/plain": [
              "(unstructured.documents.elements.NarrativeText,\n",
              " 'Copyright © 2025 Insider Inc. All rights reserved. Registration on or use of this site constitutes acceptance of our Terms of Service and Privacy Policy.')"
            ]
          },
          "metadata": {}
        }
      ]
    },
    {
      "cell_type": "markdown",
      "source": [
        "## Embeddings\n",
        "\n",
        "https://docs.unstructured.io/open-source/core-functionality/embedding"
      ],
      "metadata": {
        "id": "Yxl_RbCp9RBb"
      }
    },
    {
      "cell_type": "code",
      "source": [
        "for element in elements:\n",
        "  print(element)"
      ],
      "metadata": {
        "id": "omYtYiueoeIX",
        "outputId": "3bbcbd4b-6ab0-47e1-a632-12ce436f1cc7",
        "colab": {
          "base_uri": "https://localhost:8080/"
        }
      },
      "execution_count": 11,
      "outputs": [
        {
          "output_type": "stream",
          "name": "stdout",
          "text": [
            "Subscribe Newsletters\n",
            "Military & Defense\n",
            "In Navalny's last letters, the Russian dissident called Trump's agenda for a second term 'really scary'\n",
            "Kelsey Vlamis\n",
            "2024-02-20T01:55:04Z\n",
            "Facebook Email X LinkedIn Copy Link Impact Link\n",
            "Read in app\n",
            "This story is available exclusively to Business Insider subscribers. Become an Insider and start reading now. Have an account? .\n",
            "Alexey Navalny, Vladimir Putin's most prominent critic, commented on US politics months before his death.\n",
            "Navalny expressed concern in letters to a friend over a potential second term for Donald Trump.\n",
            "Trump briefly mentioned Navalny's death in a Truth Social post on Monday.\n",
            "Alexey Navalny, a dissident and the political nemesis of Russian President Vladimir Putin, spent the past few years of his life behind bars but still managed to stay connected to the outside world.\n",
            "Letters from the final months of his life, obtained by The New York Times, show that Navalny, who'd been imprisoned since January 2021, managed to stay on top of current events — including in the US.\n",
            "In a letter sent to a friend, a photographer named Evgeny Feldman, Navalny said former President Donald Trump's agenda for a second term was \"really scary,\" according to the Times.\n",
            "He said if President Joe Biden were to have a health issue, \"Trump will become president,\" adding: \"Doesn't this obvious thing concern the Democrats?\"\n",
            "In another letter to Feldman dated December 3, Navalny again expressed concern over Trump and asked his friend, \"Please name one current politician you admire.\"\n",
            "Trump's office didn't immediately respond to a request for comment from Business Insider.\n",
            "On December 6, Navalny disappeared from the IK-6 penal colony about 120 miles east of Moscow. He turned up again on Christmas Day when his lawyers announced they had located him at the IK-3 penal colony, about 1,000 miles northeast of Moscow, above the Arctic Circle.\n",
            "The Times reported that Navalny's communication ability from his new prison was greatly diminished.\n",
            "The journalist Sergei Parkhomenko said he received a letter from Navalny on February 13, a few days before Navalny's death was announced. In the letter, which Parkhomenko shared on Facebook, Navalny spoke of books and said he only had access to classics at his new prison.\n",
            "\"Who could've told me that Chekhov is the most depressing Russian writer?\" he wrote.\n",
            "Trump, for his part, didn't mention Navalny in the days after his death, despite condemnations from other leaders who directly blamed Putin.\n",
            "In a Truth Social post on Monday, Trump briefly mentioned Navalny before directing his ire at his own perceived political opponents: \"The sudden death of Alexei Navalny has made me more and more aware of what is happening in our Country. It is a slow, steady progression, with CROOKED, Radical Left Politicians, Prosecutors, and Judges leading us down a path to destruction.\"\n",
            "He mentioned neither Russia nor Putin.\n",
            "Read next\n",
            "Donald Trump\n",
            "Russia\n",
            "Recommended video\n",
            "This story is available exclusively to Business Insider subscribers. Become an Insider and start reading now. Have an account? .\n",
            "Legal & Privacy\n",
            "Terms of Service\n",
            "Terms of Sale\n",
            "Privacy Policy\n",
            "Accessibility\n",
            "Code of Ethics Policy\n",
            "Reprints & Permissions\n",
            "Disclaimer\n",
            "Advertising Policies\n",
            "Conflict of Interest Policy\n",
            "Commerce Policy\n",
            "Coupons Privacy Policy\n",
            "Coupons Terms\n",
            "Your Privacy Choices\n",
            "Company\n",
            "About Us\n",
            "Careers\n",
            "Advertise With Us\n",
            "Contact Us\n",
            "Company News\n",
            "Masthead\n",
            "Other\n",
            "Sitemap\n",
            "Stock quotes by finanzen.net\n",
            "International Editions\n",
            "AT\n",
            "DE\n",
            "ES\n",
            "JP\n",
            "NL\n",
            "PL\n",
            "Copyright © 2025 Insider Inc. All rights reserved. Registration on or use of this site constitutes acceptance of our Terms of Service and Privacy Policy.\n",
            "Jump to\n",
            "Main content\n",
            "Search\n",
            "Account\n"
          ]
        }
      ]
    },
    {
      "cell_type": "code",
      "source": [
        "!pip install langchain-huggingface"
      ],
      "metadata": {
        "id": "Cr2jdjDdpulj",
        "outputId": "84d2547f-54df-4aec-dfd3-79b1fcdf7d5c",
        "colab": {
          "base_uri": "https://localhost:8080/"
        }
      },
      "execution_count": 13,
      "outputs": [
        {
          "output_type": "stream",
          "name": "stdout",
          "text": [
            "Collecting langchain-huggingface\n",
            "  Downloading langchain_huggingface-0.1.2-py3-none-any.whl.metadata (1.3 kB)\n",
            "Requirement already satisfied: huggingface-hub>=0.23.0 in /usr/local/lib/python3.11/dist-packages (from langchain-huggingface) (0.28.1)\n",
            "Requirement already satisfied: langchain-core<0.4.0,>=0.3.15 in /usr/local/lib/python3.11/dist-packages (from langchain-huggingface) (0.3.35)\n",
            "Requirement already satisfied: sentence-transformers>=2.6.0 in /usr/local/lib/python3.11/dist-packages (from langchain-huggingface) (3.4.1)\n",
            "Requirement already satisfied: tokenizers>=0.19.1 in /usr/local/lib/python3.11/dist-packages (from langchain-huggingface) (0.21.0)\n",
            "Requirement already satisfied: transformers>=4.39.0 in /usr/local/lib/python3.11/dist-packages (from langchain-huggingface) (4.48.3)\n",
            "Requirement already satisfied: filelock in /usr/local/lib/python3.11/dist-packages (from huggingface-hub>=0.23.0->langchain-huggingface) (3.17.0)\n",
            "Requirement already satisfied: fsspec>=2023.5.0 in /usr/local/lib/python3.11/dist-packages (from huggingface-hub>=0.23.0->langchain-huggingface) (2024.10.0)\n",
            "Requirement already satisfied: packaging>=20.9 in /usr/local/lib/python3.11/dist-packages (from huggingface-hub>=0.23.0->langchain-huggingface) (24.2)\n",
            "Requirement already satisfied: pyyaml>=5.1 in /usr/local/lib/python3.11/dist-packages (from huggingface-hub>=0.23.0->langchain-huggingface) (6.0.2)\n",
            "Requirement already satisfied: requests in /usr/local/lib/python3.11/dist-packages (from huggingface-hub>=0.23.0->langchain-huggingface) (2.32.3)\n",
            "Requirement already satisfied: tqdm>=4.42.1 in /usr/local/lib/python3.11/dist-packages (from huggingface-hub>=0.23.0->langchain-huggingface) (4.67.1)\n",
            "Requirement already satisfied: typing-extensions>=3.7.4.3 in /usr/local/lib/python3.11/dist-packages (from huggingface-hub>=0.23.0->langchain-huggingface) (4.12.2)\n",
            "Requirement already satisfied: langsmith<0.4,>=0.1.125 in /usr/local/lib/python3.11/dist-packages (from langchain-core<0.4.0,>=0.3.15->langchain-huggingface) (0.3.8)\n",
            "Requirement already satisfied: tenacity!=8.4.0,<10.0.0,>=8.1.0 in /usr/local/lib/python3.11/dist-packages (from langchain-core<0.4.0,>=0.3.15->langchain-huggingface) (9.0.0)\n",
            "Requirement already satisfied: jsonpatch<2.0,>=1.33 in /usr/local/lib/python3.11/dist-packages (from langchain-core<0.4.0,>=0.3.15->langchain-huggingface) (1.33)\n",
            "Requirement already satisfied: pydantic<3.0.0,>=2.5.2 in /usr/local/lib/python3.11/dist-packages (from langchain-core<0.4.0,>=0.3.15->langchain-huggingface) (2.10.6)\n",
            "Requirement already satisfied: torch>=1.11.0 in /usr/local/lib/python3.11/dist-packages (from sentence-transformers>=2.6.0->langchain-huggingface) (2.5.1+cu124)\n",
            "Requirement already satisfied: scikit-learn in /usr/local/lib/python3.11/dist-packages (from sentence-transformers>=2.6.0->langchain-huggingface) (1.6.1)\n",
            "Requirement already satisfied: scipy in /usr/local/lib/python3.11/dist-packages (from sentence-transformers>=2.6.0->langchain-huggingface) (1.13.1)\n",
            "Requirement already satisfied: Pillow in /usr/local/lib/python3.11/dist-packages (from sentence-transformers>=2.6.0->langchain-huggingface) (11.1.0)\n",
            "Requirement already satisfied: numpy>=1.17 in /usr/local/lib/python3.11/dist-packages (from transformers>=4.39.0->langchain-huggingface) (1.26.4)\n",
            "Requirement already satisfied: regex!=2019.12.17 in /usr/local/lib/python3.11/dist-packages (from transformers>=4.39.0->langchain-huggingface) (2024.11.6)\n",
            "Requirement already satisfied: safetensors>=0.4.1 in /usr/local/lib/python3.11/dist-packages (from transformers>=4.39.0->langchain-huggingface) (0.5.2)\n",
            "Requirement already satisfied: jsonpointer>=1.9 in /usr/local/lib/python3.11/dist-packages (from jsonpatch<2.0,>=1.33->langchain-core<0.4.0,>=0.3.15->langchain-huggingface) (3.0.0)\n",
            "Requirement already satisfied: httpx<1,>=0.23.0 in /usr/local/lib/python3.11/dist-packages (from langsmith<0.4,>=0.1.125->langchain-core<0.4.0,>=0.3.15->langchain-huggingface) (0.28.1)\n",
            "Requirement already satisfied: orjson<4.0.0,>=3.9.14 in /usr/local/lib/python3.11/dist-packages (from langsmith<0.4,>=0.1.125->langchain-core<0.4.0,>=0.3.15->langchain-huggingface) (3.10.15)\n",
            "Requirement already satisfied: requests-toolbelt<2.0.0,>=1.0.0 in /usr/local/lib/python3.11/dist-packages (from langsmith<0.4,>=0.1.125->langchain-core<0.4.0,>=0.3.15->langchain-huggingface) (1.0.0)\n",
            "Requirement already satisfied: zstandard<0.24.0,>=0.23.0 in /usr/local/lib/python3.11/dist-packages (from langsmith<0.4,>=0.1.125->langchain-core<0.4.0,>=0.3.15->langchain-huggingface) (0.23.0)\n",
            "Requirement already satisfied: annotated-types>=0.6.0 in /usr/local/lib/python3.11/dist-packages (from pydantic<3.0.0,>=2.5.2->langchain-core<0.4.0,>=0.3.15->langchain-huggingface) (0.7.0)\n",
            "Requirement already satisfied: pydantic-core==2.27.2 in /usr/local/lib/python3.11/dist-packages (from pydantic<3.0.0,>=2.5.2->langchain-core<0.4.0,>=0.3.15->langchain-huggingface) (2.27.2)\n",
            "Requirement already satisfied: charset-normalizer<4,>=2 in /usr/local/lib/python3.11/dist-packages (from requests->huggingface-hub>=0.23.0->langchain-huggingface) (3.4.1)\n",
            "Requirement already satisfied: idna<4,>=2.5 in /usr/local/lib/python3.11/dist-packages (from requests->huggingface-hub>=0.23.0->langchain-huggingface) (3.10)\n",
            "Requirement already satisfied: urllib3<3,>=1.21.1 in /usr/local/lib/python3.11/dist-packages (from requests->huggingface-hub>=0.23.0->langchain-huggingface) (2.3.0)\n",
            "Requirement already satisfied: certifi>=2017.4.17 in /usr/local/lib/python3.11/dist-packages (from requests->huggingface-hub>=0.23.0->langchain-huggingface) (2025.1.31)\n",
            "Requirement already satisfied: networkx in /usr/local/lib/python3.11/dist-packages (from torch>=1.11.0->sentence-transformers>=2.6.0->langchain-huggingface) (3.4.2)\n",
            "Requirement already satisfied: jinja2 in /usr/local/lib/python3.11/dist-packages (from torch>=1.11.0->sentence-transformers>=2.6.0->langchain-huggingface) (3.1.5)\n",
            "Requirement already satisfied: nvidia-cuda-nvrtc-cu12==12.4.127 in /usr/local/lib/python3.11/dist-packages (from torch>=1.11.0->sentence-transformers>=2.6.0->langchain-huggingface) (12.4.127)\n",
            "Requirement already satisfied: nvidia-cuda-runtime-cu12==12.4.127 in /usr/local/lib/python3.11/dist-packages (from torch>=1.11.0->sentence-transformers>=2.6.0->langchain-huggingface) (12.4.127)\n",
            "Requirement already satisfied: nvidia-cuda-cupti-cu12==12.4.127 in /usr/local/lib/python3.11/dist-packages (from torch>=1.11.0->sentence-transformers>=2.6.0->langchain-huggingface) (12.4.127)\n",
            "Requirement already satisfied: nvidia-cudnn-cu12==9.1.0.70 in /usr/local/lib/python3.11/dist-packages (from torch>=1.11.0->sentence-transformers>=2.6.0->langchain-huggingface) (9.1.0.70)\n",
            "Requirement already satisfied: nvidia-cublas-cu12==12.4.5.8 in /usr/local/lib/python3.11/dist-packages (from torch>=1.11.0->sentence-transformers>=2.6.0->langchain-huggingface) (12.4.5.8)\n",
            "Requirement already satisfied: nvidia-cufft-cu12==11.2.1.3 in /usr/local/lib/python3.11/dist-packages (from torch>=1.11.0->sentence-transformers>=2.6.0->langchain-huggingface) (11.2.1.3)\n",
            "Requirement already satisfied: nvidia-curand-cu12==10.3.5.147 in /usr/local/lib/python3.11/dist-packages (from torch>=1.11.0->sentence-transformers>=2.6.0->langchain-huggingface) (10.3.5.147)\n",
            "Requirement already satisfied: nvidia-cusolver-cu12==11.6.1.9 in /usr/local/lib/python3.11/dist-packages (from torch>=1.11.0->sentence-transformers>=2.6.0->langchain-huggingface) (11.6.1.9)\n",
            "Requirement already satisfied: nvidia-cusparse-cu12==12.3.1.170 in /usr/local/lib/python3.11/dist-packages (from torch>=1.11.0->sentence-transformers>=2.6.0->langchain-huggingface) (12.3.1.170)\n",
            "Requirement already satisfied: nvidia-nccl-cu12==2.21.5 in /usr/local/lib/python3.11/dist-packages (from torch>=1.11.0->sentence-transformers>=2.6.0->langchain-huggingface) (2.21.5)\n",
            "Requirement already satisfied: nvidia-nvtx-cu12==12.4.127 in /usr/local/lib/python3.11/dist-packages (from torch>=1.11.0->sentence-transformers>=2.6.0->langchain-huggingface) (12.4.127)\n",
            "Requirement already satisfied: nvidia-nvjitlink-cu12==12.4.127 in /usr/local/lib/python3.11/dist-packages (from torch>=1.11.0->sentence-transformers>=2.6.0->langchain-huggingface) (12.4.127)\n",
            "Requirement already satisfied: triton==3.1.0 in /usr/local/lib/python3.11/dist-packages (from torch>=1.11.0->sentence-transformers>=2.6.0->langchain-huggingface) (3.1.0)\n",
            "Requirement already satisfied: sympy==1.13.1 in /usr/local/lib/python3.11/dist-packages (from torch>=1.11.0->sentence-transformers>=2.6.0->langchain-huggingface) (1.13.1)\n",
            "Requirement already satisfied: mpmath<1.4,>=1.1.0 in /usr/local/lib/python3.11/dist-packages (from sympy==1.13.1->torch>=1.11.0->sentence-transformers>=2.6.0->langchain-huggingface) (1.3.0)\n",
            "Requirement already satisfied: joblib>=1.2.0 in /usr/local/lib/python3.11/dist-packages (from scikit-learn->sentence-transformers>=2.6.0->langchain-huggingface) (1.4.2)\n",
            "Requirement already satisfied: threadpoolctl>=3.1.0 in /usr/local/lib/python3.11/dist-packages (from scikit-learn->sentence-transformers>=2.6.0->langchain-huggingface) (3.5.0)\n",
            "Requirement already satisfied: anyio in /usr/local/lib/python3.11/dist-packages (from httpx<1,>=0.23.0->langsmith<0.4,>=0.1.125->langchain-core<0.4.0,>=0.3.15->langchain-huggingface) (3.7.1)\n",
            "Requirement already satisfied: httpcore==1.* in /usr/local/lib/python3.11/dist-packages (from httpx<1,>=0.23.0->langsmith<0.4,>=0.1.125->langchain-core<0.4.0,>=0.3.15->langchain-huggingface) (1.0.7)\n",
            "Requirement already satisfied: h11<0.15,>=0.13 in /usr/local/lib/python3.11/dist-packages (from httpcore==1.*->httpx<1,>=0.23.0->langsmith<0.4,>=0.1.125->langchain-core<0.4.0,>=0.3.15->langchain-huggingface) (0.14.0)\n",
            "Requirement already satisfied: MarkupSafe>=2.0 in /usr/local/lib/python3.11/dist-packages (from jinja2->torch>=1.11.0->sentence-transformers>=2.6.0->langchain-huggingface) (3.0.2)\n",
            "Requirement already satisfied: sniffio>=1.1 in /usr/local/lib/python3.11/dist-packages (from anyio->httpx<1,>=0.23.0->langsmith<0.4,>=0.1.125->langchain-core<0.4.0,>=0.3.15->langchain-huggingface) (1.3.1)\n",
            "Downloading langchain_huggingface-0.1.2-py3-none-any.whl (21 kB)\n",
            "Installing collected packages: langchain-huggingface\n",
            "Successfully installed langchain-huggingface-0.1.2\n"
          ]
        }
      ]
    },
    {
      "cell_type": "code",
      "source": [
        "#from unstructured.documents.elements import Text\n",
        "#from sentence_transformers import SentenceTransformer\n",
        "\n",
        "embeddings = []\n",
        "\n",
        "from langchain_huggingface.embeddings import HuggingFaceEmbeddings\n",
        "\n",
        "model = HuggingFaceEmbeddings(\n",
        "        model_name=\"sentence-transformers/all-MiniLM-L6-v2\"\n",
        "    )\n",
        "\n",
        "# 1. Load a pretrained Sentence Transformer model\n",
        "#embeddings = SentenceTransformer(\"all-MiniLM-L6-v2\")\n",
        "\n",
        "# Process each element in the JSON file.\n",
        "for element in elements:\n",
        "    # Get the element's \"text\" field.\n",
        "    text = element.text\n",
        "    # Generate the embeddings for that \"text\" field.\n",
        "    query_result = model.embed_query(text)\n",
        "    # Add the embeddings to that element as an \"embeddings\" field.\n",
        "    element[\"embeddings\"] = query_result\n",
        "\n",
        "# # Print embeddings\n",
        "# [print(e.embeddings, e) for e in elements]\n",
        "# print(query_embedding, query)\n",
        "# print(embedding_encoder.is_unit_vector(), embedding_encoder.num_of_dimensions())"
      ],
      "metadata": {
        "id": "VvOIv4EsjsQ7",
        "outputId": "a07ee0ef-4ec7-4dc0-8fc5-71b7ee6aa179",
        "colab": {
          "base_uri": "https://localhost:8080/",
          "height": 211
        }
      },
      "execution_count": 20,
      "outputs": [
        {
          "output_type": "error",
          "ename": "TypeError",
          "evalue": "'Text' object does not support item assignment",
          "traceback": [
            "\u001b[0;31m---------------------------------------------------------------------------\u001b[0m",
            "\u001b[0;31mTypeError\u001b[0m                                 Traceback (most recent call last)",
            "\u001b[0;32m<ipython-input-20-b45c0dfa3449>\u001b[0m in \u001b[0;36m<cell line: 0>\u001b[0;34m()\u001b[0m\n\u001b[1;32m     18\u001b[0m     \u001b[0mquery_result\u001b[0m \u001b[0;34m=\u001b[0m \u001b[0mmodel\u001b[0m\u001b[0;34m.\u001b[0m\u001b[0membed_query\u001b[0m\u001b[0;34m(\u001b[0m\u001b[0mtext\u001b[0m\u001b[0;34m)\u001b[0m\u001b[0;34m\u001b[0m\u001b[0;34m\u001b[0m\u001b[0m\n\u001b[1;32m     19\u001b[0m     \u001b[0;31m# Add the embeddings to that element as an \"embeddings\" field.\u001b[0m\u001b[0;34m\u001b[0m\u001b[0;34m\u001b[0m\u001b[0m\n\u001b[0;32m---> 20\u001b[0;31m     \u001b[0melement\u001b[0m\u001b[0;34m[\u001b[0m\u001b[0;34m\"embeddings\"\u001b[0m\u001b[0;34m]\u001b[0m \u001b[0;34m=\u001b[0m \u001b[0mquery_result\u001b[0m\u001b[0;34m\u001b[0m\u001b[0;34m\u001b[0m\u001b[0m\n\u001b[0m\u001b[1;32m     21\u001b[0m \u001b[0;34m\u001b[0m\u001b[0m\n\u001b[1;32m     22\u001b[0m \u001b[0;31m# # Print embeddings\u001b[0m\u001b[0;34m\u001b[0m\u001b[0;34m\u001b[0m\u001b[0m\n",
            "\u001b[0;31mTypeError\u001b[0m: 'Text' object does not support item assignment"
          ]
        }
      ]
    },
    {
      "cell_type": "code",
      "source": [
        "from google.colab import userdata\n",
        "open_ai_api_key = userdata.get('open_ai_api_key')\n",
        "\n",
        "from unstructured.documents.elements import Text\n",
        "from unstructured.embed.openai import OpenAIEmbeddingEncoder\n",
        "\n",
        "# Initialize the encoder with OpenAI credentials\n",
        "#embedding_encoder = OpenAIEmbeddingEncoder(api_key=open_ai_api_key)\n",
        "\n",
        "#embedding_encoder = OpenAIEmbeddingEncoder(api_key=open_ai_api_key)\n",
        "\n",
        "\n",
        "embedding_encoder = OpenAIEmbeddingEncoder(config=OpenAIEmbeddingConfig(api_key=open_ai_api_key))\n",
        "\n",
        "#embedding_encoder = OpenAIEmbeddingEncoder(config=[open_ai_api_key,\"text-embedding-ada-002\"] )\n",
        "\n",
        "# Embed a list of Elements\n",
        "elements = embedding_encoder.embed_documents(\n",
        "    elements=[Text(\"This is sentence 1\"), Text(\"This is sentence 2\")],\n",
        ")\n",
        "\n",
        "# Embed a single query string\n",
        "query = \"This is the query\"\n",
        "query_embedding = embedding_encoder.embed_query(query=query)\n",
        "\n",
        "# Print embeddings\n",
        "[print(e.embeddings, e) for e in elements]\n",
        "print(query_embedding, query)\n",
        "print(embedding_encoder.is_unit_vector(), embedding_encoder.num_of_dimensions())"
      ],
      "metadata": {
        "id": "-fr4ntVfO6ZC",
        "colab": {
          "base_uri": "https://localhost:8080/",
          "height": 265
        },
        "outputId": "f6141c6a-deef-459f-86cd-20b8a15e2a4b"
      },
      "execution_count": 9,
      "outputs": [
        {
          "output_type": "stream",
          "name": "stderr",
          "text": [
            "<ipython-input-9-bcd67ad64b77>:5: DeprecationWarning: unstructured.ingest will be removed in a future version. Functionality moved to the unstructured-ingest project.\n",
            "  from unstructured.embed.openai import OpenAIEmbeddingEncoder\n"
          ]
        },
        {
          "output_type": "error",
          "ename": "NameError",
          "evalue": "name 'OpenAIEmbeddingConfig' is not defined",
          "traceback": [
            "\u001b[0;31m---------------------------------------------------------------------------\u001b[0m",
            "\u001b[0;31mNameError\u001b[0m                                 Traceback (most recent call last)",
            "\u001b[0;32m<ipython-input-9-bcd67ad64b77>\u001b[0m in \u001b[0;36m<cell line: 0>\u001b[0;34m()\u001b[0m\n\u001b[1;32m     11\u001b[0m \u001b[0;34m\u001b[0m\u001b[0m\n\u001b[1;32m     12\u001b[0m \u001b[0;34m\u001b[0m\u001b[0m\n\u001b[0;32m---> 13\u001b[0;31m \u001b[0membedding_encoder\u001b[0m \u001b[0;34m=\u001b[0m\u001b[0mOpenAIEmbeddingEncoder\u001b[0m\u001b[0;34m(\u001b[0m\u001b[0mconfig\u001b[0m\u001b[0;34m=\u001b[0m\u001b[0mOpenAIEmbeddingConfig\u001b[0m\u001b[0;34m(\u001b[0m\u001b[0mapi_key\u001b[0m\u001b[0;34m=\u001b[0m\u001b[0mopen_ai_api_key\u001b[0m\u001b[0;34m)\u001b[0m\u001b[0;34m)\u001b[0m\u001b[0;34m\u001b[0m\u001b[0;34m\u001b[0m\u001b[0m\n\u001b[0m\u001b[1;32m     14\u001b[0m \u001b[0;34m\u001b[0m\u001b[0m\n\u001b[1;32m     15\u001b[0m \u001b[0;31m#embedding_encoder = OpenAIEmbeddingEncoder(config=[open_ai_api_key,\"text-embedding-ada-002\"] )\u001b[0m\u001b[0;34m\u001b[0m\u001b[0;34m\u001b[0m\u001b[0m\n",
            "\u001b[0;31mNameError\u001b[0m: name 'OpenAIEmbeddingConfig' is not defined"
          ]
        }
      ]
    },
    {
      "cell_type": "markdown",
      "source": [
        "## CNN HTML Links, Vector Databases, Automatic Summarization via LangChain + OpenAI\n",
        "\n",
        "In the following section we:\n",
        "\n",
        "1. Get the links for the latest articles from an HTML file (Option 1) or directly from the CNN website (Option 2).  \n",
        "2. Use the Unstructured document loader in Langchain to load the files.\n",
        "3. Create embeddings for each file using OpenAIEmbeddings.\n",
        "4. Store the embeddings in Chroma DB.\n",
        "5. Query Chroma DB to return relevant articles.   \n",
        "6. Summarize the relevant articles using LangChain OpenAI integration.\n",
        "\n",
        "https://unstructured-io.github.io/unstructured/examples/chroma.html"
      ],
      "metadata": {
        "id": "ThTIA8k3tL2X"
      }
    },
    {
      "cell_type": "markdown",
      "source": [
        "## Option 1: Import from HTML file stored on Github"
      ],
      "metadata": {
        "id": "Ve3HHzTqhhqP"
      }
    },
    {
      "cell_type": "code",
      "source": [
        "from unstructured.partition.html import partition_html\n",
        "import requests\n",
        "from google.colab import userdata\n",
        "open_ai_api_key = userdata.get('open_ai_api_key')\n",
        "\n",
        "url = \"https://github.com/StatsAI/NLP/blob/main/Breaking%20News%2C%20Latest%20News%20and%20Videos%20_%20CNN.html\"\n",
        "\n",
        "try:\n",
        "    response = requests.get(url, allow_redirects=True)\n",
        "    response.raise_for_status()  # Raise error if download fails\n",
        "except requests.exceptions.RequestException as e:\n",
        "    print(f\"Error downloading HTML: {e}\")\n",
        "    exit(1)\n",
        "\n",
        "# Save the content to a file\n",
        "with open(\"downloaded_html.html\", \"wb\") as f:\n",
        "    f.write(response.content)\n",
        "\n",
        "print(f\"HTML downloaded successfully to downloaded_html.html\")\n",
        "\n",
        "elements = partition_html(filename='downloaded_html.html')\n",
        "elements = elements[3].links\n",
        "\n",
        "links = []\n",
        "cnn_lite_url = \"https://lite.cnn.com/\"\n",
        "\n",
        "for element in elements:\n",
        "  try:\n",
        "    if element[\"url\"][3:-2]:\n",
        "      relative_link = element[\"url\"][3:-2]\n",
        "      links.append(f\"{cnn_lite_url}{relative_link}\")\n",
        "  except IndexError:\n",
        "    # Handle the case where the \"url\" key doesn't exist or the index is out of range\n",
        "    continue\n",
        "\n",
        "links"
      ],
      "metadata": {
        "colab": {
          "base_uri": "https://localhost:8080/",
          "height": 228
        },
        "id": "xOcpgzxHauNo",
        "outputId": "b1e47a2e-c0cc-45e7-ac39-591d4b487d2f"
      },
      "execution_count": 21,
      "outputs": [
        {
          "output_type": "stream",
          "name": "stdout",
          "text": [
            "HTML downloaded successfully to downloaded_html.html\n"
          ]
        },
        {
          "output_type": "error",
          "ename": "AttributeError",
          "evalue": "'Text' object has no attribute 'links'",
          "traceback": [
            "\u001b[0;31m---------------------------------------------------------------------------\u001b[0m",
            "\u001b[0;31mAttributeError\u001b[0m                            Traceback (most recent call last)",
            "\u001b[0;32m<ipython-input-21-fba403abab1a>\u001b[0m in \u001b[0;36m<cell line: 0>\u001b[0;34m()\u001b[0m\n\u001b[1;32m     20\u001b[0m \u001b[0;34m\u001b[0m\u001b[0m\n\u001b[1;32m     21\u001b[0m \u001b[0melements\u001b[0m \u001b[0;34m=\u001b[0m \u001b[0mpartition_html\u001b[0m\u001b[0;34m(\u001b[0m\u001b[0mfilename\u001b[0m\u001b[0;34m=\u001b[0m\u001b[0;34m'downloaded_html.html'\u001b[0m\u001b[0;34m)\u001b[0m\u001b[0;34m\u001b[0m\u001b[0;34m\u001b[0m\u001b[0m\n\u001b[0;32m---> 22\u001b[0;31m \u001b[0melements\u001b[0m \u001b[0;34m=\u001b[0m \u001b[0melements\u001b[0m\u001b[0;34m[\u001b[0m\u001b[0;36m3\u001b[0m\u001b[0;34m]\u001b[0m\u001b[0;34m.\u001b[0m\u001b[0mlinks\u001b[0m\u001b[0;34m\u001b[0m\u001b[0;34m\u001b[0m\u001b[0m\n\u001b[0m\u001b[1;32m     23\u001b[0m \u001b[0;34m\u001b[0m\u001b[0m\n\u001b[1;32m     24\u001b[0m \u001b[0mlinks\u001b[0m \u001b[0;34m=\u001b[0m \u001b[0;34m[\u001b[0m\u001b[0;34m]\u001b[0m\u001b[0;34m\u001b[0m\u001b[0;34m\u001b[0m\u001b[0m\n",
            "\u001b[0;31mAttributeError\u001b[0m: 'Text' object has no attribute 'links'"
          ]
        }
      ]
    },
    {
      "cell_type": "markdown",
      "source": [
        "## Option 2: Import from URL"
      ],
      "metadata": {
        "id": "LlmSs1neo9Yu"
      }
    },
    {
      "cell_type": "code",
      "source": [
        "elements = partition_html(url=cnn_lite_url)\n",
        "\n",
        "for element in elements:\n",
        "  print(element.metadata.link_urls)\n",
        "  #print(dir(element.metadata))\n",
        "  #print(dir(element))\n",
        "  #print(element.links)"
      ],
      "metadata": {
        "id": "JGP5IonMtC61",
        "outputId": "9c07df56-8631-4847-f63d-2d7cf818c885",
        "colab": {
          "base_uri": "https://localhost:8080/"
        }
      },
      "execution_count": 37,
      "outputs": [
        {
          "output_type": "stream",
          "name": "stdout",
          "text": [
            "['/']\n",
            "None\n",
            "['/2025/02/20/sport/4-nations-face-off-championship-spt/index.html']\n",
            "['/2025/02/20/style/birkenstock-sandals-german-court-ruling/index.html']\n",
            "['/2025/02/20/middleeast/israel-bus-explosions-hnk-intl/index.html']\n",
            "['/2025/02/20/travel/new-zealand-bug-year-velvet-worm-intl-hnk/index.html']\n",
            "['/2025/02/20/us/texas-ice-jocelynn-rojo-carranza/index.html']\n",
            "['/2025/02/20/science/nasa-layoffs-workforce-firings/index.html']\n",
            "['/2025/02/20/politics/elon-musk-private-security-deputized-marshals-service/index.html']\n",
            "['/2025/02/20/politics/senate-budget-resolution-vote-trump-agenda/index.html']\n",
            "['/2024/05/30/us/kohberger-idaho-killings-pretrial-hearings/index.html']\n",
            "['/2025/02/20/sport/espn-mlb-end-relationship-spt/index.html']\n",
            "['/2025/02/20/politics/us-resisting-adding-reference-to-russian-aggression-to-g7-ukraine-anniversary-statement/index.html']\n",
            "['/2025/02/20/health/deep-vein-thrombosis-explainer-wembanyama-wellness/index.html']\n",
            "['/2025/02/20/middleeast/israel-bibas-boys-among-dead-hostages-not-shiri-intl-latam/index.html']\n",
            "['/2025/02/20/politics/new-york-mayor-adams-governor-hochul/index.html']\n",
            "['/2025/02/20/politics/hegseth-could-fire-senior-generals-admirals/index.html']\n",
            "['/2025/02/20/business/delta-toronto-crash-payout-offer/index.html']\n",
            "['/2025/02/20/us/robert-brooks-death-prison-guards-arrested/index.html']\n",
            "['/2025/02/20/us/tamarac-florida-triple-homicide-deputies/index.html']\n",
            "['/2025/02/20/entertainment/leighton-meester-nobody-wants-this/index.html']\n",
            "['/2025/02/20/politics/senate-patel-confirmation-vote/index.html']\n",
            "['/2025/02/20/us/michigan-mom-bond-children-abandoned/index.html']\n",
            "['/2025/02/20/politics/kash-patel-senate-vote-dg/index.html']\n",
            "['/2025/02/20/americas/mexico-national-sovereignty-sheinbaum-intl-latam/index.html']\n",
            "['/2025/02/20/entertainment/james-bond-casting/index.html']\n",
            "['/2025/02/20/middleeast/hamas-israel-hostages-release-bibas-intl-hnk/index.html']\n",
            "['/2025/02/20/us/teens-arrested-houston-school-attack-plot/index.html']\n",
            "['/2025/02/20/entertainment/george-clooney-good-night-goodluck/index.html']\n",
            "['/2025/02/20/entertainment/conan-obrien-oscars-statue-promo/index.html']\n",
            "['/politics/trump-cabinet-picks-administration-dg/index.html']\n",
            "['/2025/02/20/asia/sri-lanka-elephant-herd-train-collision-int-latam/index.html']\n",
            "['/2025/02/20/politics/navy-relieves-commander-aircraft-carrier-collided/index.html']\n",
            "['/2025/02/17/europe/pope-francis-polymicrobial-infection-intl/index.html']\n",
            "['/2025/02/20/sport/victor-wembanyama-miss-season-shoulder-injury-spt/index.html']\n",
            "['/2025/02/20/politics/mitch-mcconnell-reelection/index.html']\n",
            "['/2025/02/20/europe/afd-germany-elections-young-intl/index.html']\n",
            "['/2025/02/19/us/arizona-plane-crash-marana/index.html']\n",
            "['/2025/02/20/us/athletes-home-burglary-chilean-theft-suspects/index.html']\n",
            "['/2025/02/20/health/lgbtq-population-rise-united-states-wellness/index.html']\n",
            "['/2025/02/20/sport/bobby-portis-jr-banned-tramadol-spt-intl/index.html']\n",
            "['/2025/02/20/economy/trump-abolish-irs/index.html']\n",
            "['/politics/tracking-trump-executive-orders-actions-dg/index.html']\n",
            "['/2025/02/20/tech/elon-musk-x-valuation/index.html']\n",
            "['/2025/02/17/entertainment/lots-of-characters-returned-for-snl50-we-wish-these-beloved-classics-were-among-them/index.html']\n",
            "['/2025/02/19/entertainment/dan-aykroyd-snl-anniversary-special/index.html']\n",
            "['/2025/02/20/entertainment/wild-robot-climate-reality-check/index.html']\n",
            "['/2025/02/19/entertainment/ethan-hawke-casting-social-media/index.html']\n",
            "['/2025/02/20/entertainment/ron-howard-don-knotts-related/index.html']\n",
            "['/2025/02/20/us/kathy-hochul-national-guard-prison-strikes/index.html']\n",
            "['/2025/02/20/style/rome-police-fake-paintings-picasso-rembrandt-intl-scli/index.html']\n",
            "['/2025/02/19/politics/hegseth-military-major-budget-cuts/index.html']\n",
            "['/2025/02/20/europe/ukraine-europe-trump-leadership-starmer-macron-cmd-intl/index.html']\n",
            "['/2025/02/20/business/amazon-mgm-james-bond/index.html']\n",
            "['/2025/02/18/us/what-we-know-delta-plane-crash-canada/index.html']\n",
            "['/2025/02/20/politics/doge-firing-low-performers-new-employees-reality/index.html']\n",
            "['/2025/02/20/us/abortion-missouri/index.html']\n",
            "['/2025/02/20/tech/nvidia-ai-american-sign-language/index.html']\n",
            "['/2025/02/20/entertainment/good-american-family-natalia-grace/index.html']\n",
            "['/2025/02/20/politics/cnn-poll-trump-approval/index.html']\n",
            "['/2025/02/20/sport/spain-rubiales-guilty-hermoso-kiss-intl/index.html']\n",
            "['/2025/02/20/sport/volta-ao-algarve-cycling-stage-canceled-spt-intl/index.html']\n",
            "['/2025/02/20/style/paris-hilton-closet-sale-wildfires/index.html']\n",
            "['/2025/02/20/sport/lewis-hamilton-ferrari-f1-season-preview-spt/index.html']\n",
            "['/2025/02/20/politics/wisconsin-state-supreme-court-election/index.html']\n",
            "['/2025/02/20/science/birds-of-paradise-biofluorescence-feathers/index.html']\n",
            "['/2025/02/20/sport/merab-dvalishvili-ufc-georgia-profile-spt-intl/index.html']\n",
            "['/2025/02/20/business/doge-dividend-checks-plan-inflation/index.html']\n",
            "['/2025/02/20/travel/bayeux-tapestry-france-close-two-years/index.html']\n",
            "['/2025/02/20/sport/kylian-mbappe-real-madrid-manchester-city-champions-league-spt/index.html']\n",
            "['/2025/02/20/business/trump-ukraine-western-companies-return-russia-intl/index.html']\n",
            "['/2025/02/20/politics/trump-zelensky-rift-ukraine-war/index.html']\n",
            "['/2025/02/20/us/mississippi-judge-clarksdale-register-editorial-order/index.html']\n",
            "['/2025/02/20/sport/venus-williams-wildcard-indian-wells-spt-intl/index.html']\n",
            "['/2025/02/20/business/ftc-merger-guidelines/index.html']\n",
            "['/2025/02/20/us/flight-attendants-safety-plane-crash/index.html']\n",
            "['/2025/02/20/asia/south-korea-yoon-insurrection-trial-intl/index.html']\n",
            "['/2025/02/20/sport/emma-raducanu-dubai-tennis-update-spt-intl/index.html']\n",
            "['/2025/02/20/politics/analysis-trumps-13-biggest-lies-first-month-2025/index.html']\n",
            "['/2025/02/20/economy/china-fdi-jan-decline-intl-hnk/index.html']\n",
            "['/2025/02/19/science/royal-tomb-thutmose-ii-discovered-egypt-intl-scli/index.html']\n",
            "['/2025/02/17/us/toronto-plane-crash-passengers/index.html']\n",
            "['/2025/02/20/us/us-catholic-bishops-lawsuit-trump-refugee-resettlement/index.html']\n",
            "['/2025/02/20/us/hanceville-alabama-police-grand-jury-abolish/index.html']\n",
            "['/2025/02/19/health/hhs-sex-man-woman-definitions/index.html']\n",
            "['/2025/02/19/china/xi-jinping-putin-trump-ukraine-peace-talks-intl-hnk/index.html']\n",
            "['/2025/02/19/middleeast/bibas-family-deaths-israel-hostages-intl-latam/index.html']\n",
            "['/2025/02/19/politics/trump-cant-end-birthright-citizenship-appeals-court-says/index.html']\n",
            "['/2025/02/19/us/jocelynn-rojo-carranza-gainesville-texas-death/index.html']\n",
            "['/2025/02/19/europe/zelensky-trump-reaction-intl/index.html']\n",
            "['/2025/02/19/style/india-chapal-bhaduri-female-impersonator-hnk-intl-snap/index.html']\n",
            "['/2025/02/15/sport/damian-lillard-next-generation-all-star-spt-intl/index.html']\n",
            "['/2025/02/19/europe/analysis-trump-zelensky-dictator-intl-latam/index.html']\n",
            "['/2025/02/16/sport/mac-mcclung-slam-dunk-history-spt-intl/index.html']\n",
            "['/2025/02/19/us/seven-men-charged-burglaries-professional-athletes-hnk/index.html']\n",
            "['/2025/02/19/americas/delta-plane-crash-toronto-canada/index.html']\n",
            "['/2025/02/19/tech/trump-media-bolsonaro-indictment/index.html']\n",
            "['/2025/02/19/science/asteroid-2024-yr4-earth-collision-risk/index.html']\n",
            "['/2025/02/18/entertainment/asap-rocky-verdict/index.html']\n",
            "['/2025/02/19/business/trump-kills-congestion-pricing-nyc/index.html']\n",
            "['/2025/02/19/us/oregon-avalanche-skiers-killed/index.html']\n",
            "['/2025/02/19/us/andrew-lester-ralph-yarl-shooting/index.html']\n",
            "['https://www.cnn.com/']\n",
            "None\n",
            "['https://www.cnn.com/terms', 'https://www.cnn.com/privacy', 'https://www.cnn.com/ad-choices']\n"
          ]
        }
      ]
    },
    {
      "cell_type": "code",
      "source": [
        "from unstructured.partition.html import partition_html\n",
        "from google.colab import userdata\n",
        "open_ai_api_key = userdata.get('open_ai_api_key')\n",
        "\n",
        "cnn_lite_url = \"https://lite.cnn.com/\"\n",
        "\n",
        "elements = partition_html(url=cnn_lite_url)\n",
        "links = []\n",
        "\n",
        "for element in elements:\n",
        "  try:\n",
        "    if element.metadata.link_urls:\n",
        "      relative_link = element.metadata.link_urls[0]\n",
        "      links.append(f\"{cnn_lite_url}{relative_link}\")\n",
        "  except IndexError:\n",
        "    # Handle the case where the \"url\" key doesn't exist or the index is out of range\n",
        "    continue\n",
        "\n",
        "links"
      ],
      "metadata": {
        "id": "jJIF648dyMnd",
        "outputId": "878cba82-ed6d-4078-9217-fc49c1384b67",
        "colab": {
          "base_uri": "https://localhost:8080/"
        }
      },
      "execution_count": 39,
      "outputs": [
        {
          "output_type": "execute_result",
          "data": {
            "text/plain": [
              "['https://lite.cnn.com//',\n",
              " 'https://lite.cnn.com//2025/02/20/sport/4-nations-face-off-championship-spt/index.html',\n",
              " 'https://lite.cnn.com//2025/02/20/style/birkenstock-sandals-german-court-ruling/index.html',\n",
              " 'https://lite.cnn.com//2025/02/20/middleeast/israel-bus-explosions-hnk-intl/index.html',\n",
              " 'https://lite.cnn.com//2025/02/20/travel/new-zealand-bug-year-velvet-worm-intl-hnk/index.html',\n",
              " 'https://lite.cnn.com//2025/02/20/us/texas-ice-jocelynn-rojo-carranza/index.html',\n",
              " 'https://lite.cnn.com//2025/02/20/science/nasa-layoffs-workforce-firings/index.html',\n",
              " 'https://lite.cnn.com//2025/02/20/politics/elon-musk-private-security-deputized-marshals-service/index.html',\n",
              " 'https://lite.cnn.com//2025/02/20/politics/senate-budget-resolution-vote-trump-agenda/index.html',\n",
              " 'https://lite.cnn.com//2024/05/30/us/kohberger-idaho-killings-pretrial-hearings/index.html',\n",
              " 'https://lite.cnn.com//2025/02/20/sport/espn-mlb-end-relationship-spt/index.html',\n",
              " 'https://lite.cnn.com//2025/02/20/politics/us-resisting-adding-reference-to-russian-aggression-to-g7-ukraine-anniversary-statement/index.html',\n",
              " 'https://lite.cnn.com//2025/02/20/health/deep-vein-thrombosis-explainer-wembanyama-wellness/index.html',\n",
              " 'https://lite.cnn.com//2025/02/20/middleeast/israel-bibas-boys-among-dead-hostages-not-shiri-intl-latam/index.html',\n",
              " 'https://lite.cnn.com//2025/02/20/politics/new-york-mayor-adams-governor-hochul/index.html',\n",
              " 'https://lite.cnn.com//2025/02/20/politics/hegseth-could-fire-senior-generals-admirals/index.html',\n",
              " 'https://lite.cnn.com//2025/02/20/business/delta-toronto-crash-payout-offer/index.html',\n",
              " 'https://lite.cnn.com//2025/02/20/us/robert-brooks-death-prison-guards-arrested/index.html',\n",
              " 'https://lite.cnn.com//2025/02/20/us/tamarac-florida-triple-homicide-deputies/index.html',\n",
              " 'https://lite.cnn.com//2025/02/20/entertainment/leighton-meester-nobody-wants-this/index.html',\n",
              " 'https://lite.cnn.com//2025/02/20/politics/senate-patel-confirmation-vote/index.html',\n",
              " 'https://lite.cnn.com//2025/02/20/us/michigan-mom-bond-children-abandoned/index.html',\n",
              " 'https://lite.cnn.com//2025/02/20/politics/kash-patel-senate-vote-dg/index.html',\n",
              " 'https://lite.cnn.com//2025/02/20/americas/mexico-national-sovereignty-sheinbaum-intl-latam/index.html',\n",
              " 'https://lite.cnn.com//2025/02/20/entertainment/james-bond-casting/index.html',\n",
              " 'https://lite.cnn.com//2025/02/20/middleeast/hamas-israel-hostages-release-bibas-intl-hnk/index.html',\n",
              " 'https://lite.cnn.com//2025/02/20/us/teens-arrested-houston-school-attack-plot/index.html',\n",
              " 'https://lite.cnn.com//2025/02/20/entertainment/george-clooney-good-night-goodluck/index.html',\n",
              " 'https://lite.cnn.com//2025/02/20/entertainment/conan-obrien-oscars-statue-promo/index.html',\n",
              " 'https://lite.cnn.com//politics/trump-cabinet-picks-administration-dg/index.html',\n",
              " 'https://lite.cnn.com//2025/02/20/asia/sri-lanka-elephant-herd-train-collision-int-latam/index.html',\n",
              " 'https://lite.cnn.com//2025/02/20/politics/navy-relieves-commander-aircraft-carrier-collided/index.html',\n",
              " 'https://lite.cnn.com//2025/02/17/europe/pope-francis-polymicrobial-infection-intl/index.html',\n",
              " 'https://lite.cnn.com//2025/02/20/sport/victor-wembanyama-miss-season-shoulder-injury-spt/index.html',\n",
              " 'https://lite.cnn.com//2025/02/20/politics/mitch-mcconnell-reelection/index.html',\n",
              " 'https://lite.cnn.com//2025/02/20/europe/afd-germany-elections-young-intl/index.html',\n",
              " 'https://lite.cnn.com//2025/02/19/us/arizona-plane-crash-marana/index.html',\n",
              " 'https://lite.cnn.com//2025/02/20/us/athletes-home-burglary-chilean-theft-suspects/index.html',\n",
              " 'https://lite.cnn.com//2025/02/20/health/lgbtq-population-rise-united-states-wellness/index.html',\n",
              " 'https://lite.cnn.com//2025/02/20/sport/bobby-portis-jr-banned-tramadol-spt-intl/index.html',\n",
              " 'https://lite.cnn.com//2025/02/20/economy/trump-abolish-irs/index.html',\n",
              " 'https://lite.cnn.com//politics/tracking-trump-executive-orders-actions-dg/index.html',\n",
              " 'https://lite.cnn.com//2025/02/20/tech/elon-musk-x-valuation/index.html',\n",
              " 'https://lite.cnn.com//2025/02/17/entertainment/lots-of-characters-returned-for-snl50-we-wish-these-beloved-classics-were-among-them/index.html',\n",
              " 'https://lite.cnn.com//2025/02/19/entertainment/dan-aykroyd-snl-anniversary-special/index.html',\n",
              " 'https://lite.cnn.com//2025/02/20/entertainment/wild-robot-climate-reality-check/index.html',\n",
              " 'https://lite.cnn.com//2025/02/19/entertainment/ethan-hawke-casting-social-media/index.html',\n",
              " 'https://lite.cnn.com//2025/02/20/entertainment/ron-howard-don-knotts-related/index.html',\n",
              " 'https://lite.cnn.com//2025/02/20/us/kathy-hochul-national-guard-prison-strikes/index.html',\n",
              " 'https://lite.cnn.com//2025/02/20/style/rome-police-fake-paintings-picasso-rembrandt-intl-scli/index.html',\n",
              " 'https://lite.cnn.com//2025/02/19/politics/hegseth-military-major-budget-cuts/index.html',\n",
              " 'https://lite.cnn.com//2025/02/20/europe/ukraine-europe-trump-leadership-starmer-macron-cmd-intl/index.html',\n",
              " 'https://lite.cnn.com//2025/02/20/business/amazon-mgm-james-bond/index.html',\n",
              " 'https://lite.cnn.com//2025/02/18/us/what-we-know-delta-plane-crash-canada/index.html',\n",
              " 'https://lite.cnn.com//2025/02/20/politics/doge-firing-low-performers-new-employees-reality/index.html',\n",
              " 'https://lite.cnn.com//2025/02/20/us/abortion-missouri/index.html',\n",
              " 'https://lite.cnn.com//2025/02/20/tech/nvidia-ai-american-sign-language/index.html',\n",
              " 'https://lite.cnn.com//2025/02/20/entertainment/good-american-family-natalia-grace/index.html',\n",
              " 'https://lite.cnn.com//2025/02/20/politics/cnn-poll-trump-approval/index.html',\n",
              " 'https://lite.cnn.com//2025/02/20/sport/spain-rubiales-guilty-hermoso-kiss-intl/index.html',\n",
              " 'https://lite.cnn.com//2025/02/20/sport/volta-ao-algarve-cycling-stage-canceled-spt-intl/index.html',\n",
              " 'https://lite.cnn.com//2025/02/20/style/paris-hilton-closet-sale-wildfires/index.html',\n",
              " 'https://lite.cnn.com//2025/02/20/sport/lewis-hamilton-ferrari-f1-season-preview-spt/index.html',\n",
              " 'https://lite.cnn.com//2025/02/20/politics/wisconsin-state-supreme-court-election/index.html',\n",
              " 'https://lite.cnn.com//2025/02/20/science/birds-of-paradise-biofluorescence-feathers/index.html',\n",
              " 'https://lite.cnn.com//2025/02/20/sport/merab-dvalishvili-ufc-georgia-profile-spt-intl/index.html',\n",
              " 'https://lite.cnn.com//2025/02/20/business/doge-dividend-checks-plan-inflation/index.html',\n",
              " 'https://lite.cnn.com//2025/02/20/travel/bayeux-tapestry-france-close-two-years/index.html',\n",
              " 'https://lite.cnn.com//2025/02/20/sport/kylian-mbappe-real-madrid-manchester-city-champions-league-spt/index.html',\n",
              " 'https://lite.cnn.com//2025/02/20/business/trump-ukraine-western-companies-return-russia-intl/index.html',\n",
              " 'https://lite.cnn.com//2025/02/20/politics/trump-zelensky-rift-ukraine-war/index.html',\n",
              " 'https://lite.cnn.com//2025/02/20/us/mississippi-judge-clarksdale-register-editorial-order/index.html',\n",
              " 'https://lite.cnn.com//2025/02/20/sport/venus-williams-wildcard-indian-wells-spt-intl/index.html',\n",
              " 'https://lite.cnn.com//2025/02/20/business/ftc-merger-guidelines/index.html',\n",
              " 'https://lite.cnn.com//2025/02/20/us/flight-attendants-safety-plane-crash/index.html',\n",
              " 'https://lite.cnn.com//2025/02/20/asia/south-korea-yoon-insurrection-trial-intl/index.html',\n",
              " 'https://lite.cnn.com//2025/02/20/sport/emma-raducanu-dubai-tennis-update-spt-intl/index.html',\n",
              " 'https://lite.cnn.com//2025/02/20/politics/analysis-trumps-13-biggest-lies-first-month-2025/index.html',\n",
              " 'https://lite.cnn.com//2025/02/20/economy/china-fdi-jan-decline-intl-hnk/index.html',\n",
              " 'https://lite.cnn.com//2025/02/19/science/royal-tomb-thutmose-ii-discovered-egypt-intl-scli/index.html',\n",
              " 'https://lite.cnn.com//2025/02/17/us/toronto-plane-crash-passengers/index.html',\n",
              " 'https://lite.cnn.com//2025/02/20/us/us-catholic-bishops-lawsuit-trump-refugee-resettlement/index.html',\n",
              " 'https://lite.cnn.com//2025/02/20/us/hanceville-alabama-police-grand-jury-abolish/index.html',\n",
              " 'https://lite.cnn.com//2025/02/19/health/hhs-sex-man-woman-definitions/index.html',\n",
              " 'https://lite.cnn.com//2025/02/19/china/xi-jinping-putin-trump-ukraine-peace-talks-intl-hnk/index.html',\n",
              " 'https://lite.cnn.com//2025/02/19/middleeast/bibas-family-deaths-israel-hostages-intl-latam/index.html',\n",
              " 'https://lite.cnn.com//2025/02/19/politics/trump-cant-end-birthright-citizenship-appeals-court-says/index.html',\n",
              " 'https://lite.cnn.com//2025/02/19/us/jocelynn-rojo-carranza-gainesville-texas-death/index.html',\n",
              " 'https://lite.cnn.com//2025/02/19/europe/zelensky-trump-reaction-intl/index.html',\n",
              " 'https://lite.cnn.com//2025/02/19/style/india-chapal-bhaduri-female-impersonator-hnk-intl-snap/index.html',\n",
              " 'https://lite.cnn.com//2025/02/15/sport/damian-lillard-next-generation-all-star-spt-intl/index.html',\n",
              " 'https://lite.cnn.com//2025/02/19/europe/analysis-trump-zelensky-dictator-intl-latam/index.html',\n",
              " 'https://lite.cnn.com//2025/02/16/sport/mac-mcclung-slam-dunk-history-spt-intl/index.html',\n",
              " 'https://lite.cnn.com//2025/02/19/us/seven-men-charged-burglaries-professional-athletes-hnk/index.html',\n",
              " 'https://lite.cnn.com//2025/02/19/americas/delta-plane-crash-toronto-canada/index.html',\n",
              " 'https://lite.cnn.com//2025/02/19/tech/trump-media-bolsonaro-indictment/index.html',\n",
              " 'https://lite.cnn.com//2025/02/19/science/asteroid-2024-yr4-earth-collision-risk/index.html',\n",
              " 'https://lite.cnn.com//2025/02/18/entertainment/asap-rocky-verdict/index.html',\n",
              " 'https://lite.cnn.com//2025/02/19/business/trump-kills-congestion-pricing-nyc/index.html',\n",
              " 'https://lite.cnn.com//2025/02/19/us/oregon-avalanche-skiers-killed/index.html',\n",
              " 'https://lite.cnn.com//2025/02/19/us/andrew-lester-ralph-yarl-shooting/index.html',\n",
              " 'https://lite.cnn.com/https://www.cnn.com/',\n",
              " 'https://lite.cnn.com/https://www.cnn.com/terms']"
            ]
          },
          "metadata": {},
          "execution_count": 39
        }
      ]
    },
    {
      "cell_type": "code",
      "source": [
        "# from unstructured.partition.html import partition_html\n",
        "# from google.colab import userdata\n",
        "# open_ai_api_key = userdata.get('open_ai_api_key')\n",
        "\n",
        "# cnn_lite_url = \"https://lite.cnn.com/\"\n",
        "\n",
        "# elements = partition_html(url=cnn_lite_url)\n",
        "# links = []\n",
        "\n",
        "# for element in elements:\n",
        "#   try:\n",
        "#     if element.links[0][\"url\"][1:]:\n",
        "#       relative_link = element.links[0][\"url\"][1:]\n",
        "#       links.append(f\"{cnn_lite_url}{relative_link}\")\n",
        "#   except IndexError:\n",
        "#     # Handle the case where the \"url\" key doesn't exist or the index is out of range\n",
        "#     continue\n",
        "\n",
        "# links"
      ],
      "metadata": {
        "id": "e815gGkDPxpq"
      },
      "execution_count": 40,
      "outputs": []
    },
    {
      "cell_type": "code",
      "source": [
        "!pip install -U langchain-community"
      ],
      "metadata": {
        "id": "o0t1RCY6zFAq",
        "outputId": "2135d49c-a811-4e5d-c19f-9f4789a5f37b",
        "colab": {
          "base_uri": "https://localhost:8080/"
        }
      },
      "execution_count": 42,
      "outputs": [
        {
          "output_type": "stream",
          "name": "stdout",
          "text": [
            "Collecting langchain-community\n",
            "  Downloading langchain_community-0.3.18-py3-none-any.whl.metadata (2.4 kB)\n",
            "Collecting langchain-core<1.0.0,>=0.3.37 (from langchain-community)\n",
            "  Downloading langchain_core-0.3.37-py3-none-any.whl.metadata (5.9 kB)\n",
            "Collecting langchain<1.0.0,>=0.3.19 (from langchain-community)\n",
            "  Downloading langchain-0.3.19-py3-none-any.whl.metadata (7.9 kB)\n",
            "Requirement already satisfied: SQLAlchemy<3,>=1.4 in /usr/local/lib/python3.11/dist-packages (from langchain-community) (2.0.38)\n",
            "Requirement already satisfied: requests<3,>=2 in /usr/local/lib/python3.11/dist-packages (from langchain-community) (2.32.3)\n",
            "Requirement already satisfied: PyYAML>=5.3 in /usr/local/lib/python3.11/dist-packages (from langchain-community) (6.0.2)\n",
            "Requirement already satisfied: aiohttp<4.0.0,>=3.8.3 in /usr/local/lib/python3.11/dist-packages (from langchain-community) (3.11.12)\n",
            "Requirement already satisfied: tenacity!=8.4.0,<10,>=8.1.0 in /usr/local/lib/python3.11/dist-packages (from langchain-community) (9.0.0)\n",
            "Requirement already satisfied: dataclasses-json<0.7,>=0.5.7 in /usr/local/lib/python3.11/dist-packages (from langchain-community) (0.6.7)\n",
            "Collecting pydantic-settings<3.0.0,>=2.4.0 (from langchain-community)\n",
            "  Downloading pydantic_settings-2.7.1-py3-none-any.whl.metadata (3.5 kB)\n",
            "Requirement already satisfied: langsmith<0.4,>=0.1.125 in /usr/local/lib/python3.11/dist-packages (from langchain-community) (0.3.8)\n",
            "Collecting httpx-sse<1.0.0,>=0.4.0 (from langchain-community)\n",
            "  Downloading httpx_sse-0.4.0-py3-none-any.whl.metadata (9.0 kB)\n",
            "Requirement already satisfied: numpy<2,>=1.26.4 in /usr/local/lib/python3.11/dist-packages (from langchain-community) (1.26.4)\n",
            "Requirement already satisfied: aiohappyeyeballs>=2.3.0 in /usr/local/lib/python3.11/dist-packages (from aiohttp<4.0.0,>=3.8.3->langchain-community) (2.4.6)\n",
            "Requirement already satisfied: aiosignal>=1.1.2 in /usr/local/lib/python3.11/dist-packages (from aiohttp<4.0.0,>=3.8.3->langchain-community) (1.3.2)\n",
            "Requirement already satisfied: attrs>=17.3.0 in /usr/local/lib/python3.11/dist-packages (from aiohttp<4.0.0,>=3.8.3->langchain-community) (25.1.0)\n",
            "Requirement already satisfied: frozenlist>=1.1.1 in /usr/local/lib/python3.11/dist-packages (from aiohttp<4.0.0,>=3.8.3->langchain-community) (1.5.0)\n",
            "Requirement already satisfied: multidict<7.0,>=4.5 in /usr/local/lib/python3.11/dist-packages (from aiohttp<4.0.0,>=3.8.3->langchain-community) (6.1.0)\n",
            "Requirement already satisfied: propcache>=0.2.0 in /usr/local/lib/python3.11/dist-packages (from aiohttp<4.0.0,>=3.8.3->langchain-community) (0.2.1)\n",
            "Requirement already satisfied: yarl<2.0,>=1.17.0 in /usr/local/lib/python3.11/dist-packages (from aiohttp<4.0.0,>=3.8.3->langchain-community) (1.18.3)\n",
            "Requirement already satisfied: marshmallow<4.0.0,>=3.18.0 in /usr/local/lib/python3.11/dist-packages (from dataclasses-json<0.7,>=0.5.7->langchain-community) (3.26.1)\n",
            "Requirement already satisfied: typing-inspect<1,>=0.4.0 in /usr/local/lib/python3.11/dist-packages (from dataclasses-json<0.7,>=0.5.7->langchain-community) (0.9.0)\n",
            "Requirement already satisfied: langchain-text-splitters<1.0.0,>=0.3.6 in /usr/local/lib/python3.11/dist-packages (from langchain<1.0.0,>=0.3.19->langchain-community) (0.3.6)\n",
            "Requirement already satisfied: pydantic<3.0.0,>=2.7.4 in /usr/local/lib/python3.11/dist-packages (from langchain<1.0.0,>=0.3.19->langchain-community) (2.10.6)\n",
            "Requirement already satisfied: jsonpatch<2.0,>=1.33 in /usr/local/lib/python3.11/dist-packages (from langchain-core<1.0.0,>=0.3.37->langchain-community) (1.33)\n",
            "Requirement already satisfied: packaging<25,>=23.2 in /usr/local/lib/python3.11/dist-packages (from langchain-core<1.0.0,>=0.3.37->langchain-community) (24.2)\n",
            "Requirement already satisfied: typing-extensions>=4.7 in /usr/local/lib/python3.11/dist-packages (from langchain-core<1.0.0,>=0.3.37->langchain-community) (4.12.2)\n",
            "Requirement already satisfied: httpx<1,>=0.23.0 in /usr/local/lib/python3.11/dist-packages (from langsmith<0.4,>=0.1.125->langchain-community) (0.28.1)\n",
            "Requirement already satisfied: orjson<4.0.0,>=3.9.14 in /usr/local/lib/python3.11/dist-packages (from langsmith<0.4,>=0.1.125->langchain-community) (3.10.15)\n",
            "Requirement already satisfied: requests-toolbelt<2.0.0,>=1.0.0 in /usr/local/lib/python3.11/dist-packages (from langsmith<0.4,>=0.1.125->langchain-community) (1.0.0)\n",
            "Requirement already satisfied: zstandard<0.24.0,>=0.23.0 in /usr/local/lib/python3.11/dist-packages (from langsmith<0.4,>=0.1.125->langchain-community) (0.23.0)\n",
            "Requirement already satisfied: python-dotenv>=0.21.0 in /usr/local/lib/python3.11/dist-packages (from pydantic-settings<3.0.0,>=2.4.0->langchain-community) (1.0.1)\n",
            "Requirement already satisfied: charset-normalizer<4,>=2 in /usr/local/lib/python3.11/dist-packages (from requests<3,>=2->langchain-community) (3.4.1)\n",
            "Requirement already satisfied: idna<4,>=2.5 in /usr/local/lib/python3.11/dist-packages (from requests<3,>=2->langchain-community) (3.10)\n",
            "Requirement already satisfied: urllib3<3,>=1.21.1 in /usr/local/lib/python3.11/dist-packages (from requests<3,>=2->langchain-community) (2.3.0)\n",
            "Requirement already satisfied: certifi>=2017.4.17 in /usr/local/lib/python3.11/dist-packages (from requests<3,>=2->langchain-community) (2025.1.31)\n",
            "Requirement already satisfied: greenlet!=0.4.17 in /usr/local/lib/python3.11/dist-packages (from SQLAlchemy<3,>=1.4->langchain-community) (3.1.1)\n",
            "Requirement already satisfied: anyio in /usr/local/lib/python3.11/dist-packages (from httpx<1,>=0.23.0->langsmith<0.4,>=0.1.125->langchain-community) (3.7.1)\n",
            "Requirement already satisfied: httpcore==1.* in /usr/local/lib/python3.11/dist-packages (from httpx<1,>=0.23.0->langsmith<0.4,>=0.1.125->langchain-community) (1.0.7)\n",
            "Requirement already satisfied: h11<0.15,>=0.13 in /usr/local/lib/python3.11/dist-packages (from httpcore==1.*->httpx<1,>=0.23.0->langsmith<0.4,>=0.1.125->langchain-community) (0.14.0)\n",
            "Requirement already satisfied: jsonpointer>=1.9 in /usr/local/lib/python3.11/dist-packages (from jsonpatch<2.0,>=1.33->langchain-core<1.0.0,>=0.3.37->langchain-community) (3.0.0)\n",
            "Requirement already satisfied: annotated-types>=0.6.0 in /usr/local/lib/python3.11/dist-packages (from pydantic<3.0.0,>=2.7.4->langchain<1.0.0,>=0.3.19->langchain-community) (0.7.0)\n",
            "Requirement already satisfied: pydantic-core==2.27.2 in /usr/local/lib/python3.11/dist-packages (from pydantic<3.0.0,>=2.7.4->langchain<1.0.0,>=0.3.19->langchain-community) (2.27.2)\n",
            "Requirement already satisfied: mypy-extensions>=0.3.0 in /usr/local/lib/python3.11/dist-packages (from typing-inspect<1,>=0.4.0->dataclasses-json<0.7,>=0.5.7->langchain-community) (1.0.0)\n",
            "Requirement already satisfied: sniffio>=1.1 in /usr/local/lib/python3.11/dist-packages (from anyio->httpx<1,>=0.23.0->langsmith<0.4,>=0.1.125->langchain-community) (1.3.1)\n",
            "Downloading langchain_community-0.3.18-py3-none-any.whl (2.5 MB)\n",
            "\u001b[2K   \u001b[90m━━━━━━━━━━━━━━━━━━━━━━━━━━━━━━━━━━━━━━━━\u001b[0m \u001b[32m2.5/2.5 MB\u001b[0m \u001b[31m30.5 MB/s\u001b[0m eta \u001b[36m0:00:00\u001b[0m\n",
            "\u001b[?25hDownloading httpx_sse-0.4.0-py3-none-any.whl (7.8 kB)\n",
            "Downloading langchain-0.3.19-py3-none-any.whl (1.0 MB)\n",
            "\u001b[2K   \u001b[90m━━━━━━━━━━━━━━━━━━━━━━━━━━━━━━━━━━━━━━━━\u001b[0m \u001b[32m1.0/1.0 MB\u001b[0m \u001b[31m51.9 MB/s\u001b[0m eta \u001b[36m0:00:00\u001b[0m\n",
            "\u001b[?25hDownloading langchain_core-0.3.37-py3-none-any.whl (413 kB)\n",
            "\u001b[2K   \u001b[90m━━━━━━━━━━━━━━━━━━━━━━━━━━━━━━━━━━━━━━━━\u001b[0m \u001b[32m413.7/413.7 kB\u001b[0m \u001b[31m29.1 MB/s\u001b[0m eta \u001b[36m0:00:00\u001b[0m\n",
            "\u001b[?25hDownloading pydantic_settings-2.7.1-py3-none-any.whl (29 kB)\n",
            "Installing collected packages: httpx-sse, pydantic-settings, langchain-core, langchain, langchain-community\n",
            "  Attempting uninstall: langchain-core\n",
            "    Found existing installation: langchain-core 0.3.35\n",
            "    Uninstalling langchain-core-0.3.35:\n",
            "      Successfully uninstalled langchain-core-0.3.35\n",
            "  Attempting uninstall: langchain\n",
            "    Found existing installation: langchain 0.3.18\n",
            "    Uninstalling langchain-0.3.18:\n",
            "      Successfully uninstalled langchain-0.3.18\n",
            "Successfully installed httpx-sse-0.4.0 langchain-0.3.19 langchain-community-0.3.18 langchain-core-0.3.37 pydantic-settings-2.7.1\n"
          ]
        }
      ]
    },
    {
      "cell_type": "code",
      "source": [
        "from langchain.document_loaders import UnstructuredURLLoader\n",
        "\n",
        "# links = ['https://lite.cnn.com/2024/02/22/tech/nvidia-ceo-jensen-huang-20-richest-billionaire/index.html',\n",
        "#          'https://lite.cnn.com/2024/02/22/us/darryl-george-crown-act-trial-texas-reaj/index.html']\n",
        "\n",
        "loaders = UnstructuredURLLoader(urls=links, show_progress_bar=True)\n",
        "\n",
        "docs = loaders.load()"
      ],
      "metadata": {
        "colab": {
          "base_uri": "https://localhost:8080/"
        },
        "id": "nz5uhvRJXRYF",
        "outputId": "1861fa7c-79b8-4268-fc60-3f9bf5f6082d"
      },
      "execution_count": 43,
      "outputs": [
        {
          "output_type": "stream",
          "name": "stderr",
          "text": [
            "100%|██████████| 103/103 [00:34<00:00,  2.96it/s]\n"
          ]
        }
      ]
    },
    {
      "cell_type": "code",
      "source": [
        "!pip install tiktoken"
      ],
      "metadata": {
        "id": "vfTfj7Wczd8w",
        "outputId": "bd369710-9645-4006-9318-7c4d44bc4dbd",
        "colab": {
          "base_uri": "https://localhost:8080/"
        }
      },
      "execution_count": 45,
      "outputs": [
        {
          "output_type": "stream",
          "name": "stdout",
          "text": [
            "Collecting tiktoken\n",
            "  Downloading tiktoken-0.9.0-cp311-cp311-manylinux_2_17_x86_64.manylinux2014_x86_64.whl.metadata (6.7 kB)\n",
            "Requirement already satisfied: regex>=2022.1.18 in /usr/local/lib/python3.11/dist-packages (from tiktoken) (2024.11.6)\n",
            "Requirement already satisfied: requests>=2.26.0 in /usr/local/lib/python3.11/dist-packages (from tiktoken) (2.32.3)\n",
            "Requirement already satisfied: charset-normalizer<4,>=2 in /usr/local/lib/python3.11/dist-packages (from requests>=2.26.0->tiktoken) (3.4.1)\n",
            "Requirement already satisfied: idna<4,>=2.5 in /usr/local/lib/python3.11/dist-packages (from requests>=2.26.0->tiktoken) (3.10)\n",
            "Requirement already satisfied: urllib3<3,>=1.21.1 in /usr/local/lib/python3.11/dist-packages (from requests>=2.26.0->tiktoken) (2.3.0)\n",
            "Requirement already satisfied: certifi>=2017.4.17 in /usr/local/lib/python3.11/dist-packages (from requests>=2.26.0->tiktoken) (2025.1.31)\n",
            "Downloading tiktoken-0.9.0-cp311-cp311-manylinux_2_17_x86_64.manylinux2014_x86_64.whl (1.2 MB)\n",
            "\u001b[2K   \u001b[90m━━━━━━━━━━━━━━━━━━━━━━━━━━━━━━━━━━━━━━━━\u001b[0m \u001b[32m1.2/1.2 MB\u001b[0m \u001b[31m13.3 MB/s\u001b[0m eta \u001b[36m0:00:00\u001b[0m\n",
            "\u001b[?25hInstalling collected packages: tiktoken\n",
            "Successfully installed tiktoken-0.9.0\n"
          ]
        }
      ]
    },
    {
      "cell_type": "code",
      "source": [
        "from langchain.vectorstores.chroma import Chroma\n",
        "from langchain.embeddings import OpenAIEmbeddings\n",
        "from unstructured.embed.openai import OpenAIEmbeddingEncoder\n",
        "\n",
        "embeddings = OpenAIEmbeddings(openai_api_key=open_ai_api_key)\n",
        "vectorstore = Chroma.from_documents(docs, embeddings)"
      ],
      "metadata": {
        "id": "m0t1C-aBX6Y8"
      },
      "execution_count": 46,
      "outputs": []
    },
    {
      "cell_type": "code",
      "source": [
        "query_docs = vectorstore.similarity_search(\"Trump\", k=5)"
      ],
      "metadata": {
        "id": "VSoBhb6VwQHi"
      },
      "execution_count": 47,
      "outputs": []
    },
    {
      "cell_type": "code",
      "source": [
        "from langchain.chat_models import ChatOpenAI\n",
        "from langchain.chains.summarize import load_summarize_chain\n",
        "\n",
        "llm = ChatOpenAI(temperature=0, model_name=\"gpt-3.5-turbo-16k\", openai_api_key=open_ai_api_key)\n",
        "chain = load_summarize_chain(llm, chain_type=\"stuff\")"
      ],
      "metadata": {
        "colab": {
          "base_uri": "https://localhost:8080/"
        },
        "id": "lHtxNGSDdqVd",
        "outputId": "2e4ecc8a-9039-4223-a905-abfc98bd8375"
      },
      "execution_count": 48,
      "outputs": [
        {
          "output_type": "stream",
          "name": "stderr",
          "text": [
            "<ipython-input-48-76c1e030b804>:4: LangChainDeprecationWarning: The class `ChatOpenAI` was deprecated in LangChain 0.0.10 and will be removed in 1.0. An updated version of the class exists in the :class:`~langchain-openai package and should be used instead. To use it run `pip install -U :class:`~langchain-openai` and import as `from :class:`~langchain_openai import ChatOpenAI``.\n",
            "  llm = ChatOpenAI(temperature=0, model_name=\"gpt-3.5-turbo-16k\", openai_api_key=open_ai_api_key)\n"
          ]
        }
      ]
    },
    {
      "cell_type": "code",
      "source": [
        "for doc in query_docs:\n",
        "  source = doc.metadata\n",
        "  result = chain.invoke([doc])\n",
        "  print(result['output_text'])\n",
        "  print(source)\n",
        "  print('')"
      ],
      "metadata": {
        "colab": {
          "base_uri": "https://localhost:8080/"
        },
        "id": "YhcSSyJ0H1Gv",
        "outputId": "599c0dc2-7038-4f73-9694-24c03340b66c"
      },
      "execution_count": 49,
      "outputs": [
        {
          "output_type": "stream",
          "name": "stdout",
          "text": [
            "This article from CNN highlights 13 of the biggest lies that former President Donald Trump made during his first month back in office. The lies range from false claims about funding condoms for Hamas to denying the assault on the Capitol on January 6, 2021. Trump also made false statements about birthright citizenship, California water policy, and the 2020 election. He continued to spread misinformation about Olympic boxers, Canada, FAA diversity initiatives, tariffs, autism rates, and China's operation of the Panama Canal. Additionally, Trump falsely claimed to have won the youth vote by 36 points in the 2024 election.\n",
            "{'source': 'https://lite.cnn.com//2025/02/20/politics/analysis-trumps-13-biggest-lies-first-month-2025/index.html'}\n",
            "\n",
            "The relationship between President Donald Trump and Ukrainian President Volodymyr Zelensky has deteriorated, with Trump publicly criticizing Zelensky and accusing him of strong-arming the US. Trump's criticism of Zelensky is linked to his own grievances with Joe Biden and his administration. Trump's aides have been frustrated with Zelensky's public statements, which they believe are hindering progress towards peace in Ukraine. Zelensky, on the other hand, sees Trump's vision for ending the war as aligning with Russia's interests. Trump's public statements have raised concerns about a shift in American foreign policy towards Russia. Some of Trump's allies believe there may be a strategy behind his criticism of Ukraine, aimed at pressuring European countries to increase their support for Ukraine. European leaders are taking Trump's words seriously and are holding conferences to address the situation. Macron and the British Prime Minister have expressed support for Zelensky and are willing to send peacekeeping troops to Ukraine. Trump, however, sees himself as a peacemaker and believes he is the only one capable of negotiating an end to the war with Russia.\n",
            "{'source': 'https://lite.cnn.com//2025/02/20/politics/trump-zelensky-rift-ukraine-war/index.html'}\n",
            "\n",
            "President Donald Trump has signed a series of executive actions in the early weeks of his second term, with more expected to come. He aims to enact a comprehensive agenda and reshape the federal government, focusing on immigration, trade, and national security. The article provides a link to explore each executive action in detail.\n",
            "{'source': 'https://lite.cnn.com//politics/tracking-trump-executive-orders-actions-dg/index.html'}\n",
            "\n",
            "In a recent turn of events, US President Donald Trump has openly expressed his dislike for Ukrainian President Volodymyr Zelensky, raising concerns about the future of Ukraine and the security of Europe. Trump falsely claimed that Zelensky's poll numbers were low and that Ukraine started the war. These statements align with Kremlin talking points, which falsely suggest that Ukraine's imminent joining of NATO led to its unprovoked attack in 2022. The Trump administration's financial support for Ukraine, crucial for its survival, is now at risk. Trump has repeatedly made false claims about missing aid and has suggested that Zelensky is on a \"gravy train.\" The article questions Trump's motives and highlights the potential chaos and doubt that could arise from rushing elections in Ukraine. Overall, Russia appears to be the only winner in this situation, as Trump's actions align with their interests.\n",
            "{'source': 'https://lite.cnn.com//2025/02/19/europe/analysis-trump-zelensky-dictator-intl-latam/index.html'}\n",
            "\n",
            "A CNN poll conducted by SSRS shows that at the one-month mark of Donald Trump's second term as president, his approval rating is negative but still higher than any point in his first term. However, optimism about his return to office has decreased since December. A majority of Americans feel that Trump is not doing enough to address high prices of everyday goods and believe he has gone too far in using his presidential power. There is also rising pessimism and fear about the rest of Trump's second term. Trump's support among traditionally Democratic-leaning demographic groups has also declined. Additionally, Americans are divided on Trump's handling of the presidency, with 47% approving and 52% disapproving. Many Americans feel that Trump has not paid enough attention to the country's most important problems and has not gone far enough in reducing the price of everyday goods. There is also wariness about Trump's push for power and his efforts to trim government programs and shut down federal agencies. Overall, the poll reflects a mixed response to Trump's second term as president.\n",
            "{'source': 'https://lite.cnn.com//2025/02/20/politics/cnn-poll-trump-approval/index.html'}\n",
            "\n"
          ]
        }
      ]
    },
    {
      "cell_type": "code",
      "source": [
        "chain.invoke(query_docs)"
      ],
      "metadata": {
        "colab": {
          "base_uri": "https://localhost:8080/"
        },
        "id": "v5-pnrLu825o",
        "outputId": "b5e586f3-bf0e-43ef-e3a5-9490b2335211"
      },
      "execution_count": 50,
      "outputs": [
        {
          "output_type": "execute_result",
          "data": {
            "text/plain": [
              "{'input_documents': [Document(metadata={'source': 'https://lite.cnn.com//2025/02/20/politics/analysis-trumps-13-biggest-lies-first-month-2025/index.html'}, page_content='CNN 2/20/2025\\n\\nAnalysis: Trump’s 13 biggest lies of his first month back in office\\n\\nBy Daniel Dale, CNN\\n\\nUpdated: 4:00 AM EST, Thu February 20, 2025\\n\\nSource: CNN\\n\\nPresident Donald Trump moved at a blistering pace in his first month back in the White House. He lied fast and furious, too.\\n\\nIn speeches, interviews, exchanges with reporters and posts on social media, the president filled his public statements not only with exaggerations but outright fabrications. As he did during his first presidency, Trump made false claims with a frequency and variety unmatched by any other elected official in Washington.\\n\\nHere is our list of Trump’s 13 biggest lies since he was inaugurated on January 20. It was hard to choose.\\n\\nThe tale of the $50 million – no, make it $100 million – in condoms for Hamas: When press secretary Karoline Leavitt announced at her first official White House briefing that Trump had thwarted a plan to spend $50 million “to fund condoms in Gaza,” it was immediately clear the claim was highly dubious; the Trump administration had no evidence to substantiate it. But Trump not only repeated the $50 million figure the next day, he added an incendiary claim that the condoms were “for Hamas.” Then, days after it had become obvious the $50 million figure was pure fiction, he inflated it to “$100 million.”\\n\\nThis was another example of Trumpflation – the president’s years-old habit of making his inaccurate stories more and more inaccurate over time.\\n\\nBlaming Ukraine for starting the war on Ukraine: Russia started the war in Ukraine when it invaded Ukraine in 2022. That is an obvious fact. But on Tuesday, when Trump dismissed Ukrainians’ complaints about their exclusion from US-Russia negotiations about ending the war, he falsely accused Ukraine of starting the war – saying, “You should’ve never started it. You could’ve made a deal.” Laughable Kremlin-style propaganda, this time from the president of the United States.\\n\\nThe (non-)uniqueness of birthright citizenship: Trump offered what might have sounded like a reasonable rationale for his attempt to get rid of birthright citizenship. The United States, he said, is the only country that has birthright citizenship.\\n\\nExcept that is not true, as CNN and other outlets pointed out when Trump made the same claim as president in 2018 and on various other occasions. Dozens of countries, including Canada and Mexico, also grant automatic citizenship to people born on their soil.\\n\\nMore up-is-down reversing of the reality of January 6: For years now, Trump has presented a version of the Capitol riot of January 6, 2021, that bears little resemblance to what actually happened. When he was asked in early February why he granted pardons to people who assaulted first responders, he said the people he pardoned were actually “assaulted by our government” and that “they didn’t assault.” This “they didn’t assault” claim was a brazen denial of the obvious truth, clear in video after video and trial after trial. The Justice Department has said more than 140 officers were assaulted on January 6, and that more than 170 people pleaded guilty to such assaults.\\n\\nA gusher of deceit about California water policy: Amid disaster, more dishonesty. First, Trump linked the Los Angeles wildfires to California’s decision to use some of its water to protect a fish species in the northern part of the state – even though the two things have nothing to do with each other, as befuddled experts explained to anyone who would listen. Then, after ordering the sudden release of billions of gallons of water from Central Valley reservoirs for no apparent good reason, Trump declared that some of this water was heading to Los Angeles – even though it wasn’t heading to Los Angeles and couldn’t go to Los Angeles.\\n\\nThe election lie he refused to let die: What can you even say about this one at this point? Trump’s win in the free and fair 2024 election did not convince him to abandon his endless lying about his defeat in the free and fair 2020 election. More than four years after his loss to Joe Biden, he repeated his “rigged” nonsense during at least three events on his 2025 inauguration day alone, then a bunch of times after that.\\n\\nThat fable about Olympic boxers, again: Trump, once a prominent promoter of lies about President Barack Obama’s birthplace, continued to demonstrate no hesitation lying about not only policy issues but also individual people. This time, to promote his push to try to get transgender athletes banned from the Olympics, he told his familiar story about how two gold medalists in women’s boxing at the Games in Paris last year were men who “transitioned.”\\n\\nWrong. As the International Olympic Committee repeatedly noted during the Olympics, when Trump and others made such claims, neither champion had transitioned; both were born as female and have always competed in women’s events. Even the discredited boxing authority that controversially disqualified the women from a 2023 competition, vaguely claiming a test had found they had unfair competitive advantages, did not allege they had transitioned.\\n\\nThe president’s fictionalized northern neighbor: Before taking office, Trump casually asserted that the Canadian people “like” his idea of Canada becoming the 51st US state. That was the opposite of the truth; the idea is hugely unpopular with the Canadian public. Then, after his inauguration, Trump continued to make stuff up about Canada – at one point posting on social media and then saying out loud that Canada prohibits US banks from doing business there. He added, “Can you believe that?” No doubt some Americans believe it, but it’s false.\\n\\nBlasting Biden for a program launched under Trump: After the deadly January collision between a military helicopter and a passenger jet, Trump blamed Biden administration diversity initiatives at the Federal Aviation Administration without providing any evidence any FAA diversity policy had anything to do with the crash. He added in a fictional story about a frantic last-minute Biden push to hire people with significant disabilities as air traffic controllers, failing to explain that this FAA pilot program was actually a years-old initiative launched during his own administration in 2019.\\n\\nRelentless deception about who pays tariffs: When Trump talked about the tariffs he imposed on Chinese imports in his first presidency, he spoke of how much money “from China” these tariffs generated for the US Treasury. When he talked about the additional tariffs he plans to impose on various other countries during his current presidency, he spoke of a need to “charge them.” At no point did he acknowledge that US importers, not foreign countries, are the ones who pay the actual tariff charges – or that study after study, including one from the federal government’s bipartisan trade commission, found that Americans ended up bearing almost the entire cost of his first-term tariffs on Chinese products.\\n\\nA wild exaggeration of the increase in autism rates: Trump keeps flirting with, though not explicitly endorsing, the thoroughly debunked conspiracy theory that childhood vaccines cause autism – and in a social media post in early February, he inflated the extent of the increase in the known prevalence of autism over the last two decades. “20 years ago, Autism in children was 1 in 10,000. NOW IT’S 1 in 34,” Trump wrote. “WOW! Something’s really wrong.” Aside from the fact that experts say the increase in autism diagnoses (to 1 in 36 children by age 8 in 2020) likely has to do with greater awareness of the symptoms and improved screening practices, public statistics from the US Centers for Disease Control and Prevention show that the known prevalence in 2004 was 1 in 125 children, not “1 in 10,000.” That’s a pretty big difference.\\n\\nChina’s (non-)operation of the Panama Canal: Much of Trump’s lying is ad-libbed. Some of it, however, is planned in advance. Some of it, however, is written into his prepared speeches. He said in his inaugural address in January: “Above all, China is operating the Panama Canal. And we didn’t give it to China, we gave it to Panama, and we’re taking it back.”\\n\\nThis would have been a good line if China was actually operating the Panama Canal. It isn’t; Panama is, though Trump could have raised legitimate questions about China’s influence in the area.\\n\\nTrump’s invented dominance with “the youth vote”: Trump said some accurate things while touting his victory in the 2024 election, such as the fact that he swept all seven swing states. But in keeping with his longstanding practice of exaggerating even legitimate accomplishments, he also kept sprinkling in a claim that wasn’t even close to correct – an assertion that he won the youth vote “by 36 points.” In fact, exit polls show he lost the youth vote to then-Vice President Kamala Harris. Even if these polls were off, there’s no basis for the claim that he won the youth vote by 36.\\n\\nSee Full Web Article\\n\\nGo to the full CNN experience\\n\\n© 2025 Cable News Network. A Warner Bros. Discovery Company. All Rights Reserved.\\n\\nTerms of Use | Privacy Policy | Ad Choices | Cookie Settings'),\n",
              "  Document(metadata={'source': 'https://lite.cnn.com//2025/02/20/politics/trump-zelensky-rift-ukraine-war/index.html'}, page_content='CNN 2/20/2025\\n\\nInside the 48 hours that Trump turned on Zelensky\\n\\nBy Kevin Liptak, Jeff Zeleny and Alayna Treene, CNN\\n\\nUpdated: 6:25 AM EST, Thu February 20, 2025\\n\\nSource: CNN\\n\\nAs the long-fraught relationship between President Donald Trump and his Ukrainian counterpart Volodymyr Zelensky ripped apart Wednesday, a question that lingered among allies of both men was whether the fight would dash hopes for a US-brokered peace — or, potentially, help it along.\\n\\nFiring off an angry message on his social media platform, Trump labeled Zelensky a “dictator without elections,” blaming him for strong-arming the United States into spending hundreds of billions of dollars “to go into a War that couldn’t be won.”\\n\\nIt turned into a daylong series of taunts, which Trump amplified during a speech Wednesday night in Miami, where he declared: “Zelensky better move faster. He’s not going to have a country left.”\\n\\nBoth accusations parroted Moscow’s own irony-laden talking points about the war and Ukraine’s president, who declared martial law at the onset of Russia’s invasion, which prevented scheduled elections.\\n\\nTrump’s post was hardly an isolated attack. For years, Trump has viewed Zelensky skeptically, questioning his decisions and — in an episode made famous during Trump’s first impeachment — pressing him to open an investigation into his then-rival Joe Biden.\\n\\nTrump has taken to weaving his criticism of Biden and Zelensky together, suggesting Wednesday night that the Ukrainian president was on a “gravy train” with US assistance during the Biden administration.\\n\\n“If you would have had (Biden’s) administration for another year,” Trump said Wednesday night, “you would have been in World War III and it’s not going to happen now.”\\n\\nLately, however, Trump’s aides have been closely monitoring Zelensky’s public statements — in particular his criticism of the US excluding Ukraine from talks with Russian officials in Saudi Arabia this week — with mounting agitation.\\n\\nTheir frustration had been growing before Wednesday, sources said. But it boiled over after Zelensky told reporters at his office in Kyiv that Trump was living in a “web of disinformation.”\\n\\nTrump privately told aides who were with him in Florida that he wanted to respond directly, which led to his Truth Social post, an official traveling with Trump said. He delivered the diplomatic missile on the way to his golf club in Miami and expanded on his remarks before an audience of hundreds at the evening investment conference in Miami sponsored by the sovereign wealth fund of Saudi Arabia, which hosted talks earlier in the week between US and Russian officials.\\n\\n“It’s a frustration. There is a strong and legitimate feeling that this brutal war has to stop and that this pathway is being diminished through Zelensky’s public statements,” a second White House official told CNN.\\n\\nIn Zelensky’s view, however, the end to the war Trump is envisioning looks a lot like what Russia has been asking for. Already, members of Trump’s administration have ruled out NATO membership for Kyiv and said US troops would not help guarantee Ukraine’s security when the war ends.\\n\\nFor those reasons, he says he can’t help but speak out.\\n\\nFor months, Zelensky had carefully sought to avoid a full rupture with his temperamental new counterpart in Washington. He arranged a meeting in the weeks ahead of last year’s election meant to allay some of the then-GOP nominee’s skepticism about US involvement in the war.\\n\\nThe men emerged at the start of the discussion at Trump Tower in Manhattan to demonstrate their willingness to get along. Trump said he had a “very good relationship” with the Ukrainian leader — but that he also enjoyed a “very good relationship” with his adversary in Moscow, Vladimir Putin.\\n\\n“I hope we have more good relations,” Zelensky interjected.\\n\\n“But, you know, it takes two to tango,” Trump replied.\\n\\nAt the time, the exchange hardly registered. Five months later, it appears to foretell the remarkable rift that is emerging just as Trump looks to sit down with Putin in Saudi Arabia.\\n\\nSignaling a shift in American policy\\n\\nFew foreign leaders have been immune to Trump’s mood swings, which during his first term led to scrapped overseas trips, phone calls ended abruptly when Trump hung up, and the imposition of tough new tariffs.\\n\\nYet until now, Trump’s frustrations hadn’t seemed to signal such a wholesale shift in American foreign policy, away from the United States’ longstanding allies in Europe and toward the Kremlin.\\n\\nMany of Trump’s allies said Zelensky should have seen Trump’s wrath coming.\\n\\n“The idea that Zelensky is going to change the president’s mind by badmouthing him in public media, everyone who knows the president will tell you that is an atrocious way to deal with this administration,” Vance told The Daily Mail.\\n\\nIn explaining Trump’s striking public statements, White House officials have insisted his primary – in fact, only – objective is to end the three-year conflict in Ukraine, which he believes was woefully mismanaged by the previous administration.\\n\\nInsisting upon a settlement to the war, they say, is long overdue after years of grinding conflict. Trump himself has appeared almost agnostic on the precise contours of the settlement that would end the war: “I don’t care so much about anything other than I want to stop having millions of people killed, killed,” he said last week.\\n\\nYet how he achieves that objective while castigating Zelensky and aligning himself with Russian talking points isn’t clear.\\n\\nTrump’s Republican allies in Washington suggested Wednesday the president may have a grand plan in mind.\\n\\n”What I’m in support of is a peaceful outcome and result in Ukraine,” Senate Majority Leader John Thune said when asked if he had concerns about the president’s rhetoric about Ukraine. Thune said he believed Trump and his team are working to achieve peace and “right now, you’ve got to give them some space.”\\n\\nSen. Kevin Cramer, a North Dakota Republican, said Trump is “always positioning for something,” adding that he suspected Trump might be “positioning for a negotiation” with Putin through his comments about Zelensky.\\n\\nStill, Trump will require buy-in from Zelensky if any negotiated end to the conflict is successful. And if he is serious about keeping American troops out of the conflict, he’ll need European allies to step up with their own peacekeeping troops — a step some nations have already offered.\\n\\nSome Trump advisers and allies do see a strategy in the bluster. A Trump loyalist who has spoken to the president in Florida in recent days said one reason behind Trump’s lashing out at Ukraine is to scare Europe into ponying up more to defend Ukraine.\\n\\n“See, there’s a method to the madness,” the person said, pointing to a report that Denmark had pledged to boost spending on arms.\\n\\nA Trump advisor echoed that sentiment on Wednesday, telling CNN: “If other European countries are half as responsive as Denmark, then that’s a massive win.”\\n\\nWriting on X, former British Prime Minister Boris Johnson — who maintained close ties with Trump during his first term — rebutted most of Trump’s claims but said his former counterpart was driving a larger point.\\n\\n“When are we Europeans going to stop being scandalised about Donald Trump and start helping him to end this war?” Johnson wrote. “Of course Ukraine didn’t start the war. You might as well say that America attacked Japan at Pearl Harbor. Of course a country undergoing a violent invasion should not be staging elections. There was no general election in the UK from 1935 to 1945. Of course Zelenskyy’s ratings are not 4%. They are actually about the same as Trump’s.”\\n\\n“Trump’s statements are not intended to be historically accurate but to shock Europeans into action,” he went on.\\n\\nIndeed, hastily arranged conferences of European leaders in Paris this week hosted by French President Emmanuel Macron suggested Trump’s words were being taken very seriously.\\n\\n“Russia poses an existential threat to Europeans,” Macron said in an interview with French regional newspapers. “Do not think that the unthinkable cannot happen, including the worst.”\\n\\nAt the same time, Macron is not giving up on Trump entirely. He will be in Washington next week for a meeting, as will British Prime Minister Keir Starmer, who has said he would be willing to send troops to act as peacekeepers in Ukraine.\\n\\nBoth men spoke to Zelensky on Wednesday following Trump’s insults.\\n\\n“The Prime Minister expressed his support for President Zelenskyy as Ukraine’s democratically elected leader and said that it was perfectly reasonable to suspend elections during war time as the UK did during World War II,” Downing Street said afterward.\\n\\nTrump is increasingly casting himself in the role of peacemaker – no matter the cost – overlooking the frayed western alliances and the upending of US foreign policy.\\n\\n“We’re successfully negotiating an end to the war with Russia, something all admit that only Trump is going to be able to do,” Trump said Wednesday night, speaking about himself again and again in the third person.\\n\\n“In the Trump administration, we’re going to be able to do it. I think Putin even admitted that.”\\n\\nSee Full Web Article\\n\\nGo to the full CNN experience\\n\\n© 2025 Cable News Network. A Warner Bros. Discovery Company. All Rights Reserved.\\n\\nTerms of Use | Privacy Policy | Ad Choices | Cookie Settings'),\n",
              "  Document(metadata={'source': 'https://lite.cnn.com//politics/tracking-trump-executive-orders-actions-dg/index.html'}, page_content='CNN 2/20/2025\\n\\nTracking Trump’s executive actions\\n\\nBy Curt Merrill and Amy O’Kruk, CNN\\n\\nUpdated: 12:06 PM EST, Thu February 20, 2025\\n\\nSource: CNN\\n\\nPresident Donald Trump’s second term is off and running with a cascade of executive actions signed in his first few weeks and more promised in the weeks to come. Trump has vowed to enact a sweeping agenda and reshape the federal government, saying in his inaugural address that “the golden age of America” was starting and naming priorities such as immigration, trade and national security.\\n\\nCatch up on what you need to know about Trump’s actions in office.\\n\\nScroll through and explore each executive action and read more details by clicking or tapping on the title name for the full text.\\n\\nSee Full Web Article\\n\\nGo to the full CNN experience\\n\\n© 2025 Cable News Network. A Warner Bros. Discovery Company. All Rights Reserved.\\n\\nTerms of Use | Privacy Policy | Ad Choices | Cookie Settings'),\n",
              "  Document(metadata={'source': 'https://lite.cnn.com//2025/02/19/europe/analysis-trump-zelensky-dictator-intl-latam/index.html'}, page_content='CNN 2/20/2025\\n\\nWorld / Europe\\n\\nAs Trump’s attacks on Zelensky turn personal, there’s only one winner: Russia\\n\\nAnalysis by Nick Paton Walsh, CNN\\n\\nUpdated: 7:40 PM EST, Wed February 19, 2025\\n\\nSource: CNN\\n\\nThe suspicion this was personal always lingered. But there was hope the greater good of both the US and Ukraine would win out.\\n\\nThe past 24 hours has seen US President Donald Trump’s slow-burn, apparent dislike for his Ukrainian counterpart, Volodymyr Zelensky, belch out into the open. And with it comes a real and new uncertainty about the future of Ukraine, and more widely the security of Europe.\\n\\nLast week, Trump hinted he felt Zelensky’s poll numbers were low and he would have to face elections, but Tuesday night he dug deeper, falsely stating the wartime leader was at 4 per cent favorability and Ukraine had started the war.\\n\\nThis is pretty close to Kremlin talking points. Moscow has been at pains to incorrectly suggest Ukraine’s imminent joining of NATO was behind its unprovoked attack in 2022, and that Zelensky is illegitimate as Ukraine has not undertaken the immense challenge of running elections in wartime.\\n\\nZelensky has for months flattered Trump as one who can bring peace through strength. Kyiv knew the Trump team’s rhetoric on the campaign trail spelt a likely sea change for Ukraine, but held out hope, with European allies, that Trump would seek to avoid a Kabul Airport Moment of collapse in security on the continent, and keep Russia back.\\n\\nIn the background, lingered the risk their contentious relationship in Trump’s first term – when Zelensky didn’t give Trump what he wanted in a “perfect” phone call that led to impeachment – was a dark, inescapable cloud that would hang over their future interactions. Now that cloud has loudly broken and Ukraine is getting wet.\\n\\nZelensky has tempered his remarks about Trump living in a “disinformation space” by adding he has great respect for this US president and the American people. But Trump sought no such caveats, even adding the “dictator” needed to move fast to save Ukraine and was on a “gravy train.”\\n\\nTwice in five days this White House has dubbed European democratic leaders tyrants, falsely, while declining to mention the Kremlin’s authoritarian record in the same speech. US Vice President JD Vance at the weekend in Munich said Europe’s most democratic US allies were afraid of their voters. Now Trump says Russia’s greatest adversary is himself a “dictator” on the make. Putin’s army of propagandists are being outwritten on Pennsylvania Avenue.\\n\\nThe existential dilemma now for Ukraine is whether it even has the luxury of choice between its wartime president and its main military backer, the United States. Is enough left intact of either?\\n\\nZelensky is now the subject of withering posts by the world’s most powerful man, who is parroting a regular supply of Kremlin talking points stemming from somewhere yet unknown, altering the course of the largest war in Europe since the 1940s.\\n\\nThe Trump administration’s financial support for Ukraine – without which its survival is truly in doubt – is now endangered. Trump has repeatedly referred – falsely – to how Ukraine’s aid is “MISSING,” and somehow that Zelensky is on a “gravy train.” He is preparing a narrative for the American people that probably ends in the aid itself being curtailed.\\n\\nSo why doesn’t Zelensky, who has spent half of his six years in power fighting a war he did not initially believe was going to happen, just call a vote and be done with talk of his legitimacy? Elections in Ukraine have been tough in the past two decades, even in peacetime. Russia has sought to meddle, in 2004 stealing the vote and sparking huge protests that unseated its proxy candidate who stole the vote.\\n\\nIn wartime, elections are suspended during martial law. A ceasefire, proposed also by Trump’s team, could lead to this being suspended, and allowing soldiers to vote. But what of the millions of Ukrainians abroad as refugees? What of the electoral reform and emergency legislation needed for a legitimate, modern vote? Should it be rushed to get a quick result, or labored over to reach the full, gold standards of international legitimacy? What if a Russian drone assault or missiles derail the voting day? Everything could go wrong and almost certainly will.\\n\\nThe result would irrevocably be shrouded in doubt, further damaging the mandate Zelensky is falsely accused of lacking, or empowering an alternative who would also lack full legitimacy. It would sow chaos on the front lines, at the kitchen tables and in the coffee shops of Kyiv, and in the Ukrainian diaspora around Europe. This is exactly what the Kremlin wants: political torment to add to Kyiv’s woes across the front line.\\n\\nIt is becoming harder to divine Trump’s motives. You cannot bluff when it comes to geopolitical security and NATO; your opponents will hear weakness in an alliance, and not fear you more as you strike a hard negotiating pose against your own allies. You cannot force a flawed peace upon a country fearing for the survival of its own borders and people. You cannot undermine a wartime leader and not expect his troops to also falter on the front lines. Only one strategic interest has been served by Trump’s radical rewriting of the global order in the past fortnight. And it is that of the one adversary NATO was founded to confront.\\n\\nSee Full Web Article\\n\\nGo to the full CNN experience\\n\\n© 2025 Cable News Network. A Warner Bros. Discovery Company. All Rights Reserved.\\n\\nTerms of Use | Privacy Policy | Ad Choices | Cookie Settings'),\n",
              "  Document(metadata={'source': 'https://lite.cnn.com//2025/02/20/politics/cnn-poll-trump-approval/index.html'}, page_content='CNN 2/20/2025\\n\\nCNN Poll: Americans worried by Trump’s push to expand power\\n\\nBy Jennifer Agiesta, CNN\\n\\nUpdated: 9:39 AM EST, Thu February 20, 2025\\n\\nSource: CNN\\n\\nAt the one-month mark of Donald Trump’s second term as president, his approval rating in a new CNN poll conducted by SSRS tilts negative but still lands above the level he reached at any point in his first four years in office.\\n\\nThere are signs in the poll, though, that the warmer welcome Trump has received this time around could be fleeting, as optimism about his return to office has slipped since December. A broad majority feel the president isn’t doing enough to address the high prices of everyday goods. And 52% say he’s gone too far in using his presidential power, with similar majorities wary of his push to shutter federal agencies and elevate Elon Musk to a prominent role in his efforts to reshape the government.\\n\\nAmericans divide on Trump’s performance in office thus far, with 47% approving and 52% disapproving, below the start-of-term ratings for any recent presidency other than his own. For most of the public, Trump’s actions are lining up with their expectations: Three-quarters say his handling of the presidency has been in line with what they expected while 25% say he’s handled it in an unexpected way, similar to how people felt a few weeks into his first term.\\n\\nAll told, 41% say both that Trump is handling the presidency as expected and that his living up to their expectations is a positive. Nearly all of those who feel caught off guard describe that as a bad thing, but the group who feels surprised in a bad way by Trump’s actions makes up only 21% of all Americans.\\n\\nPessimism on the rise\\n\\nMost adults nationwide, 55%, say that Trump has not paid enough attention to the country’s most important problems and 62% feel he has not gone far enough in trying to reduce the price of everyday goods. Sizable shares across party lines share the latter view, including 47% of Republicans, 65% of independents and 73% of Democrats. In CNN’s January polling, the economy eclipsed all other issues as Americans’ top concern.\\n\\nMore describe themselves as pessimistic or afraid when looking ahead to the rest of Trump’s second term (54%) than say they feel enthusiastic or optimistic about it (46%). In December, 52% were on the positive side, 48% negative. Notably, the share saying they feel “afraid” has climbed 6 points to 35%, rising by a roughly equal share across partisan lines.\\n\\nTrump’s support also appears to be fading among some traditionally Democratic-leaning demographic groups with whom he made inroads in last year’s election. A January CNN poll found that 57% of 18–34-year-olds, 50% of Hispanic adults and 30% of Black adults approved of the way he was handling the presidential transition. Now that Trump has taken office, his approval ratings with those groups stand at 41% among younger and Hispanic adults and 23% among Black adults.\\n\\nHispanic and Black adults are notably more likely than Whites to also say that Trump has handled the presidency in a way they did not expect (35% among Hispanic adults and 30% among Black adults compared with 20% among White adults), and to see that as a bad thing (29% among Hispanic people and 24% among Black people vs. 16% among White people).\\n\\nWariness of Trump’s push for power\\n\\nAbout half of all Americans feel that Trump has overstepped in using the power of the presidency and the executive branch (52% say he has gone too far in doing so, 39% that he’s been about right and 8% that he hasn’t gone far enough). Broad majorities of Democrats (87%) and independents (57%) see him as going too far in using the presidency’s powers. Republicans largely disagree but few of Trump’s own partisans are clamoring for him to go further than he has already: 75% say his use of presidential power has been about right, 11% think he’s gone too far and 13% that he hasn’t gone far enough.\\n\\nSizable shares are skeptical about his efforts to trim government programs and shut down federal agencies. About half (48%) say he’s gone too far in changing the way the US government works, with 32% saying his approach has been about right and 19% that it hasn’t gone far enough. Larger shares say he’s gone too far in cutting federal government programs (51%), that it’s a bad thing that he has attempted to shut down entire agencies such as the US Agency for International Development and Consumer Financial Protection Bureau (53%) and that it’s bad he gave Musk a prominent role in his administration (54%).\\n\\nTrump’s suggestion that the US take over Gaza and keep Palestinians from returning there is the least popular of the early proposals he’s put forth that were tested in the poll. Overall, 58% call that a bad idea, including 86% of Democrats, 60% of independents and 27% of Republicans. A plurality of Republicans take a neutral position on it (47% call it neither good nor bad), and just 26% call it a good thing.\\n\\nSome of the president’s early moves, though, draw more muted opposition. On deporting immigrants living in the US illegally, 39% say Trump’s approach has been about right with another 16% saying he hasn’t gone far enough, together outpacing the 45% who say Trump has gone too far on that score. And 42% call it a bad thing that Trump has sought to end diversity, equity and inclusion efforts in the federal government, modestly outpacing the 37% saying it’s a good thing, with 20% neutral on the matter.\\n\\nFrustrated opposition\\n\\nDemocrats and Democratic-leaning independents are broadly dissatisfied with the response to Trump by Democrats in Congress. Nearly three-quarters (73%) say the party’s caucus in Congress is doing too little to oppose Trump, with just 22% saying they’re doing the right amount and 5% that they’re overdoing it.\\n\\nRepublicans and Republican-aligned independents, meanwhile, largely see the congressional GOP as doing the right amount to back the president (64%), with another 24% saying they do too little to support him and 12% too much. Republican-aligned adults of color are somewhat more likely than White adults who are Republican-aligned to say the party is doing too much to support Trump (21% among Republicans/Republican-leaning independents of color vs. 8% among Republican-aligned Whites).\\n\\nThe sense of urgency Democrats and Democratic-leaning independents feel is evident in their views on the stakes of Trump’s time in office. In the new poll, 70% of Democratic-aligned adults said they view American democracy as under attack, up from 49% who felt that way in the fall of 2023, and 63% say they feel afraid as they look ahead to the rest of Trump’s term. Democratic-aligned adults who say democracy is under attack are far more likely than other Democratic-leaners to say their party’s response to Trump is inadequate (82% say so compared with 58% among those who feel democracy is under threat rather than attack).\\n\\nThat view from the left contrasts sharply with the view from the GOP. Among Republicans and Republican-leaning independents, just 23% see American democracy as under attack, down from 61% who said the same about a year and a half ago, and 87% describe themselves as either enthusiastic or optimistic about Trump’s coming time in office.\\n\\nWith many of the Trump administration’s early actions already facing legal challenges, the poll also finds few Americans have deep trust in the Supreme Court to make the right decisions on any legal cases relating to the Trump administration. Just 41% overall have at least a moderate amount of trust in the high court, peaking at 66% among Republicans. But few in any party express a great deal of trust in the Court to handle any cases on the subject: 19% of Republicans, 7% of independents and 6% of Democrats feel that way.\\n\\nThe CNN Poll was conducted by SSRS from February 13-17 among a random national sample of 1,206 adults drawn from a probability-based panel. Surveys were either conducted online or by telephone with a live interviewer. Results among the full sample have a margin of sampling error of plus or minus 3.1 percentage points.\\n\\nSee Full Web Article\\n\\nGo to the full CNN experience\\n\\n© 2025 Cable News Network. A Warner Bros. Discovery Company. All Rights Reserved.\\n\\nTerms of Use | Privacy Policy | Ad Choices | Cookie Settings')],\n",
              " 'output_text': \"This article from CNN provides a list of President Donald Trump's 13 biggest lies since his inauguration on January 20. The lies include false claims about funding condoms for Hamas, blaming Ukraine for starting the war on Ukraine, and falsely stating that the United States is the only country with birthright citizenship. The article also discusses Trump's attacks on Ukrainian President Volodymyr Zelensky and the potential impact on US-Ukraine relations. Additionally, the article highlights a CNN poll that shows Trump's approval rating tilting negative and concerns about his push to expand power.\"}"
            ]
          },
          "metadata": {},
          "execution_count": 50
        }
      ]
    }
  ]
}