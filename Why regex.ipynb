{
 "cells": [
  {
   "cell_type": "markdown",
   "metadata": {},
   "source": [
    "## Detecting Phone Numbers: Without regex"
   ]
  },
  {
   "cell_type": "code",
   "execution_count": 122,
   "metadata": {},
   "outputs": [],
   "source": [
    "def isPhoneNumber(text):\n",
    "    if len(text) != 12:\n",
    "        return False\n",
    "    for i in range(0, 3):\n",
    "        if not text[i].isdecimal():\n",
    "            return False\n",
    "    if text[3] != '-':\n",
    "        return False\n",
    "    for i in range(4, 7):\n",
    "        if not text[i].isdecimal():\n",
    "            return False\n",
    "    if text[7] != '-':\n",
    "        return False\n",
    "    for i in range(8, 12):\n",
    "        if not text[i].isdecimal():\n",
    "            return False\n",
    "    return True"
   ]
  },
  {
   "cell_type": "code",
   "execution_count": 123,
   "metadata": {},
   "outputs": [
    {
     "name": "stdout",
     "output_type": "stream",
     "text": [
      "415-555-4242 is a phone number:\n",
      "True\n"
     ]
    }
   ],
   "source": [
    "print('415-555-4242 is a phone number:')\n",
    "print(isPhoneNumber('415-555-4242'))"
   ]
  },
  {
   "cell_type": "code",
   "execution_count": 124,
   "metadata": {},
   "outputs": [
    {
     "name": "stdout",
     "output_type": "stream",
     "text": [
      "Moshi moshi is a phone number:\n",
      "False\n"
     ]
    }
   ],
   "source": [
    "print('Moshi moshi is a phone number:')\n",
    "print(isPhoneNumber('Moshi moshi'))"
   ]
  },
  {
   "cell_type": "code",
   "execution_count": 125,
   "metadata": {},
   "outputs": [
    {
     "name": "stdout",
     "output_type": "stream",
     "text": [
      "Phone number found: 415-555-1011\n",
      "Phone number found: 415-555-9999\n",
      "Done\n"
     ]
    }
   ],
   "source": [
    "message = 'Call me at 415-555-1011 tomorrow. 415-555-9999 is my office.'\n",
    "\n",
    "for i in range(len(message)):\n",
    "    chunk = message[i:i+12]\n",
    "    if isPhoneNumber(chunk):\n",
    "        print('Phone number found: ' + chunk)\n",
    "print('Done')"
   ]
  },
  {
   "cell_type": "markdown",
   "metadata": {},
   "source": [
    "## Detecting Phone Numbers: With regex"
   ]
  },
  {
   "cell_type": "code",
   "execution_count": 126,
   "metadata": {},
   "outputs": [],
   "source": [
    "import re"
   ]
  },
  {
   "cell_type": "code",
   "execution_count": 127,
   "metadata": {},
   "outputs": [
    {
     "name": "stdout",
     "output_type": "stream",
     "text": [
      "Phone number found: 415-555-4242\n"
     ]
    }
   ],
   "source": [
    "'''\n",
    "The following detects the first occurence of a phone number in a string: \n",
    "Note: \\d represents a number\n",
    "'''\n",
    "\n",
    "phone_num_regex = re.compile(r'\\d\\d\\d-\\d\\d\\d-\\d\\d\\d\\d')\n",
    "\n",
    "# this time, we have two phone numbers that we want to detect\n",
    "text = 'My cell number is 415-555-4242. My office phone is 415-555-4321'\n",
    "\n",
    "# the search method returns only the first occcurence\n",
    "match_object = phone_num_regex.search(text)\n",
    "\n",
    "# the match object returns None if there aren't any matches\n",
    "if match_object is not None: \n",
    "    print('Phone number found: ' + match_object.group())\n",
    "else: \n",
    "    print('No match found')"
   ]
  },
  {
   "cell_type": "code",
   "execution_count": 128,
   "metadata": {},
   "outputs": [
    {
     "name": "stdout",
     "output_type": "stream",
     "text": [
      "Phone number found: 415-555-4242\n",
      "Phone number found: 415-555-4321\n"
     ]
    }
   ],
   "source": [
    "# shorter regex which does the same thing with less code!\n",
    "phone_num_regex = re.compile(r'\\d{3}-\\d{3}-\\d{4}')\n",
    "\n",
    "text = 'My cell number is 415-555-4242. My office phone is 415-555-4321'\n",
    "\n",
    "# the findall method returns all the occurences in a string\n",
    "match_object = phone_num_regex.findall(text)\n",
    "\n",
    "# the match object returns None if there aren't any matches\n",
    "if match_object is not None: \n",
    "    for phone_num in match_object: \n",
    "        print('Phone number found: ' + phone_num)\n",
    "else: \n",
    "    print('No match found')"
   ]
  },
  {
   "cell_type": "code",
   "execution_count": 129,
   "metadata": {},
   "outputs": [
    {
     "name": "stdout",
     "output_type": "stream",
     "text": [
      "415-555-4242\n",
      "415\n",
      "555-4242\n",
      "\n",
      "('415', '555-4242')\n",
      "415\n",
      "555-4242\n"
     ]
    }
   ],
   "source": [
    "#We can group text via parenthesis\n",
    "phone_num_regex = re.compile(r'(\\d\\d\\d)-(\\d\\d\\d-\\d\\d\\d\\d)')\n",
    "\n",
    "text = 'My cell number is 415-555-4242. My office phone is 415-555-4321'\n",
    "\n",
    "# the search method returns only the first occcurence\n",
    "match_object = phone_num_regex.search(text)\n",
    "\n",
    "print(match_object.group(0))\n",
    "print(match_object.group(1))\n",
    "print(match_object.group(2))\n",
    "print('')\n",
    "\n",
    "# We can retrieve all the groups using the groups method\n",
    "print(match_object.groups())\n",
    "\n",
    "# We can also use the multiple assignment trick\n",
    "area_code, main_number = match_object.groups()\n",
    "\n",
    "print(area_code)\n",
    "print(main_number)"
   ]
  },
  {
   "cell_type": "code",
   "execution_count": 130,
   "metadata": {},
   "outputs": [
    {
     "name": "stdout",
     "output_type": "stream",
     "text": [
      "(415)\n",
      "555-4242\n"
     ]
    }
   ],
   "source": [
    "#the following allows us to account for parenthesis while grouping\n",
    "phone_num_regex = re.compile(r'(\\(\\d\\d\\d\\)) (\\d\\d\\d-\\d\\d\\d\\d)')\n",
    "\n",
    "text = 'My cell number is (415) 555-4242. My office phone is 415-555-4321'\n",
    "\n",
    "# the search method returns only the first occcurence\n",
    "match_object = phone_num_regex.search(text)\n",
    "\n",
    "print(match_object.group(1))\n",
    "print(match_object.group(2))"
   ]
  },
  {
   "cell_type": "code",
   "execution_count": 131,
   "metadata": {},
   "outputs": [
    {
     "name": "stdout",
     "output_type": "stream",
     "text": [
      "Thing 1\n",
      "Thing 2\n"
     ]
    }
   ],
   "source": [
    "# the pipe operator can be used to match one of many expressions\n",
    "name_regex = re.compile(r'Thing 1|Thing 2')\n",
    "\n",
    "# when both strings occur, the first occurence will be returned\n",
    "mo = name_regex.search('Thing 1 and Thing 2')\n",
    "print(mo.group())\n",
    "\n",
    "mo = name_regex.search('Thing 2 and Thing 1')\n",
    "print(mo.group())"
   ]
  },
  {
   "cell_type": "code",
   "execution_count": 132,
   "metadata": {},
   "outputs": [
    {
     "name": "stdout",
     "output_type": "stream",
     "text": [
      "Batmobile\n",
      "mobile\n"
     ]
    }
   ],
   "source": [
    "# enables to match by the prefix 'Bat'\n",
    "# Note: if our text contains a |, we can escape is using \\|\n",
    "\n",
    "bat_regex = re.compile(r'Bat(man|mobile|copter|bat)')\n",
    "\n",
    "mo = bat_regex.search('Batmobile lost a wheel')\n",
    "\n",
    "# returns the full matched text\n",
    "print(mo.group(0))\n",
    "\n",
    "# returns only the portion in the first parenthesis group\n",
    "print(mo.group(1))"
   ]
  },
  {
   "cell_type": "code",
   "execution_count": 133,
   "metadata": {},
   "outputs": [
    {
     "name": "stdout",
     "output_type": "stream",
     "text": [
      "Batman\n",
      "Batwoman\n"
     ]
    }
   ],
   "source": [
    "bat_regex = re.compile(r'Bat(wo)?man')\n",
    "\n",
    "mo = bat_regex.search('The Adventures of Batman')\n",
    "print(mo.group())\n",
    "\n",
    "mo = bat_regex.search('The Adventures of Batwoman')\n",
    "print(mo.group())"
   ]
  },
  {
   "cell_type": "code",
   "execution_count": 134,
   "metadata": {},
   "outputs": [
    {
     "name": "stdout",
     "output_type": "stream",
     "text": [
      "415-555-4242\n",
      "555-4242\n"
     ]
    }
   ],
   "source": [
    "# the following detects phone nums that may not have an area code\n",
    "# Note: if our text contains a ?, we can escape is using \\?\n",
    "phone_regex = re.compile(r'(\\d\\d\\d-)?\\d\\d\\d-\\d\\d\\d\\d')\n",
    "\n",
    "mo = phone_regex.search('My number is 415-555-4242')\n",
    "print(mo.group())\n",
    "\n",
    "mo = phone_regex.search('My number is 555-4242')\n",
    "print(mo.group())"
   ]
  },
  {
   "cell_type": "code",
   "execution_count": 135,
   "metadata": {
    "scrolled": false
   },
   "outputs": [
    {
     "name": "stdout",
     "output_type": "stream",
     "text": [
      "Batman\n",
      "Batwoman\n",
      "Batwowowowoman\n"
     ]
    }
   ],
   "source": [
    "# we can match zero or more with the asterisk\n",
    "# Note: if our text contains a *, we can escape is using \\*\n",
    "\n",
    "bat_regex = re.compile(r'Bat(wo)*man')\n",
    "\n",
    "mo = bat_regex.search('The Adventures of Batman')\n",
    "print(mo.group())\n",
    "\n",
    "mo = bat_regex.search('The Adventures of Batwoman')\n",
    "print(mo.group())\n",
    "\n",
    "mo = bat_regex.search('The Adventures of Batwowowowoman')\n",
    "print(mo.group())"
   ]
  },
  {
   "cell_type": "code",
   "execution_count": 136,
   "metadata": {
    "scrolled": true
   },
   "outputs": [
    {
     "name": "stdout",
     "output_type": "stream",
     "text": [
      "Batwoman\n",
      "Batwowowowoman\n",
      "True\n"
     ]
    }
   ],
   "source": [
    "# we can match one or more with the +\n",
    "# Unlike *, the group preceding + must appear at least once\n",
    "# Note: if our text contains a +, we can escape is using \\+\n",
    "\n",
    "bat_regex = re.compile(r'Bat(wo)+man')\n",
    "\n",
    "mo = bat_regex.search('The Adventures of Batwoman')\n",
    "print(mo.group())\n",
    "\n",
    "mo = bat_regex.search('The Adventures of Batwowowowoman')\n",
    "print(mo.group())\n",
    "\n",
    "mo = bat_regex.search('The Adventures of Batman')\n",
    "print(mo == None)"
   ]
  },
  {
   "cell_type": "code",
   "execution_count": 137,
   "metadata": {},
   "outputs": [
    {
     "name": "stdout",
     "output_type": "stream",
     "text": [
      "HaHaHa\n",
      "True\n",
      "Ha\n"
     ]
    }
   ],
   "source": [
    "# we can match specific repetitions with curly brackets\n",
    "# here we match 3 repetitions of Ha\n",
    "ha_regex = re.compile(r'(Ha){3}')\n",
    "\n",
    "mo = ha_regex.search('HaHaHa')\n",
    "print(mo.group())\n",
    "\n",
    "mo = ha_regex.search('Ha')\n",
    "print(mo == None)\n",
    "\n",
    "# the following matche 0 to 3 instances. Thus, Ha now works\n",
    "ha_regex = re.compile(r'(Ha){,3}')\n",
    "\n",
    "mo = ha_regex.search('Ha')\n",
    "print(mo.group())"
   ]
  },
  {
   "cell_type": "code",
   "execution_count": 138,
   "metadata": {},
   "outputs": [
    {
     "name": "stdout",
     "output_type": "stream",
     "text": [
      "415-555-9999\n",
      "['415-555-9999', '212-555-0000']\n"
     ]
    }
   ],
   "source": [
    "phone_num_regex = re.compile(r'\\d{3}-\\d{3}-\\d{4}')\n",
    "\n",
    "text = 'Cell: 415-555-9999 Work: 212-555-0000'\n",
    "\n",
    "# search returns a match object \n",
    "mo = phone_num_regex.search(text)\n",
    "print(mo.group())\n",
    "\n",
    "# findall returns a list of strings (if no groups in the regex)\n",
    "mo = phone_num_regex.findall(text)\n",
    "print(mo)"
   ]
  },
  {
   "cell_type": "code",
   "execution_count": 139,
   "metadata": {
    "scrolled": true
   },
   "outputs": [
    {
     "name": "stdout",
     "output_type": "stream",
     "text": [
      "[('415', '555-9999'), ('212', '555-0000')]\n"
     ]
    }
   ],
   "source": [
    "# now we allow groups in the regex\n",
    "phone_num_regex = re.compile(r'(\\d{3})-(\\d{3}-\\d{4})')\n",
    "\n",
    "text = 'Cell: 415-555-9999 Work: 212-555-0000'\n",
    "\n",
    "# findall now returns a list of tuples\n",
    "# each tuple represents a found match\n",
    "# its items are the matched strings for each group\n",
    "\n",
    "mo = phone_num_regex.findall(text)\n",
    "print(mo)"
   ]
  },
  {
   "cell_type": "code",
   "execution_count": 140,
   "metadata": {},
   "outputs": [
    {
     "data": {
      "text/plain": [
       "['30,000 cases',\n",
       " '50 percent',\n",
       " '22 during',\n",
       " '71,000 on',\n",
       " '11 months',\n",
       " '19 patients',\n",
       " '1,400 cases',\n",
       " '7,800 cases',\n",
       " '25,700 coronavirus',\n",
       " '39 percent',\n",
       " '14 percent',\n",
       " '578 per']"
      ]
     },
     "execution_count": 140,
     "metadata": {},
     "output_type": "execute_result"
    }
   ],
   "source": [
    "# grab some text from the nytimes frontpage\n",
    "\n",
    "text = '''\n",
    "The United States is adding fewer than 30,000 cases a day for the first time since June of last year, and deaths are as low as they’ve been since last summer. In much of the country, the virus outlook is improving.\n",
    "Nearly 50 percent of Americans have received at least one vaccine shot, and though the pace has slowed, the share is still growing by about two percentage points per week.\n",
    "“I think by June, we’re probably going to be at one infection per a hundred thousand people per day, which is a very low level,” Dr. Scott Gottlieb, former head of the Food and Drug Administration, said Sunday on the CBS program “Face the Nation.” The U.S. rate is now 8 cases per 100,000, down from 22 during the most recent peak, when new cases averaged about 71,000 on April 14.\n",
    "The share of coronavirus tests coming back positive has fallen to below 3 percent for the first time since widespread testing began, and the number of hospitalized patients has fallen to the lowest point in 11 months, Dr. Eric Topol of the Scripps Research Translational Institute noted this week. For the first time since March 5 of last year, San Francisco General Hospital had no Covid-19 patients — “a truly momentous day,” Dr. Vivek Jain, an infectious disease physician at the hospital, said on Thursday.\n",
    "Michigan, the state that reported one of the largest surges in the spring, has rapidly improved. About 1,400 cases were identified on Sunday, compared with about 7,800 cases a day in mid-April.\n",
    "The virus remains dangerous in communities with low vaccination rates, and getting vaccines into these communities is crucial in continuing to curb the virus. As the virus continues to mutate, vaccines may need to be updated or boosters may need to be added.\n",
    "The United States is reporting about 25,700 coronavirus cases daily, a 39 percent decrease from two weeks ago. Deaths are down 14 percent over the same period, to an average of 578 per day.\n",
    "Since the Centers for Disease Control and Prevention issued guidance that said vaccinated people could forgo masks in most situations indoors and outside, states have followed suit.\n",
    "Because of changing mask rules and guidance, people will need to rely on their own judgment in some circumstances, Dr. Gottlieb said Sunday. “We’re going to have to protect ourselves based on our own assessment of our risk and our own comfort,” he said\n",
    "'''\n",
    "\n",
    "'''\n",
    "\n",
    "The regular expression \\d+\\s\\w+ matches text with the folowing:\n",
    "\n",
    "# one or more numeric digits (\\d+),\n",
    "# potentially seperated by comma\n",
    "# followed by a whitespace character (\\s), \n",
    "#followed by one or more letter/digit/underscore characters (\\w+). \n",
    "#The findall() method returns all matching strings in a list.\n",
    "'''\n",
    "\n",
    "text_regex = re.compile(r'\\d+,?\\d+\\s\\w+')\n",
    "\n",
    "text_regex.findall(text)"
   ]
  },
  {
   "cell_type": "code",
   "execution_count": 141,
   "metadata": {},
   "outputs": [
    {
     "data": {
      "text/plain": [
       "'CENSORED gave the secret documents to CENSORED.'"
      ]
     },
     "execution_count": 141,
     "metadata": {},
     "output_type": "execute_result"
    }
   ],
   "source": [
    "# We can perform string substiution via the sub() Method\n",
    "names_regex = re.compile(r'Agent \\w+')\n",
    "\n",
    "names_regex.sub('CENSORED', \n",
    "                'Agent Alice gave the secret documents to Agent Bob.')\n"
   ]
  },
  {
   "cell_type": "code",
   "execution_count": 142,
   "metadata": {},
   "outputs": [
    {
     "data": {
      "text/plain": [
       "'A**** told C**** that E**** knew B**** was a double agent.'"
      ]
     },
     "execution_count": 142,
     "metadata": {},
     "output_type": "execute_result"
    }
   ],
   "source": [
    "names_regex = re.compile(r'Agent (\\w)\\w*')\n",
    "\n",
    "names_regex.sub(r'\\1****', \n",
    "                'Agent Alice told Agent Carol that Agent Eve knew Agent Bob was a double agent.')"
   ]
  },
  {
   "cell_type": "code",
   "execution_count": 143,
   "metadata": {},
   "outputs": [
    {
     "data": {
      "text/plain": [
       "<re.Match object; span=(20, 40), match='410-423-2323 ext 213'>"
      ]
     },
     "execution_count": 143,
     "metadata": {},
     "output_type": "execute_result"
    }
   ],
   "source": [
    "# Writing our regex as follows increases clarity\n",
    "\n",
    "phoneRegex = re.compile(r'''(\n",
    "(\\d{3}|\\(\\d{3}\\))?            # area code\n",
    "(\\s|-|\\.)?                    # separator\n",
    "\\d{3}                         # first 3 digits\n",
    "(\\s|-|\\.)                     # separator\n",
    "\\d{4}                         # last 4 digits\n",
    "(\\s*(ext|x|ext.)\\s*\\d{2,5})?  # extension\n",
    ")''', re.VERBOSE)\n",
    "\n",
    "phoneRegex.search('My office number is 410-423-2323 ext 213')"
   ]
  },
  {
   "cell_type": "code",
   "execution_count": 144,
   "metadata": {},
   "outputs": [
    {
     "name": "stdout",
     "output_type": "stream",
     "text": [
      "RoboCop\n",
      "ROBOCOP\n",
      "robocop\n"
     ]
    }
   ],
   "source": [
    "# Matching by default is case-sensitive. Use re.I option the enable case insensitive matching. \n",
    "\n",
    "robocop = re.compile(r'robocop', re.I)\n",
    "\n",
    "print(robocop.search('RoboCop is part man, part machine, all cop.').group())\n",
    "\n",
    "print(robocop.search('ROBOCOP protects the innocent.').group())\n",
    "\n",
    "print(robocop.search('Al, why does your programming book talk about robocop so much?').group())"
   ]
  },
  {
   "cell_type": "markdown",
   "metadata": {},
   "source": [
    "## Useful Links"
   ]
  },
  {
   "cell_type": "markdown",
   "metadata": {},
   "source": [
    "[Regular Expressions Tutorial](https://www.guru99.com/python-regular-expressions-complete-tutorial.html#7)\n",
    "\n",
    "[YouTube](https://www.youtube.com/watch?v=K8L6KVGG-7o)"
   ]
  },
  {
   "cell_type": "code",
   "execution_count": null,
   "metadata": {},
   "outputs": [],
   "source": []
  }
 ],
 "metadata": {
  "kernelspec": {
   "display_name": "Python 3",
   "language": "python",
   "name": "python3"
  },
  "language_info": {
   "codemirror_mode": {
    "name": "ipython",
    "version": 3
   },
   "file_extension": ".py",
   "mimetype": "text/x-python",
   "name": "python",
   "nbconvert_exporter": "python",
   "pygments_lexer": "ipython3",
   "version": "3.8.5"
  }
 },
 "nbformat": 4,
 "nbformat_minor": 4
}
